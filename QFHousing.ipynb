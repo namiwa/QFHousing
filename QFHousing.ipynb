{
 "cells": [
  {
   "cell_type": "markdown",
   "metadata": {},
   "source": [
    "Import Relevant Libraries"
   ]
  },
  {
   "cell_type": "code",
   "execution_count": 1,
   "metadata": {},
   "outputs": [],
   "source": [
    "from __future__ import absolute_import, division, print_function, unicode_literals\n",
    "\n",
    "import pathlib\n",
    "\n",
    "import matplotlib.pyplot as plt\n",
    "import numpy as np\n",
    "import pandas as pd\n",
    "import seaborn as sns\n",
    "\n",
    "%matplotlib inline"
   ]
  },
  {
   "cell_type": "code",
   "execution_count": 2,
   "metadata": {},
   "outputs": [
    {
     "name": "stdout",
     "output_type": "stream",
     "text": [
      "2.1.0\n"
     ]
    }
   ],
   "source": [
    "import tensorflow as tf\n",
    "\n",
    "from tensorflow import keras\n",
    "from tensorflow.keras import layers\n",
    "\n",
    "print(tf.__version__)"
   ]
  },
  {
   "cell_type": "markdown",
   "metadata": {},
   "source": [
    "Inspect Data"
   ]
  },
  {
   "cell_type": "code",
   "execution_count": 3,
   "metadata": {},
   "outputs": [],
   "source": [
    "resale_approval_full = pd.read_csv(\"data/fixed_resale_with_bus.csv\", index_col=0)"
   ]
  },
  {
   "cell_type": "markdown",
   "metadata": {},
   "source": [
    "Our raw dataset looks as such:"
   ]
  },
  {
   "cell_type": "code",
   "execution_count": 4,
   "metadata": {},
   "outputs": [
    {
     "data": {
      "text/html": [
       "<div>\n",
       "<style scoped>\n",
       "    .dataframe tbody tr th:only-of-type {\n",
       "        vertical-align: middle;\n",
       "    }\n",
       "\n",
       "    .dataframe tbody tr th {\n",
       "        vertical-align: top;\n",
       "    }\n",
       "\n",
       "    .dataframe thead th {\n",
       "        text-align: right;\n",
       "    }\n",
       "</style>\n",
       "<table border=\"1\" class=\"dataframe\">\n",
       "  <thead>\n",
       "    <tr style=\"text-align: right;\">\n",
       "      <th></th>\n",
       "      <th>month</th>\n",
       "      <th>town</th>\n",
       "      <th>flat_type</th>\n",
       "      <th>block</th>\n",
       "      <th>street_name</th>\n",
       "      <th>storey_range</th>\n",
       "      <th>floor_area_sqm</th>\n",
       "      <th>flat_model</th>\n",
       "      <th>lease_commence_date</th>\n",
       "      <th>resale_price</th>\n",
       "      <th>busstops</th>\n",
       "    </tr>\n",
       "    <tr>\n",
       "      <th>index</th>\n",
       "      <th></th>\n",
       "      <th></th>\n",
       "      <th></th>\n",
       "      <th></th>\n",
       "      <th></th>\n",
       "      <th></th>\n",
       "      <th></th>\n",
       "      <th></th>\n",
       "      <th></th>\n",
       "      <th></th>\n",
       "      <th></th>\n",
       "    </tr>\n",
       "  </thead>\n",
       "  <tbody>\n",
       "    <tr>\n",
       "      <th>0</th>\n",
       "      <td>1990-01</td>\n",
       "      <td>ANG MO KIO</td>\n",
       "      <td>1 ROOM</td>\n",
       "      <td>309</td>\n",
       "      <td>ANG MO KIO AVE 1</td>\n",
       "      <td>10 TO 12</td>\n",
       "      <td>31.0</td>\n",
       "      <td>IMPROVED</td>\n",
       "      <td>1977</td>\n",
       "      <td>9000.0</td>\n",
       "      <td>0.0</td>\n",
       "    </tr>\n",
       "    <tr>\n",
       "      <th>1</th>\n",
       "      <td>1990-01</td>\n",
       "      <td>ANG MO KIO</td>\n",
       "      <td>1 ROOM</td>\n",
       "      <td>309</td>\n",
       "      <td>ANG MO KIO AVE 1</td>\n",
       "      <td>04 TO 06</td>\n",
       "      <td>31.0</td>\n",
       "      <td>IMPROVED</td>\n",
       "      <td>1977</td>\n",
       "      <td>6000.0</td>\n",
       "      <td>0.0</td>\n",
       "    </tr>\n",
       "    <tr>\n",
       "      <th>2</th>\n",
       "      <td>1990-01</td>\n",
       "      <td>ANG MO KIO</td>\n",
       "      <td>1 ROOM</td>\n",
       "      <td>309</td>\n",
       "      <td>ANG MO KIO AVE 1</td>\n",
       "      <td>10 TO 12</td>\n",
       "      <td>31.0</td>\n",
       "      <td>IMPROVED</td>\n",
       "      <td>1977</td>\n",
       "      <td>8000.0</td>\n",
       "      <td>0.0</td>\n",
       "    </tr>\n",
       "    <tr>\n",
       "      <th>3</th>\n",
       "      <td>1990-01</td>\n",
       "      <td>ANG MO KIO</td>\n",
       "      <td>1 ROOM</td>\n",
       "      <td>309</td>\n",
       "      <td>ANG MO KIO AVE 1</td>\n",
       "      <td>07 TO 09</td>\n",
       "      <td>31.0</td>\n",
       "      <td>IMPROVED</td>\n",
       "      <td>1977</td>\n",
       "      <td>6000.0</td>\n",
       "      <td>0.0</td>\n",
       "    </tr>\n",
       "    <tr>\n",
       "      <th>4</th>\n",
       "      <td>1990-01</td>\n",
       "      <td>ANG MO KIO</td>\n",
       "      <td>3 ROOM</td>\n",
       "      <td>216</td>\n",
       "      <td>ANG MO KIO AVE 1</td>\n",
       "      <td>04 TO 06</td>\n",
       "      <td>73.0</td>\n",
       "      <td>NEW GENERATION</td>\n",
       "      <td>1976</td>\n",
       "      <td>47200.0</td>\n",
       "      <td>1.0</td>\n",
       "    </tr>\n",
       "  </tbody>\n",
       "</table>\n",
       "</div>"
      ],
      "text/plain": [
       "         month        town flat_type block       street_name storey_range  \\\n",
       "index                                                                       \n",
       "0      1990-01  ANG MO KIO    1 ROOM   309  ANG MO KIO AVE 1     10 TO 12   \n",
       "1      1990-01  ANG MO KIO    1 ROOM   309  ANG MO KIO AVE 1     04 TO 06   \n",
       "2      1990-01  ANG MO KIO    1 ROOM   309  ANG MO KIO AVE 1     10 TO 12   \n",
       "3      1990-01  ANG MO KIO    1 ROOM   309  ANG MO KIO AVE 1     07 TO 09   \n",
       "4      1990-01  ANG MO KIO    3 ROOM   216  ANG MO KIO AVE 1     04 TO 06   \n",
       "\n",
       "       floor_area_sqm      flat_model  lease_commence_date  resale_price  \\\n",
       "index                                                                      \n",
       "0                31.0        IMPROVED                 1977        9000.0   \n",
       "1                31.0        IMPROVED                 1977        6000.0   \n",
       "2                31.0        IMPROVED                 1977        8000.0   \n",
       "3                31.0        IMPROVED                 1977        6000.0   \n",
       "4                73.0  NEW GENERATION                 1976       47200.0   \n",
       "\n",
       "       busstops  \n",
       "index            \n",
       "0           0.0  \n",
       "1           0.0  \n",
       "2           0.0  \n",
       "3           0.0  \n",
       "4           1.0  "
      ]
     },
     "execution_count": 4,
     "metadata": {},
     "output_type": "execute_result"
    }
   ],
   "source": [
    "resale_approval_full.head()"
   ]
  },
  {
   "cell_type": "markdown",
   "metadata": {},
   "source": [
    "A look at summary statistics for resale by registration and approval"
   ]
  },
  {
   "cell_type": "code",
   "execution_count": 5,
   "metadata": {},
   "outputs": [
    {
     "data": {
      "text/html": [
       "<div>\n",
       "<style scoped>\n",
       "    .dataframe tbody tr th:only-of-type {\n",
       "        vertical-align: middle;\n",
       "    }\n",
       "\n",
       "    .dataframe tbody tr th {\n",
       "        vertical-align: top;\n",
       "    }\n",
       "\n",
       "    .dataframe thead th {\n",
       "        text-align: right;\n",
       "    }\n",
       "</style>\n",
       "<table border=\"1\" class=\"dataframe\">\n",
       "  <thead>\n",
       "    <tr style=\"text-align: right;\">\n",
       "      <th></th>\n",
       "      <th>floor_area_sqm</th>\n",
       "      <th>lease_commence_date</th>\n",
       "      <th>resale_price</th>\n",
       "      <th>busstops</th>\n",
       "    </tr>\n",
       "  </thead>\n",
       "  <tbody>\n",
       "    <tr>\n",
       "      <th>count</th>\n",
       "      <td>656851.000000</td>\n",
       "      <td>656851.000000</td>\n",
       "      <td>656851.000000</td>\n",
       "      <td>656851.000000</td>\n",
       "    </tr>\n",
       "    <tr>\n",
       "      <th>mean</th>\n",
       "      <td>95.171843</td>\n",
       "      <td>1985.895573</td>\n",
       "      <td>254281.174816</td>\n",
       "      <td>2.483970</td>\n",
       "    </tr>\n",
       "    <tr>\n",
       "      <th>std</th>\n",
       "      <td>26.432940</td>\n",
       "      <td>8.285107</td>\n",
       "      <td>123254.959795</td>\n",
       "      <td>1.540395</td>\n",
       "    </tr>\n",
       "    <tr>\n",
       "      <th>min</th>\n",
       "      <td>28.000000</td>\n",
       "      <td>1966.000000</td>\n",
       "      <td>5000.000000</td>\n",
       "      <td>0.000000</td>\n",
       "    </tr>\n",
       "    <tr>\n",
       "      <th>25%</th>\n",
       "      <td>70.000000</td>\n",
       "      <td>1980.000000</td>\n",
       "      <td>163000.000000</td>\n",
       "      <td>2.000000</td>\n",
       "    </tr>\n",
       "    <tr>\n",
       "      <th>50%</th>\n",
       "      <td>92.000000</td>\n",
       "      <td>1985.000000</td>\n",
       "      <td>239000.000000</td>\n",
       "      <td>2.000000</td>\n",
       "    </tr>\n",
       "    <tr>\n",
       "      <th>75%</th>\n",
       "      <td>115.000000</td>\n",
       "      <td>1992.000000</td>\n",
       "      <td>330000.000000</td>\n",
       "      <td>4.000000</td>\n",
       "    </tr>\n",
       "    <tr>\n",
       "      <th>max</th>\n",
       "      <td>307.000000</td>\n",
       "      <td>2012.000000</td>\n",
       "      <td>903000.000000</td>\n",
       "      <td>10.000000</td>\n",
       "    </tr>\n",
       "  </tbody>\n",
       "</table>\n",
       "</div>"
      ],
      "text/plain": [
       "       floor_area_sqm  lease_commence_date   resale_price       busstops\n",
       "count   656851.000000        656851.000000  656851.000000  656851.000000\n",
       "mean        95.171843          1985.895573  254281.174816       2.483970\n",
       "std         26.432940             8.285107  123254.959795       1.540395\n",
       "min         28.000000          1966.000000    5000.000000       0.000000\n",
       "25%         70.000000          1980.000000  163000.000000       2.000000\n",
       "50%         92.000000          1985.000000  239000.000000       2.000000\n",
       "75%        115.000000          1992.000000  330000.000000       4.000000\n",
       "max        307.000000          2012.000000  903000.000000      10.000000"
      ]
     },
     "execution_count": 5,
     "metadata": {},
     "output_type": "execute_result"
    }
   ],
   "source": [
    "resale_approval_full.describe()"
   ]
  },
  {
   "cell_type": "markdown",
   "metadata": {},
   "source": [
    "### Data Processing"
   ]
  },
  {
   "cell_type": "code",
   "execution_count": 6,
   "metadata": {},
   "outputs": [
    {
     "data": {
      "text/plain": [
       "month                  656851\n",
       "town                   656851\n",
       "flat_type              656851\n",
       "block                  656851\n",
       "street_name            656851\n",
       "storey_range           656851\n",
       "floor_area_sqm         656851\n",
       "flat_model             656851\n",
       "lease_commence_date    656851\n",
       "resale_price           656851\n",
       "busstops               656851\n",
       "dtype: int64"
      ]
     },
     "execution_count": 6,
     "metadata": {},
     "output_type": "execute_result"
    }
   ],
   "source": [
    "resale_approval_full.count()"
   ]
  },
  {
   "cell_type": "code",
   "execution_count": 7,
   "metadata": {},
   "outputs": [],
   "source": [
    "## A function that would be flexible enough to transform categorical datasets.\n",
    "## Note: Some preprocessing probably needs to be done, to convert some string variables to float\n",
    "from housing.preprocess import *"
   ]
  },
  {
   "cell_type": "markdown",
   "metadata": {},
   "source": [
    "**DEPRECIATED**: Preprocessing resale_registration_full"
   ]
  },
  {
   "cell_type": "code",
   "execution_count": 1,
   "metadata": {
    "scrolled": true
   },
   "outputs": [
    {
     "ename": "NameError",
     "evalue": "name 'pd' is not defined",
     "output_type": "error",
     "traceback": [
      "\u001b[1;31m---------------------------------------------------------------------------\u001b[0m",
      "\u001b[1;31mNameError\u001b[0m                                 Traceback (most recent call last)",
      "\u001b[1;32m<ipython-input-1-6bc983a9a952>\u001b[0m in \u001b[0;36m<module>\u001b[1;34m\u001b[0m\n\u001b[0;32m      1\u001b[0m \u001b[1;31m## Analysis using resale_registration_full\u001b[0m\u001b[1;33m\u001b[0m\u001b[1;33m\u001b[0m\u001b[1;33m\u001b[0m\u001b[0m\n\u001b[0;32m      2\u001b[0m \u001b[1;31m## 1. Process data\u001b[0m\u001b[1;33m\u001b[0m\u001b[1;33m\u001b[0m\u001b[1;33m\u001b[0m\u001b[0m\n\u001b[1;32m----> 3\u001b[1;33m \u001b[0mresale_registration_full\u001b[0m \u001b[1;33m=\u001b[0m \u001b[0mpd\u001b[0m\u001b[1;33m.\u001b[0m\u001b[0mread_csv\u001b[0m\u001b[1;33m(\u001b[0m\u001b[1;34m\"data/resale-flat-prices_HDB/resale-on-registration-full.csv\"\u001b[0m\u001b[1;33m,\u001b[0m \u001b[0mindex_col\u001b[0m\u001b[1;33m=\u001b[0m\u001b[1;36m0\u001b[0m\u001b[1;33m)\u001b[0m\u001b[1;33m\u001b[0m\u001b[1;33m\u001b[0m\u001b[0m\n\u001b[0m\u001b[0;32m      4\u001b[0m \u001b[1;33m\u001b[0m\u001b[0m\n\u001b[0;32m      5\u001b[0m \u001b[1;31m## convert NaN values to 0\u001b[0m\u001b[1;33m\u001b[0m\u001b[1;33m\u001b[0m\u001b[1;33m\u001b[0m\u001b[0m\n",
      "\u001b[1;31mNameError\u001b[0m: name 'pd' is not defined"
     ]
    }
   ],
   "source": [
    "## DEPRECIATED\n",
    "'''\n",
    "From above, we can see that some fields are not clean. For example, in `resale_registration_full.remaining_lease`, `NaN` values are present. These `NaN` appear as a result of the lack of data in part of the dataset\n",
    "\n",
    "- We choose to convert these values to 0. If lease is unknown, we should treat it asif they aren't present. Furthermore, the dataset is of a older timeframe and as such, treating it as relatively lower than the rest is acceptable\n",
    "'''\n",
    "## Analysis using resale_registration_full\n",
    "## 1. Process data\n",
    "resale_registration_full = pd.read_csv(\"data/resale-flat-prices_HDB/resale-on-registration-full.csv\", index_col=0)\n",
    "\n",
    "## convert NaN values to 0\n",
    "resale_registration_full = resale_registration_full.fillna(0)\n",
    "\n",
    "def convert_remaining_lease(s):\n",
    "    if s == 0:\n",
    "        return 0\n",
    "    elif type(s) == float:\n",
    "        return s\n",
    "    elif type(s) == str:\n",
    "        list_s = s.split(' ')\n",
    "        if len(list_s) == 2:  ## X years\n",
    "            return int(list_s[0])\n",
    "        elif len(list_s) == 4:  ## X years Y months\n",
    "            return(int(list_s[0]) + float(list_s[2]))\n",
    "        elif len(list_s) == 1:  ## 78\n",
    "            return(float(s))\n",
    "    elif type(s == int):\n",
    "        return float(s)\n",
    "    raise Exception(f\"Weird remaining_lease format: {s}, type: {type(s)}\")\n",
    "            \n",
    "def to_lower_alpha(s:str):\n",
    "    return(s.lower())\n",
    "\n",
    "def months_since2012(s:str):\n",
    "    ## months are in this format: YYYY-MM\n",
    "    YYMM =s.split('-')\n",
    "    return (12 * (int(YYMM[0]) - 2012) + (int(YYMM[1]))) \n",
    "        \n",
    "resale_registration_full['flat_model'] = resale_registration_full['flat_model'].apply(to_lower_alpha)\n",
    "resale_registration_full['remaining_lease'] = resale_registration_full['remaining_lease'].apply(convert_remaining_lease)\n",
    "resale_registration_full['month'] = resale_registration_full['month'].apply(months_since2012)\n",
    "\n",
    "lb_cols = [\"flat_model\", \"flat_type\", \"town\", \"street_name\"]\n",
    "le_cols = [\"storey_range\"]\n",
    "resale_registration_full = process_data(resale_registration_full, lb_cols, le_cols)\n",
    "\n",
    "assert resale_registration_full.shape == (157517, 606)\n",
    "\n",
    "# resale_registration_fullX = resale_registration_full.reset_index(drop=True)\n",
    "X = resale_registration_full.drop(['resale_price','block'], axis=1)\n",
    "y = resale_registration_full['resale_price']"
   ]
  },
  {
   "cell_type": "markdown",
   "metadata": {},
   "source": [
    "Preprocessing data on resale_approval_full"
   ]
  },
  {
   "cell_type": "code",
   "execution_count": 8,
   "metadata": {},
   "outputs": [],
   "source": [
    "def commence_date_to_remaining(year: int):\n",
    "    import datetime\n",
    "    return 99 - (datetime.datetime.now().year - year)\n",
    "\n",
    "def months_since1990(s:str):\n",
    "    ## months are in this format: YYYY-MM\n",
    "    YYMM =s.split('-')\n",
    "    return (12 * (int(YYMM[0]) - 1990) + (int(YYMM[1]))) \n",
    "\n",
    "## using process_data() on resale_approval_full\n",
    "resale_approval_full = pd.read_csv(\"data/fixed_resale_with_bus.csv\", index_col=0)\n",
    "resale_approval_full['month_index_since_1990'] = resale_approval_full['month'].apply(months_since1990)\n",
    "resale_approval_full['flat_type'] = resale_approval_full['flat_type'].apply(lambda x: x.lower())\n",
    "resale_approval_full['lease_remaining'] = resale_approval_full['lease_commence_date'].apply(commence_date_to_remaining)\n",
    "# resale_approval_full = resale_approval_full.drop([\"block\", \"lease_commence_date\"], axis=1)"
   ]
  },
  {
   "cell_type": "code",
   "execution_count": 9,
   "metadata": {},
   "outputs": [
    {
     "data": {
      "text/html": [
       "<div>\n",
       "<style scoped>\n",
       "    .dataframe tbody tr th:only-of-type {\n",
       "        vertical-align: middle;\n",
       "    }\n",
       "\n",
       "    .dataframe tbody tr th {\n",
       "        vertical-align: top;\n",
       "    }\n",
       "\n",
       "    .dataframe thead th {\n",
       "        text-align: right;\n",
       "    }\n",
       "</style>\n",
       "<table border=\"1\" class=\"dataframe\">\n",
       "  <thead>\n",
       "    <tr style=\"text-align: right;\">\n",
       "      <th></th>\n",
       "      <th>month</th>\n",
       "      <th>town</th>\n",
       "      <th>flat_type</th>\n",
       "      <th>block</th>\n",
       "      <th>street_name</th>\n",
       "      <th>storey_range</th>\n",
       "      <th>floor_area_sqm</th>\n",
       "      <th>flat_model</th>\n",
       "      <th>lease_commence_date</th>\n",
       "      <th>resale_price</th>\n",
       "      <th>busstops</th>\n",
       "      <th>month_index_since_1990</th>\n",
       "      <th>lease_remaining</th>\n",
       "    </tr>\n",
       "    <tr>\n",
       "      <th>index</th>\n",
       "      <th></th>\n",
       "      <th></th>\n",
       "      <th></th>\n",
       "      <th></th>\n",
       "      <th></th>\n",
       "      <th></th>\n",
       "      <th></th>\n",
       "      <th></th>\n",
       "      <th></th>\n",
       "      <th></th>\n",
       "      <th></th>\n",
       "      <th></th>\n",
       "      <th></th>\n",
       "    </tr>\n",
       "  </thead>\n",
       "  <tbody>\n",
       "    <tr>\n",
       "      <th>656846</th>\n",
       "      <td>2012-02</td>\n",
       "      <td>YISHUN</td>\n",
       "      <td>5 room</td>\n",
       "      <td>212</td>\n",
       "      <td>YISHUN ST 21</td>\n",
       "      <td>10 TO 12</td>\n",
       "      <td>121.0</td>\n",
       "      <td>Improved</td>\n",
       "      <td>1985</td>\n",
       "      <td>476888.0</td>\n",
       "      <td>2.0</td>\n",
       "      <td>266</td>\n",
       "      <td>64</td>\n",
       "    </tr>\n",
       "    <tr>\n",
       "      <th>656847</th>\n",
       "      <td>2012-02</td>\n",
       "      <td>YISHUN</td>\n",
       "      <td>5 room</td>\n",
       "      <td>758</td>\n",
       "      <td>YISHUN ST 72</td>\n",
       "      <td>01 TO 03</td>\n",
       "      <td>122.0</td>\n",
       "      <td>Improved</td>\n",
       "      <td>1986</td>\n",
       "      <td>490000.0</td>\n",
       "      <td>3.0</td>\n",
       "      <td>266</td>\n",
       "      <td>65</td>\n",
       "    </tr>\n",
       "    <tr>\n",
       "      <th>656848</th>\n",
       "      <td>2012-02</td>\n",
       "      <td>YISHUN</td>\n",
       "      <td>5 room</td>\n",
       "      <td>873</td>\n",
       "      <td>YISHUN ST 81</td>\n",
       "      <td>01 TO 03</td>\n",
       "      <td>122.0</td>\n",
       "      <td>Improved</td>\n",
       "      <td>1988</td>\n",
       "      <td>488000.0</td>\n",
       "      <td>1.0</td>\n",
       "      <td>266</td>\n",
       "      <td>67</td>\n",
       "    </tr>\n",
       "    <tr>\n",
       "      <th>656849</th>\n",
       "      <td>2012-02</td>\n",
       "      <td>YISHUN</td>\n",
       "      <td>executive</td>\n",
       "      <td>664</td>\n",
       "      <td>YISHUN AVE 4</td>\n",
       "      <td>07 TO 09</td>\n",
       "      <td>181.0</td>\n",
       "      <td>Apartment</td>\n",
       "      <td>1992</td>\n",
       "      <td>705000.0</td>\n",
       "      <td>3.0</td>\n",
       "      <td>266</td>\n",
       "      <td>71</td>\n",
       "    </tr>\n",
       "    <tr>\n",
       "      <th>656850</th>\n",
       "      <td>2012-02</td>\n",
       "      <td>YISHUN</td>\n",
       "      <td>executive</td>\n",
       "      <td>293</td>\n",
       "      <td>YISHUN ST 22</td>\n",
       "      <td>04 TO 06</td>\n",
       "      <td>163.0</td>\n",
       "      <td>Apartment</td>\n",
       "      <td>1992</td>\n",
       "      <td>630000.0</td>\n",
       "      <td>2.0</td>\n",
       "      <td>266</td>\n",
       "      <td>71</td>\n",
       "    </tr>\n",
       "  </tbody>\n",
       "</table>\n",
       "</div>"
      ],
      "text/plain": [
       "          month    town  flat_type block   street_name storey_range  \\\n",
       "index                                                                 \n",
       "656846  2012-02  YISHUN     5 room   212  YISHUN ST 21     10 TO 12   \n",
       "656847  2012-02  YISHUN     5 room   758  YISHUN ST 72     01 TO 03   \n",
       "656848  2012-02  YISHUN     5 room   873  YISHUN ST 81     01 TO 03   \n",
       "656849  2012-02  YISHUN  executive   664  YISHUN AVE 4     07 TO 09   \n",
       "656850  2012-02  YISHUN  executive   293  YISHUN ST 22     04 TO 06   \n",
       "\n",
       "        floor_area_sqm flat_model  lease_commence_date  resale_price  \\\n",
       "index                                                                  \n",
       "656846           121.0   Improved                 1985      476888.0   \n",
       "656847           122.0   Improved                 1986      490000.0   \n",
       "656848           122.0   Improved                 1988      488000.0   \n",
       "656849           181.0  Apartment                 1992      705000.0   \n",
       "656850           163.0  Apartment                 1992      630000.0   \n",
       "\n",
       "        busstops  month_index_since_1990  lease_remaining  \n",
       "index                                                      \n",
       "656846       2.0                     266               64  \n",
       "656847       3.0                     266               65  \n",
       "656848       1.0                     266               67  \n",
       "656849       3.0                     266               71  \n",
       "656850       2.0                     266               71  "
      ]
     },
     "execution_count": 9,
     "metadata": {},
     "output_type": "execute_result"
    }
   ],
   "source": [
    "resale_approval_full.tail()"
   ]
  },
  {
   "cell_type": "code",
   "execution_count": 10,
   "metadata": {},
   "outputs": [
    {
     "data": {
      "text/plain": [
       "(38578, 3)"
      ]
     },
     "execution_count": 10,
     "metadata": {},
     "output_type": "execute_result"
    }
   ],
   "source": [
    "unique_flats = resale_approval_full[[\"block\", \"street_name\", \"storey_range\"]].drop_duplicates()\n",
    "unique_flats.shape"
   ]
  },
  {
   "cell_type": "markdown",
   "metadata": {},
   "source": [
    "### Getting variables that follow a time series\n",
    "\n",
    "As explained in the report, we aren't using time-series models to fit the data and yet we need time-series dependent variables such as:\n",
    "- last known resale price \n",
    "- time since the last resale price\n",
    "\n",
    "We get a subset of each unique block in the dataset, lag it and concatnate the final datasets "
   ]
  },
  {
   "cell_type": "code",
   "execution_count": 11,
   "metadata": {},
   "outputs": [],
   "source": [
    "## lag_housing_df takes resale_approval_full above and does the above step\n",
    "# lag_housing_df(resale_approval_full) "
   ]
  },
  {
   "cell_type": "code",
   "execution_count": 12,
   "metadata": {},
   "outputs": [
    {
     "name": "stdout",
     "output_type": "stream",
     "text": [
      "(618273, 15)\n"
     ]
    },
    {
     "data": {
      "text/html": [
       "<div>\n",
       "<style scoped>\n",
       "    .dataframe tbody tr th:only-of-type {\n",
       "        vertical-align: middle;\n",
       "    }\n",
       "\n",
       "    .dataframe tbody tr th {\n",
       "        vertical-align: top;\n",
       "    }\n",
       "\n",
       "    .dataframe thead th {\n",
       "        text-align: right;\n",
       "    }\n",
       "</style>\n",
       "<table border=\"1\" class=\"dataframe\">\n",
       "  <thead>\n",
       "    <tr style=\"text-align: right;\">\n",
       "      <th></th>\n",
       "      <th>month</th>\n",
       "      <th>town</th>\n",
       "      <th>flat_type</th>\n",
       "      <th>block</th>\n",
       "      <th>street_name</th>\n",
       "      <th>storey_range</th>\n",
       "      <th>floor_area_sqm</th>\n",
       "      <th>flat_model</th>\n",
       "      <th>lease_commence_date</th>\n",
       "      <th>resale_price</th>\n",
       "      <th>busstops</th>\n",
       "      <th>month_index_since_1990</th>\n",
       "      <th>lease_remaining</th>\n",
       "      <th>last_known_price</th>\n",
       "      <th>months_since_last</th>\n",
       "    </tr>\n",
       "  </thead>\n",
       "  <tbody>\n",
       "    <tr>\n",
       "      <th>0</th>\n",
       "      <td>1990-01</td>\n",
       "      <td>ANG MO KIO</td>\n",
       "      <td>1 room</td>\n",
       "      <td>309</td>\n",
       "      <td>ANG MO KIO AVE 1</td>\n",
       "      <td>10 TO 12</td>\n",
       "      <td>31.0</td>\n",
       "      <td>IMPROVED</td>\n",
       "      <td>1977</td>\n",
       "      <td>8000.0</td>\n",
       "      <td>0.0</td>\n",
       "      <td>1</td>\n",
       "      <td>56</td>\n",
       "      <td>9000.0</td>\n",
       "      <td>0.0</td>\n",
       "    </tr>\n",
       "    <tr>\n",
       "      <th>1</th>\n",
       "      <td>1990-05</td>\n",
       "      <td>ANG MO KIO</td>\n",
       "      <td>1 room</td>\n",
       "      <td>309</td>\n",
       "      <td>ANG MO KIO AVE 1</td>\n",
       "      <td>10 TO 12</td>\n",
       "      <td>31.0</td>\n",
       "      <td>IMPROVED</td>\n",
       "      <td>1977</td>\n",
       "      <td>7800.0</td>\n",
       "      <td>0.0</td>\n",
       "      <td>5</td>\n",
       "      <td>56</td>\n",
       "      <td>8000.0</td>\n",
       "      <td>4.0</td>\n",
       "    </tr>\n",
       "    <tr>\n",
       "      <th>2</th>\n",
       "      <td>1990-08</td>\n",
       "      <td>ANG MO KIO</td>\n",
       "      <td>1 room</td>\n",
       "      <td>309</td>\n",
       "      <td>ANG MO KIO AVE 1</td>\n",
       "      <td>10 TO 12</td>\n",
       "      <td>31.0</td>\n",
       "      <td>IMPROVED</td>\n",
       "      <td>1977</td>\n",
       "      <td>9500.0</td>\n",
       "      <td>0.0</td>\n",
       "      <td>8</td>\n",
       "      <td>56</td>\n",
       "      <td>7800.0</td>\n",
       "      <td>3.0</td>\n",
       "    </tr>\n",
       "    <tr>\n",
       "      <th>3</th>\n",
       "      <td>1990-09</td>\n",
       "      <td>ANG MO KIO</td>\n",
       "      <td>1 room</td>\n",
       "      <td>309</td>\n",
       "      <td>ANG MO KIO AVE 1</td>\n",
       "      <td>10 TO 12</td>\n",
       "      <td>31.0</td>\n",
       "      <td>IMPROVED</td>\n",
       "      <td>1977</td>\n",
       "      <td>9500.0</td>\n",
       "      <td>0.0</td>\n",
       "      <td>9</td>\n",
       "      <td>56</td>\n",
       "      <td>9500.0</td>\n",
       "      <td>1.0</td>\n",
       "    </tr>\n",
       "    <tr>\n",
       "      <th>4</th>\n",
       "      <td>1990-10</td>\n",
       "      <td>ANG MO KIO</td>\n",
       "      <td>1 room</td>\n",
       "      <td>309</td>\n",
       "      <td>ANG MO KIO AVE 1</td>\n",
       "      <td>10 TO 12</td>\n",
       "      <td>31.0</td>\n",
       "      <td>IMPROVED</td>\n",
       "      <td>1977</td>\n",
       "      <td>5800.0</td>\n",
       "      <td>0.0</td>\n",
       "      <td>10</td>\n",
       "      <td>56</td>\n",
       "      <td>9500.0</td>\n",
       "      <td>1.0</td>\n",
       "    </tr>\n",
       "  </tbody>\n",
       "</table>\n",
       "</div>"
      ],
      "text/plain": [
       "     month        town flat_type block       street_name storey_range  \\\n",
       "0  1990-01  ANG MO KIO    1 room   309  ANG MO KIO AVE 1     10 TO 12   \n",
       "1  1990-05  ANG MO KIO    1 room   309  ANG MO KIO AVE 1     10 TO 12   \n",
       "2  1990-08  ANG MO KIO    1 room   309  ANG MO KIO AVE 1     10 TO 12   \n",
       "3  1990-09  ANG MO KIO    1 room   309  ANG MO KIO AVE 1     10 TO 12   \n",
       "4  1990-10  ANG MO KIO    1 room   309  ANG MO KIO AVE 1     10 TO 12   \n",
       "\n",
       "   floor_area_sqm flat_model  lease_commence_date  resale_price  busstops  \\\n",
       "0            31.0   IMPROVED                 1977        8000.0       0.0   \n",
       "1            31.0   IMPROVED                 1977        7800.0       0.0   \n",
       "2            31.0   IMPROVED                 1977        9500.0       0.0   \n",
       "3            31.0   IMPROVED                 1977        9500.0       0.0   \n",
       "4            31.0   IMPROVED                 1977        5800.0       0.0   \n",
       "\n",
       "   month_index_since_1990  lease_remaining  last_known_price  \\\n",
       "0                       1               56            9000.0   \n",
       "1                       5               56            8000.0   \n",
       "2                       8               56            7800.0   \n",
       "3                       9               56            9500.0   \n",
       "4                      10               56            9500.0   \n",
       "\n",
       "   months_since_last  \n",
       "0                0.0  \n",
       "1                4.0  \n",
       "2                3.0  \n",
       "3                1.0  \n",
       "4                1.0  "
      ]
     },
     "execution_count": 12,
     "metadata": {},
     "output_type": "execute_result"
    }
   ],
   "source": [
    "## data was written to csv previously so we just load from it\n",
    "lagged_data = pd.read_csv(\"data/lagged_approval.csv\", index_col=0)\n",
    "print(lagged_data.shape)\n",
    "lagged_data.head()"
   ]
  },
  {
   "cell_type": "markdown",
   "metadata": {},
   "source": [
    "Next code block adds **GDP** for the year which the resale occued"
   ]
  },
  {
   "cell_type": "code",
   "execution_count": 13,
   "metadata": {},
   "outputs": [
    {
     "data": {
      "text/html": [
       "<div>\n",
       "<style scoped>\n",
       "    .dataframe tbody tr th:only-of-type {\n",
       "        vertical-align: middle;\n",
       "    }\n",
       "\n",
       "    .dataframe tbody tr th {\n",
       "        vertical-align: top;\n",
       "    }\n",
       "\n",
       "    .dataframe thead th {\n",
       "        text-align: right;\n",
       "    }\n",
       "</style>\n",
       "<table border=\"1\" class=\"dataframe\">\n",
       "  <thead>\n",
       "    <tr style=\"text-align: right;\">\n",
       "      <th></th>\n",
       "      <th>year</th>\n",
       "      <th>GDP_value</th>\n",
       "      <th>GDP_perc_change</th>\n",
       "    </tr>\n",
       "  </thead>\n",
       "  <tbody>\n",
       "    <tr>\n",
       "      <th>30</th>\n",
       "      <td>1990</td>\n",
       "      <td>70492.3</td>\n",
       "      <td>14.979652</td>\n",
       "    </tr>\n",
       "    <tr>\n",
       "      <th>31</th>\n",
       "      <td>1991</td>\n",
       "      <td>78542.8</td>\n",
       "      <td>11.420396</td>\n",
       "    </tr>\n",
       "    <tr>\n",
       "      <th>32</th>\n",
       "      <td>1992</td>\n",
       "      <td>84920.2</td>\n",
       "      <td>8.119649</td>\n",
       "    </tr>\n",
       "    <tr>\n",
       "      <th>33</th>\n",
       "      <td>1993</td>\n",
       "      <td>97923.1</td>\n",
       "      <td>15.311905</td>\n",
       "    </tr>\n",
       "    <tr>\n",
       "      <th>34</th>\n",
       "      <td>1994</td>\n",
       "      <td>112555.4</td>\n",
       "      <td>14.942644</td>\n",
       "    </tr>\n",
       "  </tbody>\n",
       "</table>\n",
       "</div>"
      ],
      "text/plain": [
       "    year  GDP_value  GDP_perc_change\n",
       "30  1990    70492.3        14.979652\n",
       "31  1991    78542.8        11.420396\n",
       "32  1992    84920.2         8.119649\n",
       "33  1993    97923.1        15.311905\n",
       "34  1994   112555.4        14.942644"
      ]
     },
     "execution_count": 13,
     "metadata": {},
     "output_type": "execute_result"
    }
   ],
   "source": [
    "gdp_data = get_processed_gdp_data()\n",
    "gdp_data[gdp_data[\"year\"] >= 1990].head()"
   ]
  },
  {
   "cell_type": "code",
   "execution_count": 18,
   "metadata": {},
   "outputs": [],
   "source": [
    "lagged_data[\"year\"] = lagged_data[\"month\"].apply(lambda x: int(x[:x.rfind('-')]))\n",
    "lagged_data = lagged_data.merge(gdp_data, on=[\"year\"])"
   ]
  },
  {
   "cell_type": "code",
   "execution_count": 19,
   "metadata": {},
   "outputs": [],
   "source": [
    "full_df_subset = lagged_data.copy(deep=True)\n",
    "# full_df_subset[\"flat\"] = full_df_subset[\"block\"] + \" \" + full_df_subset[\"street_name\"]\n",
    "# full_df_subset.drop([\"block\", \"street_name\", \"month\"], axis=1, inplace=True)\n",
    "full_df_subset.drop([\"block\", \"month\", \"lease_commence_date\"], axis=1, inplace=True)"
   ]
  },
  {
   "cell_type": "code",
   "execution_count": 20,
   "metadata": {},
   "outputs": [
    {
     "data": {
      "text/html": [
       "<div>\n",
       "<style scoped>\n",
       "    .dataframe tbody tr th:only-of-type {\n",
       "        vertical-align: middle;\n",
       "    }\n",
       "\n",
       "    .dataframe tbody tr th {\n",
       "        vertical-align: top;\n",
       "    }\n",
       "\n",
       "    .dataframe thead th {\n",
       "        text-align: right;\n",
       "    }\n",
       "</style>\n",
       "<table border=\"1\" class=\"dataframe\">\n",
       "  <thead>\n",
       "    <tr style=\"text-align: right;\">\n",
       "      <th></th>\n",
       "      <th>town</th>\n",
       "      <th>flat_type</th>\n",
       "      <th>street_name</th>\n",
       "      <th>storey_range</th>\n",
       "      <th>floor_area_sqm</th>\n",
       "      <th>flat_model</th>\n",
       "      <th>resale_price</th>\n",
       "      <th>busstops</th>\n",
       "      <th>month_index_since_1990</th>\n",
       "      <th>lease_remaining</th>\n",
       "      <th>last_known_price</th>\n",
       "      <th>months_since_last</th>\n",
       "      <th>year</th>\n",
       "      <th>GDP_value</th>\n",
       "      <th>GDP_perc_change</th>\n",
       "    </tr>\n",
       "  </thead>\n",
       "  <tbody>\n",
       "    <tr>\n",
       "      <th>0</th>\n",
       "      <td>ANG MO KIO</td>\n",
       "      <td>1 room</td>\n",
       "      <td>ANG MO KIO AVE 1</td>\n",
       "      <td>10 TO 12</td>\n",
       "      <td>31.0</td>\n",
       "      <td>IMPROVED</td>\n",
       "      <td>8000.0</td>\n",
       "      <td>0.0</td>\n",
       "      <td>1</td>\n",
       "      <td>56</td>\n",
       "      <td>9000.0</td>\n",
       "      <td>0.0</td>\n",
       "      <td>1990</td>\n",
       "      <td>70492.3</td>\n",
       "      <td>14.979652</td>\n",
       "    </tr>\n",
       "    <tr>\n",
       "      <th>1</th>\n",
       "      <td>ANG MO KIO</td>\n",
       "      <td>1 room</td>\n",
       "      <td>ANG MO KIO AVE 1</td>\n",
       "      <td>10 TO 12</td>\n",
       "      <td>31.0</td>\n",
       "      <td>IMPROVED</td>\n",
       "      <td>7800.0</td>\n",
       "      <td>0.0</td>\n",
       "      <td>5</td>\n",
       "      <td>56</td>\n",
       "      <td>8000.0</td>\n",
       "      <td>4.0</td>\n",
       "      <td>1990</td>\n",
       "      <td>70492.3</td>\n",
       "      <td>14.979652</td>\n",
       "    </tr>\n",
       "    <tr>\n",
       "      <th>2</th>\n",
       "      <td>ANG MO KIO</td>\n",
       "      <td>1 room</td>\n",
       "      <td>ANG MO KIO AVE 1</td>\n",
       "      <td>10 TO 12</td>\n",
       "      <td>31.0</td>\n",
       "      <td>IMPROVED</td>\n",
       "      <td>9500.0</td>\n",
       "      <td>0.0</td>\n",
       "      <td>8</td>\n",
       "      <td>56</td>\n",
       "      <td>7800.0</td>\n",
       "      <td>3.0</td>\n",
       "      <td>1990</td>\n",
       "      <td>70492.3</td>\n",
       "      <td>14.979652</td>\n",
       "    </tr>\n",
       "    <tr>\n",
       "      <th>3</th>\n",
       "      <td>ANG MO KIO</td>\n",
       "      <td>1 room</td>\n",
       "      <td>ANG MO KIO AVE 1</td>\n",
       "      <td>10 TO 12</td>\n",
       "      <td>31.0</td>\n",
       "      <td>IMPROVED</td>\n",
       "      <td>9500.0</td>\n",
       "      <td>0.0</td>\n",
       "      <td>9</td>\n",
       "      <td>56</td>\n",
       "      <td>9500.0</td>\n",
       "      <td>1.0</td>\n",
       "      <td>1990</td>\n",
       "      <td>70492.3</td>\n",
       "      <td>14.979652</td>\n",
       "    </tr>\n",
       "    <tr>\n",
       "      <th>4</th>\n",
       "      <td>ANG MO KIO</td>\n",
       "      <td>1 room</td>\n",
       "      <td>ANG MO KIO AVE 1</td>\n",
       "      <td>10 TO 12</td>\n",
       "      <td>31.0</td>\n",
       "      <td>IMPROVED</td>\n",
       "      <td>5800.0</td>\n",
       "      <td>0.0</td>\n",
       "      <td>10</td>\n",
       "      <td>56</td>\n",
       "      <td>9500.0</td>\n",
       "      <td>1.0</td>\n",
       "      <td>1990</td>\n",
       "      <td>70492.3</td>\n",
       "      <td>14.979652</td>\n",
       "    </tr>\n",
       "  </tbody>\n",
       "</table>\n",
       "</div>"
      ],
      "text/plain": [
       "         town flat_type       street_name storey_range  floor_area_sqm  \\\n",
       "0  ANG MO KIO    1 room  ANG MO KIO AVE 1     10 TO 12            31.0   \n",
       "1  ANG MO KIO    1 room  ANG MO KIO AVE 1     10 TO 12            31.0   \n",
       "2  ANG MO KIO    1 room  ANG MO KIO AVE 1     10 TO 12            31.0   \n",
       "3  ANG MO KIO    1 room  ANG MO KIO AVE 1     10 TO 12            31.0   \n",
       "4  ANG MO KIO    1 room  ANG MO KIO AVE 1     10 TO 12            31.0   \n",
       "\n",
       "  flat_model  resale_price  busstops  month_index_since_1990  lease_remaining  \\\n",
       "0   IMPROVED        8000.0       0.0                       1               56   \n",
       "1   IMPROVED        7800.0       0.0                       5               56   \n",
       "2   IMPROVED        9500.0       0.0                       8               56   \n",
       "3   IMPROVED        9500.0       0.0                       9               56   \n",
       "4   IMPROVED        5800.0       0.0                      10               56   \n",
       "\n",
       "   last_known_price  months_since_last  year  GDP_value  GDP_perc_change  \n",
       "0            9000.0                0.0  1990    70492.3        14.979652  \n",
       "1            8000.0                4.0  1990    70492.3        14.979652  \n",
       "2            7800.0                3.0  1990    70492.3        14.979652  \n",
       "3            9500.0                1.0  1990    70492.3        14.979652  \n",
       "4            9500.0                1.0  1990    70492.3        14.979652  "
      ]
     },
     "execution_count": 20,
     "metadata": {},
     "output_type": "execute_result"
    }
   ],
   "source": [
    "full_df_subset.head()"
   ]
  },
  {
   "cell_type": "code",
   "execution_count": 21,
   "metadata": {},
   "outputs": [
    {
     "data": {
      "text/html": [
       "<div>\n",
       "<style scoped>\n",
       "    .dataframe tbody tr th:only-of-type {\n",
       "        vertical-align: middle;\n",
       "    }\n",
       "\n",
       "    .dataframe tbody tr th {\n",
       "        vertical-align: top;\n",
       "    }\n",
       "\n",
       "    .dataframe thead th {\n",
       "        text-align: right;\n",
       "    }\n",
       "</style>\n",
       "<table border=\"1\" class=\"dataframe\">\n",
       "  <thead>\n",
       "    <tr style=\"text-align: right;\">\n",
       "      <th></th>\n",
       "      <th>floor_area_sqm</th>\n",
       "      <th>resale_price</th>\n",
       "      <th>busstops</th>\n",
       "      <th>month_index_since_1990</th>\n",
       "      <th>lease_remaining</th>\n",
       "      <th>last_known_price</th>\n",
       "      <th>months_since_last</th>\n",
       "      <th>year</th>\n",
       "      <th>GDP_value</th>\n",
       "      <th>GDP_perc_change</th>\n",
       "    </tr>\n",
       "  </thead>\n",
       "  <tbody>\n",
       "    <tr>\n",
       "      <th>floor_area_sqm</th>\n",
       "      <td>1.000000</td>\n",
       "      <td>0.745815</td>\n",
       "      <td>0.101062</td>\n",
       "      <td>0.093425</td>\n",
       "      <td>0.551791</td>\n",
       "      <td>0.657572</td>\n",
       "      <td>0.143490</td>\n",
       "      <td>0.093285</td>\n",
       "      <td>0.080457</td>\n",
       "      <td>-0.047746</td>\n",
       "    </tr>\n",
       "    <tr>\n",
       "      <th>resale_price</th>\n",
       "      <td>0.745815</td>\n",
       "      <td>1.000000</td>\n",
       "      <td>0.054439</td>\n",
       "      <td>0.439077</td>\n",
       "      <td>0.478934</td>\n",
       "      <td>0.867022</td>\n",
       "      <td>0.192576</td>\n",
       "      <td>0.438026</td>\n",
       "      <td>0.473119</td>\n",
       "      <td>-0.056071</td>\n",
       "    </tr>\n",
       "    <tr>\n",
       "      <th>busstops</th>\n",
       "      <td>0.101062</td>\n",
       "      <td>0.054439</td>\n",
       "      <td>1.000000</td>\n",
       "      <td>0.067992</td>\n",
       "      <td>0.209832</td>\n",
       "      <td>0.058716</td>\n",
       "      <td>-0.008264</td>\n",
       "      <td>0.067823</td>\n",
       "      <td>0.056493</td>\n",
       "      <td>-0.017398</td>\n",
       "    </tr>\n",
       "    <tr>\n",
       "      <th>month_index_since_1990</th>\n",
       "      <td>0.093425</td>\n",
       "      <td>0.439077</td>\n",
       "      <td>0.067992</td>\n",
       "      <td>1.000000</td>\n",
       "      <td>0.311443</td>\n",
       "      <td>0.397299</td>\n",
       "      <td>0.224866</td>\n",
       "      <td>0.998638</td>\n",
       "      <td>0.956445</td>\n",
       "      <td>0.011383</td>\n",
       "    </tr>\n",
       "    <tr>\n",
       "      <th>lease_remaining</th>\n",
       "      <td>0.551791</td>\n",
       "      <td>0.478934</td>\n",
       "      <td>0.209832</td>\n",
       "      <td>0.311443</td>\n",
       "      <td>1.000000</td>\n",
       "      <td>0.484222</td>\n",
       "      <td>0.035050</td>\n",
       "      <td>0.310774</td>\n",
       "      <td>0.284459</td>\n",
       "      <td>-0.035339</td>\n",
       "    </tr>\n",
       "    <tr>\n",
       "      <th>last_known_price</th>\n",
       "      <td>0.657572</td>\n",
       "      <td>0.867022</td>\n",
       "      <td>0.058716</td>\n",
       "      <td>0.397299</td>\n",
       "      <td>0.484222</td>\n",
       "      <td>1.000000</td>\n",
       "      <td>0.085724</td>\n",
       "      <td>0.396745</td>\n",
       "      <td>0.399043</td>\n",
       "      <td>-0.127325</td>\n",
       "    </tr>\n",
       "    <tr>\n",
       "      <th>months_since_last</th>\n",
       "      <td>0.143490</td>\n",
       "      <td>0.192576</td>\n",
       "      <td>-0.008264</td>\n",
       "      <td>0.224866</td>\n",
       "      <td>0.035050</td>\n",
       "      <td>0.085724</td>\n",
       "      <td>1.000000</td>\n",
       "      <td>0.224665</td>\n",
       "      <td>0.235131</td>\n",
       "      <td>0.075509</td>\n",
       "    </tr>\n",
       "    <tr>\n",
       "      <th>year</th>\n",
       "      <td>0.093285</td>\n",
       "      <td>0.438026</td>\n",
       "      <td>0.067823</td>\n",
       "      <td>0.998638</td>\n",
       "      <td>0.310774</td>\n",
       "      <td>0.396745</td>\n",
       "      <td>0.224665</td>\n",
       "      <td>1.000000</td>\n",
       "      <td>0.957843</td>\n",
       "      <td>0.011541</td>\n",
       "    </tr>\n",
       "    <tr>\n",
       "      <th>GDP_value</th>\n",
       "      <td>0.080457</td>\n",
       "      <td>0.473119</td>\n",
       "      <td>0.056493</td>\n",
       "      <td>0.956445</td>\n",
       "      <td>0.284459</td>\n",
       "      <td>0.399043</td>\n",
       "      <td>0.235131</td>\n",
       "      <td>0.957843</td>\n",
       "      <td>1.000000</td>\n",
       "      <td>0.138826</td>\n",
       "    </tr>\n",
       "    <tr>\n",
       "      <th>GDP_perc_change</th>\n",
       "      <td>-0.047746</td>\n",
       "      <td>-0.056071</td>\n",
       "      <td>-0.017398</td>\n",
       "      <td>0.011383</td>\n",
       "      <td>-0.035339</td>\n",
       "      <td>-0.127325</td>\n",
       "      <td>0.075509</td>\n",
       "      <td>0.011541</td>\n",
       "      <td>0.138826</td>\n",
       "      <td>1.000000</td>\n",
       "    </tr>\n",
       "  </tbody>\n",
       "</table>\n",
       "</div>"
      ],
      "text/plain": [
       "                        floor_area_sqm  resale_price  busstops  \\\n",
       "floor_area_sqm                1.000000      0.745815  0.101062   \n",
       "resale_price                  0.745815      1.000000  0.054439   \n",
       "busstops                      0.101062      0.054439  1.000000   \n",
       "month_index_since_1990        0.093425      0.439077  0.067992   \n",
       "lease_remaining               0.551791      0.478934  0.209832   \n",
       "last_known_price              0.657572      0.867022  0.058716   \n",
       "months_since_last             0.143490      0.192576 -0.008264   \n",
       "year                          0.093285      0.438026  0.067823   \n",
       "GDP_value                     0.080457      0.473119  0.056493   \n",
       "GDP_perc_change              -0.047746     -0.056071 -0.017398   \n",
       "\n",
       "                        month_index_since_1990  lease_remaining  \\\n",
       "floor_area_sqm                        0.093425         0.551791   \n",
       "resale_price                          0.439077         0.478934   \n",
       "busstops                              0.067992         0.209832   \n",
       "month_index_since_1990                1.000000         0.311443   \n",
       "lease_remaining                       0.311443         1.000000   \n",
       "last_known_price                      0.397299         0.484222   \n",
       "months_since_last                     0.224866         0.035050   \n",
       "year                                  0.998638         0.310774   \n",
       "GDP_value                             0.956445         0.284459   \n",
       "GDP_perc_change                       0.011383        -0.035339   \n",
       "\n",
       "                        last_known_price  months_since_last      year  \\\n",
       "floor_area_sqm                  0.657572           0.143490  0.093285   \n",
       "resale_price                    0.867022           0.192576  0.438026   \n",
       "busstops                        0.058716          -0.008264  0.067823   \n",
       "month_index_since_1990          0.397299           0.224866  0.998638   \n",
       "lease_remaining                 0.484222           0.035050  0.310774   \n",
       "last_known_price                1.000000           0.085724  0.396745   \n",
       "months_since_last               0.085724           1.000000  0.224665   \n",
       "year                            0.396745           0.224665  1.000000   \n",
       "GDP_value                       0.399043           0.235131  0.957843   \n",
       "GDP_perc_change                -0.127325           0.075509  0.011541   \n",
       "\n",
       "                        GDP_value  GDP_perc_change  \n",
       "floor_area_sqm           0.080457        -0.047746  \n",
       "resale_price             0.473119        -0.056071  \n",
       "busstops                 0.056493        -0.017398  \n",
       "month_index_since_1990   0.956445         0.011383  \n",
       "lease_remaining          0.284459        -0.035339  \n",
       "last_known_price         0.399043        -0.127325  \n",
       "months_since_last        0.235131         0.075509  \n",
       "year                     0.957843         0.011541  \n",
       "GDP_value                1.000000         0.138826  \n",
       "GDP_perc_change          0.138826         1.000000  "
      ]
     },
     "execution_count": 21,
     "metadata": {},
     "output_type": "execute_result"
    }
   ],
   "source": [
    "full_df_corr = full_df_subset.corr()\n",
    "full_df_corr"
   ]
  },
  {
   "cell_type": "markdown",
   "metadata": {},
   "source": [
    "Inspecting for multicollinearity:\n",
    "\n",
    "Plot correlation matrix for predictors only to look for strong/perfect correlation\n",
    "between variables and delete if necessary"
   ]
  },
  {
   "cell_type": "code",
   "execution_count": 30,
   "metadata": {},
   "outputs": [
    {
     "data": {
      "text/plain": [
       "<matplotlib.axes._subplots.AxesSubplot at 0x15abdf4b648>"
      ]
     },
     "execution_count": 30,
     "metadata": {},
     "output_type": "execute_result"
    },
    {
     "data": {
      "image/png": "[encoded data removed]",
      "text/plain": [
       "<Figure size 792x648 with 2 Axes>"
      ]
     },
     "metadata": {
      "needs_background": "light"
     },
     "output_type": "display_data"
    }
   ],
   "source": [
    "X_corr = full_df_subset.drop(\"resale_price\", axis=1).corr()\n",
    "import seaborn as sns\n",
    "f, ax = plt.subplots(figsize=(11, 9))\n",
    "mask = np.triu(np.ones_like(X_corr, dtype=np.bool))\n",
    "# Generate a custom diverging colormap\n",
    "cmap = sns.diverging_palette(220, 10, as_cmap=True)\n",
    "sns.heatmap(X_corr, mask=mask, cmap=cmap, vmax=1, center=0,\n",
    "            square=True, linewidths=.5, cbar_kws={\"shrink\": .5}, annot=True)"
   ]
  },
  {
   "cell_type": "code",
   "execution_count": 31,
   "metadata": {},
   "outputs": [
    {
     "data": {
      "text/plain": [
       "<matplotlib.axes._subplots.AxesSubplot at 0x15adca4e388>"
      ]
     },
     "execution_count": 31,
     "metadata": {},
     "output_type": "execute_result"
    },
    {
     "data": {
      "image/png": "[encoded data removed]",
      "text/plain": [
       "<Figure size 792x648 with 2 Axes>"
      ]
     },
     "metadata": {
      "needs_background": "light"
     },
     "output_type": "display_data"
    }
   ],
   "source": [
    "import seaborn as sns\n",
    "f, ax = plt.subplots(figsize=(11, 9))\n",
    "mask = np.triu(np.ones_like(full_df_corr, dtype=np.bool))\n",
    "# Generate a custom diverging colormap\n",
    "cmap = sns.diverging_palette(220, 10, as_cmap=True)\n",
    "sns.heatmap(full_df_corr, mask=mask, cmap=cmap, vmax=1, center=0,\n",
    "            square=True, linewidths=.5, cbar_kws={\"shrink\": .5}, annot=True)"
   ]
  },
  {
   "cell_type": "markdown",
   "metadata": {},
   "source": [
    "While `busstops` are uncorrelated with `resale_price` , we can do it after looking at the significance of busstops in predicting `resale_price`"
   ]
  },
  {
   "cell_type": "code",
   "execution_count": 37,
   "metadata": {},
   "outputs": [],
   "source": [
    "'''\n",
    "Instead of putting the past price as a predictor, we let the predictor be a differential of the previous known price, similar to getting differentials in ARIMA models. \n",
    "\n",
    "We compare this method against the former method, to see which method is better in prediction with a possible explanation\n",
    "'''\n",
    "differential_df = full_df_subset.copy(deep=True)\n",
    "differential_df[\"price_difference\"] = differential_df[\"resale_price\"] - differential_df[\"last_known_price\"]\n",
    "differential_df.drop([\"resale_price\", \"last_known_price\"], axis=1, inplace=True)"
   ]
  },
  {
   "cell_type": "code",
   "execution_count": 38,
   "metadata": {},
   "outputs": [
    {
     "data": {
      "text/plain": [
       "<matplotlib.collections.PathCollection at 0x20481d836c8>"
      ]
     },
     "execution_count": 38,
     "metadata": {},
     "output_type": "execute_result"
    },
    {
     "data": {
      "image/png": "[encoded data removed]",
      "text/plain": [
       "<Figure size 720x432 with 1 Axes>"
      ]
     },
     "metadata": {
      "needs_background": "light"
     },
     "output_type": "display_data"
    }
   ],
   "source": [
    "plt.figure(figsize=(10,6))\n",
    "plt.title(\"Distribution of price differences\")\n",
    "plt.scatter(differential_df.index, differential_df[\"price_difference\"])"
   ]
  },
  {
   "cell_type": "markdown",
   "metadata": {},
   "source": [
    "It seems to be stationary with mean at around 0. A linear model definitely wont fit this will not use price differences as the predicted variable."
   ]
  },
  {
   "cell_type": "code",
   "execution_count": 39,
   "metadata": {},
   "outputs": [
    {
     "data": {
      "text/plain": [
       "'diff_df_corr = differential_df.corr()\\nf, ax = plt.subplots(figsize=(11, 9))\\nmask = np.triu(np.ones_like(diff_df_corr, dtype=np.bool))\\n# Generate a custom diverging colormap\\ncmap = sns.diverging_palette(220, 10, as_cmap=True)\\nsns.heatmap(diff_df_corr, mask=mask, cmap=cmap, vmax=1, center=0,\\n            square=True, linewidths=.5, cbar_kws={\"shrink\": .5}, annot=True)'"
      ]
     },
     "execution_count": 39,
     "metadata": {},
     "output_type": "execute_result"
    }
   ],
   "source": [
    "'''diff_df_corr = differential_df.corr()\n",
    "f, ax = plt.subplots(figsize=(11, 9))\n",
    "mask = np.triu(np.ones_like(diff_df_corr, dtype=np.bool))\n",
    "# Generate a custom diverging colormap\n",
    "cmap = sns.diverging_palette(220, 10, as_cmap=True)\n",
    "sns.heatmap(diff_df_corr, mask=mask, cmap=cmap, vmax=1, center=0,\n",
    "            square=True, linewidths=.5, cbar_kws={\"shrink\": .5}, annot=True)'''"
   ]
  },
  {
   "cell_type": "markdown",
   "metadata": {},
   "source": [
    "### Model fitting - ML Techniques"
   ]
  },
  {
   "cell_type": "code",
   "execution_count": null,
   "metadata": {},
   "outputs": [],
   "source": [
    "'''\n",
    "process data to fit model fitting techniques\n",
    "'''\n",
    "# lb_cols = [\"flat_model\", \"flat\", \"town\"]\n",
    "lb_cols = [\"flat_model\", \"street_name\", \"town\"]\n",
    "le_cols = [\"flat_type\", \"storey_range\"]\n",
    "approval = process_data(full_df_subset, lb_cols= lb_cols, le_cols=le_cols)\n",
    "print(approval.shape)\n",
    "\n",
    "X_approval = approval.drop(\"resale_price\", axis=1)\n",
    "y_approval = approval[\"resale_price\"]"
   ]
  },
  {
   "cell_type": "code",
   "execution_count": null,
   "metadata": {},
   "outputs": [],
   "source": [
    "## functions to fit ML_models\n",
    "from sklearn.ensemble import RandomForestRegressor\n",
    "from sklearn.linear_model import Lasso, BayesianRidge\n",
    "from sklearn.model_selection import GridSearchCV\n",
    "from sklearn.model_selection import train_test_split\n",
    "\n",
    "## code is in housing/ML.py\n",
    "from housing.ML import ML_Model\n",
    "\n",
    "def split_df(X, y):\n",
    "    return train_test_split(X, y, test_size=0.25)"
   ]
  },
  {
   "cell_type": "code",
   "execution_count": null,
   "metadata": {},
   "outputs": [],
   "source": [
    "## ML techniques - Lasso\n",
    "lasso = Lasso()\n",
    "lasso_model = ML_Model(lasso, X_approval, y_approval, split_df)\n",
    "lasso_model.fit()\n",
    "lasso_model.predict()\n",
    "lasso_model.get_metrics()\n",
    "# lasso.fit(X_train,y_train)\n",
    "# print(lasso.score(X_train, y_train))"
   ]
  },
  {
   "cell_type": "code",
   "execution_count": null,
   "metadata": {},
   "outputs": [],
   "source": [
    "## ML techniques - Bayesian Ridge\n",
    "br = BayesianRidge()\n",
    "br_model = ML_Model(br, X_approval, y_approval, split_df)\n",
    "br_model.fit()\n",
    "br_model.predict()\n",
    "br_model.get_metrics()"
   ]
  },
  {
   "cell_type": "markdown",
   "metadata": {},
   "source": [
    "Compare Against Differentials"
   ]
  },
  {
   "cell_type": "code",
   "execution_count": null,
   "metadata": {},
   "outputs": [],
   "source": [
    "# diff_approval = process_data(differential_df, lb_cols= lb_cols, le_cols=le_cols)\n",
    "# X_diff_approval = diff_approval.drop(\"price_difference\", axis=1)\n",
    "# y_diff_approval = diff_approval[\"price_difference\"]\n",
    "# print(differential_df.columns)\n",
    "\n",
    "## ML techniques - Bayesian Ridge\n",
    "br = BayesianRidge()\n",
    "br_model = ML_Model(br, X_diff_approval, y_diff_approval, split_df)\n",
    "br_model.fit()\n",
    "br_model.predict()\n",
    "br_model.get_metrics()"
   ]
  },
  {
   "cell_type": "markdown",
   "metadata": {},
   "source": [
    "RFC - it takes really long to run this so I haven't"
   ]
  },
  {
   "cell_type": "code",
   "execution_count": null,
   "metadata": {},
   "outputs": [],
   "source": [
    "rfr = RandomForestRegressor(n_estimators=1000)\n",
    "rfr.fit(X_train,y_train)\n",
    "print(rfr.score(X_train, y_train))"
   ]
  },
  {
   "cell_type": "markdown",
   "metadata": {},
   "source": [
    "Rolling predictions\n",
    "\n",
    "build models with data on year $n$ to predict data on year $n+1$. We concat all predicted values."
   ]
  },
  {
   "cell_type": "code",
   "execution_count": null,
   "metadata": {
    "scrolled": true
   },
   "outputs": [],
   "source": [
    "lasso_model.rolling_predict(12)"
   ]
  },
  {
   "cell_type": "code",
   "execution_count": null,
   "metadata": {},
   "outputs": [],
   "source": [
    "lasso_model.get_metrics()"
   ]
  },
  {
   "cell_type": "code",
   "execution_count": null,
   "metadata": {
    "scrolled": true
   },
   "outputs": [],
   "source": [
    "lasso_model.rolling_predict(6)\n",
    "lasso_model.get_metrics()"
   ]
  },
  {
   "cell_type": "markdown",
   "metadata": {},
   "source": [
    "It seems that rolling predictions work better. This might likely be due to structural information that \n",
    "might be lost but persisted in the future due to models taking averages over the whole time period to\n",
    "minimise loss functions."
   ]
  },
  {
   "cell_type": "markdown",
   "metadata": {},
   "source": [
    "### Explained Variance\n",
    "Lasso on processed resale_registration_full : 0.05792120689732261\n",
    "\n",
    "Bayesian Ridge on processed resale_registration_full : 0.07078195564484402\n",
    "\n",
    "Rolling predictions, Lasso on processed resale_registration_full : 0.2625062541461246\n",
    "\n",
    "Rolling predictions,Bayesian Ridge on processed resale_registration_full : \n",
    "\n"
   ]
  },
  {
   "cell_type": "markdown",
   "metadata": {},
   "source": [
    "### Deep Learning Techniques\n",
    "\n",
    "#### ANN"
   ]
  },
  {
   "cell_type": "code",
   "execution_count": null,
   "metadata": {},
   "outputs": [],
   "source": [
    "X_train, X_test, y_train, y_test = split_df(X, y)\n",
    "df = tf.data.Dataset.from_tensor_slices((X_train.values, y_train.values)).batch(16)\n",
    "# for feat, targ in df.take(5):\n",
    "#   print ('Features: {}, Target: {}'.format(feat, targ))\n",
    "\n",
    "model = tf.keras.Sequential([\n",
    "    tf.keras.layers.Dense(128, activation='relu', input_shape=[X_train.shape[1]]),\n",
    "    tf.keras.layers.Dense(64, activation='relu'),\n",
    "    tf.keras.layers.Dense(10, activation='relu'),\n",
    "    tf.keras.layers.Dense(1),\n",
    "])\n",
    "model.compile(optimizer='adam',\n",
    "                loss=tf.keras.losses.MeanSquaredError(),\n",
    "                metrics=['mae', 'mse'])"
   ]
  },
  {
   "cell_type": "code",
   "execution_count": null,
   "metadata": {},
   "outputs": [],
   "source": [
    "model.summary()"
   ]
  },
  {
   "cell_type": "code",
   "execution_count": null,
   "metadata": {
    "scrolled": true
   },
   "outputs": [],
   "source": [
    "EPOCHS = 100\n",
    "\n",
    "history = model.fit(\n",
    "  X_train, y_train,\n",
    "  epochs=EPOCHS, validation_split = 0.2, verbose=2)"
   ]
  },
  {
   "cell_type": "code",
   "execution_count": null,
   "metadata": {},
   "outputs": [],
   "source": [
    "## save model\n",
    "model.save_weights(\"./checkpoints/ann-epoch-100\")"
   ]
  },
  {
   "cell_type": "code",
   "execution_count": null,
   "metadata": {
    "scrolled": true
   },
   "outputs": [],
   "source": [
    "## prediction\n",
    "y_pred = model.predict(X_test)\n",
    "\n",
    "from sklearn.metrics import mean_squared_error, mean_absolute_error, explained_variance_score\n",
    "print(mean_squared_error(y_pred, y_test))\n",
    "print(mean_absolute_error(y_pred, y_test))\n",
    "print(explained_variance_score(y_pred, y_test))"
   ]
  },
  {
   "cell_type": "markdown",
   "metadata": {},
   "source": [
    "### Time-series\n",
    "\n",
    "Using a subset of data (certain street), we try to model data as a time-series, \n",
    "hopefully it'll improve eval metrics  \n",
    "\n",
    "**Exogeneous Variables**\n",
    "\n",
    "These are variables that would be similar throughout the time series and values dont change with time\n",
    "\n",
    "- storey_range\n",
    "- floor_area_sqm\n",
    "- flat_model\n",
    "- flat_type\n",
    "- lease_commence_date -> remaining_lease\n",
    "\n",
    "**Problems:**\n",
    "\n",
    "We need one model per flat, which takes up alot of storage space and \n",
    "having so many models might be inefficient"
   ]
  },
  {
   "cell_type": "code",
   "execution_count": null,
   "metadata": {},
   "outputs": [],
   "source": [
    "time_series_registration = pd.read_csv(\"data/resale-flat-prices_HDB/resale-on-approval-full.csv\")\n",
    "time_series_registration.drop_duplicates(inplace=True)\n",
    "time_series_registration[\"lease_remaining\"] = time_series_registration[\"lease_commence_date\"].apply(commence_date_to_remaining)\n",
    "time_series_registration[\"flat_model\"] = time_series_registration[\"flat_model\"].apply(lambda x: x.lower())\n",
    "time_series_registration.drop(\"lease_commence_date\", axis=1, inplace=True)\n",
    "print(time_series_registration.columns)\n",
    "time_series_registration.shape"
   ]
  },
  {
   "cell_type": "markdown",
   "metadata": {},
   "source": [
    "1. Lag the values"
   ]
  },
  {
   "cell_type": "code",
   "execution_count": null,
   "metadata": {},
   "outputs": [],
   "source": [
    "time_series_registration.sort_values(by=[\"street_name\", \"block\", \"month\", \"storey_range\"], inplace=True)\n",
    "sorted_time_series = time_series_registration.reset_index(drop=True)\n",
    "sorted_time_series[\"last_resale_price\"] = sorted_time_series[\"resale_price\"].shift(1)\n",
    "sorted_time_series.dropna(inplace=True)\n",
    "sorted_time_series"
   ]
  },
  {
   "cell_type": "code",
   "execution_count": null,
   "metadata": {},
   "outputs": [],
   "source": [
    "sorted_time_series[\"month\"] = sorted_time_series[\"month\"].apply(lambda x: int(x[:4])*12 + int(x[-2:])-1)\n",
    "sorted_time_series.drop([\"block\", \"town\"],axis=1, inplace=True)\n",
    "lb_cols = [\"street_name\", \"flat_type\", \"flat_model\"]\n",
    "le_cols=[\"storey_range\"]\n",
    "ts_df = process_data(sorted_time_series,lb_cols=lb_cols, le_cols=le_cols)\n",
    "ts_df.head(10)"
   ]
  },
  {
   "cell_type": "code",
   "execution_count": null,
   "metadata": {},
   "outputs": [],
   "source": [
    "# np.amax(ts_df.month) ##24145\n",
    "# np.amin(ts_df.month)  ## 23880\n",
    "X = ts_df.drop(\"resale_price\", axis=1)\n",
    "y = ts_df[\"resale_price\"]\n",
    "# X_train, X_test, y_train, y_test = split_df(X, y, month_threshold=24110)\n",
    "# print(X_train.shape, y_train.shape)\n",
    "# print(X_test.shape, y_test.shape)"
   ]
  },
  {
   "cell_type": "code",
   "execution_count": null,
   "metadata": {},
   "outputs": [],
   "source": [
    "def tf_split(X, y):\n",
    "    return split_df(X,y, month_threshold=24110)\n",
    "\n",
    "br = BayesianRidge()\n",
    "br_model = ML_Model(br, X, y, tf_split)\n",
    "br_model.fit()\n",
    "br_model.predict()\n",
    "br_model.get_metrics()"
   ]
  },
  {
   "cell_type": "code",
   "execution_count": null,
   "metadata": {},
   "outputs": [],
   "source": [
    "br_model.rolling_predict(12)"
   ]
  },
  {
   "cell_type": "code",
   "execution_count": null,
   "metadata": {},
   "outputs": [],
   "source": [
    "br_model.get_metrics()"
   ]
  },
  {
   "cell_type": "markdown",
   "metadata": {},
   "source": [
    "### Checking Model Assumptions"
   ]
  },
  {
   "cell_type": "markdown",
   "metadata": {},
   "source": [
    "In this section, we look at whether the fitted model satifies assumptions in the underlying model. \n",
    "\n",
    "For example, regression requires data to be homoscedastic. We observe this in a residual plot or QQ-plot, where residuals should look like a random variable with mean 0 while QQ-plot should show a straight line."
   ]
  },
  {
   "cell_type": "code",
   "execution_count": null,
   "metadata": {},
   "outputs": [],
   "source": []
  },
  {
   "cell_type": "code",
   "execution_count": null,
   "metadata": {},
   "outputs": [],
   "source": []
  }
 ],
 "metadata": {
  "kernelspec": {
   "display_name": "Python 3",
   "language": "python",
   "name": "python3"
  },
  "language_info": {
   "codemirror_mode": {
    "name": "ipython",
    "version": 3
   },
   "file_extension": ".py",
   "mimetype": "text/x-python",
   "name": "python",
   "nbconvert_exporter": "python",
   "pygments_lexer": "ipython3",
   "version": "3.7.6"
  }
 },
 "nbformat": 4,
 "nbformat_minor": 4
}
