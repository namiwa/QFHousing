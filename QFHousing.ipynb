{
 "cells": [
  {
   "cell_type": "code",
   "execution_count": 1,
   "metadata": {},
   "outputs": [],
   "source": [
    "from __future__ import absolute_import, division, print_function, unicode_literals\n",
    "\n",
    "import pathlib\n",
    "\n",
    "import matplotlib.pyplot as plt\n",
    "import numpy as np\n",
    "import pandas as pd\n",
    "import seaborn as sns"
   ]
  },
  {
   "cell_type": "code",
   "execution_count": 2,
   "metadata": {},
   "outputs": [
    {
     "name": "stdout",
     "output_type": "stream",
     "text": [
      "2.1.0\n"
     ]
    }
   ],
   "source": [
    "import tensorflow as tf\n",
    "\n",
    "from tensorflow import keras\n",
    "from tensorflow.keras import layers\n",
    "\n",
    "print(tf.__version__)"
   ]
  },
  {
   "cell_type": "markdown",
   "metadata": {},
   "source": [
    "Inspect Data"
   ]
  },
  {
   "cell_type": "code",
   "execution_count": 7,
   "metadata": {},
   "outputs": [],
   "source": [
    "landed = pd.read_csv(\"data\\LandedArea.csv\")\n",
    "apartments = pd.read_csv('data\\ApartmentsandCondos.csv')\n",
    "\n",
    "resale_registration_1 = pd.read_csv(\"data/resale-flat-prices_HDB/resale-flat-prices-based-on-registration-date-from-mar-2012-to-dec-2014.csv\")\n",
    "resale_registration_2 = pd.read_csv(\"data/resale-flat-prices_HDB/resale-flat-prices-based-on-registration-date-from-jan-2015-to-dec-2016.csv\")\n",
    "resale_registration_3 = pd.read_csv(\"data/resale-flat-prices_HDB/resale-flat-prices-based-on-registration-date-from-jan-2017-onwards.csv\")\n",
    "\n",
    "resale_approval_1 = pd.read_csv(\"data/resale-flat-prices_HDB/resale-flat-prices-based-on-approval-date-1990-1999.csv\")\n",
    "resale_approval_2 = pd.read_csv(\"data/resale-flat-prices_HDB/resale-flat-prices-based-on-approval-date-2000-feb-2012.csv\")"
   ]
  },
  {
   "cell_type": "markdown",
   "metadata": {},
   "source": [
    "A look of resale by registration"
   ]
  },
  {
   "cell_type": "code",
   "execution_count": 8,
   "metadata": {},
   "outputs": [
    {
     "data": {
      "text/html": [
       "<div>\n",
       "<style scoped>\n",
       "    .dataframe tbody tr th:only-of-type {\n",
       "        vertical-align: middle;\n",
       "    }\n",
       "\n",
       "    .dataframe tbody tr th {\n",
       "        vertical-align: top;\n",
       "    }\n",
       "\n",
       "    .dataframe thead th {\n",
       "        text-align: right;\n",
       "    }\n",
       "</style>\n",
       "<table border=\"1\" class=\"dataframe\">\n",
       "  <thead>\n",
       "    <tr style=\"text-align: right;\">\n",
       "      <th></th>\n",
       "      <th>floor_area_sqm</th>\n",
       "      <th>lease_commence_date</th>\n",
       "      <th>resale_price</th>\n",
       "    </tr>\n",
       "  </thead>\n",
       "  <tbody>\n",
       "    <tr>\n",
       "      <th>count</th>\n",
       "      <td>52203.000000</td>\n",
       "      <td>52203.000000</td>\n",
       "      <td>5.220300e+04</td>\n",
       "    </tr>\n",
       "    <tr>\n",
       "      <th>mean</th>\n",
       "      <td>96.203285</td>\n",
       "      <td>1989.512902</td>\n",
       "      <td>4.612147e+05</td>\n",
       "    </tr>\n",
       "    <tr>\n",
       "      <th>std</th>\n",
       "      <td>24.984010</td>\n",
       "      <td>10.139550</td>\n",
       "      <td>1.225534e+05</td>\n",
       "    </tr>\n",
       "    <tr>\n",
       "      <th>min</th>\n",
       "      <td>31.000000</td>\n",
       "      <td>1966.000000</td>\n",
       "      <td>1.950000e+05</td>\n",
       "    </tr>\n",
       "    <tr>\n",
       "      <th>25%</th>\n",
       "      <td>73.000000</td>\n",
       "      <td>1983.000000</td>\n",
       "      <td>3.700000e+05</td>\n",
       "    </tr>\n",
       "    <tr>\n",
       "      <th>50%</th>\n",
       "      <td>95.000000</td>\n",
       "      <td>1988.000000</td>\n",
       "      <td>4.400000e+05</td>\n",
       "    </tr>\n",
       "    <tr>\n",
       "      <th>75%</th>\n",
       "      <td>111.000000</td>\n",
       "      <td>1999.000000</td>\n",
       "      <td>5.250000e+05</td>\n",
       "    </tr>\n",
       "    <tr>\n",
       "      <th>max</th>\n",
       "      <td>266.000000</td>\n",
       "      <td>2012.000000</td>\n",
       "      <td>1.088888e+06</td>\n",
       "    </tr>\n",
       "  </tbody>\n",
       "</table>\n",
       "</div>"
      ],
      "text/plain": [
       "       floor_area_sqm  lease_commence_date  resale_price\n",
       "count    52203.000000         52203.000000  5.220300e+04\n",
       "mean        96.203285          1989.512902  4.612147e+05\n",
       "std         24.984010            10.139550  1.225534e+05\n",
       "min         31.000000          1966.000000  1.950000e+05\n",
       "25%         73.000000          1983.000000  3.700000e+05\n",
       "50%         95.000000          1988.000000  4.400000e+05\n",
       "75%        111.000000          1999.000000  5.250000e+05\n",
       "max        266.000000          2012.000000  1.088888e+06"
      ]
     },
     "execution_count": 8,
     "metadata": {},
     "output_type": "execute_result"
    }
   ],
   "source": [
    "resale_registration_1.describe()"
   ]
  },
  {
   "cell_type": "code",
   "execution_count": 9,
   "metadata": {},
   "outputs": [
    {
     "name": "stdout",
     "output_type": "stream",
     "text": [
      "Index(['month', 'town', 'flat_type', 'block', 'street_name', 'storey_range',\n",
      "       'floor_area_sqm', 'flat_model', 'lease_commence_date', 'resale_price'],\n",
      "      dtype='object')\n",
      "Index(['month', 'town', 'flat_type', 'block', 'street_name', 'storey_range',\n",
      "       'floor_area_sqm', 'flat_model', 'lease_commence_date',\n",
      "       'remaining_lease', 'resale_price'],\n",
      "      dtype='object')\n",
      "Index(['month', 'town', 'flat_type', 'block', 'street_name', 'storey_range',\n",
      "       'floor_area_sqm', 'flat_model', 'lease_commence_date',\n",
      "       'remaining_lease', 'resale_price'],\n",
      "      dtype='object')\n"
     ]
    }
   ],
   "source": [
    "print(resale_registration_1.columns)\n",
    "print(resale_registration_2.columns)\n",
    "print(resale_registration_3.columns)"
   ]
  },
  {
   "cell_type": "markdown",
   "metadata": {},
   "source": [
    "It seems like the 3 dataset have the same price so we append them and then write to a final csv, for a better representation of the data"
   ]
  },
  {
   "cell_type": "code",
   "execution_count": 10,
   "metadata": {},
   "outputs": [
    {
     "name": "stdout",
     "output_type": "stream",
     "text": [
      "(157517, 11)\n",
      "157517\n"
     ]
    },
    {
     "name": "stderr",
     "output_type": "stream",
     "text": [
      "c:\\users\\ivanl\\appdata\\local\\programs\\python\\python37\\lib\\site-packages\\pandas\\core\\frame.py:7138: FutureWarning: Sorting because non-concatenation axis is not aligned. A future version\n",
      "of pandas will change to not sort by default.\n",
      "\n",
      "To accept the future behavior, pass 'sort=False'.\n",
      "\n",
      "To retain the current behavior and silence the warning, pass 'sort=True'.\n",
      "\n",
      "  sort=sort,\n"
     ]
    }
   ],
   "source": [
    "resale_registration_full = resale_registration_1\n",
    "resale_registration_full = resale_registration_full.append(resale_registration_2)\n",
    "resale_registration_full = resale_registration_full.append(resale_registration_3)\n",
    "print(resale_registration_full.shape)\n",
    "print(resale_registration_1.shape[0]+ resale_registration_2.shape[0] + resale_registration_3.shape[0])"
   ]
  },
  {
   "cell_type": "code",
   "execution_count": 11,
   "metadata": {},
   "outputs": [],
   "source": [
    "## Append works. So we write to a csv\n",
    "resale_registration_full.to_csv(\"data/resale-flat-prices_HDB/resale-on-registration-full.csv\")"
   ]
  },
  {
   "cell_type": "code",
   "execution_count": 12,
   "metadata": {},
   "outputs": [
    {
     "name": "stdout",
     "output_type": "stream",
     "text": [
      "Index(['month', 'town', 'flat_type', 'block', 'street_name', 'storey_range',\n",
      "       'floor_area_sqm', 'flat_model', 'lease_commence_date', 'resale_price'],\n",
      "      dtype='object')\n",
      "Index(['month', 'town', 'flat_type', 'block', 'street_name', 'storey_range',\n",
      "       'floor_area_sqm', 'flat_model', 'lease_commence_date', 'resale_price'],\n",
      "      dtype='object')\n"
     ]
    }
   ],
   "source": [
    "print(resale_approval_1.columns)\n",
    "print(resale_approval_2.columns)"
   ]
  },
  {
   "cell_type": "code",
   "execution_count": 13,
   "metadata": {},
   "outputs": [
    {
     "name": "stdout",
     "output_type": "stream",
     "text": [
      "(656851, 10)\n",
      "656851\n"
     ]
    }
   ],
   "source": [
    "resale_approval_full = resale_approval_1\n",
    "resale_approval_full = resale_approval_full.append(resale_approval_2)\n",
    "print(resale_approval_full.shape)\n",
    "print(resale_approval_1.shape[0] + resale_approval_2.shape[0])\n",
    "resale_approval_full.to_csv(\"data/resale-flat-prices_HDB/resale-on-approval-full.csv\", index=False)"
   ]
  },
  {
   "cell_type": "code",
   "execution_count": 33,
   "metadata": {},
   "outputs": [],
   "source": [
    "resale_approval_full = pd.read_csv(\"data/resale-flat-prices_HDB/resale-on-approval-full.csv\")"
   ]
  },
  {
   "cell_type": "code",
   "execution_count": 34,
   "metadata": {},
   "outputs": [
    {
     "data": {
      "text/html": [
       "<div>\n",
       "<style scoped>\n",
       "    .dataframe tbody tr th:only-of-type {\n",
       "        vertical-align: middle;\n",
       "    }\n",
       "\n",
       "    .dataframe tbody tr th {\n",
       "        vertical-align: top;\n",
       "    }\n",
       "\n",
       "    .dataframe thead th {\n",
       "        text-align: right;\n",
       "    }\n",
       "</style>\n",
       "<table border=\"1\" class=\"dataframe\">\n",
       "  <thead>\n",
       "    <tr style=\"text-align: right;\">\n",
       "      <th></th>\n",
       "      <th>month</th>\n",
       "      <th>town</th>\n",
       "      <th>flat_type</th>\n",
       "      <th>block</th>\n",
       "      <th>street_name</th>\n",
       "      <th>storey_range</th>\n",
       "      <th>floor_area_sqm</th>\n",
       "      <th>flat_model</th>\n",
       "      <th>lease_commence_date</th>\n",
       "      <th>resale_price</th>\n",
       "    </tr>\n",
       "  </thead>\n",
       "  <tbody>\n",
       "    <tr>\n",
       "      <th>656844</th>\n",
       "      <td>2012-02</td>\n",
       "      <td>YISHUN</td>\n",
       "      <td>5 ROOM</td>\n",
       "      <td>161</td>\n",
       "      <td>YISHUN ST 11</td>\n",
       "      <td>10 TO 12</td>\n",
       "      <td>121.0</td>\n",
       "      <td>Improved</td>\n",
       "      <td>1985</td>\n",
       "      <td>465000.0</td>\n",
       "    </tr>\n",
       "    <tr>\n",
       "      <th>656845</th>\n",
       "      <td>2012-02</td>\n",
       "      <td>YISHUN</td>\n",
       "      <td>5 ROOM</td>\n",
       "      <td>161</td>\n",
       "      <td>YISHUN ST 11</td>\n",
       "      <td>04 TO 06</td>\n",
       "      <td>121.0</td>\n",
       "      <td>Improved</td>\n",
       "      <td>1985</td>\n",
       "      <td>503000.0</td>\n",
       "    </tr>\n",
       "    <tr>\n",
       "      <th>656846</th>\n",
       "      <td>2012-02</td>\n",
       "      <td>YISHUN</td>\n",
       "      <td>5 ROOM</td>\n",
       "      <td>212</td>\n",
       "      <td>YISHUN ST 21</td>\n",
       "      <td>10 TO 12</td>\n",
       "      <td>121.0</td>\n",
       "      <td>Improved</td>\n",
       "      <td>1985</td>\n",
       "      <td>476888.0</td>\n",
       "    </tr>\n",
       "    <tr>\n",
       "      <th>656847</th>\n",
       "      <td>2012-02</td>\n",
       "      <td>YISHUN</td>\n",
       "      <td>5 ROOM</td>\n",
       "      <td>758</td>\n",
       "      <td>YISHUN ST 72</td>\n",
       "      <td>01 TO 03</td>\n",
       "      <td>122.0</td>\n",
       "      <td>Improved</td>\n",
       "      <td>1986</td>\n",
       "      <td>490000.0</td>\n",
       "    </tr>\n",
       "    <tr>\n",
       "      <th>656848</th>\n",
       "      <td>2012-02</td>\n",
       "      <td>YISHUN</td>\n",
       "      <td>5 ROOM</td>\n",
       "      <td>873</td>\n",
       "      <td>YISHUN ST 81</td>\n",
       "      <td>01 TO 03</td>\n",
       "      <td>122.0</td>\n",
       "      <td>Improved</td>\n",
       "      <td>1988</td>\n",
       "      <td>488000.0</td>\n",
       "    </tr>\n",
       "    <tr>\n",
       "      <th>656849</th>\n",
       "      <td>2012-02</td>\n",
       "      <td>YISHUN</td>\n",
       "      <td>EXECUTIVE</td>\n",
       "      <td>664</td>\n",
       "      <td>YISHUN AVE 4</td>\n",
       "      <td>07 TO 09</td>\n",
       "      <td>181.0</td>\n",
       "      <td>Apartment</td>\n",
       "      <td>1992</td>\n",
       "      <td>705000.0</td>\n",
       "    </tr>\n",
       "    <tr>\n",
       "      <th>656850</th>\n",
       "      <td>2012-02</td>\n",
       "      <td>YISHUN</td>\n",
       "      <td>EXECUTIVE</td>\n",
       "      <td>293</td>\n",
       "      <td>YISHUN ST 22</td>\n",
       "      <td>04 TO 06</td>\n",
       "      <td>163.0</td>\n",
       "      <td>Apartment</td>\n",
       "      <td>1992</td>\n",
       "      <td>630000.0</td>\n",
       "    </tr>\n",
       "  </tbody>\n",
       "</table>\n",
       "</div>"
      ],
      "text/plain": [
       "          month    town  flat_type block   street_name storey_range  \\\n",
       "656844  2012-02  YISHUN     5 ROOM   161  YISHUN ST 11     10 TO 12   \n",
       "656845  2012-02  YISHUN     5 ROOM   161  YISHUN ST 11     04 TO 06   \n",
       "656846  2012-02  YISHUN     5 ROOM   212  YISHUN ST 21     10 TO 12   \n",
       "656847  2012-02  YISHUN     5 ROOM   758  YISHUN ST 72     01 TO 03   \n",
       "656848  2012-02  YISHUN     5 ROOM   873  YISHUN ST 81     01 TO 03   \n",
       "656849  2012-02  YISHUN  EXECUTIVE   664  YISHUN AVE 4     07 TO 09   \n",
       "656850  2012-02  YISHUN  EXECUTIVE   293  YISHUN ST 22     04 TO 06   \n",
       "\n",
       "        floor_area_sqm flat_model  lease_commence_date  resale_price  \n",
       "656844           121.0   Improved                 1985      465000.0  \n",
       "656845           121.0   Improved                 1985      503000.0  \n",
       "656846           121.0   Improved                 1985      476888.0  \n",
       "656847           122.0   Improved                 1986      490000.0  \n",
       "656848           122.0   Improved                 1988      488000.0  \n",
       "656849           181.0  Apartment                 1992      705000.0  \n",
       "656850           163.0  Apartment                 1992      630000.0  "
      ]
     },
     "execution_count": 34,
     "metadata": {},
     "output_type": "execute_result"
    }
   ],
   "source": [
    "resale_approval_full.tail(7)"
   ]
  },
  {
   "cell_type": "code",
   "execution_count": 18,
   "metadata": {
    "scrolled": true
   },
   "outputs": [
    {
     "data": {
      "text/html": [
       "<div>\n",
       "<style scoped>\n",
       "    .dataframe tbody tr th:only-of-type {\n",
       "        vertical-align: middle;\n",
       "    }\n",
       "\n",
       "    .dataframe tbody tr th {\n",
       "        vertical-align: top;\n",
       "    }\n",
       "\n",
       "    .dataframe thead th {\n",
       "        text-align: right;\n",
       "    }\n",
       "</style>\n",
       "<table border=\"1\" class=\"dataframe\">\n",
       "  <thead>\n",
       "    <tr style=\"text-align: right;\">\n",
       "      <th></th>\n",
       "      <th>block</th>\n",
       "      <th>flat_model</th>\n",
       "      <th>flat_type</th>\n",
       "      <th>floor_area_sqm</th>\n",
       "      <th>lease_commence_date</th>\n",
       "      <th>month</th>\n",
       "      <th>remaining_lease</th>\n",
       "      <th>resale_price</th>\n",
       "      <th>storey_range</th>\n",
       "      <th>street_name</th>\n",
       "      <th>town</th>\n",
       "    </tr>\n",
       "  </thead>\n",
       "  <tbody>\n",
       "    <tr>\n",
       "      <th>0</th>\n",
       "      <td>172</td>\n",
       "      <td>Improved</td>\n",
       "      <td>2 ROOM</td>\n",
       "      <td>45.0</td>\n",
       "      <td>1986</td>\n",
       "      <td>2012-03</td>\n",
       "      <td>NaN</td>\n",
       "      <td>250000.0</td>\n",
       "      <td>06 TO 10</td>\n",
       "      <td>ANG MO KIO AVE 4</td>\n",
       "      <td>ANG MO KIO</td>\n",
       "    </tr>\n",
       "    <tr>\n",
       "      <th>1</th>\n",
       "      <td>510</td>\n",
       "      <td>Improved</td>\n",
       "      <td>2 ROOM</td>\n",
       "      <td>44.0</td>\n",
       "      <td>1980</td>\n",
       "      <td>2012-03</td>\n",
       "      <td>NaN</td>\n",
       "      <td>265000.0</td>\n",
       "      <td>01 TO 05</td>\n",
       "      <td>ANG MO KIO AVE 8</td>\n",
       "      <td>ANG MO KIO</td>\n",
       "    </tr>\n",
       "    <tr>\n",
       "      <th>2</th>\n",
       "      <td>610</td>\n",
       "      <td>New Generation</td>\n",
       "      <td>3 ROOM</td>\n",
       "      <td>68.0</td>\n",
       "      <td>1980</td>\n",
       "      <td>2012-03</td>\n",
       "      <td>NaN</td>\n",
       "      <td>315000.0</td>\n",
       "      <td>06 TO 10</td>\n",
       "      <td>ANG MO KIO AVE 4</td>\n",
       "      <td>ANG MO KIO</td>\n",
       "    </tr>\n",
       "    <tr>\n",
       "      <th>3</th>\n",
       "      <td>474</td>\n",
       "      <td>New Generation</td>\n",
       "      <td>3 ROOM</td>\n",
       "      <td>67.0</td>\n",
       "      <td>1984</td>\n",
       "      <td>2012-03</td>\n",
       "      <td>NaN</td>\n",
       "      <td>320000.0</td>\n",
       "      <td>01 TO 05</td>\n",
       "      <td>ANG MO KIO AVE 10</td>\n",
       "      <td>ANG MO KIO</td>\n",
       "    </tr>\n",
       "    <tr>\n",
       "      <th>4</th>\n",
       "      <td>604</td>\n",
       "      <td>New Generation</td>\n",
       "      <td>3 ROOM</td>\n",
       "      <td>67.0</td>\n",
       "      <td>1980</td>\n",
       "      <td>2012-03</td>\n",
       "      <td>NaN</td>\n",
       "      <td>321000.0</td>\n",
       "      <td>06 TO 10</td>\n",
       "      <td>ANG MO KIO AVE 5</td>\n",
       "      <td>ANG MO KIO</td>\n",
       "    </tr>\n",
       "    <tr>\n",
       "      <th>5</th>\n",
       "      <td>154</td>\n",
       "      <td>New Generation</td>\n",
       "      <td>3 ROOM</td>\n",
       "      <td>68.0</td>\n",
       "      <td>1981</td>\n",
       "      <td>2012-03</td>\n",
       "      <td>NaN</td>\n",
       "      <td>321000.0</td>\n",
       "      <td>01 TO 05</td>\n",
       "      <td>ANG MO KIO AVE 5</td>\n",
       "      <td>ANG MO KIO</td>\n",
       "    </tr>\n",
       "    <tr>\n",
       "      <th>6</th>\n",
       "      <td>110</td>\n",
       "      <td>New Generation</td>\n",
       "      <td>3 ROOM</td>\n",
       "      <td>67.0</td>\n",
       "      <td>1978</td>\n",
       "      <td>2012-03</td>\n",
       "      <td>NaN</td>\n",
       "      <td>323000.0</td>\n",
       "      <td>01 TO 05</td>\n",
       "      <td>ANG MO KIO AVE 4</td>\n",
       "      <td>ANG MO KIO</td>\n",
       "    </tr>\n",
       "  </tbody>\n",
       "</table>\n",
       "</div>"
      ],
      "text/plain": [
       "  block      flat_model flat_type  floor_area_sqm  lease_commence_date  \\\n",
       "0   172        Improved    2 ROOM            45.0                 1986   \n",
       "1   510        Improved    2 ROOM            44.0                 1980   \n",
       "2   610  New Generation    3 ROOM            68.0                 1980   \n",
       "3   474  New Generation    3 ROOM            67.0                 1984   \n",
       "4   604  New Generation    3 ROOM            67.0                 1980   \n",
       "5   154  New Generation    3 ROOM            68.0                 1981   \n",
       "6   110  New Generation    3 ROOM            67.0                 1978   \n",
       "\n",
       "     month remaining_lease  resale_price storey_range        street_name  \\\n",
       "0  2012-03             NaN      250000.0     06 TO 10   ANG MO KIO AVE 4   \n",
       "1  2012-03             NaN      265000.0     01 TO 05   ANG MO KIO AVE 8   \n",
       "2  2012-03             NaN      315000.0     06 TO 10   ANG MO KIO AVE 4   \n",
       "3  2012-03             NaN      320000.0     01 TO 05  ANG MO KIO AVE 10   \n",
       "4  2012-03             NaN      321000.0     06 TO 10   ANG MO KIO AVE 5   \n",
       "5  2012-03             NaN      321000.0     01 TO 05   ANG MO KIO AVE 5   \n",
       "6  2012-03             NaN      323000.0     01 TO 05   ANG MO KIO AVE 4   \n",
       "\n",
       "         town  \n",
       "0  ANG MO KIO  \n",
       "1  ANG MO KIO  \n",
       "2  ANG MO KIO  \n",
       "3  ANG MO KIO  \n",
       "4  ANG MO KIO  \n",
       "5  ANG MO KIO  \n",
       "6  ANG MO KIO  "
      ]
     },
     "execution_count": 18,
     "metadata": {},
     "output_type": "execute_result"
    }
   ],
   "source": [
    "resale_registration_full = pd.read_csv(\"data/resale-flat-prices_HDB/resale-on-registration-full.csv\", index_col=0)\n",
    "resale_registration_full.head(7)"
   ]
  },
  {
   "cell_type": "code",
   "execution_count": 19,
   "metadata": {},
   "outputs": [],
   "source": [
    "## Import necessary ML functions/modules\n",
    "from sklearn.preprocessing import MultiLabelBinarizer, LabelEncoder, LabelBinarizer"
   ]
  },
  {
   "cell_type": "code",
   "execution_count": 23,
   "metadata": {},
   "outputs": [],
   "source": [
    "## A function that would be flexible enough to transform categorical datasets.\n",
    "## Note: Some preprocessing probably needs to be done, to convert some string variables to float\n",
    "\n",
    "def process_data(df: pd.DataFrame, lb_cols: list=[], le_cols:list =[]) -> pd.DataFrame:\n",
    "    ''' Args\n",
    "    df - the data frame to process. Should be a pd.DataFrame\n",
    "    lb_cols - columns to apply label binarizing to. Uses sklearn's LabelBinarizer. \n",
    "    le_cols - columns to apply label encoding to. Uses sklearn's LabelEncoder. \n",
    "    \n",
    "    Note: le_cols is good for ordinal data while lb_cols is used similar to one-hot\n",
    "    '''\n",
    "    final_df = df.copy()\n",
    "    lb = LabelBinarizer()\n",
    "    for lb_col in lb_cols:\n",
    "        lb.fit(df[lb_col])\n",
    "        to_merge_df = pd.DataFrame(lb.transform(df[lb_col]), columns=lb.classes_)\n",
    "        final_df = pd.merge(final_df, to_merge_df, left_index=True, right_index=True)\n",
    "    \n",
    "    final_df= final_df.drop(lb_cols, axis=1)\n",
    "    \n",
    "    le = LabelEncoder()\n",
    "    for le_col in le_cols:\n",
    "        le.fit(df[lb_col])\n",
    "        final_df[le_col] = le.fit_transform(final_df[le_col])\n",
    "        \n",
    "    return final_df\n"
   ]
  },
  {
   "cell_type": "code",
   "execution_count": 53,
   "metadata": {
    "scrolled": true
   },
   "outputs": [
    {
     "name": "stderr",
     "output_type": "stream",
     "text": [
      "c:\\users\\ivanl\\appdata\\local\\programs\\python\\python37\\lib\\site-packages\\IPython\\core\\interactiveshell.py:3051: DtypeWarning: Columns (7) have mixed types. Specify dtype option on import or set low_memory=False.\n",
      "  interactivity=interactivity, compiler=compiler, result=result)\n"
     ]
    }
   ],
   "source": [
    "## Analysis using resale_registration_full\n",
    "## 1. Process data\n",
    "resale_registration_full = pd.read_csv(\"data/resale-flat-prices_HDB/resale-on-registration-full.csv\", index_col=0)\n",
    "resale_registration_full = resale_registration_full.fillna(0)\n",
    "\n",
    "def convert_remaining_lease(s):\n",
    "    if s == 0:\n",
    "        return 0\n",
    "    elif type(s) == float:\n",
    "        return s\n",
    "    elif type(s) == str:\n",
    "        list_s = s.split(' ')\n",
    "        if len(list_s) == 2:  ## X years\n",
    "            return int(list_s[0])\n",
    "        elif len(list_s) == 4:  ## X years Y months\n",
    "            return(int(list_s[0]) + float(list_s[2]))\n",
    "        elif len(list_s) == 1:  ## 78\n",
    "            return(float(s))\n",
    "    elif type(s == int):\n",
    "        return float(s)\n",
    "    raise Exception(f\"Weird remaining_lease format: {s}, type: {type(s)}\")\n",
    "            \n",
    "def to_lower_alpha(s:str):\n",
    "    return(s.lower())\n",
    "\n",
    "def months_since2012(s:str):\n",
    "    ## months are in this format: YYYY-MM\n",
    "    YYMM =s.split('-')\n",
    "    return (12 * (int(YYMM[0]) - 2012) + (int(YYMM[1]))) \n",
    "        \n",
    "resale_registration_full['flat_model'] = resale_registration_full['flat_model'].apply(to_lower_alpha)\n",
    "resale_registration_full['remaining_lease'] = resale_registration_full['remaining_lease'].apply(convert_remaining_lease)\n",
    "resale_registration_full['month'] = resale_registration_full['month'].apply(months_since2012)\n",
    "\n",
    "lb_cols = [\"flat_model\", \"flat_type\", \"town\", \"street_name\"]\n",
    "le_cols = [\"storey_range\"]\n",
    "resale_registration_full = process_data(resale_registration_full, lb_cols, le_cols)\n",
    "\n",
    "assert resale_registration_full.shape == (157517, 606)\n",
    "\n",
    "# resale_registration_fullX = resale_registration_full.reset_index(drop=True)\n",
    "X = resale_registration_full.drop(['resale_price','block'], axis=1)\n",
    "y = resale_registration_full['resale_price']"
   ]
  },
  {
   "cell_type": "code",
   "execution_count": 54,
   "metadata": {},
   "outputs": [
    {
     "data": {
      "text/html": [
       "<div>\n",
       "<style scoped>\n",
       "    .dataframe tbody tr th:only-of-type {\n",
       "        vertical-align: middle;\n",
       "    }\n",
       "\n",
       "    .dataframe tbody tr th {\n",
       "        vertical-align: top;\n",
       "    }\n",
       "\n",
       "    .dataframe thead th {\n",
       "        text-align: right;\n",
       "    }\n",
       "</style>\n",
       "<table border=\"1\" class=\"dataframe\">\n",
       "  <thead>\n",
       "    <tr style=\"text-align: right;\">\n",
       "      <th></th>\n",
       "      <th>floor_area_sqm</th>\n",
       "      <th>lease_commence_date</th>\n",
       "      <th>month</th>\n",
       "      <th>remaining_lease</th>\n",
       "      <th>storey_range</th>\n",
       "      <th>2-room</th>\n",
       "      <th>adjoined flat</th>\n",
       "      <th>apartment</th>\n",
       "      <th>dbss</th>\n",
       "      <th>improved</th>\n",
       "      <th>...</th>\n",
       "      <th>YISHUN ST 72</th>\n",
       "      <th>YISHUN ST 81</th>\n",
       "      <th>YUAN CHING RD</th>\n",
       "      <th>YUNG AN RD</th>\n",
       "      <th>YUNG HO RD</th>\n",
       "      <th>YUNG KUANG RD</th>\n",
       "      <th>YUNG LOH RD</th>\n",
       "      <th>YUNG PING RD</th>\n",
       "      <th>YUNG SHENG RD</th>\n",
       "      <th>ZION RD</th>\n",
       "    </tr>\n",
       "  </thead>\n",
       "  <tbody>\n",
       "    <tr>\n",
       "      <th>68156</th>\n",
       "      <td>146.0</td>\n",
       "      <td>1988</td>\n",
       "      <td>98</td>\n",
       "      <td>76.0</td>\n",
       "      <td>0</td>\n",
       "      <td>0</td>\n",
       "      <td>0</td>\n",
       "      <td>0</td>\n",
       "      <td>0</td>\n",
       "      <td>0</td>\n",
       "      <td>...</td>\n",
       "      <td>0</td>\n",
       "      <td>0</td>\n",
       "      <td>0</td>\n",
       "      <td>0</td>\n",
       "      <td>0</td>\n",
       "      <td>0</td>\n",
       "      <td>0</td>\n",
       "      <td>0</td>\n",
       "      <td>0</td>\n",
       "      <td>0</td>\n",
       "    </tr>\n",
       "    <tr>\n",
       "      <th>68157</th>\n",
       "      <td>147.0</td>\n",
       "      <td>1987</td>\n",
       "      <td>98</td>\n",
       "      <td>72.0</td>\n",
       "      <td>5</td>\n",
       "      <td>0</td>\n",
       "      <td>0</td>\n",
       "      <td>0</td>\n",
       "      <td>0</td>\n",
       "      <td>0</td>\n",
       "      <td>...</td>\n",
       "      <td>0</td>\n",
       "      <td>0</td>\n",
       "      <td>0</td>\n",
       "      <td>0</td>\n",
       "      <td>0</td>\n",
       "      <td>0</td>\n",
       "      <td>0</td>\n",
       "      <td>0</td>\n",
       "      <td>0</td>\n",
       "      <td>0</td>\n",
       "    </tr>\n",
       "    <tr>\n",
       "      <th>68158</th>\n",
       "      <td>164.0</td>\n",
       "      <td>1992</td>\n",
       "      <td>98</td>\n",
       "      <td>75.0</td>\n",
       "      <td>0</td>\n",
       "      <td>0</td>\n",
       "      <td>0</td>\n",
       "      <td>0</td>\n",
       "      <td>0</td>\n",
       "      <td>0</td>\n",
       "      <td>...</td>\n",
       "      <td>0</td>\n",
       "      <td>0</td>\n",
       "      <td>0</td>\n",
       "      <td>0</td>\n",
       "      <td>0</td>\n",
       "      <td>0</td>\n",
       "      <td>0</td>\n",
       "      <td>0</td>\n",
       "      <td>0</td>\n",
       "      <td>0</td>\n",
       "    </tr>\n",
       "    <tr>\n",
       "      <th>68159</th>\n",
       "      <td>142.0</td>\n",
       "      <td>1987</td>\n",
       "      <td>98</td>\n",
       "      <td>75.0</td>\n",
       "      <td>0</td>\n",
       "      <td>0</td>\n",
       "      <td>0</td>\n",
       "      <td>0</td>\n",
       "      <td>0</td>\n",
       "      <td>0</td>\n",
       "      <td>...</td>\n",
       "      <td>0</td>\n",
       "      <td>0</td>\n",
       "      <td>0</td>\n",
       "      <td>0</td>\n",
       "      <td>0</td>\n",
       "      <td>0</td>\n",
       "      <td>0</td>\n",
       "      <td>0</td>\n",
       "      <td>0</td>\n",
       "      <td>0</td>\n",
       "    </tr>\n",
       "    <tr>\n",
       "      <th>68160</th>\n",
       "      <td>145.0</td>\n",
       "      <td>1987</td>\n",
       "      <td>98</td>\n",
       "      <td>74.0</td>\n",
       "      <td>0</td>\n",
       "      <td>0</td>\n",
       "      <td>0</td>\n",
       "      <td>0</td>\n",
       "      <td>0</td>\n",
       "      <td>0</td>\n",
       "      <td>...</td>\n",
       "      <td>0</td>\n",
       "      <td>0</td>\n",
       "      <td>0</td>\n",
       "      <td>0</td>\n",
       "      <td>0</td>\n",
       "      <td>0</td>\n",
       "      <td>0</td>\n",
       "      <td>0</td>\n",
       "      <td>0</td>\n",
       "      <td>0</td>\n",
       "    </tr>\n",
       "  </tbody>\n",
       "</table>\n",
       "<p>5 rows × 604 columns</p>\n",
       "</div>"
      ],
      "text/plain": [
       "       floor_area_sqm  lease_commence_date  month  remaining_lease  \\\n",
       "68156           146.0                 1988     98             76.0   \n",
       "68157           147.0                 1987     98             72.0   \n",
       "68158           164.0                 1992     98             75.0   \n",
       "68159           142.0                 1987     98             75.0   \n",
       "68160           145.0                 1987     98             74.0   \n",
       "\n",
       "       storey_range  2-room  adjoined flat  apartment  dbss  improved  ...  \\\n",
       "68156             0       0              0          0     0         0  ...   \n",
       "68157             5       0              0          0     0         0  ...   \n",
       "68158             0       0              0          0     0         0  ...   \n",
       "68159             0       0              0          0     0         0  ...   \n",
       "68160             0       0              0          0     0         0  ...   \n",
       "\n",
       "       YISHUN ST 72  YISHUN ST 81  YUAN CHING RD  YUNG AN RD  YUNG HO RD  \\\n",
       "68156             0             0              0           0           0   \n",
       "68157             0             0              0           0           0   \n",
       "68158             0             0              0           0           0   \n",
       "68159             0             0              0           0           0   \n",
       "68160             0             0              0           0           0   \n",
       "\n",
       "       YUNG KUANG RD  YUNG LOH RD  YUNG PING RD  YUNG SHENG RD  ZION RD  \n",
       "68156              0            0             0              0        0  \n",
       "68157              0            0             0              0        0  \n",
       "68158              0            0             0              0        0  \n",
       "68159              0            0             0              0        0  \n",
       "68160              0            0             0              0        0  \n",
       "\n",
       "[5 rows x 604 columns]"
      ]
     },
     "execution_count": 54,
     "metadata": {},
     "output_type": "execute_result"
    }
   ],
   "source": [
    "X.tail()"
   ]
  },
  {
   "cell_type": "code",
   "execution_count": 50,
   "metadata": {},
   "outputs": [
    {
     "name": "stdout",
     "output_type": "stream",
     "text": [
      "(124160, 604)\n",
      "(124160,)\n",
      "(33357, 604)\n",
      "(33357,)\n"
     ]
    }
   ],
   "source": [
    "## Split into train and test\n",
    "def split_df(X, y):\n",
    "    X_train = X[X['month'] <= 80]\n",
    "    X_test = X[X['month'] > 80]\n",
    "    y_train = y.iloc[:X_train.shape[0]]\n",
    "    y_test = y.iloc[X_train.shape[0]:]\n",
    "    X_train = X_train.reset_index(drop=True)\n",
    "    \n",
    "    return X_train, X_test, y_train, y_test\n",
    "\n",
    "# X_train, X_test, y_train, y_test = split_df(X, y)"
   ]
  },
  {
   "cell_type": "code",
   "execution_count": 38,
   "metadata": {},
   "outputs": [
    {
     "data": {
      "text/plain": [
       "Index(['month', 'town', 'flat_type', 'street_name', 'storey_range',\n",
       "       'floor_area_sqm', 'flat_model', 'resale_price', 'lease_remaining'],\n",
       "      dtype='object')"
      ]
     },
     "execution_count": 38,
     "metadata": {},
     "output_type": "execute_result"
    }
   ],
   "source": [
    "def commence_date_to_remaining(year: int):\n",
    "    import datetime\n",
    "    return 99 - (datetime.datetime.now().year - year)\n",
    "\n",
    "## using process_data() on resale_approval_full\n",
    "resale_approval_full = pd.read_csv(\"data/resale-flat-prices_HDB/resale-on-approval-full.csv\")\n",
    "resale_approval_full['month'] = resale_approval_full['month'].apply(months_since2012)\n",
    "resale_approval_full['lease_remaining'] = resale_approval_full['lease_commence_date'].apply(commence_date_to_remaining)\n",
    "resale_approval_full = resale_approval_full.drop([\"block\", \"lease_commence_date\"], axis=1)\n",
    "\n",
    "lb_cols = [\"flat_model\", \"street_name\", \"town\"]\n",
    "le_cols = [\"flat_type\", \"storey_range\"]\n",
    "X_approval = process_data(resale_approval_full, lb_cols= lb_cols, le_cols=le_cols)\n",
    "resale_approval_full.columns"
   ]
  },
  {
   "cell_type": "code",
   "execution_count": 39,
   "metadata": {},
   "outputs": [
    {
     "data": {
      "text/plain": [
       "(656851, 596)"
      ]
     },
     "execution_count": 39,
     "metadata": {},
     "output_type": "execute_result"
    }
   ],
   "source": [
    "X_approval.shape"
   ]
  },
  {
   "cell_type": "markdown",
   "metadata": {},
   "source": [
    "### ML Techniques"
   ]
  },
  {
   "cell_type": "code",
   "execution_count": 59,
   "metadata": {},
   "outputs": [],
   "source": [
    "## functions to fit ML_models\n",
    "from sklearn.ensemble import RandomForestRegressor\n",
    "from sklearn.linear_model import Lasso, BayesianRidge\n",
    "from sklearn.model_selection import GridSearchCV\n",
    "from sklearn.metrics import mean_squared_error, explained_variance_score, r2_score, mean_absolute_error\n",
    "\n",
    "class ML_Model:\n",
    "    def __init__(self,model, X, y, split_fn):\n",
    "        ''' Args\n",
    "        model - the machine learning model from sklearn to fit. \n",
    "                u can use a custom class but make sure if has the methods similar to sklearn\n",
    "        df - the full dataset\n",
    "        split_fn - the function used to split the df into X_train, X_test, y_train, y_test. \n",
    "                   Should be called as such: split_fn(X, y)\n",
    "        '''\n",
    "        \n",
    "        self.model = model\n",
    "        self.X_train, self.X_test, self.y_train, self.y_test =  split_fn(X,y)\n",
    "        self.metrics = {}\n",
    "    \n",
    "    def fit(self):\n",
    "        self.model.fit(self.X_train, y_train)\n",
    "        \n",
    "    def predict(self,):\n",
    "        self.preds = self.model.predict(self.X_test)\n",
    "        \n",
    "        print(\"Adding some metrics: mse, R_squared, Explained variance\")\n",
    "        self.metrics[\"MSE\"] =  mean_squared_error(self.y_test, self.preds)\n",
    "        self.metrics[\"Explained Variance\"] = explained_variance_score(self.y_test, self.preds)\n",
    "        self.metrics[\"R^2\"] = r2_score(self.y_test, self.preds)\n",
    "        self.metrics[\"MAE\"] = mean_absolute_error(self.y_test, self.preds)\n",
    "        \n",
    "    def rolling_predict(self, rolling_month):\n",
    "        roll_df = pd.concat([X,y], axis=1)\n",
    "        max_month = np.amax(roll_df['month'])\n",
    "        temp_mth = 0\n",
    "        \n",
    "        MSEs = []\n",
    "        ExplainVars = []\n",
    "        R_squareds = []\n",
    "        predicted_vals =[]\n",
    "        \n",
    "        while temp_mth < (max_month-rolling_month):\n",
    "            X_train = roll_df[(roll_df['month'] > temp_mth) & (roll_df['month'] <= temp_mth+rolling_month)].drop('resale_price',axis=1)\n",
    "            X_test = roll_df[(roll_df['month'] > temp_mth+rolling_month) & (roll_df['month'] <= temp_mth+2*rolling_month)].drop('resale_price', axis=1)\n",
    "            y_train = roll_df[(roll_df['month'] > temp_mth) & (roll_df['month'] <= temp_mth+rolling_month)]['resale_price']\n",
    "            y_test = roll_df[(roll_df['month'] > temp_mth+rolling_month) & (roll_df['month'] <= temp_mth+2*rolling_month)]['resale_price']\n",
    "            \n",
    "            self.model.fit(X_train,y_train)\n",
    "            predicted_vals.append(self.model.predict(X_test))\n",
    "            \n",
    "            MSEs.append(mean_squared_error(predicted_vals[-1], y_test))\n",
    "            ExplainVars.append(explained_variance_score(predicted_vals[-1], y_test))\n",
    "            R_squareds.append(r2_score(predicted_vals[-1], y_test))\n",
    "        \n",
    "        print(\"Adding some metrics: mse, R_squared, Explained variance\")\n",
    "        self.metrics[\"(Rolling mean) mse\"] = np.mean(MSEs)\n",
    "        self.metrics[\"(Rolling mean) R^2\"] = np.mean(ExplainVars)\n",
    "        self.metrics[\"(Rolling mean) Explained Variance\"] = np.mean(R_squareds)\n",
    "        \n",
    "        self.rolling_predicted =  predicted_vals\n",
    "        \n",
    "    def add_metric(self, name, fn):\n",
    "        '''\n",
    "        Adds a metric not already defined. Metric should take in self.preds and self.y_test\n",
    "        '''\n",
    "        self.metrics[name] = fn(self.preds, self.y_test)\n",
    "        \n",
    "    def get_metrics(self,):\n",
    "        print(self.metrics)\n",
    "        "
   ]
  },
  {
   "cell_type": "code",
   "execution_count": 60,
   "metadata": {},
   "outputs": [
    {
     "name": "stderr",
     "output_type": "stream",
     "text": [
      "c:\\users\\ivanl\\appdata\\local\\programs\\python\\python37\\lib\\site-packages\\sklearn\\linear_model\\_coordinate_descent.py:476: ConvergenceWarning: Objective did not converge. You might want to increase the number of iterations. Duality gap: 44690658377430.25, tolerance: 237513141318.42807\n",
      "  positive)\n"
     ]
    },
    {
     "name": "stdout",
     "output_type": "stream",
     "text": [
      "Adding some metrics: mse, R_squared, Explained variance\n",
      "{'MSE': 20094647916.15412, 'Explained Variance': 0.05792120689732261, 'R^2': 0.05705361836435108, 'MAE': 104636.60118171675}\n"
     ]
    }
   ],
   "source": [
    "## ML techniques - Lasso\n",
    "lasso = Lasso()\n",
    "lasso_model = ML_Model(lasso, X, y, split_df)\n",
    "lasso_model.fit()\n",
    "lasso_model.predict()\n",
    "lasso_model.get_metrics()\n",
    "# lasso.fit(X_train,y_train)\n",
    "# print(lasso.score(X_train, y_train))"
   ]
  },
  {
   "cell_type": "code",
   "execution_count": 62,
   "metadata": {},
   "outputs": [
    {
     "name": "stdout",
     "output_type": "stream",
     "text": [
      "Adding some metrics: mse, R_squared, Explained variance\n",
      "{'MSE': 19813117567.9257, 'Explained Variance': 0.07078195564484402, 'R^2': 0.07026450040071675, 'MAE': 103872.2911893091}\n"
     ]
    }
   ],
   "source": [
    "## ML techniques - Bayesian Ridge\n",
    "br = BayesianRidge()\n",
    "br_model = ML_Model(br, X, y, split_df)\n",
    "br_model.fit()\n",
    "br_model.predict()\n",
    "br_model.get_metrics()"
   ]
  },
  {
   "cell_type": "markdown",
   "metadata": {},
   "source": [
    "RFC - it takes really long to run this so I haven't"
   ]
  },
  {
   "cell_type": "code",
   "execution_count": null,
   "metadata": {},
   "outputs": [],
   "source": [
    "rfr = RandomForestRegressor(n_estimators=1000)\n",
    "rfr.fit(X_train,y_train)\n",
    "print(rfr.score(X_train, y_train))"
   ]
  },
  {
   "cell_type": "markdown",
   "metadata": {},
   "source": [
    "Evaluation on ML techniques"
   ]
  },
  {
   "cell_type": "code",
   "execution_count": 99,
   "metadata": {},
   "outputs": [],
   "source": [
    "## remember to define y_test proper outside of this function.\n",
    "def predict_skmodel(model, X_test, reg_metrics=True):\n",
    "    model_pred = model.predict(X_test)\n",
    "    \n",
    "    if reg_metrics==True:\n",
    "        print(\"MSE: \", mean_squared_error(y_test, model_pred))\n",
    "        print(\"Explained Variance: \", explained_variance_score(y_test, model_pred))\n",
    "        print(\"R^2: \", r2_score(y_test, model_pred))\n",
    "    return model_pred"
   ]
  },
  {
   "cell_type": "code",
   "execution_count": 19,
   "metadata": {},
   "outputs": [
    {
     "name": "stdout",
     "output_type": "stream",
     "text": [
      "MSE:  10534264748.76083\n",
      "Explained Variance:  0.5506637872424395\n",
      "R^2:  0.5503634359507997\n",
      "MSE:  10507497461.074848\n",
      "Explained Variance:  0.5517463080373274\n",
      "R^2:  0.5515059505496906\n"
     ]
    }
   ],
   "source": [
    "lasso_pred = predict_skmodel(lasso, X_test)\n",
    "br_pred = predict_skmodel(br, X_test)"
   ]
  },
  {
   "cell_type": "code",
   "execution_count": 52,
   "metadata": {},
   "outputs": [
    {
     "name": "stdout",
     "output_type": "stream",
     "text": [
      "(20010, 604)\n",
      "(20010,)\n",
      "(16097, 604)\n",
      "(16097,)\n"
     ]
    },
    {
     "name": "stderr",
     "output_type": "stream",
     "text": [
      "c:\\users\\ivanl\\appdata\\local\\programs\\python\\python37\\lib\\site-packages\\sklearn\\linear_model\\_coordinate_descent.py:476: ConvergenceWarning: Objective did not converge. You might want to increase the number of iterations. Duality gap: 2877960770083.365, tolerance: 27287742860.431416\n",
      "  positive)\n"
     ]
    },
    {
     "name": "stdout",
     "output_type": "stream",
     "text": [
      "Fitted Months MSE (0 - 12):  0.9410733217483918\n",
      "Fitted Months MSE (0 - 12):  0.9410643134999226\n",
      "LASSO EVAL\n",
      "MSE:  1733970293.6365995\n",
      "Explained Variance:  0.9205413632764987\n",
      "R^2:  0.8920958998226598\n",
      "BAYESIAN RIDGE EVAL\n",
      "MSE:  1732160829.0426838\n",
      "Explained Variance:  0.9206520310623119\n",
      "R^2:  0.8922085018952131\n",
      "\n",
      "\n",
      "(16097, 604)\n",
      "(16097,)\n",
      "(16096, 604)\n",
      "(16096,)\n"
     ]
    },
    {
     "name": "stderr",
     "output_type": "stream",
     "text": [
      "c:\\users\\ivanl\\appdata\\local\\programs\\python\\python37\\lib\\site-packages\\sklearn\\linear_model\\_coordinate_descent.py:476: ConvergenceWarning: Objective did not converge. You might want to increase the number of iterations. Duality gap: 1778761354724.2354, tolerance: 25867154047.710392\n",
      "  positive)\n"
     ]
    },
    {
     "name": "stdout",
     "output_type": "stream",
     "text": [
      "Fitted Months MSE (12 - 24):  0.9437414581108698\n",
      "Fitted Months MSE (12 - 24):  0.9436819052823179\n",
      "LASSO EVAL\n",
      "MSE:  1351932907.6181686\n",
      "Explained Variance:  0.920355792930838\n",
      "R^2:  0.9104909580340015\n",
      "BAYESIAN RIDGE EVAL\n",
      "MSE:  1343974175.7938077\n",
      "Explained Variance:  0.9211422796469688\n",
      "R^2:  0.9110178913284339\n",
      "\n",
      "\n",
      "(16096, 604)\n",
      "(16096,)\n",
      "(17780, 604)\n",
      "(17780,)\n"
     ]
    },
    {
     "name": "stderr",
     "output_type": "stream",
     "text": [
      "c:\\users\\ivanl\\appdata\\local\\programs\\python\\python37\\lib\\site-packages\\sklearn\\linear_model\\_coordinate_descent.py:476: ConvergenceWarning: Objective did not converge. You might want to increase the number of iterations. Duality gap: 2785527995103.212, tolerance: 24311188683.36028\n",
      "  positive)\n"
     ]
    },
    {
     "name": "stdout",
     "output_type": "stream",
     "text": [
      "Fitted Months MSE (24 - 36):  0.9354054114328033\n",
      "Fitted Months MSE (24 - 36):  0.9353413233991351\n",
      "LASSO EVAL\n",
      "MSE:  1617284873.4610925\n",
      "Explained Variance:  0.916209256051058\n",
      "R^2:  0.9077969852626792\n",
      "BAYESIAN RIDGE EVAL\n",
      "MSE:  1561436175.4074688\n",
      "Explained Variance:  0.9191509447461648\n",
      "R^2:  0.9109809749321542\n",
      "\n",
      "\n",
      "(17780, 604)\n",
      "(17780,)\n",
      "(19373, 604)\n",
      "(19373,)\n"
     ]
    },
    {
     "name": "stderr",
     "output_type": "stream",
     "text": [
      "c:\\users\\ivanl\\appdata\\local\\programs\\python\\python37\\lib\\site-packages\\sklearn\\linear_model\\_coordinate_descent.py:476: ConvergenceWarning: Objective did not converge. You might want to increase the number of iterations. Duality gap: 10179911803611.424, tolerance: 31186968378.485107\n",
      "  positive)\n"
     ]
    },
    {
     "name": "stdout",
     "output_type": "stream",
     "text": [
      "Fitted Months MSE (36 - 48):  0.9357891075411521\n",
      "Fitted Months MSE (36 - 48):  0.9357325010606902\n",
      "LASSO EVAL\n",
      "MSE:  1374887853.5500004\n",
      "Explained Variance:  0.9287602985183755\n",
      "R^2:  0.9286227677589972\n",
      "BAYESIAN RIDGE EVAL\n",
      "MSE:  1376318485.8313594\n",
      "Explained Variance:  0.9286972561463636\n",
      "R^2:  0.928548496557652\n",
      "\n",
      "\n",
      "(19373, 604)\n",
      "(19373,)\n",
      "(20509, 604)\n",
      "(20509,)\n"
     ]
    },
    {
     "name": "stderr",
     "output_type": "stream",
     "text": [
      "c:\\users\\ivanl\\appdata\\local\\programs\\python\\python37\\lib\\site-packages\\sklearn\\linear_model\\_coordinate_descent.py:476: ConvergenceWarning: Objective did not converge. You might want to increase the number of iterations. Duality gap: 11937964949514.176, tolerance: 37316804743.688576\n",
      "  positive)\n"
     ]
    },
    {
     "name": "stdout",
     "output_type": "stream",
     "text": [
      "Fitted Months MSE (48 - 60):  0.9373478992066453\n",
      "Fitted Months MSE (48 - 60):  0.9373189078476121\n",
      "LASSO EVAL\n",
      "MSE:  1865604131.389595\n",
      "Explained Variance:  0.925677439115153\n",
      "R^2:  0.9161305222924156\n",
      "BAYESIAN RIDGE EVAL\n",
      "MSE:  2083326849.5047\n",
      "Explained Variance:  0.9234634368630544\n",
      "R^2:  0.9063426523224942\n",
      "\n",
      "\n",
      "(20509, 604)\n",
      "(20509,)\n",
      "(21875, 604)\n",
      "(21875,)\n"
     ]
    },
    {
     "name": "stderr",
     "output_type": "stream",
     "text": [
      "c:\\users\\ivanl\\appdata\\local\\programs\\python\\python37\\lib\\site-packages\\sklearn\\linear_model\\_coordinate_descent.py:476: ConvergenceWarning: Objective did not converge. You might want to increase the number of iterations. Duality gap: 6109624874799.014, tolerance: 45620500063.289604\n",
      "  positive)\n"
     ]
    },
    {
     "name": "stdout",
     "output_type": "stream",
     "text": [
      "Fitted Months MSE (60 - 72):  0.9375180912796819\n",
      "Fitted Months MSE (60 - 72):  0.9374658622732422\n",
      "LASSO EVAL\n",
      "MSE:  1824378142.2562718\n",
      "Explained Variance:  0.926112121388409\n",
      "R^2:  0.9260708094717482\n",
      "BAYESIAN RIDGE EVAL\n",
      "MSE:  1819384594.4116797\n",
      "Explained Variance:  0.926317868227063\n",
      "R^2:  0.9262731627785897\n",
      "\n",
      "\n",
      "(21875, 604)\n",
      "(21875,)\n",
      "(22194, 604)\n",
      "(22194,)\n"
     ]
    },
    {
     "name": "stderr",
     "output_type": "stream",
     "text": [
      "c:\\users\\ivanl\\appdata\\local\\programs\\python\\python37\\lib\\site-packages\\sklearn\\linear_model\\_coordinate_descent.py:476: ConvergenceWarning: Objective did not converge. You might want to increase the number of iterations. Duality gap: 7763358439058.207, tolerance: 53981751425.51462\n",
      "  positive)\n"
     ]
    },
    {
     "name": "stdout",
     "output_type": "stream",
     "text": [
      "Fitted Months MSE (72 - 84):  0.9358185693920468\n",
      "Fitted Months MSE (72 - 84):  0.9357817563082795\n",
      "LASSO EVAL\n",
      "MSE:  1862761560.1237767\n",
      "Explained Variance:  0.9214614446103765\n",
      "R^2:  0.9214292379727158\n",
      "BAYESIAN RIDGE EVAL\n",
      "MSE:  1822852945.5129902\n",
      "Explained Variance:  0.9231720840290905\n",
      "R^2:  0.9231125721838933\n",
      "\n",
      "\n",
      "(22194, 604)\n",
      "(22194,)\n",
      "(3583, 604)\n",
      "(3583,)\n"
     ]
    },
    {
     "name": "stderr",
     "output_type": "stream",
     "text": [
      "c:\\users\\ivanl\\appdata\\local\\programs\\python\\python37\\lib\\site-packages\\sklearn\\linear_model\\_coordinate_descent.py:476: ConvergenceWarning: Objective did not converge. You might want to increase the number of iterations. Duality gap: 7043746206317.061, tolerance: 52617702818.041664\n",
      "  positive)\n"
     ]
    },
    {
     "name": "stdout",
     "output_type": "stream",
     "text": [
      "Fitted Months MSE (84 - 96):  0.9378410993170592\n",
      "Fitted Months MSE (84 - 96):  0.9378090061653396\n",
      "LASSO EVAL\n",
      "MSE:  1566483601.343356\n",
      "Explained Variance:  0.930531830193098\n",
      "R^2:  0.9304955132844933\n",
      "BAYESIAN RIDGE EVAL\n",
      "MSE:  1569004679.2853384\n",
      "Explained Variance:  0.9304174891449198\n",
      "R^2:  0.9303836536849566\n",
      "\n",
      "\n"
     ]
    }
   ],
   "source": [
    "## Rolling predictions\n",
    "roll_df = pd.concat([X,y], axis=1)\n",
    "max_month = np.amax(roll_df['month'])\n",
    "temp_mth = 0\n",
    "\n",
    "while temp_mth < (max_month-12):\n",
    "    X_train = roll_df[(roll_df['month'] > temp_mth) & (roll_df['month'] <= temp_mth+12)].drop('resale_price',axis=1)\n",
    "    X_test = roll_df[(roll_df['month'] > temp_mth+12) & (roll_df['month'] <= temp_mth+24)].drop('resale_price', axis=1)\n",
    "    y_train = roll_df[(roll_df['month'] > temp_mth) & (roll_df['month'] <= temp_mth+12)]['resale_price']\n",
    "    y_test = roll_df[(roll_df['month'] > temp_mth+12) & (roll_df['month'] <= temp_mth+24)]['resale_price']\n",
    "\n",
    "    print(X_train.shape)\n",
    "    print(y_train.shape)\n",
    "    print(X_test.shape)\n",
    "    print(y_test.shape)\n",
    "    \n",
    "    ## fitting\n",
    "    lasso = Lasso()\n",
    "    lasso.fit(X_train,y_train)\n",
    "    print(f\"Fitted Months MSE ({temp_mth} - {temp_mth+12}): \", lasso.score(X_train, y_train))\n",
    "\n",
    "    br = BayesianRidge()\n",
    "    br.fit(X_train, y_train)\n",
    "    print(f\"Fitted Months MSE ({temp_mth} - {temp_mth+12}): \", br.score(X_train, y_train))\n",
    "    \n",
    "    ## pred results\n",
    "    print(\"LASSO EVAL\")\n",
    "    lasso_pred = predict_skmodel(lasso, X_test)\n",
    "    print(\"BAYESIAN RIDGE EVAL\")\n",
    "    br_pred = predict_skmodel(br, X_test)\n",
    "    print(\"\\n\")\n",
    "    \n",
    "    temp_mth += 12"
   ]
  },
  {
   "cell_type": "code",
   "execution_count": 46,
   "metadata": {},
   "outputs": [
    {
     "name": "stderr",
     "output_type": "stream",
     "text": [
      "c:\\users\\ivanl\\appdata\\local\\programs\\python\\python37\\lib\\site-packages\\sklearn\\linear_model\\_coordinate_descent.py:476: ConvergenceWarning: Objective did not converge. You might want to increase the number of iterations. Duality gap: 1778761354724.2354, tolerance: 25867154047.710392\n",
      "  positive)\n"
     ]
    },
    {
     "name": "stdout",
     "output_type": "stream",
     "text": [
      "0.9437414581108698\n",
      "0.9436819052823179\n"
     ]
    }
   ],
   "source": [
    "lasso = Lasso()\n",
    "lasso.fit(X_train,y_train)\n",
    "print(lasso.score(X_train, y_train))\n",
    "\n",
    "br = BayesianRidge()\n",
    "br.fit(X_train, y_train)\n",
    "print(br.score(X_train, y_train))"
   ]
  },
  {
   "cell_type": "code",
   "execution_count": 47,
   "metadata": {},
   "outputs": [
    {
     "name": "stdout",
     "output_type": "stream",
     "text": [
      "MSE:  1351932907.6181686\n",
      "Explained Variance:  0.920355792930838\n",
      "R^2:  0.9104909580340015\n",
      "MSE:  1343974175.7938077\n",
      "Explained Variance:  0.9211422796469688\n",
      "R^2:  0.9110178913284339\n"
     ]
    }
   ],
   "source": [
    "## predictions\n",
    "lasso_rollingpred = predict_skmodel(lasso,X_test)\n",
    "br_rolling_pred = predict_skmodel(br,X_test)"
   ]
  },
  {
   "cell_type": "markdown",
   "metadata": {},
   "source": [
    "It seems that rolling predictions work better. This might likely be due to structural information that \n",
    "might be lost but persisted in the future due to models taking averages over the whole time period to\n",
    "minimise loss functions."
   ]
  },
  {
   "cell_type": "code",
   "execution_count": 44,
   "metadata": {},
   "outputs": [
    {
     "data": {
      "text/plain": [
       "109706    250000.0\n",
       "109707    300000.0\n",
       "109708    328000.0\n",
       "109709    300000.0\n",
       "109710    273000.0\n",
       "Name: resale_price, dtype: float64"
      ]
     },
     "execution_count": 44,
     "metadata": {},
     "output_type": "execute_result"
    }
   ],
   "source": [
    "y_train.head()"
   ]
  },
  {
   "cell_type": "markdown",
   "metadata": {},
   "source": [
    "### Deep Learning Techniques\n",
    "\n",
    "#### ANN"
   ]
  },
  {
   "cell_type": "code",
   "execution_count": 92,
   "metadata": {},
   "outputs": [],
   "source": [
    "df = tf.data.Dataset.from_tensor_slices((X_train.values, y_train.values)).batch(16)\n",
    "# for feat, targ in df.take(5):\n",
    "#   print ('Features: {}, Target: {}'.format(feat, targ))\n",
    "\n",
    "model = tf.keras.Sequential([\n",
    "    tf.keras.layers.Dense(128, activation='relu', input_shape=[X_train.shape[1]]),\n",
    "    tf.keras.layers.Dense(64, activation='relu'),\n",
    "    tf.keras.layers.Dense(10, activation='relu'),\n",
    "    tf.keras.layers.Dense(1),\n",
    "])\n",
    "model.compile(optimizer='adam',\n",
    "                loss=tf.keras.losses.MeanSquaredError(),\n",
    "                metrics=['mae', 'mse'])"
   ]
  },
  {
   "cell_type": "code",
   "execution_count": 93,
   "metadata": {},
   "outputs": [
    {
     "name": "stdout",
     "output_type": "stream",
     "text": [
      "Model: \"sequential_3\"\n",
      "_________________________________________________________________\n",
      "Layer (type)                 Output Shape              Param #   \n",
      "=================================================================\n",
      "dense_12 (Dense)             (None, 128)               77440     \n",
      "_________________________________________________________________\n",
      "dense_13 (Dense)             (None, 64)                8256      \n",
      "_________________________________________________________________\n",
      "dense_14 (Dense)             (None, 10)                650       \n",
      "_________________________________________________________________\n",
      "dense_15 (Dense)             (None, 1)                 11        \n",
      "=================================================================\n",
      "Total params: 86,357\n",
      "Trainable params: 86,357\n",
      "Non-trainable params: 0\n",
      "_________________________________________________________________\n"
     ]
    }
   ],
   "source": [
    "model.summary()"
   ]
  },
  {
   "cell_type": "code",
   "execution_count": 94,
   "metadata": {
    "scrolled": true
   },
   "outputs": [
    {
     "name": "stdout",
     "output_type": "stream",
     "text": [
      "Train on 99328 samples, validate on 24832 samples\n",
      "Epoch 1/100\n",
      "99328/99328 - 16s - loss: 24069400359.0103 - mae: 108890.2656 - mse: 24069378048.0000 - val_loss: 16779429116.8660 - val_mae: 95825.1172 - val_mse: 16779422720.0000\n",
      "Epoch 2/100\n",
      "99328/99328 - 15s - loss: 7557933204.6598 - mae: 61211.3984 - mse: 7557935616.0000 - val_loss: 11455901913.3608 - val_mae: 75526.9609 - val_mse: 11455903744.0000\n",
      "Epoch 3/100\n",
      "99328/99328 - 15s - loss: 6193209183.0928 - mae: 55085.8203 - mse: 6193205248.0000 - val_loss: 10007465110.3505 - val_mae: 68477.4609 - val_mse: 10007464960.0000\n",
      "Epoch 4/100\n",
      "99328/99328 - 15s - loss: 5207278040.9485 - mae: 50846.8359 - mse: 5207278592.0000 - val_loss: 8588680924.4948 - val_mae: 62333.9883 - val_mse: 8588682752.0000\n",
      "Epoch 5/100\n",
      "99328/99328 - 15s - loss: 4226698774.0619 - mae: 45955.5352 - mse: 4226706432.0000 - val_loss: 6326212600.5773 - val_mae: 55689.0977 - val_mse: 6326212608.0000\n",
      "Epoch 6/100\n",
      "99328/99328 - 15s - loss: 3184112042.6392 - mae: 40012.6055 - mse: 3184114176.0000 - val_loss: 4656481558.1856 - val_mae: 47288.9570 - val_mse: 4656483328.0000\n",
      "Epoch 7/100\n",
      "99328/99328 - 15s - loss: 2329231725.7526 - mae: 34709.8711 - mse: 2329232384.0000 - val_loss: 3395665163.4742 - val_mae: 40977.3086 - val_mse: 3395664384.0000\n",
      "Epoch 8/100\n",
      "99328/99328 - 16s - loss: 1861885044.9485 - mae: 31309.7910 - mse: 1861885184.0000 - val_loss: 2734356727.7526 - val_mae: 37215.9805 - val_mse: 2734356224.0000\n",
      "Epoch 9/100\n",
      "99328/99328 - 15s - loss: 1600416133.0619 - mae: 29039.0059 - mse: 1600416256.0000 - val_loss: 2433777286.5155 - val_mae: 35781.2305 - val_mse: 2433778944.0000\n",
      "Epoch 10/100\n",
      "99328/99328 - 15s - loss: 1438744712.3918 - mae: 27512.3848 - mse: 1438743680.0000 - val_loss: 2353124221.8351 - val_mae: 35776.9727 - val_mse: 2353124864.0000\n",
      "Epoch 11/100\n",
      "99328/99328 - 16s - loss: 1330709587.3505 - mae: 26496.6289 - mse: 1330707456.0000 - val_loss: 2328416362.7629 - val_mae: 36112.5625 - val_mse: 2328416512.0000\n",
      "Epoch 12/100\n",
      "99328/99328 - 16s - loss: 1242743584.9072 - mae: 25584.6289 - mse: 1242743168.0000 - val_loss: 2002115135.7113 - val_mae: 32423.2832 - val_mse: 2002115456.0000\n",
      "Epoch 13/100\n",
      "99328/99328 - 15s - loss: 1188156486.8866 - mae: 25030.6836 - mse: 1188155904.0000 - val_loss: 2545278358.6804 - val_mae: 37876.1641 - val_mse: 2545277440.0000\n",
      "Epoch 14/100\n",
      "99328/99328 - 15s - loss: 1143590685.5773 - mae: 24543.9375 - mse: 1143589376.0000 - val_loss: 1859148524.1443 - val_mae: 31054.8145 - val_mse: 1859148160.0000\n",
      "Epoch 15/100\n",
      "99328/99328 - 15s - loss: 1107694694.5258 - mae: 24191.7168 - mse: 1107695744.0000 - val_loss: 1854933453.9175 - val_mae: 30312.4258 - val_mse: 1854934144.0000\n",
      "Epoch 16/100\n",
      "99328/99328 - 15s - loss: 1081604249.1443 - mae: 23892.0586 - mse: 1081604224.0000 - val_loss: 1857768770.7216 - val_mae: 31416.7793 - val_mse: 1857769728.0000\n",
      "Epoch 17/100\n",
      "99328/99328 - 15s - loss: 1051033211.2887 - mae: 23557.6855 - mse: 1051032320.0000 - val_loss: 1692596782.5567 - val_mae: 29112.6426 - val_mse: 1692596608.0000\n",
      "Epoch 18/100\n",
      "99328/99328 - 15s - loss: 1038867299.4794 - mae: 23388.3848 - mse: 1038866048.0000 - val_loss: 1733404761.6082 - val_mae: 30042.1523 - val_mse: 1733404288.0000\n",
      "Epoch 19/100\n",
      "99328/99328 - 16s - loss: 1020525342.4948 - mae: 23226.9922 - mse: 1020525888.0000 - val_loss: 1714969049.7113 - val_mae: 29546.0332 - val_mse: 1714968704.0000\n",
      "Epoch 20/100\n",
      "99328/99328 - 15s - loss: 1004313123.2938 - mae: 23053.0586 - mse: 1004312960.0000 - val_loss: 1629588327.0722 - val_mae: 28508.6191 - val_mse: 1629588736.0000\n",
      "Epoch 21/100\n",
      "99328/99328 - 15s - loss: 998785340.2320 - mae: 22958.8086 - mse: 998786176.0000 - val_loss: 1732389273.2990 - val_mae: 30086.0312 - val_mse: 1732390272.0000\n",
      "Epoch 22/100\n",
      "99328/99328 - 15s - loss: 985065375.5515 - mae: 22858.9023 - mse: 985066816.0000 - val_loss: 1624580930.6392 - val_mae: 28823.2734 - val_mse: 1624580224.0000\n",
      "Epoch 23/100\n",
      "99328/99328 - 16s - loss: 971956719.6804 - mae: 22659.9688 - mse: 971955456.0000 - val_loss: 1738281401.0309 - val_mae: 30460.1621 - val_mse: 1738282496.0000\n",
      "Epoch 24/100\n",
      "99328/99328 - 15s - loss: 967548449.2784 - mae: 22653.9043 - mse: 967547584.0000 - val_loss: 1624508891.0515 - val_mae: 28682.8008 - val_mse: 1624508672.0000\n",
      "Epoch 25/100\n",
      "99328/99328 - 15s - loss: 955881994.8814 - mae: 22532.6230 - mse: 955882240.0000 - val_loss: 1759514629.7835 - val_mae: 30604.8887 - val_mse: 1759515264.0000\n",
      "Epoch 26/100\n",
      "99328/99328 - 16s - loss: 942723628.8918 - mae: 22342.5020 - mse: 942722944.0000 - val_loss: 1768676691.9072 - val_mae: 30350.6797 - val_mse: 1768676992.0000\n",
      "Epoch 27/100\n",
      "99328/99328 - 15s - loss: 932889123.6701 - mae: 22258.6367 - mse: 932889024.0000 - val_loss: 1548915893.7732 - val_mae: 27888.2832 - val_mse: 1548915200.0000\n",
      "Epoch 28/100\n",
      "99328/99328 - 16s - loss: 935417996.6546 - mae: 22296.7930 - mse: 935418048.0000 - val_loss: 1860352218.7113 - val_mae: 31254.5020 - val_mse: 1860351488.0000\n",
      "Epoch 29/100\n",
      "99328/99328 - 15s - loss: 925855688.6546 - mae: 22174.4180 - mse: 925856128.0000 - val_loss: 1666283395.6392 - val_mae: 29529.5547 - val_mse: 1666283392.0000\n",
      "Epoch 30/100\n",
      "99328/99328 - 15s - loss: 921504015.8763 - mae: 22121.1270 - mse: 921503232.0000 - val_loss: 1532875980.2887 - val_mae: 27517.9355 - val_mse: 1532876032.0000\n",
      "Epoch 31/100\n",
      "99328/99328 - 15s - loss: 910716310.7423 - mae: 21991.7363 - mse: 910715456.0000 - val_loss: 1547467620.2577 - val_mae: 27814.2188 - val_mse: 1547467776.0000\n",
      "Epoch 32/100\n",
      "99328/99328 - 15s - loss: 905978866.7010 - mae: 21974.3613 - mse: 905980480.0000 - val_loss: 1571834567.0515 - val_mae: 28026.9746 - val_mse: 1571833856.0000\n",
      "Epoch 33/100\n",
      "99328/99328 - 15s - loss: 904593291.2474 - mae: 21965.3359 - mse: 904593664.0000 - val_loss: 2117653121.8969 - val_mae: 34602.9609 - val_mse: 2117652608.0000\n",
      "Epoch 34/100\n",
      "99328/99328 - 15s - loss: 896586179.7062 - mae: 21855.3379 - mse: 896586432.0000 - val_loss: 1512115214.0412 - val_mae: 27410.2656 - val_mse: 1512115200.0000\n",
      "Epoch 35/100\n",
      "99328/99328 - 15s - loss: 886089637.6237 - mae: 21746.0664 - mse: 886089536.0000 - val_loss: 1580267117.0928 - val_mae: 28391.1621 - val_mse: 1580266496.0000\n",
      "Epoch 36/100\n",
      "99328/99328 - 15s - loss: 883510390.9691 - mae: 21730.2520 - mse: 883511168.0000 - val_loss: 1495594825.3505 - val_mae: 27222.8887 - val_mse: 1495595520.0000\n",
      "Epoch 37/100\n",
      "99328/99328 - 15s - loss: 884026743.5876 - mae: 21700.3945 - mse: 884026112.0000 - val_loss: 1582960748.9794 - val_mae: 28702.3281 - val_mse: 1582961280.0000\n",
      "Epoch 38/100\n",
      "99328/99328 - 15s - loss: 872086777.1546 - mae: 21604.7480 - mse: 872086208.0000 - val_loss: 1663426276.1753 - val_mae: 29409.2656 - val_mse: 1663425920.0000\n",
      "Epoch 39/100\n",
      "99328/99328 - 15s - loss: 871239652.8608 - mae: 21597.1602 - mse: 871238528.0000 - val_loss: 1536504805.3608 - val_mae: 27819.4668 - val_mse: 1536504704.0000\n",
      "Epoch 40/100\n",
      "99328/99328 - 15s - loss: 866652885.6443 - mae: 21558.4043 - mse: 866652608.0000 - val_loss: 1458323869.6082 - val_mae: 26787.5059 - val_mse: 1458323456.0000\n",
      "Epoch 41/100\n",
      "99328/99328 - 15s - loss: 863239978.1134 - mae: 21482.6738 - mse: 863240384.0000 - val_loss: 1468414619.0309 - val_mae: 27029.5352 - val_mse: 1468414848.0000\n",
      "Epoch 42/100\n",
      "99328/99328 - 15s - loss: 855712789.4381 - mae: 21401.8066 - mse: 855712704.0000 - val_loss: 1563182369.7526 - val_mae: 28508.7285 - val_mse: 1563182464.0000\n",
      "Epoch 43/100\n",
      "99328/99328 - 15s - loss: 853483719.0412 - mae: 21392.2734 - mse: 853482752.0000 - val_loss: 1543603048.9485 - val_mae: 27520.7637 - val_mse: 1543603072.0000\n",
      "Epoch 44/100\n",
      "99328/99328 - 15s - loss: 848422212.7216 - mae: 21320.4180 - mse: 848423232.0000 - val_loss: 1551436137.7732 - val_mae: 28248.4512 - val_mse: 1551436288.0000\n",
      "Epoch 45/100\n",
      "99328/99328 - 15s - loss: 844312553.9381 - mae: 21286.8457 - mse: 844312960.0000 - val_loss: 1649528774.4742 - val_mae: 29503.2266 - val_mse: 1649528320.0000\n",
      "Epoch 46/100\n",
      "99328/99328 - 15s - loss: 840275405.9794 - mae: 21235.4336 - mse: 840275584.0000 - val_loss: 1455508835.3196 - val_mae: 27051.6699 - val_mse: 1455507712.0000\n",
      "Epoch 47/100\n",
      "99328/99328 - 15s - loss: 835288776.5619 - mae: 21188.9297 - mse: 835289024.0000 - val_loss: 1444109961.4021 - val_mae: 26616.8574 - val_mse: 1444109440.0000\n",
      "Epoch 48/100\n",
      "99328/99328 - 15s - loss: 833836579.2629 - mae: 21179.0293 - mse: 833836224.0000 - val_loss: 1620853473.6598 - val_mae: 29014.2734 - val_mse: 1620853248.0000\n"
     ]
    },
    {
     "name": "stdout",
     "output_type": "stream",
     "text": [
      "Epoch 49/100\n",
      "99328/99328 - 15s - loss: 824773375.5825 - mae: 21068.7949 - mse: 824774080.0000 - val_loss: 1452104587.3196 - val_mae: 26718.3477 - val_mse: 1452104320.0000\n",
      "Epoch 50/100\n",
      "99328/99328 - 15s - loss: 822595813.9124 - mae: 21047.3672 - mse: 822595456.0000 - val_loss: 1551331623.9381 - val_mae: 28340.8398 - val_mse: 1551331712.0000\n",
      "Epoch 51/100\n",
      "99328/99328 - 16s - loss: 823770901.3969 - mae: 21065.0293 - mse: 823770304.0000 - val_loss: 1409182339.2062 - val_mae: 26320.2441 - val_mse: 1409181568.0000\n",
      "Epoch 52/100\n",
      "99328/99328 - 15s - loss: 818153532.4330 - mae: 21002.1191 - mse: 818153728.0000 - val_loss: 1416757156.4433 - val_mae: 26385.3574 - val_mse: 1416757888.0000\n",
      "Epoch 53/100\n",
      "99328/99328 - 15s - loss: 812066875.7474 - mae: 20898.7520 - mse: 812066624.0000 - val_loss: 1667257275.0515 - val_mae: 29262.1562 - val_mse: 1667256576.0000\n",
      "Epoch 54/100\n",
      "99328/99328 - 15s - loss: 813533782.9227 - mae: 20952.9688 - mse: 813532672.0000 - val_loss: 1607845485.6082 - val_mae: 28920.9688 - val_mse: 1607845504.0000\n",
      "Epoch 55/100\n",
      "99328/99328 - 15s - loss: 809280344.4948 - mae: 20882.3359 - mse: 809279744.0000 - val_loss: 1453508914.9897 - val_mae: 26908.8398 - val_mse: 1453508736.0000\n",
      "Epoch 56/100\n",
      "99328/99328 - 15s - loss: 808598107.2938 - mae: 20886.6621 - mse: 808597248.0000 - val_loss: 1466588401.2577 - val_mae: 26805.5098 - val_mse: 1466587904.0000\n",
      "Epoch 57/100\n",
      "99328/99328 - 16s - loss: 799598388.3660 - mae: 20783.4121 - mse: 799597952.0000 - val_loss: 1976924022.9691 - val_mae: 32552.4297 - val_mse: 1976925312.0000\n",
      "Epoch 58/100\n",
      "99328/99328 - 15s - loss: 801055713.1340 - mae: 20811.1211 - mse: 801056000.0000 - val_loss: 1643862637.0515 - val_mae: 29539.2559 - val_mse: 1643862016.0000\n",
      "Epoch 59/100\n",
      "99328/99328 - 15s - loss: 798259127.9794 - mae: 20753.5742 - mse: 798259200.0000 - val_loss: 1652362510.3918 - val_mae: 29372.8711 - val_mse: 1652362240.0000\n",
      "Epoch 60/100\n",
      "99328/99328 - 15s - loss: 794075012.6082 - mae: 20731.1953 - mse: 794074112.0000 - val_loss: 1416664021.0412 - val_mae: 26752.2324 - val_mse: 1416664576.0000\n",
      "Epoch 61/100\n",
      "99328/99328 - 15s - loss: 791164014.9278 - mae: 20658.6094 - mse: 791164288.0000 - val_loss: 1445140255.2268 - val_mae: 26684.4297 - val_mse: 1445140096.0000\n",
      "Epoch 62/100\n",
      "99328/99328 - 15s - loss: 783889600.0000 - mae: 20605.2402 - mse: 783890624.0000 - val_loss: 1427419959.8351 - val_mae: 26569.3164 - val_mse: 1427420928.0000\n",
      "Epoch 63/100\n",
      "99328/99328 - 15s - loss: 791502341.1856 - mae: 20677.3477 - mse: 791501696.0000 - val_loss: 1494224128.1649 - val_mae: 27620.4414 - val_mse: 1494224896.0000\n",
      "Epoch 64/100\n",
      "99328/99328 - 15s - loss: 783299978.5773 - mae: 20578.0898 - mse: 783299392.0000 - val_loss: 1404645282.7629 - val_mae: 26388.2812 - val_mse: 1404645504.0000\n",
      "Epoch 65/100\n",
      "99328/99328 - 16s - loss: 783163858.4794 - mae: 20590.5273 - mse: 783163840.0000 - val_loss: 1466872519.1340 - val_mae: 27515.7891 - val_mse: 1466873216.0000\n",
      "Epoch 66/100\n",
      "99328/99328 - 16s - loss: 775378531.3608 - mae: 20476.0215 - mse: 775378048.0000 - val_loss: 1650402319.8351 - val_mae: 29866.9824 - val_mse: 1650401920.0000\n",
      "Epoch 67/100\n",
      "99328/99328 - 16s - loss: 781717489.7629 - mae: 20589.7578 - mse: 781717376.0000 - val_loss: 1536024447.6701 - val_mae: 28294.7910 - val_mse: 1536023936.0000\n",
      "Epoch 68/100\n",
      "99328/99328 - 16s - loss: 776159252.3557 - mae: 20527.7090 - mse: 776158080.0000 - val_loss: 1472442711.1649 - val_mae: 27469.5469 - val_mse: 1472442752.0000\n",
      "Epoch 69/100\n",
      "99328/99328 - 16s - loss: 776067213.2732 - mae: 20485.0176 - mse: 776066688.0000 - val_loss: 1424372491.3814 - val_mae: 26828.9355 - val_mse: 1424372096.0000\n",
      "Epoch 70/100\n",
      "99328/99328 - 16s - loss: 769500825.9639 - mae: 20424.3516 - mse: 769500480.0000 - val_loss: 1437037189.9072 - val_mae: 26964.4863 - val_mse: 1437037312.0000\n",
      "Epoch 71/100\n",
      "99328/99328 - 16s - loss: 770641384.7423 - mae: 20422.8164 - mse: 770641280.0000 - val_loss: 1363112992.5361 - val_mae: 25983.1992 - val_mse: 1363112704.0000\n",
      "Epoch 72/100\n",
      "99328/99328 - 16s - loss: 767267377.8660 - mae: 20369.3672 - mse: 767267008.0000 - val_loss: 1375750924.9278 - val_mae: 26003.8789 - val_mse: 1375750272.0000\n",
      "Epoch 73/100\n",
      "99328/99328 - 15s - loss: 763110441.4639 - mae: 20340.5215 - mse: 763110400.0000 - val_loss: 1361917592.8866 - val_mae: 26016.4863 - val_mse: 1361917184.0000\n",
      "Epoch 74/100\n",
      "99328/99328 - 16s - loss: 758768454.9124 - mae: 20291.8555 - mse: 758768576.0000 - val_loss: 1462716335.4433 - val_mae: 27275.4785 - val_mse: 1462716416.0000\n",
      "Epoch 75/100\n",
      "99328/99328 - 15s - loss: 764966825.7320 - mae: 20366.4355 - mse: 764966528.0000 - val_loss: 1369732380.9897 - val_mae: 26005.5332 - val_mse: 1369733120.0000\n",
      "Epoch 76/100\n",
      "99328/99328 - 15s - loss: 759402470.1804 - mae: 20294.3203 - mse: 759402624.0000 - val_loss: 1403308174.3093 - val_mae: 26587.2715 - val_mse: 1403308288.0000\n",
      "Epoch 77/100\n",
      "99328/99328 - 16s - loss: 761353559.5412 - mae: 20336.0430 - mse: 761353472.0000 - val_loss: 1415388234.7010 - val_mae: 26648.1465 - val_mse: 1415388288.0000\n",
      "Epoch 78/100\n",
      "99328/99328 - 15s - loss: 758165330.9897 - mae: 20279.5742 - mse: 758164800.0000 - val_loss: 1381323170.2990 - val_mae: 26303.7441 - val_mse: 1381324160.0000\n",
      "Epoch 79/100\n",
      "99328/99328 - 15s - loss: 759506813.1237 - mae: 20302.5508 - mse: 759506496.0000 - val_loss: 1402996471.6907 - val_mae: 26471.4141 - val_mse: 1402996736.0000\n",
      "Epoch 80/100\n",
      "99328/99328 - 15s - loss: 756239837.3144 - mae: 20271.6289 - mse: 756240576.0000 - val_loss: 1487645790.1443 - val_mae: 27616.1152 - val_mse: 1487645440.0000\n",
      "Epoch 81/100\n",
      "99328/99328 - 15s - loss: 751894790.8608 - mae: 20203.8203 - mse: 751895040.0000 - val_loss: 1361818951.7938 - val_mae: 26017.5664 - val_mse: 1361818880.0000\n",
      "Epoch 82/100\n",
      "99328/99328 - 15s - loss: 755228233.6753 - mae: 20256.7031 - mse: 755227840.0000 - val_loss: 1759934224.0619 - val_mae: 31136.2852 - val_mse: 1759934976.0000\n",
      "Epoch 83/100\n",
      "99328/99328 - 15s - loss: 746764799.3763 - mae: 20125.0684 - mse: 746763904.0000 - val_loss: 1532541838.1237 - val_mae: 28380.9219 - val_mse: 1532541440.0000\n",
      "Epoch 84/100\n",
      "99328/99328 - 15s - loss: 746761923.7835 - mae: 20124.3574 - mse: 746761856.0000 - val_loss: 1363709511.0103 - val_mae: 25904.8730 - val_mse: 1363709440.0000\n",
      "Epoch 85/100\n",
      "99328/99328 - 16s - loss: 748441983.4536 - mae: 20165.7988 - mse: 748440896.0000 - val_loss: 1364087264.6804 - val_mae: 25967.7031 - val_mse: 1364087040.0000\n",
      "Epoch 86/100\n",
      "99328/99328 - 16s - loss: 748836746.6186 - mae: 20159.6758 - mse: 748837248.0000 - val_loss: 1376430148.9691 - val_mae: 26138.5215 - val_mse: 1376429952.0000\n",
      "Epoch 87/100\n",
      "99328/99328 - 15s - loss: 748889725.9485 - mae: 20182.3438 - mse: 748889408.0000 - val_loss: 1411230265.1134 - val_mae: 26495.5957 - val_mse: 1411229952.0000\n",
      "Epoch 88/100\n",
      "99328/99328 - 15s - loss: 744894276.8763 - mae: 20087.4863 - mse: 744894528.0000 - val_loss: 1348396185.6907 - val_mae: 25835.2246 - val_mse: 1348396928.0000\n",
      "Epoch 89/100\n",
      "99328/99328 - 16s - loss: 742880939.4588 - mae: 20089.2188 - mse: 742881280.0000 - val_loss: 1482507776.8866 - val_mae: 27156.1992 - val_mse: 1482507392.0000\n",
      "Epoch 90/100\n",
      "99328/99328 - 16s - loss: 742469910.7526 - mae: 20086.2891 - mse: 742469952.0000 - val_loss: 1328565326.2474 - val_mae: 25513.4531 - val_mse: 1328565888.0000\n",
      "Epoch 91/100\n",
      "99328/99328 - 16s - loss: 743943197.8144 - mae: 20121.3281 - mse: 743943360.0000 - val_loss: 1341726252.5567 - val_mae: 25711.3320 - val_mse: 1341725568.0000\n",
      "Epoch 92/100\n",
      "99328/99328 - 16s - loss: 745794721.3041 - mae: 20103.7871 - mse: 745794048.0000 - val_loss: 1465516509.0103 - val_mae: 27296.1699 - val_mse: 1465517568.0000\n",
      "Epoch 93/100\n",
      "99328/99328 - 16s - loss: 738698652.9794 - mae: 20043.3887 - mse: 738698304.0000 - val_loss: 1371373407.7423 - val_mae: 26175.5469 - val_mse: 1371373440.0000\n",
      "Epoch 94/100\n",
      "99328/99328 - 16s - loss: 738972580.1856 - mae: 20043.6680 - mse: 738972544.0000 - val_loss: 1319401914.8454 - val_mae: 25459.6680 - val_mse: 1319401344.0000\n",
      "Epoch 95/100\n",
      "99328/99328 - 16s - loss: 736962206.0825 - mae: 20029.1543 - mse: 736962624.0000 - val_loss: 1398072727.6289 - val_mae: 26635.8535 - val_mse: 1398072704.0000\n",
      "Epoch 96/100\n",
      "99328/99328 - 16s - loss: 731749340.3247 - mae: 19947.8008 - mse: 731748864.0000 - val_loss: 1431833030.2887 - val_mae: 27200.0352 - val_mse: 1431833344.0000\n"
     ]
    },
    {
     "name": "stdout",
     "output_type": "stream",
     "text": [
      "Epoch 97/100\n",
      "99328/99328 - 16s - loss: 729951151.8763 - mae: 19920.6367 - mse: 729951104.0000 - val_loss: 1351938235.2371 - val_mae: 26024.3203 - val_mse: 1351938304.0000\n",
      "Epoch 98/100\n",
      "99328/99328 - 16s - loss: 734427950.9794 - mae: 19966.0957 - mse: 734427584.0000 - val_loss: 1366181597.5052 - val_mae: 26038.8848 - val_mse: 1366181504.0000\n",
      "Epoch 99/100\n",
      "99328/99328 - 16s - loss: 732264108.0979 - mae: 19971.4688 - mse: 732264896.0000 - val_loss: 1335689877.2268 - val_mae: 25583.9922 - val_mse: 1335689984.0000\n",
      "Epoch 100/100\n",
      "99328/99328 - 15s - loss: 730029897.5567 - mae: 19928.3691 - mse: 730029824.0000 - val_loss: 1369331390.0412 - val_mae: 26305.3848 - val_mse: 1369331328.0000\n"
     ]
    }
   ],
   "source": [
    "EPOCHS = 100\n",
    "\n",
    "history = model.fit(\n",
    "  X_train, y_train,\n",
    "  epochs=EPOCHS, validation_split = 0.2, verbose=2)"
   ]
  },
  {
   "cell_type": "code",
   "execution_count": 95,
   "metadata": {},
   "outputs": [],
   "source": [
    "## save model\n",
    "model.save_weights(\"./checkpoints/ann-epoch-100\")"
   ]
  },
  {
   "cell_type": "code",
   "execution_count": 101,
   "metadata": {
    "scrolled": true
   },
   "outputs": [
    {
     "name": "stdout",
     "output_type": "stream",
     "text": [
      "10892993989.740425\n",
      "0.4630881600274649\n"
     ]
    }
   ],
   "source": [
    "## prediction\n",
    "y_pred = model.predict(X_test)\n",
    "print(mean_squared_error(y_pred, y_test))\n",
    "print(explained_variance_score(y_pred, y_test))"
   ]
  },
  {
   "cell_type": "code",
   "execution_count": null,
   "metadata": {},
   "outputs": [],
   "source": []
  },
  {
   "cell_type": "code",
   "execution_count": null,
   "metadata": {},
   "outputs": [],
   "source": [
    "## Analysis using resale_approval_full\n",
    "## 1. Process data\n",
    "resale_approval_full = resale_approval_full.fillna(0)\n"
   ]
  },
  {
   "cell_type": "code",
   "execution_count": null,
   "metadata": {},
   "outputs": [],
   "source": [
    "## ML techniques\n"
   ]
  },
  {
   "cell_type": "markdown",
   "metadata": {},
   "source": [
    "### Using URA's data\n",
    "LandedArea.csv<br></br>ApartmentsandCondos.csv"
   ]
  },
  {
   "cell_type": "code",
   "execution_count": 5,
   "metadata": {
    "scrolled": true
   },
   "outputs": [
    {
     "data": {
      "text/html": [
       "<div>\n",
       "<style scoped>\n",
       "    .dataframe tbody tr th:only-of-type {\n",
       "        vertical-align: middle;\n",
       "    }\n",
       "\n",
       "    .dataframe tbody tr th {\n",
       "        vertical-align: top;\n",
       "    }\n",
       "\n",
       "    .dataframe thead th {\n",
       "        text-align: right;\n",
       "    }\n",
       "</style>\n",
       "<table border=\"1\" class=\"dataframe\">\n",
       "  <thead>\n",
       "    <tr style=\"text-align: right;\">\n",
       "      <th></th>\n",
       "      <th>S/N</th>\n",
       "      <th>Project Name</th>\n",
       "      <th>Street Name</th>\n",
       "      <th>Type</th>\n",
       "      <th>Postal District</th>\n",
       "      <th>Market Segment</th>\n",
       "      <th>Tenure</th>\n",
       "      <th>Type of Sale</th>\n",
       "      <th>No. of Units</th>\n",
       "      <th>Price ($)</th>\n",
       "      <th>Nett Price ($)</th>\n",
       "      <th>Area (Sqft)</th>\n",
       "      <th>Type of Area</th>\n",
       "      <th>Floor Level</th>\n",
       "      <th>Unit Price ($psf)</th>\n",
       "      <th>Date of Sale</th>\n",
       "    </tr>\n",
       "  </thead>\n",
       "  <tbody>\n",
       "    <tr>\n",
       "      <th>0</th>\n",
       "      <td>1</td>\n",
       "      <td>ONE TREE HILL COLLECTION</td>\n",
       "      <td>JALAN KELAWAR</td>\n",
       "      <td>Detached</td>\n",
       "      <td>10</td>\n",
       "      <td>CCR</td>\n",
       "      <td>Freehold</td>\n",
       "      <td>New Sale</td>\n",
       "      <td>1.0</td>\n",
       "      <td>15500000.0</td>\n",
       "      <td>-</td>\n",
       "      <td>5145.0</td>\n",
       "      <td>Land</td>\n",
       "      <td>-</td>\n",
       "      <td>3013.0</td>\n",
       "      <td>Feb-20</td>\n",
       "    </tr>\n",
       "    <tr>\n",
       "      <th>1</th>\n",
       "      <td>2</td>\n",
       "      <td>BAN GUAN PARK</td>\n",
       "      <td>HOLLAND ROAD</td>\n",
       "      <td>Detached</td>\n",
       "      <td>10</td>\n",
       "      <td>CCR</td>\n",
       "      <td>Freehold</td>\n",
       "      <td>Resale</td>\n",
       "      <td>1.0</td>\n",
       "      <td>15500000.0</td>\n",
       "      <td>-</td>\n",
       "      <td>9050.0</td>\n",
       "      <td>Land</td>\n",
       "      <td>-</td>\n",
       "      <td>1713.0</td>\n",
       "      <td>Feb-20</td>\n",
       "    </tr>\n",
       "    <tr>\n",
       "      <th>2</th>\n",
       "      <td>3</td>\n",
       "      <td>LANDED HOUSING DEVELOPMENT</td>\n",
       "      <td>CORONATION ROAD WEST</td>\n",
       "      <td>Detached</td>\n",
       "      <td>10</td>\n",
       "      <td>CCR</td>\n",
       "      <td>Freehold</td>\n",
       "      <td>Resale</td>\n",
       "      <td>1.0</td>\n",
       "      <td>9380000.0</td>\n",
       "      <td>-</td>\n",
       "      <td>6242.0</td>\n",
       "      <td>Land</td>\n",
       "      <td>-</td>\n",
       "      <td>1503.0</td>\n",
       "      <td>Feb-20</td>\n",
       "    </tr>\n",
       "    <tr>\n",
       "      <th>3</th>\n",
       "      <td>4</td>\n",
       "      <td>LANDED HOUSING DEVELOPMENT</td>\n",
       "      <td>JALAN AMPANG</td>\n",
       "      <td>Semi-detached</td>\n",
       "      <td>10</td>\n",
       "      <td>CCR</td>\n",
       "      <td>Freehold</td>\n",
       "      <td>Resale</td>\n",
       "      <td>1.0</td>\n",
       "      <td>6600000.0</td>\n",
       "      <td>-</td>\n",
       "      <td>4529.0</td>\n",
       "      <td>Land</td>\n",
       "      <td>-</td>\n",
       "      <td>1457.0</td>\n",
       "      <td>Feb-20</td>\n",
       "    </tr>\n",
       "    <tr>\n",
       "      <th>4</th>\n",
       "      <td>5</td>\n",
       "      <td>LANDED HOUSING DEVELOPMENT</td>\n",
       "      <td>JALAN JAMBU AYER</td>\n",
       "      <td>Detached</td>\n",
       "      <td>21</td>\n",
       "      <td>RCR</td>\n",
       "      <td>Freehold</td>\n",
       "      <td>Resale</td>\n",
       "      <td>1.0</td>\n",
       "      <td>8600000.0</td>\n",
       "      <td>-</td>\n",
       "      <td>6218.0</td>\n",
       "      <td>Land</td>\n",
       "      <td>-</td>\n",
       "      <td>1383.0</td>\n",
       "      <td>Feb-20</td>\n",
       "    </tr>\n",
       "  </tbody>\n",
       "</table>\n",
       "</div>"
      ],
      "text/plain": [
       "  S/N                Project Name           Street Name           Type  \\\n",
       "0   1    ONE TREE HILL COLLECTION         JALAN KELAWAR       Detached   \n",
       "1   2               BAN GUAN PARK          HOLLAND ROAD       Detached   \n",
       "2   3  LANDED HOUSING DEVELOPMENT  CORONATION ROAD WEST       Detached   \n",
       "3   4  LANDED HOUSING DEVELOPMENT          JALAN AMPANG  Semi-detached   \n",
       "4   5  LANDED HOUSING DEVELOPMENT      JALAN JAMBU AYER       Detached   \n",
       "\n",
       "  Postal District Market Segment    Tenure Type of Sale  No. of Units  \\\n",
       "0              10            CCR  Freehold     New Sale           1.0   \n",
       "1              10            CCR  Freehold       Resale           1.0   \n",
       "2              10            CCR  Freehold       Resale           1.0   \n",
       "3              10            CCR  Freehold       Resale           1.0   \n",
       "4              21            RCR  Freehold       Resale           1.0   \n",
       "\n",
       "    Price ($) Nett Price ($)  Area (Sqft) Type of Area Floor Level  \\\n",
       "0  15500000.0              -       5145.0         Land           -   \n",
       "1  15500000.0              -       9050.0         Land           -   \n",
       "2   9380000.0              -       6242.0         Land           -   \n",
       "3   6600000.0              -       4529.0         Land           -   \n",
       "4   8600000.0              -       6218.0         Land           -   \n",
       "\n",
       "   Unit Price ($psf) Date of Sale  \n",
       "0             3013.0       Feb-20  \n",
       "1             1713.0       Feb-20  \n",
       "2             1503.0       Feb-20  \n",
       "3             1457.0       Feb-20  \n",
       "4             1383.0       Feb-20  "
      ]
     },
     "execution_count": 5,
     "metadata": {},
     "output_type": "execute_result"
    }
   ],
   "source": [
    "landed.head()"
   ]
  },
  {
   "cell_type": "code",
   "execution_count": 9,
   "metadata": {
    "scrolled": true
   },
   "outputs": [
    {
     "name": "stdout",
     "output_type": "stream",
     "text": [
      "<class 'pandas.core.frame.DataFrame'>\n",
      "RangeIndex: 853 entries, 0 to 852\n",
      "Data columns (total 16 columns):\n",
      "S/N                  843 non-null object\n",
      "Project Name         848 non-null object\n",
      "Street Name          837 non-null object\n",
      "Type                 837 non-null object\n",
      "Postal District      837 non-null object\n",
      "Market Segment       837 non-null object\n",
      "Tenure               837 non-null object\n",
      "Type of Sale         836 non-null object\n",
      "No. of Units         836 non-null float64\n",
      "Price ($)            836 non-null float64\n",
      "Nett Price ($)       836 non-null object\n",
      "Area (Sqft)          836 non-null float64\n",
      "Type of Area         836 non-null object\n",
      "Floor Level          836 non-null object\n",
      "Unit Price ($psf)    836 non-null float64\n",
      "Date of Sale         836 non-null object\n",
      "dtypes: float64(4), object(12)\n",
      "memory usage: 106.8+ KB\n"
     ]
    }
   ],
   "source": [
    "landed.info()"
   ]
  },
  {
   "cell_type": "code",
   "execution_count": null,
   "metadata": {},
   "outputs": [],
   "source": []
  },
  {
   "cell_type": "code",
   "execution_count": 6,
   "metadata": {},
   "outputs": [
    {
     "data": {
      "text/html": [
       "<div>\n",
       "<style scoped>\n",
       "    .dataframe tbody tr th:only-of-type {\n",
       "        vertical-align: middle;\n",
       "    }\n",
       "\n",
       "    .dataframe tbody tr th {\n",
       "        vertical-align: top;\n",
       "    }\n",
       "\n",
       "    .dataframe thead th {\n",
       "        text-align: right;\n",
       "    }\n",
       "</style>\n",
       "<table border=\"1\" class=\"dataframe\">\n",
       "  <thead>\n",
       "    <tr style=\"text-align: right;\">\n",
       "      <th>Area (Sqft)</th>\n",
       "      <th>1489.0</th>\n",
       "      <th>1491.0</th>\n",
       "      <th>1496.0</th>\n",
       "      <th>1530.0</th>\n",
       "      <th>1532.0</th>\n",
       "      <th>1579.0</th>\n",
       "      <th>1615.0</th>\n",
       "      <th>1628.0</th>\n",
       "      <th>1640.0</th>\n",
       "      <th>1643.0</th>\n",
       "      <th>...</th>\n",
       "      <th>27829.0</th>\n",
       "      <th>29710.0</th>\n",
       "      <th>29955.0</th>\n",
       "      <th>30420.0</th>\n",
       "      <th>31211.0</th>\n",
       "      <th>36883.0</th>\n",
       "      <th>39228.0</th>\n",
       "      <th>43927.0</th>\n",
       "      <th>52059.0</th>\n",
       "      <th>66453.0</th>\n",
       "    </tr>\n",
       "    <tr>\n",
       "      <th>Type</th>\n",
       "      <th></th>\n",
       "      <th></th>\n",
       "      <th></th>\n",
       "      <th></th>\n",
       "      <th></th>\n",
       "      <th></th>\n",
       "      <th></th>\n",
       "      <th></th>\n",
       "      <th></th>\n",
       "      <th></th>\n",
       "      <th></th>\n",
       "      <th></th>\n",
       "      <th></th>\n",
       "      <th></th>\n",
       "      <th></th>\n",
       "      <th></th>\n",
       "      <th></th>\n",
       "      <th></th>\n",
       "      <th></th>\n",
       "      <th></th>\n",
       "      <th></th>\n",
       "    </tr>\n",
       "  </thead>\n",
       "  <tbody>\n",
       "    <tr>\n",
       "      <th>Detached</th>\n",
       "      <td>0.0</td>\n",
       "      <td>0.0</td>\n",
       "      <td>0.0</td>\n",
       "      <td>0.0</td>\n",
       "      <td>0.0</td>\n",
       "      <td>0.0</td>\n",
       "      <td>0.000000</td>\n",
       "      <td>0.0</td>\n",
       "      <td>0.000000</td>\n",
       "      <td>0.0</td>\n",
       "      <td>...</td>\n",
       "      <td>858.0</td>\n",
       "      <td>1548.0</td>\n",
       "      <td>1335.0</td>\n",
       "      <td>1430.0</td>\n",
       "      <td>1310.0</td>\n",
       "      <td>1000.0</td>\n",
       "      <td>1117.0</td>\n",
       "      <td>1309.0</td>\n",
       "      <td>1804.0</td>\n",
       "      <td>3281.0</td>\n",
       "    </tr>\n",
       "    <tr>\n",
       "      <th>Semi-detached</th>\n",
       "      <td>0.0</td>\n",
       "      <td>0.0</td>\n",
       "      <td>0.0</td>\n",
       "      <td>0.0</td>\n",
       "      <td>0.0</td>\n",
       "      <td>0.0</td>\n",
       "      <td>0.000000</td>\n",
       "      <td>0.0</td>\n",
       "      <td>0.000000</td>\n",
       "      <td>0.0</td>\n",
       "      <td>...</td>\n",
       "      <td>0.0</td>\n",
       "      <td>0.0</td>\n",
       "      <td>0.0</td>\n",
       "      <td>0.0</td>\n",
       "      <td>0.0</td>\n",
       "      <td>0.0</td>\n",
       "      <td>0.0</td>\n",
       "      <td>0.0</td>\n",
       "      <td>0.0</td>\n",
       "      <td>0.0</td>\n",
       "    </tr>\n",
       "    <tr>\n",
       "      <th>Terrace</th>\n",
       "      <td>1511.0</td>\n",
       "      <td>1509.0</td>\n",
       "      <td>1521.0</td>\n",
       "      <td>1242.0</td>\n",
       "      <td>1815.0</td>\n",
       "      <td>1932.0</td>\n",
       "      <td>2294.583333</td>\n",
       "      <td>1628.0</td>\n",
       "      <td>1560.666667</td>\n",
       "      <td>1711.0</td>\n",
       "      <td>...</td>\n",
       "      <td>0.0</td>\n",
       "      <td>0.0</td>\n",
       "      <td>0.0</td>\n",
       "      <td>0.0</td>\n",
       "      <td>0.0</td>\n",
       "      <td>0.0</td>\n",
       "      <td>0.0</td>\n",
       "      <td>0.0</td>\n",
       "      <td>0.0</td>\n",
       "      <td>0.0</td>\n",
       "    </tr>\n",
       "  </tbody>\n",
       "</table>\n",
       "<p>3 rows × 686 columns</p>\n",
       "</div>"
      ],
      "text/plain": [
       "Area (Sqft)    1489.0   1491.0   1496.0   1530.0   1532.0   1579.0   \\\n",
       "Type                                                                  \n",
       "Detached           0.0      0.0      0.0      0.0      0.0      0.0   \n",
       "Semi-detached      0.0      0.0      0.0      0.0      0.0      0.0   \n",
       "Terrace         1511.0   1509.0   1521.0   1242.0   1815.0   1932.0   \n",
       "\n",
       "Area (Sqft)        1615.0   1628.0       1640.0   1643.0   ...  27829.0  \\\n",
       "Type                                                       ...            \n",
       "Detached          0.000000      0.0     0.000000      0.0  ...    858.0   \n",
       "Semi-detached     0.000000      0.0     0.000000      0.0  ...      0.0   \n",
       "Terrace        2294.583333   1628.0  1560.666667   1711.0  ...      0.0   \n",
       "\n",
       "Area (Sqft)    29710.0  29955.0  30420.0  31211.0  36883.0  39228.0  43927.0  \\\n",
       "Type                                                                           \n",
       "Detached        1548.0   1335.0   1430.0   1310.0   1000.0   1117.0   1309.0   \n",
       "Semi-detached      0.0      0.0      0.0      0.0      0.0      0.0      0.0   \n",
       "Terrace            0.0      0.0      0.0      0.0      0.0      0.0      0.0   \n",
       "\n",
       "Area (Sqft)    52059.0  66453.0  \n",
       "Type                             \n",
       "Detached        1804.0   3281.0  \n",
       "Semi-detached      0.0      0.0  \n",
       "Terrace            0.0      0.0  \n",
       "\n",
       "[3 rows x 686 columns]"
      ]
     },
     "execution_count": 6,
     "metadata": {},
     "output_type": "execute_result"
    }
   ],
   "source": [
    "# Running testing for landed since its sample size is smaller\n",
    "landed_sfp = landed[['Type', 'Area (Sqft)', 'Unit Price ($psf)']]\n",
    "landed_sfp = landed_sfp.dropna()\n",
    "landed_sfp = pd.pivot_table(landed_sfp, values='Unit Price ($psf)', \n",
    "                     index=['Type'], \n",
    "                     columns='Area (Sqft)')\n",
    "landed_sfp = landed_sfp.fillna(0)\n",
    "landed_sfp.tail()"
   ]
  },
  {
   "cell_type": "code",
   "execution_count": 35,
   "metadata": {},
   "outputs": [
    {
     "data": {
      "text/plain": [
       "<matplotlib.axes._subplots.AxesSubplot at 0x2d4fd599c8>"
      ]
     },
     "execution_count": 35,
     "metadata": {},
     "output_type": "execute_result"
    },
    {
     "data": {
      "image/png": "[encoded data removed]",
      "text/plain": [
       "<Figure size 432x288 with 2 Axes>"
      ]
     },
     "metadata": {
      "needs_background": "light"
     },
     "output_type": "display_data"
    }
   ],
   "source": [
    "sns.heatmap(landed_sfp)"
   ]
  },
  {
   "cell_type": "code",
   "execution_count": null,
   "metadata": {},
   "outputs": [],
   "source": []
  },
  {
   "cell_type": "markdown",
   "metadata": {},
   "source": [
    "### Predictions\n",
    "Using Machine Learning techniques to try to obtain metries such as:\n",
    "- Accuracy\n",
    "- MSE\n",
    "\n",
    "Depending on method used"
   ]
  },
  {
   "cell_type": "code",
   "execution_count": null,
   "metadata": {},
   "outputs": [],
   "source": [
    "%%bash\n",
    "## installs necessary libraries for work below\n",
    "!pip install sklearn"
   ]
  },
  {
   "cell_type": "code",
   "execution_count": 107,
   "metadata": {},
   "outputs": [],
   "source": [
    "from sklearn.model_selection import train_test_split\n",
    "from sklearn.preprocessing import OneHotEncoder\n",
    "\n",
    "# preprocessing\n",
    "def split_X_and_y(df):\n",
    "    '''\n",
    "        - preprocessing is done here\n",
    "        - returns processed X and y values\n",
    "    '''\n",
    "    df = df.dropna()  # there should b a better way of handling NA valus but I LAZY\n",
    "    \n",
    "    # 1. seperate labels from predictors\n",
    "    y = df[df.columns[14]]  #Unit price per sq foot\n",
    "    cols_to_remove = df.columns[[0,9,10,13,14]]\n",
    "    X = df.drop(cols_to_remove, axis=1)\n",
    "    \n",
    "    # 2. encode data fit for prediction\n",
    "    X_num = X.iloc[:,[7,8]]\n",
    "    categorical_var = X.drop([\"No. of Units\", \"Area (Sqft)\"], axis=1)\n",
    "\n",
    "    X_cat = pd.get_dummies(categorical_var)\n",
    "    X = pd.concat([X_cat, X_num], axis=1)\n",
    "    \n",
    "    X_train, X_test, y_train, y_test = train_test_split(X, y, test_size=0.25, random_state=42)\n",
    "    \n",
    "    return X_train, X_test, y_train, y_test\n",
    "\n",
    "from sklearn.model_selection import GridSearchCV\n",
    "def train_data(estimator, params, X_train, y_train):\n",
    "    ## import the sklearn libraries first\n",
    "    reg_grid = GridSearchCV(estimator, params)\n",
    "    reg_grid.fit(X_train, y_train)\n",
    "    \n",
    "    return reg_grid.best_estimator_\n",
    "    "
   ]
  },
  {
   "cell_type": "code",
   "execution_count": 108,
   "metadata": {},
   "outputs": [],
   "source": [
    "X_train, X_test, y_train, y_test = split_X_and_y(landed)"
   ]
  },
  {
   "cell_type": "code",
   "execution_count": 109,
   "metadata": {},
   "outputs": [
    {
     "data": {
      "text/plain": [
       "0"
      ]
     },
     "execution_count": 109,
     "metadata": {},
     "output_type": "execute_result"
    }
   ],
   "source": [
    "sum(X_train.isna().iloc[:,6])"
   ]
  },
  {
   "cell_type": "code",
   "execution_count": 110,
   "metadata": {
    "scrolled": true
   },
   "outputs": [
    {
     "name": "stderr",
     "output_type": "stream",
     "text": [
      "c:\\users\\ivanl\\appdata\\local\\programs\\python\\python37\\lib\\site-packages\\sklearn\\linear_model\\_coordinate_descent.py:476: ConvergenceWarning: Objective did not converge. You might want to increase the number of iterations. Duality gap: 2164681.303028632, tolerance: 9552.54064231537\n",
      "  positive)\n",
      "c:\\users\\ivanl\\appdata\\local\\programs\\python\\python37\\lib\\site-packages\\sklearn\\linear_model\\_coordinate_descent.py:476: ConvergenceWarning: Objective did not converge. You might want to increase the number of iterations. Duality gap: 2016181.1567478143, tolerance: 10139.614333333333\n",
      "  positive)\n",
      "c:\\users\\ivanl\\appdata\\local\\programs\\python\\python37\\lib\\site-packages\\sklearn\\linear_model\\_coordinate_descent.py:476: ConvergenceWarning: Objective did not converge. You might want to increase the number of iterations. Duality gap: 2330274.8713892847, tolerance: 10497.877685258964\n",
      "  positive)\n",
      "c:\\users\\ivanl\\appdata\\local\\programs\\python\\python37\\lib\\site-packages\\sklearn\\linear_model\\_coordinate_descent.py:476: ConvergenceWarning: Objective did not converge. You might want to increase the number of iterations. Duality gap: 55368.88726917654, tolerance: 10324.65714501992\n",
      "  positive)\n",
      "c:\\users\\ivanl\\appdata\\local\\programs\\python\\python37\\lib\\site-packages\\sklearn\\linear_model\\_coordinate_descent.py:476: ConvergenceWarning: Objective did not converge. You might want to increase the number of iterations. Duality gap: 2267557.2729953714, tolerance: 10477.63292749004\n",
      "  positive)\n",
      "c:\\users\\ivanl\\appdata\\local\\programs\\python\\python37\\lib\\site-packages\\sklearn\\linear_model\\_coordinate_descent.py:476: ConvergenceWarning: Objective did not converge. You might want to increase the number of iterations. Duality gap: 2164681.303028632, tolerance: 9552.54064231537\n",
      "  positive)\n",
      "c:\\users\\ivanl\\appdata\\local\\programs\\python\\python37\\lib\\site-packages\\sklearn\\linear_model\\_coordinate_descent.py:476: ConvergenceWarning: Objective did not converge. You might want to increase the number of iterations. Duality gap: 2016181.1567478143, tolerance: 10139.614333333333\n",
      "  positive)\n",
      "c:\\users\\ivanl\\appdata\\local\\programs\\python\\python37\\lib\\site-packages\\sklearn\\linear_model\\_coordinate_descent.py:476: ConvergenceWarning: Objective did not converge. You might want to increase the number of iterations. Duality gap: 2330274.8713892847, tolerance: 10497.877685258964\n",
      "  positive)\n",
      "c:\\users\\ivanl\\appdata\\local\\programs\\python\\python37\\lib\\site-packages\\sklearn\\linear_model\\_coordinate_descent.py:476: ConvergenceWarning: Objective did not converge. You might want to increase the number of iterations. Duality gap: 55368.88726917654, tolerance: 10324.65714501992\n",
      "  positive)\n",
      "c:\\users\\ivanl\\appdata\\local\\programs\\python\\python37\\lib\\site-packages\\sklearn\\linear_model\\_coordinate_descent.py:476: ConvergenceWarning: Objective did not converge. You might want to increase the number of iterations. Duality gap: 2267557.2729953714, tolerance: 10477.63292749004\n",
      "  positive)\n",
      "c:\\users\\ivanl\\appdata\\local\\programs\\python\\python37\\lib\\site-packages\\sklearn\\linear_model\\_coordinate_descent.py:476: ConvergenceWarning: Objective did not converge. You might want to increase the number of iterations. Duality gap: 395590.2074580621, tolerance: 9552.54064231537\n",
      "  positive)\n",
      "c:\\users\\ivanl\\appdata\\local\\programs\\python\\python37\\lib\\site-packages\\sklearn\\linear_model\\_coordinate_descent.py:476: ConvergenceWarning: Objective did not converge. You might want to increase the number of iterations. Duality gap: 296500.37911394984, tolerance: 10139.614333333333\n",
      "  positive)\n",
      "c:\\users\\ivanl\\appdata\\local\\programs\\python\\python37\\lib\\site-packages\\sklearn\\linear_model\\_coordinate_descent.py:476: ConvergenceWarning: Objective did not converge. You might want to increase the number of iterations. Duality gap: 377579.3186472617, tolerance: 10497.877685258964\n",
      "  positive)\n",
      "c:\\users\\ivanl\\appdata\\local\\programs\\python\\python37\\lib\\site-packages\\sklearn\\linear_model\\_coordinate_descent.py:476: ConvergenceWarning: Objective did not converge. You might want to increase the number of iterations. Duality gap: 479326.3981806971, tolerance: 10477.63292749004\n",
      "  positive)\n",
      "c:\\users\\ivanl\\appdata\\local\\programs\\python\\python37\\lib\\site-packages\\sklearn\\linear_model\\_coordinate_descent.py:476: ConvergenceWarning: Objective did not converge. You might want to increase the number of iterations. Duality gap: 395590.2074580621, tolerance: 9552.54064231537\n",
      "  positive)\n",
      "c:\\users\\ivanl\\appdata\\local\\programs\\python\\python37\\lib\\site-packages\\sklearn\\linear_model\\_coordinate_descent.py:476: ConvergenceWarning: Objective did not converge. You might want to increase the number of iterations. Duality gap: 296500.37911394984, tolerance: 10139.614333333333\n",
      "  positive)\n",
      "c:\\users\\ivanl\\appdata\\local\\programs\\python\\python37\\lib\\site-packages\\sklearn\\linear_model\\_coordinate_descent.py:476: ConvergenceWarning: Objective did not converge. You might want to increase the number of iterations. Duality gap: 377579.3186472617, tolerance: 10497.877685258964\n",
      "  positive)\n",
      "c:\\users\\ivanl\\appdata\\local\\programs\\python\\python37\\lib\\site-packages\\sklearn\\linear_model\\_coordinate_descent.py:476: ConvergenceWarning: Objective did not converge. You might want to increase the number of iterations. Duality gap: 479326.3981806971, tolerance: 10477.63292749004\n",
      "  positive)\n",
      "c:\\users\\ivanl\\appdata\\local\\programs\\python\\python37\\lib\\site-packages\\sklearn\\linear_model\\_coordinate_descent.py:476: ConvergenceWarning: Objective did not converge. You might want to increase the number of iterations. Duality gap: 25257.76667529531, tolerance: 9552.54064231537\n",
      "  positive)\n",
      "c:\\users\\ivanl\\appdata\\local\\programs\\python\\python37\\lib\\site-packages\\sklearn\\linear_model\\_coordinate_descent.py:476: ConvergenceWarning: Objective did not converge. You might want to increase the number of iterations. Duality gap: 12454.918105591089, tolerance: 10139.614333333333\n",
      "  positive)\n",
      "c:\\users\\ivanl\\appdata\\local\\programs\\python\\python37\\lib\\site-packages\\sklearn\\linear_model\\_coordinate_descent.py:476: ConvergenceWarning: Objective did not converge. You might want to increase the number of iterations. Duality gap: 21440.611679926515, tolerance: 10497.877685258964\n",
      "  positive)\n",
      "c:\\users\\ivanl\\appdata\\local\\programs\\python\\python37\\lib\\site-packages\\sklearn\\linear_model\\_coordinate_descent.py:476: ConvergenceWarning: Objective did not converge. You might want to increase the number of iterations. Duality gap: 33719.42928762175, tolerance: 10477.63292749004\n",
      "  positive)\n",
      "c:\\users\\ivanl\\appdata\\local\\programs\\python\\python37\\lib\\site-packages\\sklearn\\linear_model\\_coordinate_descent.py:476: ConvergenceWarning: Objective did not converge. You might want to increase the number of iterations. Duality gap: 25257.76667529531, tolerance: 9552.54064231537\n",
      "  positive)\n",
      "c:\\users\\ivanl\\appdata\\local\\programs\\python\\python37\\lib\\site-packages\\sklearn\\linear_model\\_coordinate_descent.py:476: ConvergenceWarning: Objective did not converge. You might want to increase the number of iterations. Duality gap: 12454.918105591089, tolerance: 10139.614333333333\n",
      "  positive)\n",
      "c:\\users\\ivanl\\appdata\\local\\programs\\python\\python37\\lib\\site-packages\\sklearn\\linear_model\\_coordinate_descent.py:476: ConvergenceWarning: Objective did not converge. You might want to increase the number of iterations. Duality gap: 21440.611679926515, tolerance: 10497.877685258964\n",
      "  positive)\n",
      "c:\\users\\ivanl\\appdata\\local\\programs\\python\\python37\\lib\\site-packages\\sklearn\\linear_model\\_coordinate_descent.py:476: ConvergenceWarning: Objective did not converge. You might want to increase the number of iterations. Duality gap: 33719.42928762175, tolerance: 10477.63292749004\n",
      "  positive)\n",
      "c:\\users\\ivanl\\appdata\\local\\programs\\python\\python37\\lib\\site-packages\\sklearn\\linear_model\\_coordinate_descent.py:476: ConvergenceWarning: Objective did not converge. You might want to increase the number of iterations. Duality gap: 741850.2936997339, tolerance: 9552.54064231537\n",
      "  positive)\n",
      "c:\\users\\ivanl\\appdata\\local\\programs\\python\\python37\\lib\\site-packages\\sklearn\\linear_model\\_coordinate_descent.py:476: ConvergenceWarning: Objective did not converge. You might want to increase the number of iterations. Duality gap: 663934.2700739726, tolerance: 10139.614333333333\n",
      "  positive)\n",
      "c:\\users\\ivanl\\appdata\\local\\programs\\python\\python37\\lib\\site-packages\\sklearn\\linear_model\\_coordinate_descent.py:476: ConvergenceWarning: Objective did not converge. You might want to increase the number of iterations. Duality gap: 728539.6216763444, tolerance: 10497.877685258964\n",
      "  positive)\n"
     ]
    },
    {
     "name": "stderr",
     "output_type": "stream",
     "text": [
      "c:\\users\\ivanl\\appdata\\local\\programs\\python\\python37\\lib\\site-packages\\sklearn\\linear_model\\_coordinate_descent.py:476: ConvergenceWarning: Objective did not converge. You might want to increase the number of iterations. Duality gap: 222237.40231450275, tolerance: 10477.63292749004\n",
      "  positive)\n",
      "c:\\users\\ivanl\\appdata\\local\\programs\\python\\python37\\lib\\site-packages\\sklearn\\linear_model\\_coordinate_descent.py:476: ConvergenceWarning: Objective did not converge. You might want to increase the number of iterations. Duality gap: 741850.2936997339, tolerance: 9552.54064231537\n",
      "  positive)\n",
      "c:\\users\\ivanl\\appdata\\local\\programs\\python\\python37\\lib\\site-packages\\sklearn\\linear_model\\_coordinate_descent.py:476: ConvergenceWarning: Objective did not converge. You might want to increase the number of iterations. Duality gap: 663934.2700739726, tolerance: 10139.614333333333\n",
      "  positive)\n",
      "c:\\users\\ivanl\\appdata\\local\\programs\\python\\python37\\lib\\site-packages\\sklearn\\linear_model\\_coordinate_descent.py:476: ConvergenceWarning: Objective did not converge. You might want to increase the number of iterations. Duality gap: 728539.6216763444, tolerance: 10497.877685258964\n",
      "  positive)\n",
      "c:\\users\\ivanl\\appdata\\local\\programs\\python\\python37\\lib\\site-packages\\sklearn\\linear_model\\_coordinate_descent.py:476: ConvergenceWarning: Objective did not converge. You might want to increase the number of iterations. Duality gap: 222237.40231450275, tolerance: 10477.63292749004\n",
      "  positive)\n",
      "c:\\users\\ivanl\\appdata\\local\\programs\\python\\python37\\lib\\site-packages\\sklearn\\linear_model\\_coordinate_descent.py:476: ConvergenceWarning: Objective did not converge. You might want to increase the number of iterations. Duality gap: 109913.77602441981, tolerance: 9552.54064231537\n",
      "  positive)\n",
      "c:\\users\\ivanl\\appdata\\local\\programs\\python\\python37\\lib\\site-packages\\sklearn\\linear_model\\_coordinate_descent.py:476: ConvergenceWarning: Objective did not converge. You might want to increase the number of iterations. Duality gap: 70666.52008958906, tolerance: 10139.614333333333\n",
      "  positive)\n",
      "c:\\users\\ivanl\\appdata\\local\\programs\\python\\python37\\lib\\site-packages\\sklearn\\linear_model\\_coordinate_descent.py:476: ConvergenceWarning: Objective did not converge. You might want to increase the number of iterations. Duality gap: 88190.65271211788, tolerance: 10497.877685258964\n",
      "  positive)\n",
      "c:\\users\\ivanl\\appdata\\local\\programs\\python\\python37\\lib\\site-packages\\sklearn\\linear_model\\_coordinate_descent.py:476: ConvergenceWarning: Objective did not converge. You might want to increase the number of iterations. Duality gap: 32860.16538936272, tolerance: 10477.63292749004\n",
      "  positive)\n",
      "c:\\users\\ivanl\\appdata\\local\\programs\\python\\python37\\lib\\site-packages\\sklearn\\linear_model\\_coordinate_descent.py:476: ConvergenceWarning: Objective did not converge. You might want to increase the number of iterations. Duality gap: 109913.77602441981, tolerance: 9552.54064231537\n",
      "  positive)\n",
      "c:\\users\\ivanl\\appdata\\local\\programs\\python\\python37\\lib\\site-packages\\sklearn\\linear_model\\_coordinate_descent.py:476: ConvergenceWarning: Objective did not converge. You might want to increase the number of iterations. Duality gap: 70666.52008958906, tolerance: 10139.614333333333\n",
      "  positive)\n",
      "c:\\users\\ivanl\\appdata\\local\\programs\\python\\python37\\lib\\site-packages\\sklearn\\linear_model\\_coordinate_descent.py:476: ConvergenceWarning: Objective did not converge. You might want to increase the number of iterations. Duality gap: 88190.65271211788, tolerance: 10497.877685258964\n",
      "  positive)\n",
      "c:\\users\\ivanl\\appdata\\local\\programs\\python\\python37\\lib\\site-packages\\sklearn\\linear_model\\_coordinate_descent.py:476: ConvergenceWarning: Objective did not converge. You might want to increase the number of iterations. Duality gap: 32860.16538936272, tolerance: 10477.63292749004\n",
      "  positive)\n"
     ]
    }
   ],
   "source": [
    "from sklearn.linear_model import Lasso\n",
    "best_reg = train_data(estimator=Lasso(),\n",
    "                     params={\n",
    "                         'alpha': [0.5,1],\n",
    "                         'normalize' : [True, False],\n",
    "                         'max_iter': [200, 500, 1000, 10000],\n",
    "                         'warm_start' : [True, False]\n",
    "                     },\n",
    "                     X_train=X_train,\n",
    "                     y_train=y_train)"
   ]
  },
  {
   "cell_type": "code",
   "execution_count": 113,
   "metadata": {},
   "outputs": [
    {
     "data": {
      "text/plain": [
       "{'mse': 102733.52728266607, 'rSquared': -0.25659047002398094}"
      ]
     },
     "execution_count": 113,
     "metadata": {},
     "output_type": "execute_result"
    }
   ],
   "source": [
    "from sklearn.metrics import mean_squared_error, r2_score\n",
    "preds = best_reg.predict(X_test)\n",
    "metrics = {\n",
    "    'mse': mean_squared_error(preds , y_test),\n",
    "    'rSquared' : r2_score(preds, y_test)\n",
    "}\n",
    "\n",
    "metrics"
   ]
  },
  {
   "cell_type": "markdown",
   "metadata": {},
   "source": [
    "Well it's obvious that it would fit bad LOL"
   ]
  },
  {
   "cell_type": "code",
   "execution_count": null,
   "metadata": {},
   "outputs": [],
   "source": []
  }
 ],
 "metadata": {
  "kernelspec": {
   "display_name": "Python 3",
   "language": "python",
   "name": "python3"
  },
  "language_info": {
   "codemirror_mode": {
    "name": "ipython",
    "version": 3
   },
   "file_extension": ".py",
   "mimetype": "text/x-python",
   "name": "python",
   "nbconvert_exporter": "python",
   "pygments_lexer": "ipython3",
   "version": "3.7.6"
  }
 },
 "nbformat": 4,
 "nbformat_minor": 4
}
