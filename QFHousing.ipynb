{
 "cells": [
  {
   "cell_type": "markdown",
   "metadata": {},
   "source": [
    "Import Relevant Libraries"
   ]
  },
  {
   "cell_type": "code",
   "execution_count": 1,
   "metadata": {},
   "outputs": [],
   "source": [
    "from __future__ import absolute_import, division, print_function, unicode_literals\n",
    "\n",
    "import pathlib\n",
    "\n",
    "import matplotlib.pyplot as plt\n",
    "import numpy as np\n",
    "import pandas as pd\n",
    "import seaborn as sns\n",
    "\n",
    "%matplotlib inline"
   ]
  },
  {
   "cell_type": "code",
   "execution_count": 2,
   "metadata": {},
   "outputs": [
    {
     "name": "stdout",
     "output_type": "stream",
     "text": [
      "2.1.0\n"
     ]
    }
   ],
   "source": [
    "import tensorflow as tf\n",
    "\n",
    "from tensorflow import keras\n",
    "from tensorflow.keras import layers\n",
    "\n",
    "print(tf.__version__)"
   ]
  },
  {
   "cell_type": "markdown",
   "metadata": {},
   "source": [
    "Inspect Data"
   ]
  },
  {
   "cell_type": "code",
   "execution_count": 3,
   "metadata": {},
   "outputs": [],
   "source": [
    "resale_approval_full = pd.read_csv(\"data/fixed_resale_with_bus.csv\", index_col=0)"
   ]
  },
  {
   "cell_type": "markdown",
   "metadata": {},
   "source": [
    "Our raw dataset looks as such:"
   ]
  },
  {
   "cell_type": "code",
   "execution_count": 4,
   "metadata": {},
   "outputs": [
    {
     "data": {
      "text/html": [
       "<div>\n",
       "<style scoped>\n",
       "    .dataframe tbody tr th:only-of-type {\n",
       "        vertical-align: middle;\n",
       "    }\n",
       "\n",
       "    .dataframe tbody tr th {\n",
       "        vertical-align: top;\n",
       "    }\n",
       "\n",
       "    .dataframe thead th {\n",
       "        text-align: right;\n",
       "    }\n",
       "</style>\n",
       "<table border=\"1\" class=\"dataframe\">\n",
       "  <thead>\n",
       "    <tr style=\"text-align: right;\">\n",
       "      <th></th>\n",
       "      <th>month</th>\n",
       "      <th>town</th>\n",
       "      <th>flat_type</th>\n",
       "      <th>block</th>\n",
       "      <th>street_name</th>\n",
       "      <th>storey_range</th>\n",
       "      <th>floor_area_sqm</th>\n",
       "      <th>flat_model</th>\n",
       "      <th>lease_commence_date</th>\n",
       "      <th>resale_price</th>\n",
       "      <th>busstops</th>\n",
       "    </tr>\n",
       "    <tr>\n",
       "      <th>index</th>\n",
       "      <th></th>\n",
       "      <th></th>\n",
       "      <th></th>\n",
       "      <th></th>\n",
       "      <th></th>\n",
       "      <th></th>\n",
       "      <th></th>\n",
       "      <th></th>\n",
       "      <th></th>\n",
       "      <th></th>\n",
       "      <th></th>\n",
       "    </tr>\n",
       "  </thead>\n",
       "  <tbody>\n",
       "    <tr>\n",
       "      <th>0</th>\n",
       "      <td>1990-01</td>\n",
       "      <td>ANG MO KIO</td>\n",
       "      <td>1 ROOM</td>\n",
       "      <td>309</td>\n",
       "      <td>ANG MO KIO AVE 1</td>\n",
       "      <td>10 TO 12</td>\n",
       "      <td>31.0</td>\n",
       "      <td>IMPROVED</td>\n",
       "      <td>1977</td>\n",
       "      <td>9000.0</td>\n",
       "      <td>0.0</td>\n",
       "    </tr>\n",
       "    <tr>\n",
       "      <th>1</th>\n",
       "      <td>1990-01</td>\n",
       "      <td>ANG MO KIO</td>\n",
       "      <td>1 ROOM</td>\n",
       "      <td>309</td>\n",
       "      <td>ANG MO KIO AVE 1</td>\n",
       "      <td>04 TO 06</td>\n",
       "      <td>31.0</td>\n",
       "      <td>IMPROVED</td>\n",
       "      <td>1977</td>\n",
       "      <td>6000.0</td>\n",
       "      <td>0.0</td>\n",
       "    </tr>\n",
       "    <tr>\n",
       "      <th>2</th>\n",
       "      <td>1990-01</td>\n",
       "      <td>ANG MO KIO</td>\n",
       "      <td>1 ROOM</td>\n",
       "      <td>309</td>\n",
       "      <td>ANG MO KIO AVE 1</td>\n",
       "      <td>10 TO 12</td>\n",
       "      <td>31.0</td>\n",
       "      <td>IMPROVED</td>\n",
       "      <td>1977</td>\n",
       "      <td>8000.0</td>\n",
       "      <td>0.0</td>\n",
       "    </tr>\n",
       "    <tr>\n",
       "      <th>3</th>\n",
       "      <td>1990-01</td>\n",
       "      <td>ANG MO KIO</td>\n",
       "      <td>1 ROOM</td>\n",
       "      <td>309</td>\n",
       "      <td>ANG MO KIO AVE 1</td>\n",
       "      <td>07 TO 09</td>\n",
       "      <td>31.0</td>\n",
       "      <td>IMPROVED</td>\n",
       "      <td>1977</td>\n",
       "      <td>6000.0</td>\n",
       "      <td>0.0</td>\n",
       "    </tr>\n",
       "    <tr>\n",
       "      <th>4</th>\n",
       "      <td>1990-01</td>\n",
       "      <td>ANG MO KIO</td>\n",
       "      <td>3 ROOM</td>\n",
       "      <td>216</td>\n",
       "      <td>ANG MO KIO AVE 1</td>\n",
       "      <td>04 TO 06</td>\n",
       "      <td>73.0</td>\n",
       "      <td>NEW GENERATION</td>\n",
       "      <td>1976</td>\n",
       "      <td>47200.0</td>\n",
       "      <td>1.0</td>\n",
       "    </tr>\n",
       "  </tbody>\n",
       "</table>\n",
       "</div>"
      ],
      "text/plain": [
       "         month        town flat_type block       street_name storey_range  \\\n",
       "index                                                                       \n",
       "0      1990-01  ANG MO KIO    1 ROOM   309  ANG MO KIO AVE 1     10 TO 12   \n",
       "1      1990-01  ANG MO KIO    1 ROOM   309  ANG MO KIO AVE 1     04 TO 06   \n",
       "2      1990-01  ANG MO KIO    1 ROOM   309  ANG MO KIO AVE 1     10 TO 12   \n",
       "3      1990-01  ANG MO KIO    1 ROOM   309  ANG MO KIO AVE 1     07 TO 09   \n",
       "4      1990-01  ANG MO KIO    3 ROOM   216  ANG MO KIO AVE 1     04 TO 06   \n",
       "\n",
       "       floor_area_sqm      flat_model  lease_commence_date  resale_price  \\\n",
       "index                                                                      \n",
       "0                31.0        IMPROVED                 1977        9000.0   \n",
       "1                31.0        IMPROVED                 1977        6000.0   \n",
       "2                31.0        IMPROVED                 1977        8000.0   \n",
       "3                31.0        IMPROVED                 1977        6000.0   \n",
       "4                73.0  NEW GENERATION                 1976       47200.0   \n",
       "\n",
       "       busstops  \n",
       "index            \n",
       "0           0.0  \n",
       "1           0.0  \n",
       "2           0.0  \n",
       "3           0.0  \n",
       "4           1.0  "
      ]
     },
     "execution_count": 4,
     "metadata": {},
     "output_type": "execute_result"
    }
   ],
   "source": [
    "resale_approval_full.head()"
   ]
  },
  {
   "cell_type": "markdown",
   "metadata": {},
   "source": [
    "A look at summary statistics for resale by registration and approval"
   ]
  },
  {
   "cell_type": "code",
   "execution_count": 5,
   "metadata": {},
   "outputs": [
    {
     "data": {
      "text/html": [
       "<div>\n",
       "<style scoped>\n",
       "    .dataframe tbody tr th:only-of-type {\n",
       "        vertical-align: middle;\n",
       "    }\n",
       "\n",
       "    .dataframe tbody tr th {\n",
       "        vertical-align: top;\n",
       "    }\n",
       "\n",
       "    .dataframe thead th {\n",
       "        text-align: right;\n",
       "    }\n",
       "</style>\n",
       "<table border=\"1\" class=\"dataframe\">\n",
       "  <thead>\n",
       "    <tr style=\"text-align: right;\">\n",
       "      <th></th>\n",
       "      <th>floor_area_sqm</th>\n",
       "      <th>lease_commence_date</th>\n",
       "      <th>resale_price</th>\n",
       "      <th>busstops</th>\n",
       "    </tr>\n",
       "  </thead>\n",
       "  <tbody>\n",
       "    <tr>\n",
       "      <th>count</th>\n",
       "      <td>656851.000000</td>\n",
       "      <td>656851.000000</td>\n",
       "      <td>656851.000000</td>\n",
       "      <td>656851.000000</td>\n",
       "    </tr>\n",
       "    <tr>\n",
       "      <th>mean</th>\n",
       "      <td>95.171843</td>\n",
       "      <td>1985.895573</td>\n",
       "      <td>254281.174816</td>\n",
       "      <td>2.483970</td>\n",
       "    </tr>\n",
       "    <tr>\n",
       "      <th>std</th>\n",
       "      <td>26.432940</td>\n",
       "      <td>8.285107</td>\n",
       "      <td>123254.959795</td>\n",
       "      <td>1.540395</td>\n",
       "    </tr>\n",
       "    <tr>\n",
       "      <th>min</th>\n",
       "      <td>28.000000</td>\n",
       "      <td>1966.000000</td>\n",
       "      <td>5000.000000</td>\n",
       "      <td>0.000000</td>\n",
       "    </tr>\n",
       "    <tr>\n",
       "      <th>25%</th>\n",
       "      <td>70.000000</td>\n",
       "      <td>1980.000000</td>\n",
       "      <td>163000.000000</td>\n",
       "      <td>2.000000</td>\n",
       "    </tr>\n",
       "    <tr>\n",
       "      <th>50%</th>\n",
       "      <td>92.000000</td>\n",
       "      <td>1985.000000</td>\n",
       "      <td>239000.000000</td>\n",
       "      <td>2.000000</td>\n",
       "    </tr>\n",
       "    <tr>\n",
       "      <th>75%</th>\n",
       "      <td>115.000000</td>\n",
       "      <td>1992.000000</td>\n",
       "      <td>330000.000000</td>\n",
       "      <td>4.000000</td>\n",
       "    </tr>\n",
       "    <tr>\n",
       "      <th>max</th>\n",
       "      <td>307.000000</td>\n",
       "      <td>2012.000000</td>\n",
       "      <td>903000.000000</td>\n",
       "      <td>10.000000</td>\n",
       "    </tr>\n",
       "  </tbody>\n",
       "</table>\n",
       "</div>"
      ],
      "text/plain": [
       "       floor_area_sqm  lease_commence_date   resale_price       busstops\n",
       "count   656851.000000        656851.000000  656851.000000  656851.000000\n",
       "mean        95.171843          1985.895573  254281.174816       2.483970\n",
       "std         26.432940             8.285107  123254.959795       1.540395\n",
       "min         28.000000          1966.000000    5000.000000       0.000000\n",
       "25%         70.000000          1980.000000  163000.000000       2.000000\n",
       "50%         92.000000          1985.000000  239000.000000       2.000000\n",
       "75%        115.000000          1992.000000  330000.000000       4.000000\n",
       "max        307.000000          2012.000000  903000.000000      10.000000"
      ]
     },
     "execution_count": 5,
     "metadata": {},
     "output_type": "execute_result"
    }
   ],
   "source": [
    "resale_approval_full.describe()"
   ]
  },
  {
   "cell_type": "markdown",
   "metadata": {},
   "source": [
    "### Data Processing"
   ]
  },
  {
   "cell_type": "code",
   "execution_count": 6,
   "metadata": {},
   "outputs": [
    {
     "data": {
      "text/plain": [
       "month                  656851\n",
       "town                   656851\n",
       "flat_type              656851\n",
       "block                  656851\n",
       "street_name            656851\n",
       "storey_range           656851\n",
       "floor_area_sqm         656851\n",
       "flat_model             656851\n",
       "lease_commence_date    656851\n",
       "resale_price           656851\n",
       "busstops               656851\n",
       "dtype: int64"
      ]
     },
     "execution_count": 6,
     "metadata": {},
     "output_type": "execute_result"
    }
   ],
   "source": [
    "resale_approval_full.count()"
   ]
  },
  {
   "cell_type": "code",
   "execution_count": 7,
   "metadata": {},
   "outputs": [],
   "source": [
    "## A function that would be flexible enough to transform categorical datasets.\n",
    "## Note: Some preprocessing probably needs to be done, to convert some string variables to float\n",
    "from housing.preprocess import *"
   ]
  },
  {
   "cell_type": "markdown",
   "metadata": {},
   "source": [
    "Preprocessing data on resale_approval_full"
   ]
  },
  {
   "cell_type": "code",
   "execution_count": 8,
   "metadata": {},
   "outputs": [],
   "source": [
    "def commence_date_to_remaining(year: int):\n",
    "    import datetime\n",
    "    return 99 - (datetime.datetime.now().year - year)\n",
    "\n",
    "def months_since1990(s:str):\n",
    "    ## months are in this format: YYYY-MM\n",
    "    YYMM =s.split('-')\n",
    "    return (12 * (int(YYMM[0]) - 1990) + (int(YYMM[1]))) \n",
    "\n",
    "## using process_data() on resale_approval_full\n",
    "resale_approval_full = pd.read_csv(\"data/fixed_resale_with_bus.csv\", index_col=0)\n",
    "resale_approval_full['month_index_since_1990'] = resale_approval_full['month'].apply(months_since1990)\n",
    "resale_approval_full['flat_type'] = resale_approval_full['flat_type'].apply(lambda x: x.lower())\n",
    "resale_approval_full['lease_remaining'] = resale_approval_full['lease_commence_date'].apply(commence_date_to_remaining)\n",
    "# resale_approval_full = resale_approval_full.drop([\"block\", \"lease_commence_date\"], axis=1)"
   ]
  },
  {
   "cell_type": "code",
   "execution_count": 9,
   "metadata": {},
   "outputs": [
    {
     "data": {
      "text/html": [
       "<div>\n",
       "<style scoped>\n",
       "    .dataframe tbody tr th:only-of-type {\n",
       "        vertical-align: middle;\n",
       "    }\n",
       "\n",
       "    .dataframe tbody tr th {\n",
       "        vertical-align: top;\n",
       "    }\n",
       "\n",
       "    .dataframe thead th {\n",
       "        text-align: right;\n",
       "    }\n",
       "</style>\n",
       "<table border=\"1\" class=\"dataframe\">\n",
       "  <thead>\n",
       "    <tr style=\"text-align: right;\">\n",
       "      <th></th>\n",
       "      <th>month</th>\n",
       "      <th>town</th>\n",
       "      <th>flat_type</th>\n",
       "      <th>block</th>\n",
       "      <th>street_name</th>\n",
       "      <th>storey_range</th>\n",
       "      <th>floor_area_sqm</th>\n",
       "      <th>flat_model</th>\n",
       "      <th>lease_commence_date</th>\n",
       "      <th>resale_price</th>\n",
       "      <th>busstops</th>\n",
       "      <th>month_index_since_1990</th>\n",
       "      <th>lease_remaining</th>\n",
       "    </tr>\n",
       "    <tr>\n",
       "      <th>index</th>\n",
       "      <th></th>\n",
       "      <th></th>\n",
       "      <th></th>\n",
       "      <th></th>\n",
       "      <th></th>\n",
       "      <th></th>\n",
       "      <th></th>\n",
       "      <th></th>\n",
       "      <th></th>\n",
       "      <th></th>\n",
       "      <th></th>\n",
       "      <th></th>\n",
       "      <th></th>\n",
       "    </tr>\n",
       "  </thead>\n",
       "  <tbody>\n",
       "    <tr>\n",
       "      <th>656846</th>\n",
       "      <td>2012-02</td>\n",
       "      <td>YISHUN</td>\n",
       "      <td>5 room</td>\n",
       "      <td>212</td>\n",
       "      <td>YISHUN ST 21</td>\n",
       "      <td>10 TO 12</td>\n",
       "      <td>121.0</td>\n",
       "      <td>Improved</td>\n",
       "      <td>1985</td>\n",
       "      <td>476888.0</td>\n",
       "      <td>2.0</td>\n",
       "      <td>266</td>\n",
       "      <td>64</td>\n",
       "    </tr>\n",
       "    <tr>\n",
       "      <th>656847</th>\n",
       "      <td>2012-02</td>\n",
       "      <td>YISHUN</td>\n",
       "      <td>5 room</td>\n",
       "      <td>758</td>\n",
       "      <td>YISHUN ST 72</td>\n",
       "      <td>01 TO 03</td>\n",
       "      <td>122.0</td>\n",
       "      <td>Improved</td>\n",
       "      <td>1986</td>\n",
       "      <td>490000.0</td>\n",
       "      <td>3.0</td>\n",
       "      <td>266</td>\n",
       "      <td>65</td>\n",
       "    </tr>\n",
       "    <tr>\n",
       "      <th>656848</th>\n",
       "      <td>2012-02</td>\n",
       "      <td>YISHUN</td>\n",
       "      <td>5 room</td>\n",
       "      <td>873</td>\n",
       "      <td>YISHUN ST 81</td>\n",
       "      <td>01 TO 03</td>\n",
       "      <td>122.0</td>\n",
       "      <td>Improved</td>\n",
       "      <td>1988</td>\n",
       "      <td>488000.0</td>\n",
       "      <td>1.0</td>\n",
       "      <td>266</td>\n",
       "      <td>67</td>\n",
       "    </tr>\n",
       "    <tr>\n",
       "      <th>656849</th>\n",
       "      <td>2012-02</td>\n",
       "      <td>YISHUN</td>\n",
       "      <td>executive</td>\n",
       "      <td>664</td>\n",
       "      <td>YISHUN AVE 4</td>\n",
       "      <td>07 TO 09</td>\n",
       "      <td>181.0</td>\n",
       "      <td>Apartment</td>\n",
       "      <td>1992</td>\n",
       "      <td>705000.0</td>\n",
       "      <td>3.0</td>\n",
       "      <td>266</td>\n",
       "      <td>71</td>\n",
       "    </tr>\n",
       "    <tr>\n",
       "      <th>656850</th>\n",
       "      <td>2012-02</td>\n",
       "      <td>YISHUN</td>\n",
       "      <td>executive</td>\n",
       "      <td>293</td>\n",
       "      <td>YISHUN ST 22</td>\n",
       "      <td>04 TO 06</td>\n",
       "      <td>163.0</td>\n",
       "      <td>Apartment</td>\n",
       "      <td>1992</td>\n",
       "      <td>630000.0</td>\n",
       "      <td>2.0</td>\n",
       "      <td>266</td>\n",
       "      <td>71</td>\n",
       "    </tr>\n",
       "  </tbody>\n",
       "</table>\n",
       "</div>"
      ],
      "text/plain": [
       "          month    town  flat_type block   street_name storey_range  \\\n",
       "index                                                                 \n",
       "656846  2012-02  YISHUN     5 room   212  YISHUN ST 21     10 TO 12   \n",
       "656847  2012-02  YISHUN     5 room   758  YISHUN ST 72     01 TO 03   \n",
       "656848  2012-02  YISHUN     5 room   873  YISHUN ST 81     01 TO 03   \n",
       "656849  2012-02  YISHUN  executive   664  YISHUN AVE 4     07 TO 09   \n",
       "656850  2012-02  YISHUN  executive   293  YISHUN ST 22     04 TO 06   \n",
       "\n",
       "        floor_area_sqm flat_model  lease_commence_date  resale_price  \\\n",
       "index                                                                  \n",
       "656846           121.0   Improved                 1985      476888.0   \n",
       "656847           122.0   Improved                 1986      490000.0   \n",
       "656848           122.0   Improved                 1988      488000.0   \n",
       "656849           181.0  Apartment                 1992      705000.0   \n",
       "656850           163.0  Apartment                 1992      630000.0   \n",
       "\n",
       "        busstops  month_index_since_1990  lease_remaining  \n",
       "index                                                      \n",
       "656846       2.0                     266               64  \n",
       "656847       3.0                     266               65  \n",
       "656848       1.0                     266               67  \n",
       "656849       3.0                     266               71  \n",
       "656850       2.0                     266               71  "
      ]
     },
     "execution_count": 9,
     "metadata": {},
     "output_type": "execute_result"
    }
   ],
   "source": [
    "resale_approval_full.tail()"
   ]
  },
  {
   "cell_type": "code",
   "execution_count": 10,
   "metadata": {},
   "outputs": [
    {
     "data": {
      "text/plain": [
       "(38578, 3)"
      ]
     },
     "execution_count": 10,
     "metadata": {},
     "output_type": "execute_result"
    }
   ],
   "source": [
    "unique_flats = resale_approval_full[[\"block\", \"street_name\", \"storey_range\"]].drop_duplicates()\n",
    "unique_flats.shape"
   ]
  },
  {
   "cell_type": "markdown",
   "metadata": {},
   "source": [
    "### Getting variables that follow a time series\n",
    "\n",
    "As explained in the report, we aren't using time-series models to fit the data and yet we need time-series dependent variables such as:\n",
    "- last known resale price \n",
    "- time since the last resale price\n",
    "\n",
    "We get a subset of each unique block in the dataset, lag it and concatnate the final datasets "
   ]
  },
  {
   "cell_type": "code",
   "execution_count": 11,
   "metadata": {},
   "outputs": [],
   "source": [
    "## lag_housing_df takes resale_approval_full above and does the above step\n",
    "# lag_housing_df(resale_approval_full) "
   ]
  },
  {
   "cell_type": "code",
   "execution_count": 12,
   "metadata": {},
   "outputs": [
    {
     "name": "stdout",
     "output_type": "stream",
     "text": [
      "(618273, 15)\n"
     ]
    },
    {
     "data": {
      "text/html": [
       "<div>\n",
       "<style scoped>\n",
       "    .dataframe tbody tr th:only-of-type {\n",
       "        vertical-align: middle;\n",
       "    }\n",
       "\n",
       "    .dataframe tbody tr th {\n",
       "        vertical-align: top;\n",
       "    }\n",
       "\n",
       "    .dataframe thead th {\n",
       "        text-align: right;\n",
       "    }\n",
       "</style>\n",
       "<table border=\"1\" class=\"dataframe\">\n",
       "  <thead>\n",
       "    <tr style=\"text-align: right;\">\n",
       "      <th></th>\n",
       "      <th>month</th>\n",
       "      <th>town</th>\n",
       "      <th>flat_type</th>\n",
       "      <th>block</th>\n",
       "      <th>street_name</th>\n",
       "      <th>storey_range</th>\n",
       "      <th>floor_area_sqm</th>\n",
       "      <th>flat_model</th>\n",
       "      <th>lease_commence_date</th>\n",
       "      <th>resale_price</th>\n",
       "      <th>busstops</th>\n",
       "      <th>month_index_since_1990</th>\n",
       "      <th>lease_remaining</th>\n",
       "      <th>last_known_price</th>\n",
       "      <th>months_since_last</th>\n",
       "    </tr>\n",
       "  </thead>\n",
       "  <tbody>\n",
       "    <tr>\n",
       "      <th>0</th>\n",
       "      <td>1990-01</td>\n",
       "      <td>ANG MO KIO</td>\n",
       "      <td>1 room</td>\n",
       "      <td>309</td>\n",
       "      <td>ANG MO KIO AVE 1</td>\n",
       "      <td>10 TO 12</td>\n",
       "      <td>31.0</td>\n",
       "      <td>IMPROVED</td>\n",
       "      <td>1977</td>\n",
       "      <td>8000.0</td>\n",
       "      <td>0.0</td>\n",
       "      <td>1</td>\n",
       "      <td>56</td>\n",
       "      <td>9000.0</td>\n",
       "      <td>0.0</td>\n",
       "    </tr>\n",
       "    <tr>\n",
       "      <th>1</th>\n",
       "      <td>1990-05</td>\n",
       "      <td>ANG MO KIO</td>\n",
       "      <td>1 room</td>\n",
       "      <td>309</td>\n",
       "      <td>ANG MO KIO AVE 1</td>\n",
       "      <td>10 TO 12</td>\n",
       "      <td>31.0</td>\n",
       "      <td>IMPROVED</td>\n",
       "      <td>1977</td>\n",
       "      <td>7800.0</td>\n",
       "      <td>0.0</td>\n",
       "      <td>5</td>\n",
       "      <td>56</td>\n",
       "      <td>8000.0</td>\n",
       "      <td>4.0</td>\n",
       "    </tr>\n",
       "    <tr>\n",
       "      <th>2</th>\n",
       "      <td>1990-08</td>\n",
       "      <td>ANG MO KIO</td>\n",
       "      <td>1 room</td>\n",
       "      <td>309</td>\n",
       "      <td>ANG MO KIO AVE 1</td>\n",
       "      <td>10 TO 12</td>\n",
       "      <td>31.0</td>\n",
       "      <td>IMPROVED</td>\n",
       "      <td>1977</td>\n",
       "      <td>9500.0</td>\n",
       "      <td>0.0</td>\n",
       "      <td>8</td>\n",
       "      <td>56</td>\n",
       "      <td>7800.0</td>\n",
       "      <td>3.0</td>\n",
       "    </tr>\n",
       "    <tr>\n",
       "      <th>3</th>\n",
       "      <td>1990-09</td>\n",
       "      <td>ANG MO KIO</td>\n",
       "      <td>1 room</td>\n",
       "      <td>309</td>\n",
       "      <td>ANG MO KIO AVE 1</td>\n",
       "      <td>10 TO 12</td>\n",
       "      <td>31.0</td>\n",
       "      <td>IMPROVED</td>\n",
       "      <td>1977</td>\n",
       "      <td>9500.0</td>\n",
       "      <td>0.0</td>\n",
       "      <td>9</td>\n",
       "      <td>56</td>\n",
       "      <td>9500.0</td>\n",
       "      <td>1.0</td>\n",
       "    </tr>\n",
       "    <tr>\n",
       "      <th>4</th>\n",
       "      <td>1990-10</td>\n",
       "      <td>ANG MO KIO</td>\n",
       "      <td>1 room</td>\n",
       "      <td>309</td>\n",
       "      <td>ANG MO KIO AVE 1</td>\n",
       "      <td>10 TO 12</td>\n",
       "      <td>31.0</td>\n",
       "      <td>IMPROVED</td>\n",
       "      <td>1977</td>\n",
       "      <td>5800.0</td>\n",
       "      <td>0.0</td>\n",
       "      <td>10</td>\n",
       "      <td>56</td>\n",
       "      <td>9500.0</td>\n",
       "      <td>1.0</td>\n",
       "    </tr>\n",
       "  </tbody>\n",
       "</table>\n",
       "</div>"
      ],
      "text/plain": [
       "     month        town flat_type block       street_name storey_range  \\\n",
       "0  1990-01  ANG MO KIO    1 room   309  ANG MO KIO AVE 1     10 TO 12   \n",
       "1  1990-05  ANG MO KIO    1 room   309  ANG MO KIO AVE 1     10 TO 12   \n",
       "2  1990-08  ANG MO KIO    1 room   309  ANG MO KIO AVE 1     10 TO 12   \n",
       "3  1990-09  ANG MO KIO    1 room   309  ANG MO KIO AVE 1     10 TO 12   \n",
       "4  1990-10  ANG MO KIO    1 room   309  ANG MO KIO AVE 1     10 TO 12   \n",
       "\n",
       "   floor_area_sqm flat_model  lease_commence_date  resale_price  busstops  \\\n",
       "0            31.0   IMPROVED                 1977        8000.0       0.0   \n",
       "1            31.0   IMPROVED                 1977        7800.0       0.0   \n",
       "2            31.0   IMPROVED                 1977        9500.0       0.0   \n",
       "3            31.0   IMPROVED                 1977        9500.0       0.0   \n",
       "4            31.0   IMPROVED                 1977        5800.0       0.0   \n",
       "\n",
       "   month_index_since_1990  lease_remaining  last_known_price  \\\n",
       "0                       1               56            9000.0   \n",
       "1                       5               56            8000.0   \n",
       "2                       8               56            7800.0   \n",
       "3                       9               56            9500.0   \n",
       "4                      10               56            9500.0   \n",
       "\n",
       "   months_since_last  \n",
       "0                0.0  \n",
       "1                4.0  \n",
       "2                3.0  \n",
       "3                1.0  \n",
       "4                1.0  "
      ]
     },
     "execution_count": 12,
     "metadata": {},
     "output_type": "execute_result"
    }
   ],
   "source": [
    "## data was written to csv previously so we just load from it\n",
    "lagged_data = pd.read_csv(\"data/lagged_approval.csv\", index_col=0)\n",
    "print(lagged_data.shape)\n",
    "lagged_data.head()"
   ]
  },
  {
   "cell_type": "markdown",
   "metadata": {},
   "source": [
    "Next code block adds **GDP** for the year which the resale occued"
   ]
  },
  {
   "cell_type": "code",
   "execution_count": 13,
   "metadata": {},
   "outputs": [
    {
     "data": {
      "text/html": [
       "<div>\n",
       "<style scoped>\n",
       "    .dataframe tbody tr th:only-of-type {\n",
       "        vertical-align: middle;\n",
       "    }\n",
       "\n",
       "    .dataframe tbody tr th {\n",
       "        vertical-align: top;\n",
       "    }\n",
       "\n",
       "    .dataframe thead th {\n",
       "        text-align: right;\n",
       "    }\n",
       "</style>\n",
       "<table border=\"1\" class=\"dataframe\">\n",
       "  <thead>\n",
       "    <tr style=\"text-align: right;\">\n",
       "      <th></th>\n",
       "      <th>year</th>\n",
       "      <th>GDP_value</th>\n",
       "      <th>GDP_perc_change</th>\n",
       "    </tr>\n",
       "  </thead>\n",
       "  <tbody>\n",
       "    <tr>\n",
       "      <th>30</th>\n",
       "      <td>1990</td>\n",
       "      <td>70492.3</td>\n",
       "      <td>14.979652</td>\n",
       "    </tr>\n",
       "    <tr>\n",
       "      <th>31</th>\n",
       "      <td>1991</td>\n",
       "      <td>78542.8</td>\n",
       "      <td>11.420396</td>\n",
       "    </tr>\n",
       "    <tr>\n",
       "      <th>32</th>\n",
       "      <td>1992</td>\n",
       "      <td>84920.2</td>\n",
       "      <td>8.119649</td>\n",
       "    </tr>\n",
       "    <tr>\n",
       "      <th>33</th>\n",
       "      <td>1993</td>\n",
       "      <td>97923.1</td>\n",
       "      <td>15.311905</td>\n",
       "    </tr>\n",
       "    <tr>\n",
       "      <th>34</th>\n",
       "      <td>1994</td>\n",
       "      <td>112555.4</td>\n",
       "      <td>14.942644</td>\n",
       "    </tr>\n",
       "  </tbody>\n",
       "</table>\n",
       "</div>"
      ],
      "text/plain": [
       "    year  GDP_value  GDP_perc_change\n",
       "30  1990    70492.3        14.979652\n",
       "31  1991    78542.8        11.420396\n",
       "32  1992    84920.2         8.119649\n",
       "33  1993    97923.1        15.311905\n",
       "34  1994   112555.4        14.942644"
      ]
     },
     "execution_count": 13,
     "metadata": {},
     "output_type": "execute_result"
    }
   ],
   "source": [
    "gdp_data = get_processed_gdp_data()\n",
    "gdp_data[gdp_data[\"year\"] >= 1990].head()"
   ]
  },
  {
   "cell_type": "code",
   "execution_count": 14,
   "metadata": {},
   "outputs": [],
   "source": [
    "lagged_data[\"year\"] = lagged_data[\"month\"].apply(lambda x: int(x[:x.rfind('-')]))\n",
    "lagged_data = lagged_data.merge(gdp_data, on=[\"year\"])"
   ]
  },
  {
   "cell_type": "code",
   "execution_count": 15,
   "metadata": {},
   "outputs": [
    {
     "name": "stdout",
     "output_type": "stream",
     "text": [
      "(618273, 15)\n"
     ]
    },
    {
     "data": {
      "text/html": [
       "<div>\n",
       "<style scoped>\n",
       "    .dataframe tbody tr th:only-of-type {\n",
       "        vertical-align: middle;\n",
       "    }\n",
       "\n",
       "    .dataframe tbody tr th {\n",
       "        vertical-align: top;\n",
       "    }\n",
       "\n",
       "    .dataframe thead th {\n",
       "        text-align: right;\n",
       "    }\n",
       "</style>\n",
       "<table border=\"1\" class=\"dataframe\">\n",
       "  <thead>\n",
       "    <tr style=\"text-align: right;\">\n",
       "      <th></th>\n",
       "      <th>town</th>\n",
       "      <th>flat_type</th>\n",
       "      <th>street_name</th>\n",
       "      <th>storey_range</th>\n",
       "      <th>floor_area_sqm</th>\n",
       "      <th>flat_model</th>\n",
       "      <th>resale_price</th>\n",
       "      <th>busstops</th>\n",
       "      <th>month_index_since_1990</th>\n",
       "      <th>lease_remaining</th>\n",
       "      <th>last_known_price</th>\n",
       "      <th>months_since_last</th>\n",
       "      <th>year</th>\n",
       "      <th>GDP_value</th>\n",
       "      <th>GDP_perc_change</th>\n",
       "    </tr>\n",
       "  </thead>\n",
       "  <tbody>\n",
       "    <tr>\n",
       "      <th>0</th>\n",
       "      <td>ANG MO KIO</td>\n",
       "      <td>1 room</td>\n",
       "      <td>ANG MO KIO AVE 1</td>\n",
       "      <td>10 TO 12</td>\n",
       "      <td>31.0</td>\n",
       "      <td>IMPROVED</td>\n",
       "      <td>8000.0</td>\n",
       "      <td>0.0</td>\n",
       "      <td>1</td>\n",
       "      <td>56</td>\n",
       "      <td>9000.0</td>\n",
       "      <td>0.0</td>\n",
       "      <td>1990</td>\n",
       "      <td>70492.3</td>\n",
       "      <td>14.979652</td>\n",
       "    </tr>\n",
       "    <tr>\n",
       "      <th>1</th>\n",
       "      <td>ANG MO KIO</td>\n",
       "      <td>1 room</td>\n",
       "      <td>ANG MO KIO AVE 1</td>\n",
       "      <td>10 TO 12</td>\n",
       "      <td>31.0</td>\n",
       "      <td>IMPROVED</td>\n",
       "      <td>7800.0</td>\n",
       "      <td>0.0</td>\n",
       "      <td>5</td>\n",
       "      <td>56</td>\n",
       "      <td>8000.0</td>\n",
       "      <td>4.0</td>\n",
       "      <td>1990</td>\n",
       "      <td>70492.3</td>\n",
       "      <td>14.979652</td>\n",
       "    </tr>\n",
       "    <tr>\n",
       "      <th>2</th>\n",
       "      <td>ANG MO KIO</td>\n",
       "      <td>1 room</td>\n",
       "      <td>ANG MO KIO AVE 1</td>\n",
       "      <td>10 TO 12</td>\n",
       "      <td>31.0</td>\n",
       "      <td>IMPROVED</td>\n",
       "      <td>9500.0</td>\n",
       "      <td>0.0</td>\n",
       "      <td>8</td>\n",
       "      <td>56</td>\n",
       "      <td>7800.0</td>\n",
       "      <td>3.0</td>\n",
       "      <td>1990</td>\n",
       "      <td>70492.3</td>\n",
       "      <td>14.979652</td>\n",
       "    </tr>\n",
       "    <tr>\n",
       "      <th>3</th>\n",
       "      <td>ANG MO KIO</td>\n",
       "      <td>1 room</td>\n",
       "      <td>ANG MO KIO AVE 1</td>\n",
       "      <td>10 TO 12</td>\n",
       "      <td>31.0</td>\n",
       "      <td>IMPROVED</td>\n",
       "      <td>9500.0</td>\n",
       "      <td>0.0</td>\n",
       "      <td>9</td>\n",
       "      <td>56</td>\n",
       "      <td>9500.0</td>\n",
       "      <td>1.0</td>\n",
       "      <td>1990</td>\n",
       "      <td>70492.3</td>\n",
       "      <td>14.979652</td>\n",
       "    </tr>\n",
       "    <tr>\n",
       "      <th>4</th>\n",
       "      <td>ANG MO KIO</td>\n",
       "      <td>1 room</td>\n",
       "      <td>ANG MO KIO AVE 1</td>\n",
       "      <td>10 TO 12</td>\n",
       "      <td>31.0</td>\n",
       "      <td>IMPROVED</td>\n",
       "      <td>5800.0</td>\n",
       "      <td>0.0</td>\n",
       "      <td>10</td>\n",
       "      <td>56</td>\n",
       "      <td>9500.0</td>\n",
       "      <td>1.0</td>\n",
       "      <td>1990</td>\n",
       "      <td>70492.3</td>\n",
       "      <td>14.979652</td>\n",
       "    </tr>\n",
       "  </tbody>\n",
       "</table>\n",
       "</div>"
      ],
      "text/plain": [
       "         town flat_type       street_name storey_range  floor_area_sqm  \\\n",
       "0  ANG MO KIO    1 room  ANG MO KIO AVE 1     10 TO 12            31.0   \n",
       "1  ANG MO KIO    1 room  ANG MO KIO AVE 1     10 TO 12            31.0   \n",
       "2  ANG MO KIO    1 room  ANG MO KIO AVE 1     10 TO 12            31.0   \n",
       "3  ANG MO KIO    1 room  ANG MO KIO AVE 1     10 TO 12            31.0   \n",
       "4  ANG MO KIO    1 room  ANG MO KIO AVE 1     10 TO 12            31.0   \n",
       "\n",
       "  flat_model  resale_price  busstops  month_index_since_1990  lease_remaining  \\\n",
       "0   IMPROVED        8000.0       0.0                       1               56   \n",
       "1   IMPROVED        7800.0       0.0                       5               56   \n",
       "2   IMPROVED        9500.0       0.0                       8               56   \n",
       "3   IMPROVED        9500.0       0.0                       9               56   \n",
       "4   IMPROVED        5800.0       0.0                      10               56   \n",
       "\n",
       "   last_known_price  months_since_last  year  GDP_value  GDP_perc_change  \n",
       "0            9000.0                0.0  1990    70492.3        14.979652  \n",
       "1            8000.0                4.0  1990    70492.3        14.979652  \n",
       "2            7800.0                3.0  1990    70492.3        14.979652  \n",
       "3            9500.0                1.0  1990    70492.3        14.979652  \n",
       "4            9500.0                1.0  1990    70492.3        14.979652  "
      ]
     },
     "execution_count": 15,
     "metadata": {},
     "output_type": "execute_result"
    }
   ],
   "source": [
    "full_df_subset = lagged_data.copy(deep=True)\n",
    "# full_df_subset[\"flat\"] = full_df_subset[\"block\"] + \" \" + full_df_subset[\"street_name\"]\n",
    "# full_df_subset.drop([\"block\", \"street_name\", \"month\"], axis=1, inplace=True)\n",
    "full_df_subset.drop([\"block\", \"month\", \"lease_commence_date\"], axis=1, inplace=True)\n",
    "print(full_df_subset.shape)\n",
    "full_df_subset.head()"
   ]
  },
  {
   "cell_type": "code",
   "execution_count": 10,
   "metadata": {},
   "outputs": [
    {
     "name": "stdout",
     "output_type": "stream",
     "text": [
      "['flat_type', 'lease_commence_date', 'block', 'flat_model', 'busstops', 'resale_price', 'town', 'street_name', 'floor_area_sqm', 'storey_range']\n",
      "facilities.shape = (8416, 5)\n"
     ]
    }
   ],
   "source": [
    "## run if data/final_df.csv is not available\n",
    "full_df_subset = lagged_data.copy(deep=True)\n",
    "\n",
    "final_lagged_data = pd.read_csv(\"data/resale_with_location_final.csv\", index_col=0)\n",
    "intersection_col = list(set(lagged_data.columns) & set(final_lagged_data))\n",
    "print(intersection_col)\n",
    "facilities = final_lagged_data[[\"block\", \"street_name\", \"lrt\", \"mrt\", \"shopping_malls\"]].drop_duplicates()\n",
    "print(\"facilities.shape =\",facilities.shape)\n",
    "final_df = full_df_subset.merge(facilities, on=[\"block\", \"street_name\"])\n",
    "final_df.to_csv(\"data/final_df.csv\")"
   ]
  },
  {
   "cell_type": "code",
   "execution_count": 11,
   "metadata": {},
   "outputs": [
    {
     "name": "stdout",
     "output_type": "stream",
     "text": [
      "(618273, 21)\n",
      "(618273, 18)\n"
     ]
    }
   ],
   "source": [
    "print(final_df.shape)\n",
    "print(lagged_data.shape)"
   ]
  },
  {
   "cell_type": "code",
   "execution_count": 16,
   "metadata": {},
   "outputs": [
    {
     "name": "stderr",
     "output_type": "stream",
     "text": [
      "c:\\users\\ivanl\\appdata\\local\\programs\\python\\python37\\lib\\site-packages\\IPython\\core\\interactiveshell.py:3051: DtypeWarning: Columns (4) have mixed types. Specify dtype option on import or set low_memory=False.\n",
      "  interactivity=interactivity, compiler=compiler, result=result)\n"
     ]
    },
    {
     "name": "stdout",
     "output_type": "stream",
     "text": [
      "(618273, 21)\n"
     ]
    },
    {
     "data": {
      "text/html": [
       "<div>\n",
       "<style scoped>\n",
       "    .dataframe tbody tr th:only-of-type {\n",
       "        vertical-align: middle;\n",
       "    }\n",
       "\n",
       "    .dataframe tbody tr th {\n",
       "        vertical-align: top;\n",
       "    }\n",
       "\n",
       "    .dataframe thead th {\n",
       "        text-align: right;\n",
       "    }\n",
       "</style>\n",
       "<table border=\"1\" class=\"dataframe\">\n",
       "  <thead>\n",
       "    <tr style=\"text-align: right;\">\n",
       "      <th></th>\n",
       "      <th>month</th>\n",
       "      <th>town</th>\n",
       "      <th>flat_type</th>\n",
       "      <th>block</th>\n",
       "      <th>street_name</th>\n",
       "      <th>storey_range</th>\n",
       "      <th>floor_area_sqm</th>\n",
       "      <th>flat_model</th>\n",
       "      <th>lease_commence_date</th>\n",
       "      <th>resale_price</th>\n",
       "      <th>...</th>\n",
       "      <th>month_index_since_1990</th>\n",
       "      <th>lease_remaining</th>\n",
       "      <th>last_known_price</th>\n",
       "      <th>months_since_last</th>\n",
       "      <th>year</th>\n",
       "      <th>GDP_value</th>\n",
       "      <th>GDP_perc_change</th>\n",
       "      <th>lrt</th>\n",
       "      <th>mrt</th>\n",
       "      <th>shopping_malls</th>\n",
       "    </tr>\n",
       "  </thead>\n",
       "  <tbody>\n",
       "    <tr>\n",
       "      <th>0</th>\n",
       "      <td>1990-01</td>\n",
       "      <td>ANG MO KIO</td>\n",
       "      <td>1 room</td>\n",
       "      <td>309</td>\n",
       "      <td>ANG MO KIO AVE 1</td>\n",
       "      <td>10 TO 12</td>\n",
       "      <td>31.0</td>\n",
       "      <td>IMPROVED</td>\n",
       "      <td>1977</td>\n",
       "      <td>8000.0</td>\n",
       "      <td>...</td>\n",
       "      <td>1</td>\n",
       "      <td>56</td>\n",
       "      <td>9000.0</td>\n",
       "      <td>0.0</td>\n",
       "      <td>1990</td>\n",
       "      <td>70492.3</td>\n",
       "      <td>14.979652</td>\n",
       "      <td>0</td>\n",
       "      <td>0</td>\n",
       "      <td>0</td>\n",
       "    </tr>\n",
       "    <tr>\n",
       "      <th>1</th>\n",
       "      <td>1990-05</td>\n",
       "      <td>ANG MO KIO</td>\n",
       "      <td>1 room</td>\n",
       "      <td>309</td>\n",
       "      <td>ANG MO KIO AVE 1</td>\n",
       "      <td>10 TO 12</td>\n",
       "      <td>31.0</td>\n",
       "      <td>IMPROVED</td>\n",
       "      <td>1977</td>\n",
       "      <td>7800.0</td>\n",
       "      <td>...</td>\n",
       "      <td>5</td>\n",
       "      <td>56</td>\n",
       "      <td>8000.0</td>\n",
       "      <td>4.0</td>\n",
       "      <td>1990</td>\n",
       "      <td>70492.3</td>\n",
       "      <td>14.979652</td>\n",
       "      <td>0</td>\n",
       "      <td>0</td>\n",
       "      <td>0</td>\n",
       "    </tr>\n",
       "    <tr>\n",
       "      <th>2</th>\n",
       "      <td>1990-08</td>\n",
       "      <td>ANG MO KIO</td>\n",
       "      <td>1 room</td>\n",
       "      <td>309</td>\n",
       "      <td>ANG MO KIO AVE 1</td>\n",
       "      <td>10 TO 12</td>\n",
       "      <td>31.0</td>\n",
       "      <td>IMPROVED</td>\n",
       "      <td>1977</td>\n",
       "      <td>9500.0</td>\n",
       "      <td>...</td>\n",
       "      <td>8</td>\n",
       "      <td>56</td>\n",
       "      <td>7800.0</td>\n",
       "      <td>3.0</td>\n",
       "      <td>1990</td>\n",
       "      <td>70492.3</td>\n",
       "      <td>14.979652</td>\n",
       "      <td>0</td>\n",
       "      <td>0</td>\n",
       "      <td>0</td>\n",
       "    </tr>\n",
       "    <tr>\n",
       "      <th>3</th>\n",
       "      <td>1990-09</td>\n",
       "      <td>ANG MO KIO</td>\n",
       "      <td>1 room</td>\n",
       "      <td>309</td>\n",
       "      <td>ANG MO KIO AVE 1</td>\n",
       "      <td>10 TO 12</td>\n",
       "      <td>31.0</td>\n",
       "      <td>IMPROVED</td>\n",
       "      <td>1977</td>\n",
       "      <td>9500.0</td>\n",
       "      <td>...</td>\n",
       "      <td>9</td>\n",
       "      <td>56</td>\n",
       "      <td>9500.0</td>\n",
       "      <td>1.0</td>\n",
       "      <td>1990</td>\n",
       "      <td>70492.3</td>\n",
       "      <td>14.979652</td>\n",
       "      <td>0</td>\n",
       "      <td>0</td>\n",
       "      <td>0</td>\n",
       "    </tr>\n",
       "    <tr>\n",
       "      <th>4</th>\n",
       "      <td>1990-10</td>\n",
       "      <td>ANG MO KIO</td>\n",
       "      <td>1 room</td>\n",
       "      <td>309</td>\n",
       "      <td>ANG MO KIO AVE 1</td>\n",
       "      <td>10 TO 12</td>\n",
       "      <td>31.0</td>\n",
       "      <td>IMPROVED</td>\n",
       "      <td>1977</td>\n",
       "      <td>5800.0</td>\n",
       "      <td>...</td>\n",
       "      <td>10</td>\n",
       "      <td>56</td>\n",
       "      <td>9500.0</td>\n",
       "      <td>1.0</td>\n",
       "      <td>1990</td>\n",
       "      <td>70492.3</td>\n",
       "      <td>14.979652</td>\n",
       "      <td>0</td>\n",
       "      <td>0</td>\n",
       "      <td>0</td>\n",
       "    </tr>\n",
       "  </tbody>\n",
       "</table>\n",
       "<p>5 rows × 21 columns</p>\n",
       "</div>"
      ],
      "text/plain": [
       "     month        town flat_type block       street_name storey_range  \\\n",
       "0  1990-01  ANG MO KIO    1 room   309  ANG MO KIO AVE 1     10 TO 12   \n",
       "1  1990-05  ANG MO KIO    1 room   309  ANG MO KIO AVE 1     10 TO 12   \n",
       "2  1990-08  ANG MO KIO    1 room   309  ANG MO KIO AVE 1     10 TO 12   \n",
       "3  1990-09  ANG MO KIO    1 room   309  ANG MO KIO AVE 1     10 TO 12   \n",
       "4  1990-10  ANG MO KIO    1 room   309  ANG MO KIO AVE 1     10 TO 12   \n",
       "\n",
       "   floor_area_sqm flat_model  lease_commence_date  resale_price  ...  \\\n",
       "0            31.0   IMPROVED                 1977        8000.0  ...   \n",
       "1            31.0   IMPROVED                 1977        7800.0  ...   \n",
       "2            31.0   IMPROVED                 1977        9500.0  ...   \n",
       "3            31.0   IMPROVED                 1977        9500.0  ...   \n",
       "4            31.0   IMPROVED                 1977        5800.0  ...   \n",
       "\n",
       "   month_index_since_1990  lease_remaining  last_known_price  \\\n",
       "0                       1               56            9000.0   \n",
       "1                       5               56            8000.0   \n",
       "2                       8               56            7800.0   \n",
       "3                       9               56            9500.0   \n",
       "4                      10               56            9500.0   \n",
       "\n",
       "   months_since_last  year  GDP_value  GDP_perc_change  lrt  mrt  \\\n",
       "0                0.0  1990    70492.3        14.979652    0    0   \n",
       "1                4.0  1990    70492.3        14.979652    0    0   \n",
       "2                3.0  1990    70492.3        14.979652    0    0   \n",
       "3                1.0  1990    70492.3        14.979652    0    0   \n",
       "4                1.0  1990    70492.3        14.979652    0    0   \n",
       "\n",
       "   shopping_malls  \n",
       "0               0  \n",
       "1               0  \n",
       "2               0  \n",
       "3               0  \n",
       "4               0  \n",
       "\n",
       "[5 rows x 21 columns]"
      ]
     },
     "execution_count": 16,
     "metadata": {},
     "output_type": "execute_result"
    }
   ],
   "source": [
    "final_df = pd.read_csv(\"data/final_df.csv\", index_col=0)\n",
    "# final_df.set_index(\"month\", drop=True, inplace=True)\n",
    "print(final_df.shape)\n",
    "final_df.head()"
   ]
  },
  {
   "cell_type": "markdown",
   "metadata": {},
   "source": [
    "Inspecting for multicollinearity:\n",
    "\n",
    "Plot correlation matrix for predictors only to look for strong/perfect correlation\n",
    "between variables and delete if necessary"
   ]
  },
  {
   "cell_type": "code",
   "execution_count": 17,
   "metadata": {},
   "outputs": [
    {
     "data": {
      "text/plain": [
       "<matplotlib.axes._subplots.AxesSubplot at 0x225a3466e88>"
      ]
     },
     "execution_count": 17,
     "metadata": {},
     "output_type": "execute_result"
    },
    {
     "data": {
      "image/png": "[encoded data removed]",
      "text/plain": [
       "<Figure size 792x648 with 2 Axes>"
      ]
     },
     "metadata": {
      "needs_background": "light"
     },
     "output_type": "display_data"
    }
   ],
   "source": [
    "variables = list(final_df.columns)\n",
    "del variables[9]\n",
    "\n",
    "final_df_corr = final_df[['resale_price'] + variables].corr()\n",
    "f, ax = plt.subplots(figsize=(11, 9))\n",
    "mask = np.triu(np.ones_like(final_df_corr, dtype=np.bool))\n",
    "# Generate a custom diverging colormap\n",
    "cmap = sns.diverging_palette(220, 10, as_cmap=True)\n",
    "sns.heatmap(final_df_corr, mask=mask, cmap=cmap, vmax=1, center=0,\n",
    "            square=True, linewidths=.5, cbar_kws={\"shrink\": .5}, annot=True)"
   ]
  },
  {
   "cell_type": "markdown",
   "metadata": {},
   "source": [
    "While `busstops` are uncorrelated with `resale_price` , we can do it after looking at the significance of busstops in predicting `resale_price`.\n",
    "\n",
    "The following plot looks at the plot of housing prices with time. As there are many units, we look at 3 random flats. "
   ]
  },
  {
   "cell_type": "code",
   "execution_count": 18,
   "metadata": {},
   "outputs": [
    {
     "name": "stderr",
     "output_type": "stream",
     "text": [
      "c:\\users\\ivanl\\appdata\\local\\programs\\python\\python37\\lib\\site-packages\\ipykernel_launcher.py:10: SettingWithCopyWarning: \n",
      "A value is trying to be set on a copy of a slice from a DataFrame\n",
      "\n",
      "See the caveats in the documentation: http://pandas.pydata.org/pandas-docs/stable/user_guide/indexing.html#returning-a-view-versus-a-copy\n",
      "  # Remove the CWD from sys.path while we load stuff.\n"
     ]
    },
    {
     "data": {
      "image/png": "[encoded data removed]",
      "text/plain": [
       "<Figure size 864x504 with 3 Axes>"
      ]
     },
     "metadata": {
      "needs_background": "light"
     },
     "output_type": "display_data"
    }
   ],
   "source": [
    "import random\n",
    "plt.figure(figsize=(12,7))\n",
    "\n",
    "for i in range(3):\n",
    "    plt.subplot(3,1,i+1)\n",
    "    idx = random.randint(0,final_df.shape[0])\n",
    "    block = final_df[\"block\"][idx]\n",
    "    street_name = final_df[\"street_name\"][idx]\n",
    "    flat = final_df[(final_df[\"street_name\"] ==street_name) & (final_df[\"block\"] == block)]\n",
    "    flat.sort_values(by=\"month_index_since_1990\", inplace=True)\n",
    "    plt.plot(flat[\"month_index_since_1990\"],flat[\"resale_price\"])\n",
    "    plt.title(f\"Resale prices of Block {block}, {street_name}\")\n",
    "plt.tight_layout()"
   ]
  },
  {
   "cell_type": "code",
   "execution_count": 19,
   "metadata": {},
   "outputs": [
    {
     "data": {
      "text/html": [
       "<div>\n",
       "<style scoped>\n",
       "    .dataframe tbody tr th:only-of-type {\n",
       "        vertical-align: middle;\n",
       "    }\n",
       "\n",
       "    .dataframe tbody tr th {\n",
       "        vertical-align: top;\n",
       "    }\n",
       "\n",
       "    .dataframe thead th {\n",
       "        text-align: right;\n",
       "    }\n",
       "</style>\n",
       "<table border=\"1\" class=\"dataframe\">\n",
       "  <thead>\n",
       "    <tr style=\"text-align: right;\">\n",
       "      <th></th>\n",
       "      <th>month</th>\n",
       "      <th>town</th>\n",
       "      <th>flat_type</th>\n",
       "      <th>block</th>\n",
       "      <th>street_name</th>\n",
       "      <th>storey_range</th>\n",
       "      <th>floor_area_sqm</th>\n",
       "      <th>flat_model</th>\n",
       "      <th>lease_commence_date</th>\n",
       "      <th>resale_price</th>\n",
       "      <th>...</th>\n",
       "      <th>month_index_since_1990</th>\n",
       "      <th>lease_remaining</th>\n",
       "      <th>last_known_price</th>\n",
       "      <th>months_since_last</th>\n",
       "      <th>year</th>\n",
       "      <th>GDP_value</th>\n",
       "      <th>GDP_perc_change</th>\n",
       "      <th>lrt</th>\n",
       "      <th>mrt</th>\n",
       "      <th>shopping_malls</th>\n",
       "    </tr>\n",
       "  </thead>\n",
       "  <tbody>\n",
       "    <tr>\n",
       "      <th>0</th>\n",
       "      <td>1990-01</td>\n",
       "      <td>ANG MO KIO</td>\n",
       "      <td>1 room</td>\n",
       "      <td>309</td>\n",
       "      <td>ANG MO KIO AVE 1</td>\n",
       "      <td>10 TO 12</td>\n",
       "      <td>31.0</td>\n",
       "      <td>IMPROVED</td>\n",
       "      <td>1977</td>\n",
       "      <td>8000.0</td>\n",
       "      <td>...</td>\n",
       "      <td>1</td>\n",
       "      <td>56</td>\n",
       "      <td>9000.0</td>\n",
       "      <td>0.0</td>\n",
       "      <td>1990</td>\n",
       "      <td>70492.3</td>\n",
       "      <td>14.979652</td>\n",
       "      <td>0</td>\n",
       "      <td>0</td>\n",
       "      <td>0</td>\n",
       "    </tr>\n",
       "    <tr>\n",
       "      <th>1</th>\n",
       "      <td>1990-05</td>\n",
       "      <td>ANG MO KIO</td>\n",
       "      <td>1 room</td>\n",
       "      <td>309</td>\n",
       "      <td>ANG MO KIO AVE 1</td>\n",
       "      <td>10 TO 12</td>\n",
       "      <td>31.0</td>\n",
       "      <td>IMPROVED</td>\n",
       "      <td>1977</td>\n",
       "      <td>7800.0</td>\n",
       "      <td>...</td>\n",
       "      <td>5</td>\n",
       "      <td>56</td>\n",
       "      <td>8000.0</td>\n",
       "      <td>4.0</td>\n",
       "      <td>1990</td>\n",
       "      <td>70492.3</td>\n",
       "      <td>14.979652</td>\n",
       "      <td>0</td>\n",
       "      <td>0</td>\n",
       "      <td>0</td>\n",
       "    </tr>\n",
       "    <tr>\n",
       "      <th>2</th>\n",
       "      <td>1990-08</td>\n",
       "      <td>ANG MO KIO</td>\n",
       "      <td>1 room</td>\n",
       "      <td>309</td>\n",
       "      <td>ANG MO KIO AVE 1</td>\n",
       "      <td>10 TO 12</td>\n",
       "      <td>31.0</td>\n",
       "      <td>IMPROVED</td>\n",
       "      <td>1977</td>\n",
       "      <td>9500.0</td>\n",
       "      <td>...</td>\n",
       "      <td>8</td>\n",
       "      <td>56</td>\n",
       "      <td>7800.0</td>\n",
       "      <td>3.0</td>\n",
       "      <td>1990</td>\n",
       "      <td>70492.3</td>\n",
       "      <td>14.979652</td>\n",
       "      <td>0</td>\n",
       "      <td>0</td>\n",
       "      <td>0</td>\n",
       "    </tr>\n",
       "    <tr>\n",
       "      <th>3</th>\n",
       "      <td>1990-09</td>\n",
       "      <td>ANG MO KIO</td>\n",
       "      <td>1 room</td>\n",
       "      <td>309</td>\n",
       "      <td>ANG MO KIO AVE 1</td>\n",
       "      <td>10 TO 12</td>\n",
       "      <td>31.0</td>\n",
       "      <td>IMPROVED</td>\n",
       "      <td>1977</td>\n",
       "      <td>9500.0</td>\n",
       "      <td>...</td>\n",
       "      <td>9</td>\n",
       "      <td>56</td>\n",
       "      <td>9500.0</td>\n",
       "      <td>1.0</td>\n",
       "      <td>1990</td>\n",
       "      <td>70492.3</td>\n",
       "      <td>14.979652</td>\n",
       "      <td>0</td>\n",
       "      <td>0</td>\n",
       "      <td>0</td>\n",
       "    </tr>\n",
       "    <tr>\n",
       "      <th>4</th>\n",
       "      <td>1990-10</td>\n",
       "      <td>ANG MO KIO</td>\n",
       "      <td>1 room</td>\n",
       "      <td>309</td>\n",
       "      <td>ANG MO KIO AVE 1</td>\n",
       "      <td>10 TO 12</td>\n",
       "      <td>31.0</td>\n",
       "      <td>IMPROVED</td>\n",
       "      <td>1977</td>\n",
       "      <td>5800.0</td>\n",
       "      <td>...</td>\n",
       "      <td>10</td>\n",
       "      <td>56</td>\n",
       "      <td>9500.0</td>\n",
       "      <td>1.0</td>\n",
       "      <td>1990</td>\n",
       "      <td>70492.3</td>\n",
       "      <td>14.979652</td>\n",
       "      <td>0</td>\n",
       "      <td>0</td>\n",
       "      <td>0</td>\n",
       "    </tr>\n",
       "  </tbody>\n",
       "</table>\n",
       "<p>5 rows × 21 columns</p>\n",
       "</div>"
      ],
      "text/plain": [
       "     month        town flat_type block       street_name storey_range  \\\n",
       "0  1990-01  ANG MO KIO    1 room   309  ANG MO KIO AVE 1     10 TO 12   \n",
       "1  1990-05  ANG MO KIO    1 room   309  ANG MO KIO AVE 1     10 TO 12   \n",
       "2  1990-08  ANG MO KIO    1 room   309  ANG MO KIO AVE 1     10 TO 12   \n",
       "3  1990-09  ANG MO KIO    1 room   309  ANG MO KIO AVE 1     10 TO 12   \n",
       "4  1990-10  ANG MO KIO    1 room   309  ANG MO KIO AVE 1     10 TO 12   \n",
       "\n",
       "   floor_area_sqm flat_model  lease_commence_date  resale_price  ...  \\\n",
       "0            31.0   IMPROVED                 1977        8000.0  ...   \n",
       "1            31.0   IMPROVED                 1977        7800.0  ...   \n",
       "2            31.0   IMPROVED                 1977        9500.0  ...   \n",
       "3            31.0   IMPROVED                 1977        9500.0  ...   \n",
       "4            31.0   IMPROVED                 1977        5800.0  ...   \n",
       "\n",
       "   month_index_since_1990  lease_remaining  last_known_price  \\\n",
       "0                       1               56            9000.0   \n",
       "1                       5               56            8000.0   \n",
       "2                       8               56            7800.0   \n",
       "3                       9               56            9500.0   \n",
       "4                      10               56            9500.0   \n",
       "\n",
       "   months_since_last  year  GDP_value  GDP_perc_change  lrt  mrt  \\\n",
       "0                0.0  1990    70492.3        14.979652    0    0   \n",
       "1                4.0  1990    70492.3        14.979652    0    0   \n",
       "2                3.0  1990    70492.3        14.979652    0    0   \n",
       "3                1.0  1990    70492.3        14.979652    0    0   \n",
       "4                1.0  1990    70492.3        14.979652    0    0   \n",
       "\n",
       "   shopping_malls  \n",
       "0               0  \n",
       "1               0  \n",
       "2               0  \n",
       "3               0  \n",
       "4               0  \n",
       "\n",
       "[5 rows x 21 columns]"
      ]
     },
     "execution_count": 19,
     "metadata": {},
     "output_type": "execute_result"
    }
   ],
   "source": [
    "final_df.head()"
   ]
  },
  {
   "cell_type": "markdown",
   "metadata": {},
   "source": [
    "### Model fitting - ML Techniques"
   ]
  },
  {
   "cell_type": "code",
   "execution_count": 20,
   "metadata": {},
   "outputs": [
    {
     "name": "stdout",
     "output_type": "stream",
     "text": [
      "(618273, 600)\n"
     ]
    }
   ],
   "source": [
    "'''\n",
    "process data to fit model fitting techniques\n",
    "'''\n",
    "final_df.drop([\"month\",\"year\",\"block\", \"lease_commence_date\"], axis=1, inplace=True)\n",
    "\n",
    "# lb_cols = [\"flat_model\", \"flat\", \"town\"]\n",
    "lb_cols = [\"flat_model\", \"street_name\", \"town\"]\n",
    "le_cols = [\"flat_type\", \"storey_range\"]\n",
    "approval = process_data(final_df, lb_cols=lb_cols, le_cols=le_cols)\n",
    "print(approval.shape)\n",
    "\n",
    "X_approval = approval.drop(\"resale_price\", axis=1)\n",
    "y_approval = approval[\"resale_price\"]"
   ]
  },
  {
   "cell_type": "code",
   "execution_count": 21,
   "metadata": {},
   "outputs": [],
   "source": [
    "## functions to fit ML_models\n",
    "from sklearn.ensemble import RandomForestRegressor, AdaBoostRegressor\n",
    "from sklearn.linear_model import Lasso, BayesianRidge\n",
    "from sklearn.model_selection import train_test_split, GridSearchCV\n",
    "\n",
    "## code is in housing/ML.py\n",
    "from housing.ML import ML_Model\n",
    "\n",
    "def split_df(X, y):\n",
    "    return train_test_split(X, y, test_size=0.25)"
   ]
  },
  {
   "cell_type": "markdown",
   "metadata": {},
   "source": [
    "Cross validation was not used because of memory overflow on the huge dataset but can be done if more memory is available."
   ]
  },
  {
   "cell_type": "code",
   "execution_count": 14,
   "metadata": {},
   "outputs": [],
   "source": [
    "## cross validation to obtain parameters that fit the model best\n",
    "\n",
    "# from sklearn.model_selection import cross_validate\n",
    "\n",
    "# lasso = Lasso(warm_start=True)\n",
    "# br = BayesianRidge()\n",
    "# # lasso_cv = GridSearchCV(estimator=lasso, param_grid={\n",
    "# #     \"alpha\": [0.5,1., 5],\n",
    "# # },n_jobs=-1, verbose=2)\n",
    "\n",
    "# br_cv = GridSearchCV(estimator=br, param_grid={\n",
    "#     \"alpha_1\": [1e-7, 1e-6, 4e-6, 1e-5],\n",
    "#     \"alpha_2\" : [1e-7, 1e-6, 4e-6, 1e-5],\n",
    "#     \"lambda_1\" : [1e-7, 1e-6, 4e-6, 1e-5],\n",
    "#     \"lambda_2\" : [1e-7, 1e-6, 4e-6, 1e-5],\n",
    "# },n_jobs=-1)\n",
    "\n",
    "# # lasso_cv.fit(X_approval,y_approval)\n",
    "# # print(\"lasso GridSearchCV done\")\n",
    "# br_cv.fit(X_approval, y_approval)\n",
    "\n",
    "# print(\"Lasso Results:\\n\\n\", lasso_cv.cv_results_)\n",
    "# print(\"Br Results:\\n\\n\", br_cv.cv_results_)\n",
    "\n",
    "# print(lasso_cv.best_params_)\n",
    "# print(br_cv.best_params_)"
   ]
  },
  {
   "cell_type": "code",
   "execution_count": 9,
   "metadata": {},
   "outputs": [
    {
     "name": "stderr",
     "output_type": "stream",
     "text": [
      "c:\\users\\ivanl\\appdata\\local\\programs\\python\\python37\\lib\\site-packages\\sklearn\\linear_model\\_coordinate_descent.py:476: ConvergenceWarning: Objective did not converge. You might want to increase the number of iterations. Duality gap: 347325880248420.4, tolerance: 680735039961.7593\n",
      "  positive)\n"
     ]
    },
    {
     "name": "stdout",
     "output_type": "stream",
     "text": [
      "Adding fitted regression metrics ...\n"
     ]
    },
    {
     "name": "stderr",
     "output_type": "stream",
     "text": [
      "c:\\users\\ivanl\\appdata\\local\\programs\\python\\python37\\lib\\site-packages\\sklearn\\linear_model\\_coordinate_descent.py:476: ConvergenceWarning: Objective did not converge. You might want to increase the number of iterations. Duality gap: 342024891140838.5, tolerance: 679732494556.4001\n",
      "  positive)\n"
     ]
    },
    {
     "name": "stdout",
     "output_type": "stream",
     "text": [
      "Adding fitted regression metrics ...\n"
     ]
    },
    {
     "name": "stderr",
     "output_type": "stream",
     "text": [
      "c:\\users\\ivanl\\appdata\\local\\programs\\python\\python37\\lib\\site-packages\\sklearn\\linear_model\\_coordinate_descent.py:476: ConvergenceWarning: Objective did not converge. You might want to increase the number of iterations. Duality gap: 338443255612382.1, tolerance: 682407197101.5845\n",
      "  positive)\n"
     ]
    },
    {
     "name": "stdout",
     "output_type": "stream",
     "text": [
      "Adding fitted regression metrics ...\n"
     ]
    },
    {
     "name": "stderr",
     "output_type": "stream",
     "text": [
      "c:\\users\\ivanl\\appdata\\local\\programs\\python\\python37\\lib\\site-packages\\sklearn\\linear_model\\_coordinate_descent.py:476: ConvergenceWarning: Objective did not converge. You might want to increase the number of iterations. Duality gap: 316112220372415.4, tolerance: 681029979249.3157\n",
      "  positive)\n"
     ]
    },
    {
     "name": "stdout",
     "output_type": "stream",
     "text": [
      "Adding fitted regression metrics ...\n",
      "Adding fitted regression metrics ...\n"
     ]
    },
    {
     "data": {
      "text/plain": [
       "{'fitted_metrics': {'MSE': 1503970588.491368,\n",
       "  'Explained Variance': 0.8975489371552214,\n",
       "  'R^2': 0.8975489371552214,\n",
       "  'MAE': 28831.061447076216,\n",
       "  'MSPE': -3.3228737403687325,\n",
       "  'RMSE': array([38781.05966179])}}"
      ]
     },
     "execution_count": 9,
     "metadata": {},
     "output_type": "execute_result"
    }
   ],
   "source": [
    "## ML techniques - Lasso\n",
    "lasso = Lasso(warm_start=True)\n",
    "lasso_model = ML_Model(lasso, X_approval, y_approval, split_df)\n",
    "# lasso_model.fit()\n",
    "lasso_model.fit_multiple(5)\n",
    "lasso_model.get_metrics()\n",
    "# lasso.fit(X_train,y_train)\n",
    "# print(lasso.score(X_train, y_train))"
   ]
  },
  {
   "cell_type": "code",
   "execution_count": 22,
   "metadata": {},
   "outputs": [
    {
     "name": "stdout",
     "output_type": "stream",
     "text": [
      "Adding fitted regression metrics ...\n",
      "Adding fitted regression metrics ...\n",
      "Adding fitted regression metrics ...\n",
      "Adding fitted regression metrics ...\n",
      "Adding fitted regression metrics ...\n"
     ]
    },
    {
     "data": {
      "text/plain": [
       "{'fitted_metrics': {'MSE': 1504520740.673114,\n",
       "  'Explained Variance': 0.897556278965688,\n",
       "  'R^2': 0.897556278965688,\n",
       "  'MAE': 28828.945147050184,\n",
       "  'MSPE': 3.327312466420847,\n",
       "  'RMSE': 38788.15206571607}}"
      ]
     },
     "execution_count": 22,
     "metadata": {},
     "output_type": "execute_result"
    }
   ],
   "source": [
    "## ML techniques - Bayesian Ridge\n",
    "br = BayesianRidge()\n",
    "br_model = ML_Model(br, X_approval, y_approval, split_df)\n",
    "br_model.fit_multiple(5)\n",
    "br_model.get_metrics()"
   ]
  },
  {
   "cell_type": "markdown",
   "metadata": {},
   "source": [
    "### Deep Learning Techniques\n",
    "\n",
    "#### ANN"
   ]
  },
  {
   "cell_type": "code",
   "execution_count": 23,
   "metadata": {
    "scrolled": true
   },
   "outputs": [
    {
     "name": "stdout",
     "output_type": "stream",
     "text": [
      "Model: \"sequential\"\n",
      "_________________________________________________________________\n",
      "Layer (type)                 Output Shape              Param #   \n",
      "=================================================================\n",
      "dense (Dense)                (None, 128)               76800     \n",
      "_________________________________________________________________\n",
      "dense_1 (Dense)              (None, 64)                8256      \n",
      "_________________________________________________________________\n",
      "dense_2 (Dense)              (None, 10)                650       \n",
      "_________________________________________________________________\n",
      "dense_3 (Dense)              (None, 1)                 11        \n",
      "=================================================================\n",
      "Total params: 85,717\n",
      "Trainable params: 85,717\n",
      "Non-trainable params: 0\n",
      "_________________________________________________________________\n"
     ]
    }
   ],
   "source": [
    "X_train, X_test, y_train, y_test = split_df(X_approval, y_approval)\n",
    "# df = tf.data.Dataset.from_tensor_slices((X_train.values, y_train.values)).batch(16)\n",
    "\n",
    "## model definition\n",
    "model = tf.keras.Sequential([\n",
    "    tf.keras.layers.Dense(128, activation='relu', input_shape=[X_train.shape[1]]),\n",
    "    tf.keras.layers.Dense(64, activation='relu'),\n",
    "    tf.keras.layers.Dense(10, activation='relu'),\n",
    "    tf.keras.layers.Dense(1),\n",
    "])\n",
    "model.compile(optimizer='adam',\n",
    "                loss=tf.keras.losses.MeanSquaredError(),\n",
    "                metrics=['mse'])\n",
    "model.summary()"
   ]
  },
  {
   "cell_type": "code",
   "execution_count": 58,
   "metadata": {
    "scrolled": true
   },
   "outputs": [
    {
     "name": "stdout",
     "output_type": "stream",
     "text": [
      "Train on 370963 samples, validate on 92741 samples\n",
      "Epoch 1/100\n",
      "370963/370963 - 50s - loss: 3447286920.6956 - mse: 3447280128.0000 - val_loss: 3244787822.2867 - val_mse: 3244788224.0000\n",
      "Epoch 2/100\n",
      "370963/370963 - 48s - loss: 3034022297.7747 - mse: 3034023680.0000 - val_loss: 2803769352.8608 - val_mse: 2803768832.0000\n",
      "Epoch 3/100\n",
      "370963/370963 - 48s - loss: 2770714002.4666 - mse: 2770713600.0000 - val_loss: 2649099199.5093 - val_mse: 2649097216.0000\n",
      "Epoch 4/100\n",
      "370963/370963 - 48s - loss: 2599887695.5777 - mse: 2599887104.0000 - val_loss: 2378468175.5388 - val_mse: 2378470912.0000\n",
      "Epoch 5/100\n",
      "370963/370963 - 48s - loss: 2414514800.1889 - mse: 2414517248.0000 - val_loss: 2211344053.5679 - val_mse: 2211345408.0000\n",
      "Epoch 6/100\n",
      "370963/370963 - 49s - loss: 2273143400.7943 - mse: 2273140224.0000 - val_loss: 2119805405.8624 - val_mse: 2119805184.0000\n",
      "Epoch 7/100\n",
      "370963/370963 - 49s - loss: 2157785081.8789 - mse: 2157783296.0000 - val_loss: 1992559490.4830 - val_mse: 1992559616.0000\n",
      "Epoch 8/100\n",
      "370963/370963 - 49s - loss: 2096110009.9708 - mse: 2096105344.0000 - val_loss: 1957279399.1853 - val_mse: 1957278976.0000\n",
      "Epoch 9/100\n",
      "370963/370963 - 48s - loss: 2048904059.0898 - mse: 2048898432.0000 - val_loss: 1850552869.6805 - val_mse: 1850552192.0000\n",
      "Epoch 10/100\n",
      "370963/370963 - 49s - loss: 2020055914.0864 - mse: 2020056704.0000 - val_loss: 2376483422.4573 - val_mse: 2376481024.0000\n",
      "Epoch 11/100\n",
      "370963/370963 - 48s - loss: 1937459970.6586 - mse: 1937458048.0000 - val_loss: 1860465127.6010 - val_mse: 1860461568.0000\n",
      "Epoch 12/100\n",
      "370963/370963 - 47s - loss: 1882774373.8019 - mse: 1882772864.0000 - val_loss: 1873897765.0260 - val_mse: 1873898368.0000\n",
      "Epoch 13/100\n",
      "370963/370963 - 48s - loss: 1843309734.1412 - mse: 1843310336.0000 - val_loss: 1611924269.2733 - val_mse: 1611925504.0000\n",
      "Epoch 14/100\n",
      "370963/370963 - 48s - loss: 1811795533.5971 - mse: 1811795712.0000 - val_loss: 1515385219.7051 - val_mse: 1515384832.0000\n",
      "Epoch 15/100\n",
      "370963/370963 - 48s - loss: 1769620900.8987 - mse: 1769619584.0000 - val_loss: 1626737906.3958 - val_mse: 1626735104.0000\n",
      "Epoch 16/100\n",
      "370963/370963 - 46s - loss: 1742569777.6265 - mse: 1742572800.0000 - val_loss: 1531253343.3696 - val_mse: 1531250560.0000\n",
      "Epoch 17/100\n",
      "370963/370963 - 48s - loss: 1735974399.8758 - mse: 1735976320.0000 - val_loss: 1874208992.8975 - val_mse: 1874209408.0000\n",
      "Epoch 18/100\n",
      "370963/370963 - 46s - loss: 1904248938.9831 - mse: 1904246784.0000 - val_loss: 1799547690.7727 - val_mse: 1799548160.0000\n",
      "Epoch 19/100\n",
      "370963/370963 - 49s - loss: 1826867393.3757 - mse: 1826868352.0000 - val_loss: 1578133642.2375 - val_mse: 1578134144.0000\n",
      "Epoch 20/100\n",
      "370963/370963 - 52s - loss: 1744895824.5511 - mse: 1744891392.0000 - val_loss: 1697610713.2735 - val_mse: 1697608576.0000\n",
      "Epoch 21/100\n",
      "370963/370963 - 45s - loss: 1698361101.5045 - mse: 1698359680.0000 - val_loss: 1873825574.4465 - val_mse: 1873826176.0000\n",
      "Epoch 22/100\n",
      "370963/370963 - 51s - loss: 1676619803.1584 - mse: 1676621824.0000 - val_loss: 1423051825.2808 - val_mse: 1423051008.0000\n",
      "Epoch 23/100\n",
      "370963/370963 - 51s - loss: 1649604106.0802 - mse: 1649600512.0000 - val_loss: 1477892289.1990 - val_mse: 1477892480.0000\n",
      "Epoch 24/100\n",
      "370963/370963 - 53s - loss: 1636175353.8188 - mse: 1636176384.0000 - val_loss: 1545594129.4187 - val_mse: 1545594624.0000\n",
      "Epoch 25/100\n",
      "370963/370963 - 53s - loss: 1603695272.9092 - mse: 1603695488.0000 - val_loss: 1410005796.7806 - val_mse: 1410006656.0000\n",
      "Epoch 26/100\n",
      "370963/370963 - 54s - loss: 1591523776.1144 - mse: 1591525376.0000 - val_loss: 1564123230.0507 - val_mse: 1564122368.0000\n",
      "Epoch 27/100\n",
      "370963/370963 - 52s - loss: 1564215252.6906 - mse: 1564213632.0000 - val_loss: 1374185025.4644 - val_mse: 1374187392.0000\n",
      "Epoch 28/100\n",
      "370963/370963 - 52s - loss: 1549577670.6358 - mse: 1549576960.0000 - val_loss: 1442683064.9441 - val_mse: 1442682880.0000\n",
      "Epoch 29/100\n",
      "370963/370963 - 53s - loss: 1538129012.8905 - mse: 1538130304.0000 - val_loss: 1287647975.0862 - val_mse: 1287648000.0000\n",
      "Epoch 30/100\n",
      "370963/370963 - 51s - loss: 1516528184.0920 - mse: 1516528896.0000 - val_loss: 1501494776.0594 - val_mse: 1501496064.0000\n",
      "Epoch 31/100\n",
      "370963/370963 - 51s - loss: 1491131771.1414 - mse: 1491133056.0000 - val_loss: 1334947701.1531 - val_mse: 1334947968.0000\n",
      "Epoch 32/100\n",
      "370963/370963 - 50s - loss: 1474604332.1527 - mse: 1474607232.0000 - val_loss: 1343167295.5625 - val_mse: 1343165952.0000\n",
      "Epoch 33/100\n",
      "370963/370963 - 50s - loss: 1486215065.0567 - mse: 1486215168.0000 - val_loss: 1292726537.1172 - val_mse: 1292726656.0000\n",
      "Epoch 34/100\n",
      "370963/370963 - 50s - loss: 1462791888.1907 - mse: 1462793984.0000 - val_loss: 1753931709.3811 - val_mse: 1753930880.0000\n",
      "Epoch 35/100\n",
      "370963/370963 - 49s - loss: 1452481550.7059 - mse: 1452483584.0000 - val_loss: 1566387813.8171 - val_mse: 1566388352.0000\n",
      "Epoch 36/100\n",
      "370963/370963 - 50s - loss: 1429521794.0087 - mse: 1429520384.0000 - val_loss: 1937839841.0496 - val_mse: 1937842048.0000\n",
      "Epoch 37/100\n",
      "370963/370963 - 51s - loss: 1427359196.2893 - mse: 1427355520.0000 - val_loss: 1253151542.1475 - val_mse: 1253153408.0000\n",
      "Epoch 38/100\n",
      "370963/370963 - 157s - loss: 1436363049.0669 - mse: 1436364928.0000 - val_loss: 1551455749.9652 - val_mse: 1551456640.0000\n",
      "Epoch 39/100\n",
      "370963/370963 - 51s - loss: 1405174283.1947 - mse: 1405174528.0000 - val_loss: 1267971214.9033 - val_mse: 1267971328.0000\n",
      "Epoch 40/100\n",
      "370963/370963 - 50s - loss: 1406937829.5900 - mse: 1406940032.0000 - val_loss: 1409749447.3612 - val_mse: 1409749888.0000\n",
      "Epoch 41/100\n",
      "370963/370963 - 51s - loss: 1386035784.3443 - mse: 1386036352.0000 - val_loss: 1242591338.0950 - val_mse: 1242593280.0000\n",
      "Epoch 42/100\n",
      "370963/370963 - 52s - loss: 1376060791.9400 - mse: 1376062848.0000 - val_loss: 1703438150.1177 - val_mse: 1703436544.0000\n",
      "Epoch 43/100\n",
      "370963/370963 - 52s - loss: 1376362059.0945 - mse: 1376364544.0000 - val_loss: 1754357770.9394 - val_mse: 1754358272.0000\n",
      "Epoch 44/100\n",
      "370963/370963 - 50s - loss: 1368664069.9419 - mse: 1368663168.0000 - val_loss: 1151167096.0446 - val_mse: 1151168000.0000\n",
      "Epoch 45/100\n",
      "370963/370963 - 51s - loss: 1363607741.1741 - mse: 1363609088.0000 - val_loss: 1176529216.6087 - val_mse: 1176529152.0000\n",
      "Epoch 46/100\n",
      "370963/370963 - 51s - loss: 1341178736.9340 - mse: 1341179136.0000 - val_loss: 1377198715.7834 - val_mse: 1377199616.0000\n",
      "Epoch 47/100\n",
      "370963/370963 - 52s - loss: 1342837426.3258 - mse: 1342837376.0000 - val_loss: 1329184772.8997 - val_mse: 1329184896.0000\n",
      "Epoch 48/100\n",
      "370963/370963 - 51s - loss: 1333625559.4270 - mse: 1333623936.0000 - val_loss: 1167995356.0741 - val_mse: 1167996288.0000\n",
      "Epoch 49/100\n",
      "370963/370963 - 49s - loss: 1315304815.9715 - mse: 1315304064.0000 - val_loss: 1160119166.1085 - val_mse: 1160120064.0000\n",
      "Epoch 50/100\n",
      "370963/370963 - 51s - loss: 1321563636.5292 - mse: 1321561984.0000 - val_loss: 1125958764.5483 - val_mse: 1125957632.0000\n",
      "Epoch 51/100\n",
      "370963/370963 - 52s - loss: 1300067445.1593 - mse: 1300069504.0000 - val_loss: 1478520659.0987 - val_mse: 1478519680.0000\n",
      "Epoch 52/100\n",
      "370963/370963 - 50s - loss: 1298563096.3466 - mse: 1298562304.0000 - val_loss: 1101196844.0825 - val_mse: 1101198208.0000\n",
      "Epoch 53/100\n",
      "370963/370963 - 49s - loss: 1305123488.6584 - mse: 1305124096.0000 - val_loss: 1212381833.3729 - val_mse: 1212382976.0000\n",
      "Epoch 54/100\n",
      "370963/370963 - 51s - loss: 1289297934.6877 - mse: 1289299840.0000 - val_loss: 1232705952.3421 - val_mse: 1232706688.0000\n",
      "Epoch 55/100\n",
      "370963/370963 - 51s - loss: 1292014196.4514 - mse: 1292012416.0000 - val_loss: 1357987641.0590 - val_mse: 1357987072.0000\n",
      "Epoch 56/100\n",
      "370963/370963 - 50s - loss: 1263718311.3500 - mse: 1263716608.0000 - val_loss: 1062047165.4956 - val_mse: 1062046592.0000\n",
      "Epoch 57/100\n",
      "370963/370963 - 51s - loss: 1259728231.0741 - mse: 1259726848.0000 - val_loss: 1073882507.5460 - val_mse: 1073882752.0000\n",
      "Epoch 58/100\n",
      "370963/370963 - 51s - loss: 1237842934.3407 - mse: 1237846784.0000 - val_loss: 1198829836.8551 - val_mse: 1198830464.0000\n",
      "Epoch 59/100\n",
      "370963/370963 - 49s - loss: 1224641325.1826 - mse: 1224640512.0000 - val_loss: 1260048734.7668 - val_mse: 1260049280.0000\n",
      "Epoch 60/100\n",
      "370963/370963 - 51s - loss: 1223689789.0931 - mse: 1223688192.0000 - val_loss: 1269781477.1830 - val_mse: 1269780736.0000\n",
      "Epoch 61/100\n",
      "370963/370963 - 51s - loss: 1216013446.6570 - mse: 1216013824.0000 - val_loss: 1424383434.5712 - val_mse: 1424383616.0000\n"
     ]
    },
    {
     "name": "stdout",
     "output_type": "stream",
     "text": [
      "Epoch 62/100\n",
      "370963/370963 - 51s - loss: 1223076995.0737 - mse: 1223076096.0000 - val_loss: 1104402973.0654 - val_mse: 1104402304.0000\n",
      "Epoch 63/100\n",
      "370963/370963 - 51s - loss: 1195211769.6032 - mse: 1195210880.0000 - val_loss: 1004533237.4112 - val_mse: 1004531968.0000\n",
      "Epoch 64/100\n",
      "370963/370963 - 50s - loss: 1198007280.1582 - mse: 1198006016.0000 - val_loss: 1185493035.4975 - val_mse: 1185493376.0000\n",
      "Epoch 65/100\n",
      "370963/370963 - 50s - loss: 1186216426.5932 - mse: 1186218240.0000 - val_loss: 1758408866.5834 - val_mse: 1758410240.0000\n",
      "Epoch 66/100\n",
      "370963/370963 - 50s - loss: 1187714817.8991 - mse: 1187716096.0000 - val_loss: 1352742328.4921 - val_mse: 1352742784.0000\n",
      "Epoch 67/100\n",
      "370963/370963 - 50s - loss: 1181425246.8752 - mse: 1181424768.0000 - val_loss: 1607600722.6760 - val_mse: 1607601280.0000\n",
      "Epoch 68/100\n",
      "370963/370963 - 256s - loss: 1168176210.1483 - mse: 1168174208.0000 - val_loss: 1072634745.8316 - val_mse: 1072635072.0000\n",
      "Epoch 69/100\n",
      "370963/370963 - 50s - loss: 1172150682.8775 - mse: 1172150912.0000 - val_loss: 1188564473.9265 - val_mse: 1188563712.0000\n",
      "Epoch 70/100\n",
      "370963/370963 - 51s - loss: 1158379833.8398 - mse: 1158378112.0000 - val_loss: 1100093173.6565 - val_mse: 1100091520.0000\n",
      "Epoch 71/100\n",
      "370963/370963 - 51s - loss: 1161233358.8804 - mse: 1161236736.0000 - val_loss: 984888416.5593 - val_mse: 984888512.0000\n",
      "Epoch 72/100\n",
      "370963/370963 - 50s - loss: 1153481400.5778 - mse: 1153480064.0000 - val_loss: 1805681778.8758 - val_mse: 1805681664.0000\n",
      "Epoch 73/100\n",
      "370963/370963 - 51s - loss: 1150425860.0874 - mse: 1150427136.0000 - val_loss: 1125266246.4693 - val_mse: 1125267072.0000\n",
      "Epoch 74/100\n",
      "370963/370963 - 3587s - loss: 1148163859.5885 - mse: 1148164224.0000 - val_loss: 997023664.7959 - val_mse: 997023808.0000\n",
      "Epoch 75/100\n",
      "370963/370963 - 42s - loss: 1133998215.4175 - mse: 1133997696.0000 - val_loss: 1018833823.4614 - val_mse: 1018833280.0000\n",
      "Epoch 76/100\n",
      "370963/370963 - 44s - loss: 1129998521.8412 - mse: 1129994752.0000 - val_loss: 1067907255.2030 - val_mse: 1067907392.0000\n",
      "Epoch 77/100\n",
      "370963/370963 - 50s - loss: 1127379331.2464 - mse: 1127377152.0000 - val_loss: 1006339312.8197 - val_mse: 1006338176.0000\n",
      "Epoch 78/100\n",
      "370963/370963 - 49s - loss: 1128286921.0268 - mse: 1128286208.0000 - val_loss: 968303461.5956 - val_mse: 968302464.0000\n",
      "Epoch 79/100\n",
      "370963/370963 - 45s - loss: 1114737669.4951 - mse: 1114739072.0000 - val_loss: 1221485364.2760 - val_mse: 1221485568.0000\n",
      "Epoch 80/100\n",
      "370963/370963 - 51s - loss: 1126095420.4162 - mse: 1126099200.0000 - val_loss: 939983811.9046 - val_mse: 939984832.0000\n",
      "Epoch 81/100\n",
      "370963/370963 - 47s - loss: 1117601704.8899 - mse: 1117605248.0000 - val_loss: 1215208766.5191 - val_mse: 1215208192.0000\n",
      "Epoch 82/100\n",
      "370963/370963 - 49s - loss: 1113576839.3437 - mse: 1113577472.0000 - val_loss: 1265782309.5328 - val_mse: 1265781248.0000\n",
      "Epoch 83/100\n",
      "370963/370963 - 49s - loss: 1113885091.2304 - mse: 1113885312.0000 - val_loss: 1123221762.0344 - val_mse: 1123222016.0000\n",
      "Epoch 84/100\n",
      "370963/370963 - 46s - loss: 1108859783.4617 - mse: 1108861312.0000 - val_loss: 986731907.0060 - val_mse: 986731200.0000\n",
      "Epoch 85/100\n",
      "370963/370963 - 49s - loss: 1102549919.5205 - mse: 1102550912.0000 - val_loss: 949813287.7266 - val_mse: 949813760.0000\n",
      "Epoch 86/100\n",
      "370963/370963 - 48s - loss: 1108359597.1975 - mse: 1108361728.0000 - val_loss: 982081241.6881 - val_mse: 982081408.0000\n",
      "Epoch 87/100\n",
      "370963/370963 - 49s - loss: 1087612095.0482 - mse: 1087608960.0000 - val_loss: 1011876582.4079 - val_mse: 1011877760.0000\n",
      "Epoch 88/100\n",
      "370963/370963 - 49s - loss: 1090194538.4361 - mse: 1090195584.0000 - val_loss: 1131111637.3591 - val_mse: 1131110016.0000\n",
      "Epoch 89/100\n",
      "370963/370963 - 51s - loss: 1080734055.9779 - mse: 1080736896.0000 - val_loss: 935832669.5905 - val_mse: 935832128.0000\n",
      "Epoch 90/100\n",
      "370963/370963 - 50s - loss: 1093309075.8527 - mse: 1093309568.0000 - val_loss: 961199983.0685 - val_mse: 961200576.0000\n",
      "Epoch 91/100\n",
      "370963/370963 - 40718s - loss: 1082777694.8855 - mse: 1082776064.0000 - val_loss: 976235053.3454 - val_mse: 976234240.0000\n",
      "Epoch 92/100\n",
      "370963/370963 - 25s - loss: 1092174714.2643 - mse: 1092175488.0000 - val_loss: 1121077107.2422 - val_mse: 1121076736.0000\n",
      "Epoch 93/100\n",
      "370963/370963 - 28s - loss: 1078600211.8018 - mse: 1078601600.0000 - val_loss: 1077137565.1033 - val_mse: 1077137792.0000\n",
      "Epoch 94/100\n",
      "370963/370963 - 26s - loss: 1075881095.9123 - mse: 1075876096.0000 - val_loss: 1024249555.7005 - val_mse: 1024250304.0000\n",
      "Epoch 95/100\n",
      "370963/370963 - 51s - loss: 1082924091.5217 - mse: 1082922496.0000 - val_loss: 1047383918.9485 - val_mse: 1047384448.0000\n",
      "Epoch 96/100\n",
      "370963/370963 - 50s - loss: 1065693952.3873 - mse: 1065692032.0000 - val_loss: 1309901059.0764 - val_mse: 1309900672.0000\n",
      "Epoch 97/100\n",
      "370963/370963 - 44s - loss: 1057687636.6713 - mse: 1057687104.0000 - val_loss: 1028104391.8146 - val_mse: 1028105728.0000\n",
      "Epoch 98/100\n",
      "370963/370963 - 45s - loss: 1064643578.0540 - mse: 1064642688.0000 - val_loss: 912726694.7736 - val_mse: 912726400.0000\n",
      "Epoch 99/100\n",
      "370963/370963 - 44s - loss: 1071335830.0932 - mse: 1071335616.0000 - val_loss: 1283007829.2680 - val_mse: 1283008256.0000\n",
      "Epoch 100/100\n",
      "370963/370963 - 49s - loss: 1066140757.3148 - mse: 1066141504.0000 - val_loss: 1287469982.0039 - val_mse: 1287470720.0000\n"
     ]
    }
   ],
   "source": [
    "## training code. Skip this if there is pre-trained model already\n",
    "EPOCHS = 100\n",
    "\n",
    "history = model.fit(\n",
    "  X_train, y_train,\n",
    "  epochs=EPOCHS, validation_split = 0.2, verbose=2)\n",
    "\n",
    "## save model\n",
    "model.save_weights(\"./checkpoints/ann-epoch-100\")"
   ]
  },
  {
   "cell_type": "markdown",
   "metadata": {},
   "source": [
    "### Checking Model Assumptions"
   ]
  },
  {
   "cell_type": "markdown",
   "metadata": {},
   "source": [
    "In this section, we look at whether the fitted model satifies assumptions in the underlying model. \n",
    "\n",
    "For example, regression requires data to be homoscedastic. We observe this in a residual plot or QQ-plot, where residuals should look like a random variable with mean 0 while QQ-plot should show a straight line."
   ]
  },
  {
   "cell_type": "markdown",
   "metadata": {},
   "source": [
    "**Residual Plot**"
   ]
  },
  {
   "cell_type": "code",
   "execution_count": 24,
   "metadata": {},
   "outputs": [
    {
     "ename": "AttributeError",
     "evalue": "'numpy.ndarray' object has no attribute 'values'",
     "output_type": "error",
     "traceback": [
      "\u001b[1;31m---------------------------------------------------------------------------\u001b[0m",
      "\u001b[1;31mAttributeError\u001b[0m                            Traceback (most recent call last)",
      "\u001b[1;32m<ipython-input-24-eafc971a348b>\u001b[0m in \u001b[0;36m<module>\u001b[1;34m\u001b[0m\n\u001b[0;32m     11\u001b[0m                         \u001b[0mindex\u001b[0m\u001b[1;33m=\u001b[0m \u001b[0mbr_model\u001b[0m\u001b[1;33m.\u001b[0m\u001b[0my_train\u001b[0m\u001b[1;33m.\u001b[0m\u001b[0mindex\u001b[0m\u001b[1;33m,\u001b[0m\u001b[1;33m\u001b[0m\u001b[1;33m\u001b[0m\u001b[0m\n\u001b[0;32m     12\u001b[0m                         \u001b[0mmodel\u001b[0m\u001b[1;33m=\u001b[0m \u001b[0mbr_model\u001b[0m\u001b[1;33m,\u001b[0m\u001b[1;33m\u001b[0m\u001b[1;33m\u001b[0m\u001b[0m\n\u001b[1;32m---> 13\u001b[1;33m                         X=br_model.X_train)\n\u001b[0m",
      "\u001b[1;32m~\\Desktop\\Ivan\\uni\\QFE\\QFHousing\\housing\\statplots.py\u001b[0m in \u001b[0;36m__init__\u001b[1;34m(self, fitted_y, test_y, index, model, X)\u001b[0m\n\u001b[0;32m     17\u001b[0m         \u001b[0mself\u001b[0m\u001b[1;33m.\u001b[0m\u001b[0mmodel\u001b[0m \u001b[1;33m=\u001b[0m \u001b[0mmodel\u001b[0m\u001b[1;33m\u001b[0m\u001b[1;33m\u001b[0m\u001b[0m\n\u001b[0;32m     18\u001b[0m         \u001b[0mself\u001b[0m\u001b[1;33m.\u001b[0m\u001b[0mX\u001b[0m \u001b[1;33m=\u001b[0m \u001b[0mX\u001b[0m\u001b[1;33m\u001b[0m\u001b[1;33m\u001b[0m\u001b[0m\n\u001b[1;32m---> 19\u001b[1;33m         \u001b[0mdf\u001b[0m \u001b[1;33m=\u001b[0m \u001b[0mpd\u001b[0m\u001b[1;33m.\u001b[0m\u001b[0mDataFrame\u001b[0m\u001b[1;33m(\u001b[0m\u001b[0mfitted_y\u001b[0m\u001b[1;33m.\u001b[0m\u001b[0mvalues\u001b[0m\u001b[1;33m,\u001b[0m \u001b[0mindex\u001b[0m\u001b[1;33m.\u001b[0m\u001b[0mvalues\u001b[0m\u001b[1;33m)\u001b[0m\u001b[1;33m\u001b[0m\u001b[1;33m\u001b[0m\u001b[0m\n\u001b[0m\u001b[0;32m     20\u001b[0m         \u001b[0mdf\u001b[0m\u001b[1;33m[\u001b[0m\u001b[1;34m'test_y'\u001b[0m\u001b[1;33m]\u001b[0m \u001b[1;33m=\u001b[0m \u001b[0mtest_y\u001b[0m\u001b[1;33m.\u001b[0m\u001b[0mvalues\u001b[0m\u001b[1;33m\u001b[0m\u001b[1;33m\u001b[0m\u001b[0m\n\u001b[0;32m     21\u001b[0m         \u001b[0mdf\u001b[0m\u001b[1;33m.\u001b[0m\u001b[0mcolumns\u001b[0m \u001b[1;33m=\u001b[0m \u001b[1;33m[\u001b[0m\u001b[1;34m'fitted_y'\u001b[0m\u001b[1;33m,\u001b[0m\u001b[1;34m'test_y'\u001b[0m\u001b[1;33m]\u001b[0m\u001b[1;33m\u001b[0m\u001b[1;33m\u001b[0m\u001b[0m\n",
      "\u001b[1;31mAttributeError\u001b[0m: 'numpy.ndarray' object has no attribute 'values'"
     ]
    }
   ],
   "source": [
    "from housing.ModelChecking import *\n",
    "from housing.statplots import statplots\n",
    "\n",
    "# statplots_lasso = statplots(fitted_y=br_model.predict(br_model.X_train), \n",
    "#                         test_y= br_model.y_train,\n",
    "#                         index= br_model.y_train.index,\n",
    "#                         model= lasso_model,\n",
    "#                         X=br_model.X_train)\n",
    "statplots_br = statplots(fitted_y=br_model.predict(br_model.X_train), \n",
    "                        test_y= br_model.y_train,\n",
    "                        index= br_model.y_train.index,\n",
    "                        model= br_model,\n",
    "                        X=br_model.X_train)"
   ]
  },
  {
   "cell_type": "code",
   "execution_count": 25,
   "metadata": {
    "scrolled": false
   },
   "outputs": [
    {
     "data": {
      "image/png": "[encoded data removed]",
      "text/plain": [
       "<Figure size 432x288 with 1 Axes>"
      ]
     },
     "metadata": {
      "needs_background": "light"
     },
     "output_type": "display_data"
    },
    {
     "data": {
      "image/png": "[encoded data removed]",
      "text/plain": [
       "<Figure size 432x288 with 1 Axes>"
      ]
     },
     "metadata": {
      "needs_background": "light"
     },
     "output_type": "display_data"
    },
    {
     "data": {
      "image/png": "[encoded data removed]",
      "text/plain": [
       "<Figure size 432x288 with 1 Axes>"
      ]
     },
     "metadata": {
      "needs_background": "light"
     },
     "output_type": "display_data"
    }
   ],
   "source": [
    "statistical_plots(br_model.preds, br_model.y_test)"
   ]
  },
  {
   "cell_type": "code",
   "execution_count": 24,
   "metadata": {
    "scrolled": true
   },
   "outputs": [
    {
     "data": {
      "text/plain": [
       "(1127.8298890627652, 3274205.5286683333)"
      ]
     },
     "execution_count": 24,
     "metadata": {},
     "output_type": "execute_result"
    }
   ],
   "source": [
    "AIC_BIC(br_model.preds, br_model.y_test, X_approval.shape[1]+1)"
   ]
  },
  {
   "cell_type": "markdown",
   "metadata": {},
   "source": [
    "### **Model Performance**\n",
    "- Looking at regression metrics on OOB data"
   ]
  },
  {
   "cell_type": "code",
   "execution_count": 11,
   "metadata": {},
   "outputs": [
    {
     "name": "stdout",
     "output_type": "stream",
     "text": [
      "Adding OOB regression metrics ...\n",
      "Adding OOB regression metrics ...\n"
     ]
    }
   ],
   "source": [
    "## fitting test values and getting regression performance statistics\n",
    "lasso_preds = lasso_model.predict_test()\n",
    "br_preds = br_model.predict_test()"
   ]
  },
  {
   "cell_type": "code",
   "execution_count": 13,
   "metadata": {},
   "outputs": [
    {
     "data": {
      "text/plain": [
       "{'fitted_metrics': {'MSE': 1502595888.892615,\n",
       "  'Explained Variance': 0.8976799395347832,\n",
       "  'R^2': 0.8976799395347832,\n",
       "  'MAE': 28816.165963572734,\n",
       "  'MSPE': -3.322059527308563,\n",
       "  'RMSE': array([38763.33175686])},\n",
       " 'test_metrics': {'MSE': 1503349263.048181,\n",
       "  'Explained Variance': 0.8978396623662471,\n",
       "  'R^2': 0.897838796130808,\n",
       "  'MAE': 28825.791967386285,\n",
       "  'RMSE': array([38773.04815266]),\n",
       "  'MSPE': 2.300706410058545}}"
      ]
     },
     "execution_count": 13,
     "metadata": {},
     "output_type": "execute_result"
    }
   ],
   "source": [
    "br_model.get_metrics()"
   ]
  },
  {
   "cell_type": "code",
   "execution_count": 14,
   "metadata": {},
   "outputs": [
    {
     "data": {
      "text/plain": [
       "{'fitted_metrics': {'MSE': 1503970588.491368,\n",
       "  'Explained Variance': 0.8975489371552214,\n",
       "  'R^2': 0.8975489371552214,\n",
       "  'MAE': 28831.061447076216,\n",
       "  'MSPE': -3.3228737403687325,\n",
       "  'RMSE': array([38781.05966179])},\n",
       " 'test_metrics': {'MSE': 1516263806.4344075,\n",
       "  'Explained Variance': 0.8973730782423266,\n",
       "  'R^2': 0.8973730334622514,\n",
       "  'MAE': 28882.62774134478,\n",
       "  'RMSE': array([38939.23222708]),\n",
       "  'MSPE': 2.3228620817265915}}"
      ]
     },
     "execution_count": 14,
     "metadata": {},
     "output_type": "execute_result"
    }
   ],
   "source": [
    "lasso_model.get_metrics()"
   ]
  },
  {
   "cell_type": "code",
   "execution_count": 72,
   "metadata": {
    "scrolled": true
   },
   "outputs": [
    {
     "name": "stdout",
     "output_type": "stream",
     "text": [
      "MSE:  1284553965.9057705\n",
      "RMSE:  [35840.67474122]\n",
      "MAE:  26310.550820737575\n",
      "Explained Variance:  0.9290026400224778\n",
      "MAPE:  7.690866123023496\n"
     ]
    }
   ],
   "source": [
    "## prediction\n",
    "model.load_weights(\"./checkpoints/ann-epoch-100\")\n",
    "y_pred = model.predict(X_test)\n",
    "\n",
    "from sklearn.metrics import mean_squared_error, mean_absolute_error, explained_variance_score\n",
    "print(\"MSE: \",mean_squared_error(y_pred, y_test))\n",
    "print(\"RMSE: \", np.sqrt([mean_squared_error(y_pred, y_test)]))\n",
    "print(\"MAE: \", mean_absolute_error(y_pred, y_test))\n",
    "print(\"Explained Variance: \", explained_variance_score(y_pred, y_test))\n",
    "print(\"MAPE: \", np.average(np.divide((np.reshape(y_pred, (1,-1))[0] - np.array(y_test)) ,y_test))*100)"
   ]
  },
  {
   "cell_type": "markdown",
   "metadata": {},
   "source": [
    "The **ANN model** gives the lowest RMSE and hence would be the best model to forecast housing resale prices.\n",
    "\n",
    "Looking at Explained Variance, ANN explains most of the variance in the test observations as well."
   ]
  },
  {
   "cell_type": "markdown",
   "metadata": {},
   "source": [
    "### Further Improvements"
   ]
  },
  {
   "cell_type": "code",
   "execution_count": 6,
   "metadata": {},
   "outputs": [],
   "source": [
    "'''\n",
    "Instead of putting the past price as a predictor, we let the predictor be a differential of the previous known price, similar to getting differentials in ARIMA models. \n",
    "\n",
    "We compare this method against the former method, to see which method is better in prediction with a possible explanation\n",
    "'''\n",
    "differential_df = final_df.copy(deep=True)\n",
    "differential_df[\"price_difference\"] = differential_df[\"resale_price\"] - differential_df[\"last_known_price\"]\n",
    "differential_df.drop([\"resale_price\", \"last_known_price\"], axis=1, inplace=True)"
   ]
  },
  {
   "cell_type": "code",
   "execution_count": 9,
   "metadata": {},
   "outputs": [
    {
     "data": {
      "text/plain": [
       "<matplotlib.collections.PathCollection at 0x222287bf5c8>"
      ]
     },
     "execution_count": 9,
     "metadata": {},
     "output_type": "execute_result"
    },
    {
     "data": {
      "image/png": "[encoded data removed]",
      "text/plain": [
       "<Figure size 720x432 with 1 Axes>"
      ]
     },
     "metadata": {
      "needs_background": "light"
     },
     "output_type": "display_data"
    }
   ],
   "source": [
    "plt.figure(figsize=(10,6))\n",
    "plt.title(\"Distribution of price differences\")\n",
    "plt.scatter(differential_df.index, differential_df[\"price_difference\"])"
   ]
  },
  {
   "cell_type": "markdown",
   "metadata": {},
   "source": [
    "As stated in the report, there could be a possibility of applying time series models if the data were to be more consistent - there's observation for regular time intervals (eg. month, year). The above plot shows the first difference between resale prices and it is clear that the first difference is stationary, allowing usage for time-series methods such as **ARIMA(p,1,q)** on better datasets in the future."
   ]
  },
  {
   "cell_type": "code",
   "execution_count": null,
   "metadata": {},
   "outputs": [],
   "source": []
  }
 ],
 "metadata": {
  "kernelspec": {
   "display_name": "Python 3",
   "language": "python",
   "name": "python3"
  },
  "language_info": {
   "codemirror_mode": {
    "name": "ipython",
    "version": 3
   },
   "file_extension": ".py",
   "mimetype": "text/x-python",
   "name": "python",
   "nbconvert_exporter": "python",
   "pygments_lexer": "ipython3",
   "version": "3.7.6"
  }
 },
 "nbformat": 4,
 "nbformat_minor": 4
}
