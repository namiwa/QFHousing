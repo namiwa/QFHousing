{
 "cells": [
  {
   "cell_type": "markdown",
   "metadata": {},
   "source": [
    "Import Relevant Libraries"
   ]
  },
  {
   "cell_type": "code",
   "execution_count": 1,
   "metadata": {},
   "outputs": [],
   "source": [
    "from __future__ import absolute_import, division, print_function, unicode_literals\n",
    "\n",
    "import pathlib\n",
    "\n",
    "import matplotlib.pyplot as plt\n",
    "import numpy as np\n",
    "import pandas as pd\n",
    "import seaborn as sns\n",
    "\n",
    "%matplotlib inline"
   ]
  },
  {
   "cell_type": "code",
   "execution_count": 2,
   "metadata": {},
   "outputs": [
    {
     "name": "stdout",
     "output_type": "stream",
     "text": [
      "2.1.0\n"
     ]
    }
   ],
   "source": [
    "import tensorflow as tf\n",
    "\n",
    "from tensorflow import keras\n",
    "from tensorflow.keras import layers\n",
    "\n",
    "print(tf.__version__)"
   ]
  },
  {
   "cell_type": "markdown",
   "metadata": {},
   "source": [
    "Inspect Data"
   ]
  },
  {
   "cell_type": "code",
   "execution_count": 3,
   "metadata": {},
   "outputs": [],
   "source": [
    "resale_approval_full = pd.read_csv(\"data/fixed_resale_with_bus.csv\", index_col=0)"
   ]
  },
  {
   "cell_type": "markdown",
   "metadata": {},
   "source": [
    "Our raw dataset looks as such:"
   ]
  },
  {
   "cell_type": "code",
   "execution_count": 4,
   "metadata": {},
   "outputs": [
    {
     "data": {
      "text/html": [
       "<div>\n",
       "<style scoped>\n",
       "    .dataframe tbody tr th:only-of-type {\n",
       "        vertical-align: middle;\n",
       "    }\n",
       "\n",
       "    .dataframe tbody tr th {\n",
       "        vertical-align: top;\n",
       "    }\n",
       "\n",
       "    .dataframe thead th {\n",
       "        text-align: right;\n",
       "    }\n",
       "</style>\n",
       "<table border=\"1\" class=\"dataframe\">\n",
       "  <thead>\n",
       "    <tr style=\"text-align: right;\">\n",
       "      <th></th>\n",
       "      <th>month</th>\n",
       "      <th>town</th>\n",
       "      <th>flat_type</th>\n",
       "      <th>block</th>\n",
       "      <th>street_name</th>\n",
       "      <th>storey_range</th>\n",
       "      <th>floor_area_sqm</th>\n",
       "      <th>flat_model</th>\n",
       "      <th>lease_commence_date</th>\n",
       "      <th>resale_price</th>\n",
       "      <th>busstops</th>\n",
       "    </tr>\n",
       "    <tr>\n",
       "      <th>index</th>\n",
       "      <th></th>\n",
       "      <th></th>\n",
       "      <th></th>\n",
       "      <th></th>\n",
       "      <th></th>\n",
       "      <th></th>\n",
       "      <th></th>\n",
       "      <th></th>\n",
       "      <th></th>\n",
       "      <th></th>\n",
       "      <th></th>\n",
       "    </tr>\n",
       "  </thead>\n",
       "  <tbody>\n",
       "    <tr>\n",
       "      <th>0</th>\n",
       "      <td>1990-01</td>\n",
       "      <td>ANG MO KIO</td>\n",
       "      <td>1 ROOM</td>\n",
       "      <td>309</td>\n",
       "      <td>ANG MO KIO AVE 1</td>\n",
       "      <td>10 TO 12</td>\n",
       "      <td>31.0</td>\n",
       "      <td>IMPROVED</td>\n",
       "      <td>1977</td>\n",
       "      <td>9000.0</td>\n",
       "      <td>0.0</td>\n",
       "    </tr>\n",
       "    <tr>\n",
       "      <th>1</th>\n",
       "      <td>1990-01</td>\n",
       "      <td>ANG MO KIO</td>\n",
       "      <td>1 ROOM</td>\n",
       "      <td>309</td>\n",
       "      <td>ANG MO KIO AVE 1</td>\n",
       "      <td>04 TO 06</td>\n",
       "      <td>31.0</td>\n",
       "      <td>IMPROVED</td>\n",
       "      <td>1977</td>\n",
       "      <td>6000.0</td>\n",
       "      <td>0.0</td>\n",
       "    </tr>\n",
       "    <tr>\n",
       "      <th>2</th>\n",
       "      <td>1990-01</td>\n",
       "      <td>ANG MO KIO</td>\n",
       "      <td>1 ROOM</td>\n",
       "      <td>309</td>\n",
       "      <td>ANG MO KIO AVE 1</td>\n",
       "      <td>10 TO 12</td>\n",
       "      <td>31.0</td>\n",
       "      <td>IMPROVED</td>\n",
       "      <td>1977</td>\n",
       "      <td>8000.0</td>\n",
       "      <td>0.0</td>\n",
       "    </tr>\n",
       "    <tr>\n",
       "      <th>3</th>\n",
       "      <td>1990-01</td>\n",
       "      <td>ANG MO KIO</td>\n",
       "      <td>1 ROOM</td>\n",
       "      <td>309</td>\n",
       "      <td>ANG MO KIO AVE 1</td>\n",
       "      <td>07 TO 09</td>\n",
       "      <td>31.0</td>\n",
       "      <td>IMPROVED</td>\n",
       "      <td>1977</td>\n",
       "      <td>6000.0</td>\n",
       "      <td>0.0</td>\n",
       "    </tr>\n",
       "    <tr>\n",
       "      <th>4</th>\n",
       "      <td>1990-01</td>\n",
       "      <td>ANG MO KIO</td>\n",
       "      <td>3 ROOM</td>\n",
       "      <td>216</td>\n",
       "      <td>ANG MO KIO AVE 1</td>\n",
       "      <td>04 TO 06</td>\n",
       "      <td>73.0</td>\n",
       "      <td>NEW GENERATION</td>\n",
       "      <td>1976</td>\n",
       "      <td>47200.0</td>\n",
       "      <td>1.0</td>\n",
       "    </tr>\n",
       "  </tbody>\n",
       "</table>\n",
       "</div>"
      ],
      "text/plain": [
       "         month        town flat_type block       street_name storey_range  \\\n",
       "index                                                                       \n",
       "0      1990-01  ANG MO KIO    1 ROOM   309  ANG MO KIO AVE 1     10 TO 12   \n",
       "1      1990-01  ANG MO KIO    1 ROOM   309  ANG MO KIO AVE 1     04 TO 06   \n",
       "2      1990-01  ANG MO KIO    1 ROOM   309  ANG MO KIO AVE 1     10 TO 12   \n",
       "3      1990-01  ANG MO KIO    1 ROOM   309  ANG MO KIO AVE 1     07 TO 09   \n",
       "4      1990-01  ANG MO KIO    3 ROOM   216  ANG MO KIO AVE 1     04 TO 06   \n",
       "\n",
       "       floor_area_sqm      flat_model  lease_commence_date  resale_price  \\\n",
       "index                                                                      \n",
       "0                31.0        IMPROVED                 1977        9000.0   \n",
       "1                31.0        IMPROVED                 1977        6000.0   \n",
       "2                31.0        IMPROVED                 1977        8000.0   \n",
       "3                31.0        IMPROVED                 1977        6000.0   \n",
       "4                73.0  NEW GENERATION                 1976       47200.0   \n",
       "\n",
       "       busstops  \n",
       "index            \n",
       "0           0.0  \n",
       "1           0.0  \n",
       "2           0.0  \n",
       "3           0.0  \n",
       "4           1.0  "
      ]
     },
     "execution_count": 4,
     "metadata": {},
     "output_type": "execute_result"
    }
   ],
   "source": [
    "resale_approval_full.head()"
   ]
  },
  {
   "cell_type": "markdown",
   "metadata": {},
   "source": [
    "A look at summary statistics for resale by registration and approval"
   ]
  },
  {
   "cell_type": "code",
   "execution_count": 5,
   "metadata": {},
   "outputs": [
    {
     "data": {
      "text/html": [
       "<div>\n",
       "<style scoped>\n",
       "    .dataframe tbody tr th:only-of-type {\n",
       "        vertical-align: middle;\n",
       "    }\n",
       "\n",
       "    .dataframe tbody tr th {\n",
       "        vertical-align: top;\n",
       "    }\n",
       "\n",
       "    .dataframe thead th {\n",
       "        text-align: right;\n",
       "    }\n",
       "</style>\n",
       "<table border=\"1\" class=\"dataframe\">\n",
       "  <thead>\n",
       "    <tr style=\"text-align: right;\">\n",
       "      <th></th>\n",
       "      <th>floor_area_sqm</th>\n",
       "      <th>lease_commence_date</th>\n",
       "      <th>resale_price</th>\n",
       "      <th>busstops</th>\n",
       "    </tr>\n",
       "  </thead>\n",
       "  <tbody>\n",
       "    <tr>\n",
       "      <th>count</th>\n",
       "      <td>656851.000000</td>\n",
       "      <td>656851.000000</td>\n",
       "      <td>656851.000000</td>\n",
       "      <td>656851.000000</td>\n",
       "    </tr>\n",
       "    <tr>\n",
       "      <th>mean</th>\n",
       "      <td>95.171843</td>\n",
       "      <td>1985.895573</td>\n",
       "      <td>254281.174816</td>\n",
       "      <td>2.483970</td>\n",
       "    </tr>\n",
       "    <tr>\n",
       "      <th>std</th>\n",
       "      <td>26.432940</td>\n",
       "      <td>8.285107</td>\n",
       "      <td>123254.959795</td>\n",
       "      <td>1.540395</td>\n",
       "    </tr>\n",
       "    <tr>\n",
       "      <th>min</th>\n",
       "      <td>28.000000</td>\n",
       "      <td>1966.000000</td>\n",
       "      <td>5000.000000</td>\n",
       "      <td>0.000000</td>\n",
       "    </tr>\n",
       "    <tr>\n",
       "      <th>25%</th>\n",
       "      <td>70.000000</td>\n",
       "      <td>1980.000000</td>\n",
       "      <td>163000.000000</td>\n",
       "      <td>2.000000</td>\n",
       "    </tr>\n",
       "    <tr>\n",
       "      <th>50%</th>\n",
       "      <td>92.000000</td>\n",
       "      <td>1985.000000</td>\n",
       "      <td>239000.000000</td>\n",
       "      <td>2.000000</td>\n",
       "    </tr>\n",
       "    <tr>\n",
       "      <th>75%</th>\n",
       "      <td>115.000000</td>\n",
       "      <td>1992.000000</td>\n",
       "      <td>330000.000000</td>\n",
       "      <td>4.000000</td>\n",
       "    </tr>\n",
       "    <tr>\n",
       "      <th>max</th>\n",
       "      <td>307.000000</td>\n",
       "      <td>2012.000000</td>\n",
       "      <td>903000.000000</td>\n",
       "      <td>10.000000</td>\n",
       "    </tr>\n",
       "  </tbody>\n",
       "</table>\n",
       "</div>"
      ],
      "text/plain": [
       "       floor_area_sqm  lease_commence_date   resale_price       busstops\n",
       "count   656851.000000        656851.000000  656851.000000  656851.000000\n",
       "mean        95.171843          1985.895573  254281.174816       2.483970\n",
       "std         26.432940             8.285107  123254.959795       1.540395\n",
       "min         28.000000          1966.000000    5000.000000       0.000000\n",
       "25%         70.000000          1980.000000  163000.000000       2.000000\n",
       "50%         92.000000          1985.000000  239000.000000       2.000000\n",
       "75%        115.000000          1992.000000  330000.000000       4.000000\n",
       "max        307.000000          2012.000000  903000.000000      10.000000"
      ]
     },
     "execution_count": 5,
     "metadata": {},
     "output_type": "execute_result"
    }
   ],
   "source": [
    "resale_approval_full.describe()"
   ]
  },
  {
   "cell_type": "markdown",
   "metadata": {},
   "source": [
    "### Data Processing"
   ]
  },
  {
   "cell_type": "code",
   "execution_count": 6,
   "metadata": {},
   "outputs": [
    {
     "data": {
      "text/plain": [
       "month                  656851\n",
       "town                   656851\n",
       "flat_type              656851\n",
       "block                  656851\n",
       "street_name            656851\n",
       "storey_range           656851\n",
       "floor_area_sqm         656851\n",
       "flat_model             656851\n",
       "lease_commence_date    656851\n",
       "resale_price           656851\n",
       "busstops               656851\n",
       "dtype: int64"
      ]
     },
     "execution_count": 6,
     "metadata": {},
     "output_type": "execute_result"
    }
   ],
   "source": [
    "resale_approval_full.count()"
   ]
  },
  {
   "cell_type": "code",
   "execution_count": 3,
   "metadata": {},
   "outputs": [],
   "source": [
    "## A function that would be flexible enough to transform categorical datasets.\n",
    "## Note: Some preprocessing probably needs to be done, to convert some string variables to float\n",
    "from housing.preprocess import *"
   ]
  },
  {
   "cell_type": "markdown",
   "metadata": {},
   "source": [
    "**DEPRECIATED**: Preprocessing resale_registration_full"
   ]
  },
  {
   "cell_type": "code",
   "execution_count": 1,
   "metadata": {
    "scrolled": true
   },
   "outputs": [
    {
     "ename": "NameError",
     "evalue": "name 'pd' is not defined",
     "output_type": "error",
     "traceback": [
      "\u001b[1;31m---------------------------------------------------------------------------\u001b[0m",
      "\u001b[1;31mNameError\u001b[0m                                 Traceback (most recent call last)",
      "\u001b[1;32m<ipython-input-1-6bc983a9a952>\u001b[0m in \u001b[0;36m<module>\u001b[1;34m\u001b[0m\n\u001b[0;32m      1\u001b[0m \u001b[1;31m## Analysis using resale_registration_full\u001b[0m\u001b[1;33m\u001b[0m\u001b[1;33m\u001b[0m\u001b[1;33m\u001b[0m\u001b[0m\n\u001b[0;32m      2\u001b[0m \u001b[1;31m## 1. Process data\u001b[0m\u001b[1;33m\u001b[0m\u001b[1;33m\u001b[0m\u001b[1;33m\u001b[0m\u001b[0m\n\u001b[1;32m----> 3\u001b[1;33m \u001b[0mresale_registration_full\u001b[0m \u001b[1;33m=\u001b[0m \u001b[0mpd\u001b[0m\u001b[1;33m.\u001b[0m\u001b[0mread_csv\u001b[0m\u001b[1;33m(\u001b[0m\u001b[1;34m\"data/resale-flat-prices_HDB/resale-on-registration-full.csv\"\u001b[0m\u001b[1;33m,\u001b[0m \u001b[0mindex_col\u001b[0m\u001b[1;33m=\u001b[0m\u001b[1;36m0\u001b[0m\u001b[1;33m)\u001b[0m\u001b[1;33m\u001b[0m\u001b[1;33m\u001b[0m\u001b[0m\n\u001b[0m\u001b[0;32m      4\u001b[0m \u001b[1;33m\u001b[0m\u001b[0m\n\u001b[0;32m      5\u001b[0m \u001b[1;31m## convert NaN values to 0\u001b[0m\u001b[1;33m\u001b[0m\u001b[1;33m\u001b[0m\u001b[1;33m\u001b[0m\u001b[0m\n",
      "\u001b[1;31mNameError\u001b[0m: name 'pd' is not defined"
     ]
    }
   ],
   "source": [
    "## DEPRECIATED\n",
    "'''\n",
    "From above, we can see that some fields are not clean. For example, in `resale_registration_full.remaining_lease`, `NaN` values are present. These `NaN` appear as a result of the lack of data in part of the dataset\n",
    "\n",
    "- We choose to convert these values to 0. If lease is unknown, we should treat it asif they aren't present. Furthermore, the dataset is of a older timeframe and as such, treating it as relatively lower than the rest is acceptable\n",
    "'''\n",
    "## Analysis using resale_registration_full\n",
    "## 1. Process data\n",
    "resale_registration_full = pd.read_csv(\"data/resale-flat-prices_HDB/resale-on-registration-full.csv\", index_col=0)\n",
    "\n",
    "## convert NaN values to 0\n",
    "resale_registration_full = resale_registration_full.fillna(0)\n",
    "\n",
    "def convert_remaining_lease(s):\n",
    "    if s == 0:\n",
    "        return 0\n",
    "    elif type(s) == float:\n",
    "        return s\n",
    "    elif type(s) == str:\n",
    "        list_s = s.split(' ')\n",
    "        if len(list_s) == 2:  ## X years\n",
    "            return int(list_s[0])\n",
    "        elif len(list_s) == 4:  ## X years Y months\n",
    "            return(int(list_s[0]) + float(list_s[2]))\n",
    "        elif len(list_s) == 1:  ## 78\n",
    "            return(float(s))\n",
    "    elif type(s == int):\n",
    "        return float(s)\n",
    "    raise Exception(f\"Weird remaining_lease format: {s}, type: {type(s)}\")\n",
    "            \n",
    "def to_lower_alpha(s:str):\n",
    "    return(s.lower())\n",
    "\n",
    "def months_since2012(s:str):\n",
    "    ## months are in this format: YYYY-MM\n",
    "    YYMM =s.split('-')\n",
    "    return (12 * (int(YYMM[0]) - 2012) + (int(YYMM[1]))) \n",
    "        \n",
    "resale_registration_full['flat_model'] = resale_registration_full['flat_model'].apply(to_lower_alpha)\n",
    "resale_registration_full['remaining_lease'] = resale_registration_full['remaining_lease'].apply(convert_remaining_lease)\n",
    "resale_registration_full['month'] = resale_registration_full['month'].apply(months_since2012)\n",
    "\n",
    "lb_cols = [\"flat_model\", \"flat_type\", \"town\", \"street_name\"]\n",
    "le_cols = [\"storey_range\"]\n",
    "resale_registration_full = process_data(resale_registration_full, lb_cols, le_cols)\n",
    "\n",
    "assert resale_registration_full.shape == (157517, 606)\n",
    "\n",
    "# resale_registration_fullX = resale_registration_full.reset_index(drop=True)\n",
    "X = resale_registration_full.drop(['resale_price','block'], axis=1)\n",
    "y = resale_registration_full['resale_price']"
   ]
  },
  {
   "cell_type": "markdown",
   "metadata": {},
   "source": [
    "Preprocessing data on resale_approval_full"
   ]
  },
  {
   "cell_type": "code",
   "execution_count": 8,
   "metadata": {},
   "outputs": [],
   "source": [
    "def commence_date_to_remaining(year: int):\n",
    "    import datetime\n",
    "    return 99 - (datetime.datetime.now().year - year)\n",
    "\n",
    "def months_since1990(s:str):\n",
    "    ## months are in this format: YYYY-MM\n",
    "    YYMM =s.split('-')\n",
    "    return (12 * (int(YYMM[0]) - 1990) + (int(YYMM[1]))) \n",
    "\n",
    "## using process_data() on resale_approval_full\n",
    "resale_approval_full = pd.read_csv(\"data/fixed_resale_with_bus.csv\", index_col=0)\n",
    "resale_approval_full['month_index_since_1990'] = resale_approval_full['month'].apply(months_since1990)\n",
    "resale_approval_full['flat_type'] = resale_approval_full['flat_type'].apply(lambda x: x.lower())\n",
    "resale_approval_full['lease_remaining'] = resale_approval_full['lease_commence_date'].apply(commence_date_to_remaining)\n",
    "# resale_approval_full = resale_approval_full.drop([\"block\", \"lease_commence_date\"], axis=1)"
   ]
  },
  {
   "cell_type": "code",
   "execution_count": 9,
   "metadata": {},
   "outputs": [
    {
     "data": {
      "text/html": [
       "<div>\n",
       "<style scoped>\n",
       "    .dataframe tbody tr th:only-of-type {\n",
       "        vertical-align: middle;\n",
       "    }\n",
       "\n",
       "    .dataframe tbody tr th {\n",
       "        vertical-align: top;\n",
       "    }\n",
       "\n",
       "    .dataframe thead th {\n",
       "        text-align: right;\n",
       "    }\n",
       "</style>\n",
       "<table border=\"1\" class=\"dataframe\">\n",
       "  <thead>\n",
       "    <tr style=\"text-align: right;\">\n",
       "      <th></th>\n",
       "      <th>month</th>\n",
       "      <th>town</th>\n",
       "      <th>flat_type</th>\n",
       "      <th>block</th>\n",
       "      <th>street_name</th>\n",
       "      <th>storey_range</th>\n",
       "      <th>floor_area_sqm</th>\n",
       "      <th>flat_model</th>\n",
       "      <th>lease_commence_date</th>\n",
       "      <th>resale_price</th>\n",
       "      <th>busstops</th>\n",
       "      <th>month_index_since_1990</th>\n",
       "      <th>lease_remaining</th>\n",
       "    </tr>\n",
       "    <tr>\n",
       "      <th>index</th>\n",
       "      <th></th>\n",
       "      <th></th>\n",
       "      <th></th>\n",
       "      <th></th>\n",
       "      <th></th>\n",
       "      <th></th>\n",
       "      <th></th>\n",
       "      <th></th>\n",
       "      <th></th>\n",
       "      <th></th>\n",
       "      <th></th>\n",
       "      <th></th>\n",
       "      <th></th>\n",
       "    </tr>\n",
       "  </thead>\n",
       "  <tbody>\n",
       "    <tr>\n",
       "      <th>656846</th>\n",
       "      <td>2012-02</td>\n",
       "      <td>YISHUN</td>\n",
       "      <td>5 room</td>\n",
       "      <td>212</td>\n",
       "      <td>YISHUN ST 21</td>\n",
       "      <td>10 TO 12</td>\n",
       "      <td>121.0</td>\n",
       "      <td>Improved</td>\n",
       "      <td>1985</td>\n",
       "      <td>476888.0</td>\n",
       "      <td>2.0</td>\n",
       "      <td>266</td>\n",
       "      <td>64</td>\n",
       "    </tr>\n",
       "    <tr>\n",
       "      <th>656847</th>\n",
       "      <td>2012-02</td>\n",
       "      <td>YISHUN</td>\n",
       "      <td>5 room</td>\n",
       "      <td>758</td>\n",
       "      <td>YISHUN ST 72</td>\n",
       "      <td>01 TO 03</td>\n",
       "      <td>122.0</td>\n",
       "      <td>Improved</td>\n",
       "      <td>1986</td>\n",
       "      <td>490000.0</td>\n",
       "      <td>3.0</td>\n",
       "      <td>266</td>\n",
       "      <td>65</td>\n",
       "    </tr>\n",
       "    <tr>\n",
       "      <th>656848</th>\n",
       "      <td>2012-02</td>\n",
       "      <td>YISHUN</td>\n",
       "      <td>5 room</td>\n",
       "      <td>873</td>\n",
       "      <td>YISHUN ST 81</td>\n",
       "      <td>01 TO 03</td>\n",
       "      <td>122.0</td>\n",
       "      <td>Improved</td>\n",
       "      <td>1988</td>\n",
       "      <td>488000.0</td>\n",
       "      <td>1.0</td>\n",
       "      <td>266</td>\n",
       "      <td>67</td>\n",
       "    </tr>\n",
       "    <tr>\n",
       "      <th>656849</th>\n",
       "      <td>2012-02</td>\n",
       "      <td>YISHUN</td>\n",
       "      <td>executive</td>\n",
       "      <td>664</td>\n",
       "      <td>YISHUN AVE 4</td>\n",
       "      <td>07 TO 09</td>\n",
       "      <td>181.0</td>\n",
       "      <td>Apartment</td>\n",
       "      <td>1992</td>\n",
       "      <td>705000.0</td>\n",
       "      <td>3.0</td>\n",
       "      <td>266</td>\n",
       "      <td>71</td>\n",
       "    </tr>\n",
       "    <tr>\n",
       "      <th>656850</th>\n",
       "      <td>2012-02</td>\n",
       "      <td>YISHUN</td>\n",
       "      <td>executive</td>\n",
       "      <td>293</td>\n",
       "      <td>YISHUN ST 22</td>\n",
       "      <td>04 TO 06</td>\n",
       "      <td>163.0</td>\n",
       "      <td>Apartment</td>\n",
       "      <td>1992</td>\n",
       "      <td>630000.0</td>\n",
       "      <td>2.0</td>\n",
       "      <td>266</td>\n",
       "      <td>71</td>\n",
       "    </tr>\n",
       "  </tbody>\n",
       "</table>\n",
       "</div>"
      ],
      "text/plain": [
       "          month    town  flat_type block   street_name storey_range  \\\n",
       "index                                                                 \n",
       "656846  2012-02  YISHUN     5 room   212  YISHUN ST 21     10 TO 12   \n",
       "656847  2012-02  YISHUN     5 room   758  YISHUN ST 72     01 TO 03   \n",
       "656848  2012-02  YISHUN     5 room   873  YISHUN ST 81     01 TO 03   \n",
       "656849  2012-02  YISHUN  executive   664  YISHUN AVE 4     07 TO 09   \n",
       "656850  2012-02  YISHUN  executive   293  YISHUN ST 22     04 TO 06   \n",
       "\n",
       "        floor_area_sqm flat_model  lease_commence_date  resale_price  \\\n",
       "index                                                                  \n",
       "656846           121.0   Improved                 1985      476888.0   \n",
       "656847           122.0   Improved                 1986      490000.0   \n",
       "656848           122.0   Improved                 1988      488000.0   \n",
       "656849           181.0  Apartment                 1992      705000.0   \n",
       "656850           163.0  Apartment                 1992      630000.0   \n",
       "\n",
       "        busstops  month_index_since_1990  lease_remaining  \n",
       "index                                                      \n",
       "656846       2.0                     266               64  \n",
       "656847       3.0                     266               65  \n",
       "656848       1.0                     266               67  \n",
       "656849       3.0                     266               71  \n",
       "656850       2.0                     266               71  "
      ]
     },
     "execution_count": 9,
     "metadata": {},
     "output_type": "execute_result"
    }
   ],
   "source": [
    "resale_approval_full.tail()"
   ]
  },
  {
   "cell_type": "code",
   "execution_count": 10,
   "metadata": {},
   "outputs": [
    {
     "data": {
      "text/plain": [
       "(38578, 3)"
      ]
     },
     "execution_count": 10,
     "metadata": {},
     "output_type": "execute_result"
    }
   ],
   "source": [
    "unique_flats = resale_approval_full[[\"block\", \"street_name\", \"storey_range\"]].drop_duplicates()\n",
    "unique_flats.shape"
   ]
  },
  {
   "cell_type": "markdown",
   "metadata": {},
   "source": [
    "### Getting variables that follow a time series\n",
    "\n",
    "As explained in the report, we aren't using time-series models to fit the data and yet we need time-series dependent variables such as:\n",
    "- last known resale price \n",
    "- time since the last resale price\n",
    "\n",
    "We get a subset of each unique block in the dataset, lag it and concatnate the final datasets "
   ]
  },
  {
   "cell_type": "code",
   "execution_count": 11,
   "metadata": {},
   "outputs": [],
   "source": [
    "## lag_housing_df takes resale_approval_full above and does the above step\n",
    "# lag_housing_df(resale_approval_full) "
   ]
  },
  {
   "cell_type": "code",
   "execution_count": 4,
   "metadata": {},
   "outputs": [
    {
     "name": "stdout",
     "output_type": "stream",
     "text": [
      "(618273, 15)\n"
     ]
    },
    {
     "data": {
      "text/html": [
       "<div>\n",
       "<style scoped>\n",
       "    .dataframe tbody tr th:only-of-type {\n",
       "        vertical-align: middle;\n",
       "    }\n",
       "\n",
       "    .dataframe tbody tr th {\n",
       "        vertical-align: top;\n",
       "    }\n",
       "\n",
       "    .dataframe thead th {\n",
       "        text-align: right;\n",
       "    }\n",
       "</style>\n",
       "<table border=\"1\" class=\"dataframe\">\n",
       "  <thead>\n",
       "    <tr style=\"text-align: right;\">\n",
       "      <th></th>\n",
       "      <th>month</th>\n",
       "      <th>town</th>\n",
       "      <th>flat_type</th>\n",
       "      <th>block</th>\n",
       "      <th>street_name</th>\n",
       "      <th>storey_range</th>\n",
       "      <th>floor_area_sqm</th>\n",
       "      <th>flat_model</th>\n",
       "      <th>lease_commence_date</th>\n",
       "      <th>resale_price</th>\n",
       "      <th>busstops</th>\n",
       "      <th>month_index_since_1990</th>\n",
       "      <th>lease_remaining</th>\n",
       "      <th>last_known_price</th>\n",
       "      <th>months_since_last</th>\n",
       "    </tr>\n",
       "  </thead>\n",
       "  <tbody>\n",
       "    <tr>\n",
       "      <th>0</th>\n",
       "      <td>1990-01</td>\n",
       "      <td>ANG MO KIO</td>\n",
       "      <td>1 room</td>\n",
       "      <td>309</td>\n",
       "      <td>ANG MO KIO AVE 1</td>\n",
       "      <td>10 TO 12</td>\n",
       "      <td>31.0</td>\n",
       "      <td>IMPROVED</td>\n",
       "      <td>1977</td>\n",
       "      <td>8000.0</td>\n",
       "      <td>0.0</td>\n",
       "      <td>1</td>\n",
       "      <td>56</td>\n",
       "      <td>9000.0</td>\n",
       "      <td>0.0</td>\n",
       "    </tr>\n",
       "    <tr>\n",
       "      <th>1</th>\n",
       "      <td>1990-05</td>\n",
       "      <td>ANG MO KIO</td>\n",
       "      <td>1 room</td>\n",
       "      <td>309</td>\n",
       "      <td>ANG MO KIO AVE 1</td>\n",
       "      <td>10 TO 12</td>\n",
       "      <td>31.0</td>\n",
       "      <td>IMPROVED</td>\n",
       "      <td>1977</td>\n",
       "      <td>7800.0</td>\n",
       "      <td>0.0</td>\n",
       "      <td>5</td>\n",
       "      <td>56</td>\n",
       "      <td>8000.0</td>\n",
       "      <td>4.0</td>\n",
       "    </tr>\n",
       "    <tr>\n",
       "      <th>2</th>\n",
       "      <td>1990-08</td>\n",
       "      <td>ANG MO KIO</td>\n",
       "      <td>1 room</td>\n",
       "      <td>309</td>\n",
       "      <td>ANG MO KIO AVE 1</td>\n",
       "      <td>10 TO 12</td>\n",
       "      <td>31.0</td>\n",
       "      <td>IMPROVED</td>\n",
       "      <td>1977</td>\n",
       "      <td>9500.0</td>\n",
       "      <td>0.0</td>\n",
       "      <td>8</td>\n",
       "      <td>56</td>\n",
       "      <td>7800.0</td>\n",
       "      <td>3.0</td>\n",
       "    </tr>\n",
       "    <tr>\n",
       "      <th>3</th>\n",
       "      <td>1990-09</td>\n",
       "      <td>ANG MO KIO</td>\n",
       "      <td>1 room</td>\n",
       "      <td>309</td>\n",
       "      <td>ANG MO KIO AVE 1</td>\n",
       "      <td>10 TO 12</td>\n",
       "      <td>31.0</td>\n",
       "      <td>IMPROVED</td>\n",
       "      <td>1977</td>\n",
       "      <td>9500.0</td>\n",
       "      <td>0.0</td>\n",
       "      <td>9</td>\n",
       "      <td>56</td>\n",
       "      <td>9500.0</td>\n",
       "      <td>1.0</td>\n",
       "    </tr>\n",
       "    <tr>\n",
       "      <th>4</th>\n",
       "      <td>1990-10</td>\n",
       "      <td>ANG MO KIO</td>\n",
       "      <td>1 room</td>\n",
       "      <td>309</td>\n",
       "      <td>ANG MO KIO AVE 1</td>\n",
       "      <td>10 TO 12</td>\n",
       "      <td>31.0</td>\n",
       "      <td>IMPROVED</td>\n",
       "      <td>1977</td>\n",
       "      <td>5800.0</td>\n",
       "      <td>0.0</td>\n",
       "      <td>10</td>\n",
       "      <td>56</td>\n",
       "      <td>9500.0</td>\n",
       "      <td>1.0</td>\n",
       "    </tr>\n",
       "  </tbody>\n",
       "</table>\n",
       "</div>"
      ],
      "text/plain": [
       "     month        town flat_type block       street_name storey_range  \\\n",
       "0  1990-01  ANG MO KIO    1 room   309  ANG MO KIO AVE 1     10 TO 12   \n",
       "1  1990-05  ANG MO KIO    1 room   309  ANG MO KIO AVE 1     10 TO 12   \n",
       "2  1990-08  ANG MO KIO    1 room   309  ANG MO KIO AVE 1     10 TO 12   \n",
       "3  1990-09  ANG MO KIO    1 room   309  ANG MO KIO AVE 1     10 TO 12   \n",
       "4  1990-10  ANG MO KIO    1 room   309  ANG MO KIO AVE 1     10 TO 12   \n",
       "\n",
       "   floor_area_sqm flat_model  lease_commence_date  resale_price  busstops  \\\n",
       "0            31.0   IMPROVED                 1977        8000.0       0.0   \n",
       "1            31.0   IMPROVED                 1977        7800.0       0.0   \n",
       "2            31.0   IMPROVED                 1977        9500.0       0.0   \n",
       "3            31.0   IMPROVED                 1977        9500.0       0.0   \n",
       "4            31.0   IMPROVED                 1977        5800.0       0.0   \n",
       "\n",
       "   month_index_since_1990  lease_remaining  last_known_price  \\\n",
       "0                       1               56            9000.0   \n",
       "1                       5               56            8000.0   \n",
       "2                       8               56            7800.0   \n",
       "3                       9               56            9500.0   \n",
       "4                      10               56            9500.0   \n",
       "\n",
       "   months_since_last  \n",
       "0                0.0  \n",
       "1                4.0  \n",
       "2                3.0  \n",
       "3                1.0  \n",
       "4                1.0  "
      ]
     },
     "execution_count": 4,
     "metadata": {},
     "output_type": "execute_result"
    }
   ],
   "source": [
    "## data was written to csv previously so we just load from it\n",
    "lagged_data = pd.read_csv(\"data/lagged_approval.csv\", index_col=0)\n",
    "print(lagged_data.shape)\n",
    "lagged_data.head()"
   ]
  },
  {
   "cell_type": "markdown",
   "metadata": {},
   "source": [
    "Next code block adds **GDP** for the year which the resale occued"
   ]
  },
  {
   "cell_type": "code",
   "execution_count": 5,
   "metadata": {},
   "outputs": [
    {
     "data": {
      "text/html": [
       "<div>\n",
       "<style scoped>\n",
       "    .dataframe tbody tr th:only-of-type {\n",
       "        vertical-align: middle;\n",
       "    }\n",
       "\n",
       "    .dataframe tbody tr th {\n",
       "        vertical-align: top;\n",
       "    }\n",
       "\n",
       "    .dataframe thead th {\n",
       "        text-align: right;\n",
       "    }\n",
       "</style>\n",
       "<table border=\"1\" class=\"dataframe\">\n",
       "  <thead>\n",
       "    <tr style=\"text-align: right;\">\n",
       "      <th></th>\n",
       "      <th>year</th>\n",
       "      <th>GDP_value</th>\n",
       "      <th>GDP_perc_change</th>\n",
       "    </tr>\n",
       "  </thead>\n",
       "  <tbody>\n",
       "    <tr>\n",
       "      <th>30</th>\n",
       "      <td>1990</td>\n",
       "      <td>70492.3</td>\n",
       "      <td>14.979652</td>\n",
       "    </tr>\n",
       "    <tr>\n",
       "      <th>31</th>\n",
       "      <td>1991</td>\n",
       "      <td>78542.8</td>\n",
       "      <td>11.420396</td>\n",
       "    </tr>\n",
       "    <tr>\n",
       "      <th>32</th>\n",
       "      <td>1992</td>\n",
       "      <td>84920.2</td>\n",
       "      <td>8.119649</td>\n",
       "    </tr>\n",
       "    <tr>\n",
       "      <th>33</th>\n",
       "      <td>1993</td>\n",
       "      <td>97923.1</td>\n",
       "      <td>15.311905</td>\n",
       "    </tr>\n",
       "    <tr>\n",
       "      <th>34</th>\n",
       "      <td>1994</td>\n",
       "      <td>112555.4</td>\n",
       "      <td>14.942644</td>\n",
       "    </tr>\n",
       "  </tbody>\n",
       "</table>\n",
       "</div>"
      ],
      "text/plain": [
       "    year  GDP_value  GDP_perc_change\n",
       "30  1990    70492.3        14.979652\n",
       "31  1991    78542.8        11.420396\n",
       "32  1992    84920.2         8.119649\n",
       "33  1993    97923.1        15.311905\n",
       "34  1994   112555.4        14.942644"
      ]
     },
     "execution_count": 5,
     "metadata": {},
     "output_type": "execute_result"
    }
   ],
   "source": [
    "gdp_data = get_processed_gdp_data()\n",
    "gdp_data[gdp_data[\"year\"] >= 1990].head()"
   ]
  },
  {
   "cell_type": "code",
   "execution_count": 6,
   "metadata": {},
   "outputs": [],
   "source": [
    "lagged_data[\"year\"] = lagged_data[\"month\"].apply(lambda x: int(x[:x.rfind('-')]))\n",
    "lagged_data = lagged_data.merge(gdp_data, on=[\"year\"])"
   ]
  },
  {
   "cell_type": "code",
   "execution_count": 7,
   "metadata": {},
   "outputs": [],
   "source": [
    "full_df_subset = lagged_data.copy(deep=True)\n",
    "# full_df_subset[\"flat\"] = full_df_subset[\"block\"] + \" \" + full_df_subset[\"street_name\"]\n",
    "# full_df_subset.drop([\"block\", \"street_name\", \"month\"], axis=1, inplace=True)\n",
    "full_df_subset.drop([\"block\", \"month\", \"lease_commence_date\"], axis=1, inplace=True)"
   ]
  },
  {
   "cell_type": "code",
   "execution_count": 8,
   "metadata": {},
   "outputs": [
    {
     "name": "stdout",
     "output_type": "stream",
     "text": [
      "(618273, 15)\n"
     ]
    },
    {
     "data": {
      "text/html": [
       "<div>\n",
       "<style scoped>\n",
       "    .dataframe tbody tr th:only-of-type {\n",
       "        vertical-align: middle;\n",
       "    }\n",
       "\n",
       "    .dataframe tbody tr th {\n",
       "        vertical-align: top;\n",
       "    }\n",
       "\n",
       "    .dataframe thead th {\n",
       "        text-align: right;\n",
       "    }\n",
       "</style>\n",
       "<table border=\"1\" class=\"dataframe\">\n",
       "  <thead>\n",
       "    <tr style=\"text-align: right;\">\n",
       "      <th></th>\n",
       "      <th>town</th>\n",
       "      <th>flat_type</th>\n",
       "      <th>street_name</th>\n",
       "      <th>storey_range</th>\n",
       "      <th>floor_area_sqm</th>\n",
       "      <th>flat_model</th>\n",
       "      <th>resale_price</th>\n",
       "      <th>busstops</th>\n",
       "      <th>month_index_since_1990</th>\n",
       "      <th>lease_remaining</th>\n",
       "      <th>last_known_price</th>\n",
       "      <th>months_since_last</th>\n",
       "      <th>year</th>\n",
       "      <th>GDP_value</th>\n",
       "      <th>GDP_perc_change</th>\n",
       "    </tr>\n",
       "  </thead>\n",
       "  <tbody>\n",
       "    <tr>\n",
       "      <th>0</th>\n",
       "      <td>ANG MO KIO</td>\n",
       "      <td>1 room</td>\n",
       "      <td>ANG MO KIO AVE 1</td>\n",
       "      <td>10 TO 12</td>\n",
       "      <td>31.0</td>\n",
       "      <td>IMPROVED</td>\n",
       "      <td>8000.0</td>\n",
       "      <td>0.0</td>\n",
       "      <td>1</td>\n",
       "      <td>56</td>\n",
       "      <td>9000.0</td>\n",
       "      <td>0.0</td>\n",
       "      <td>1990</td>\n",
       "      <td>70492.3</td>\n",
       "      <td>14.979652</td>\n",
       "    </tr>\n",
       "    <tr>\n",
       "      <th>1</th>\n",
       "      <td>ANG MO KIO</td>\n",
       "      <td>1 room</td>\n",
       "      <td>ANG MO KIO AVE 1</td>\n",
       "      <td>10 TO 12</td>\n",
       "      <td>31.0</td>\n",
       "      <td>IMPROVED</td>\n",
       "      <td>7800.0</td>\n",
       "      <td>0.0</td>\n",
       "      <td>5</td>\n",
       "      <td>56</td>\n",
       "      <td>8000.0</td>\n",
       "      <td>4.0</td>\n",
       "      <td>1990</td>\n",
       "      <td>70492.3</td>\n",
       "      <td>14.979652</td>\n",
       "    </tr>\n",
       "    <tr>\n",
       "      <th>2</th>\n",
       "      <td>ANG MO KIO</td>\n",
       "      <td>1 room</td>\n",
       "      <td>ANG MO KIO AVE 1</td>\n",
       "      <td>10 TO 12</td>\n",
       "      <td>31.0</td>\n",
       "      <td>IMPROVED</td>\n",
       "      <td>9500.0</td>\n",
       "      <td>0.0</td>\n",
       "      <td>8</td>\n",
       "      <td>56</td>\n",
       "      <td>7800.0</td>\n",
       "      <td>3.0</td>\n",
       "      <td>1990</td>\n",
       "      <td>70492.3</td>\n",
       "      <td>14.979652</td>\n",
       "    </tr>\n",
       "    <tr>\n",
       "      <th>3</th>\n",
       "      <td>ANG MO KIO</td>\n",
       "      <td>1 room</td>\n",
       "      <td>ANG MO KIO AVE 1</td>\n",
       "      <td>10 TO 12</td>\n",
       "      <td>31.0</td>\n",
       "      <td>IMPROVED</td>\n",
       "      <td>9500.0</td>\n",
       "      <td>0.0</td>\n",
       "      <td>9</td>\n",
       "      <td>56</td>\n",
       "      <td>9500.0</td>\n",
       "      <td>1.0</td>\n",
       "      <td>1990</td>\n",
       "      <td>70492.3</td>\n",
       "      <td>14.979652</td>\n",
       "    </tr>\n",
       "    <tr>\n",
       "      <th>4</th>\n",
       "      <td>ANG MO KIO</td>\n",
       "      <td>1 room</td>\n",
       "      <td>ANG MO KIO AVE 1</td>\n",
       "      <td>10 TO 12</td>\n",
       "      <td>31.0</td>\n",
       "      <td>IMPROVED</td>\n",
       "      <td>5800.0</td>\n",
       "      <td>0.0</td>\n",
       "      <td>10</td>\n",
       "      <td>56</td>\n",
       "      <td>9500.0</td>\n",
       "      <td>1.0</td>\n",
       "      <td>1990</td>\n",
       "      <td>70492.3</td>\n",
       "      <td>14.979652</td>\n",
       "    </tr>\n",
       "  </tbody>\n",
       "</table>\n",
       "</div>"
      ],
      "text/plain": [
       "         town flat_type       street_name storey_range  floor_area_sqm  \\\n",
       "0  ANG MO KIO    1 room  ANG MO KIO AVE 1     10 TO 12            31.0   \n",
       "1  ANG MO KIO    1 room  ANG MO KIO AVE 1     10 TO 12            31.0   \n",
       "2  ANG MO KIO    1 room  ANG MO KIO AVE 1     10 TO 12            31.0   \n",
       "3  ANG MO KIO    1 room  ANG MO KIO AVE 1     10 TO 12            31.0   \n",
       "4  ANG MO KIO    1 room  ANG MO KIO AVE 1     10 TO 12            31.0   \n",
       "\n",
       "  flat_model  resale_price  busstops  month_index_since_1990  lease_remaining  \\\n",
       "0   IMPROVED        8000.0       0.0                       1               56   \n",
       "1   IMPROVED        7800.0       0.0                       5               56   \n",
       "2   IMPROVED        9500.0       0.0                       8               56   \n",
       "3   IMPROVED        9500.0       0.0                       9               56   \n",
       "4   IMPROVED        5800.0       0.0                      10               56   \n",
       "\n",
       "   last_known_price  months_since_last  year  GDP_value  GDP_perc_change  \n",
       "0            9000.0                0.0  1990    70492.3        14.979652  \n",
       "1            8000.0                4.0  1990    70492.3        14.979652  \n",
       "2            7800.0                3.0  1990    70492.3        14.979652  \n",
       "3            9500.0                1.0  1990    70492.3        14.979652  \n",
       "4            9500.0                1.0  1990    70492.3        14.979652  "
      ]
     },
     "execution_count": 8,
     "metadata": {},
     "output_type": "execute_result"
    }
   ],
   "source": [
    "print(full_df_subset.shape)\n",
    "full_df_subset.head()"
   ]
  },
  {
   "cell_type": "code",
   "execution_count": 33,
   "metadata": {},
   "outputs": [
    {
     "data": {
      "text/html": [
       "<div>\n",
       "<style scoped>\n",
       "    .dataframe tbody tr th:only-of-type {\n",
       "        vertical-align: middle;\n",
       "    }\n",
       "\n",
       "    .dataframe tbody tr th {\n",
       "        vertical-align: top;\n",
       "    }\n",
       "\n",
       "    .dataframe thead th {\n",
       "        text-align: right;\n",
       "    }\n",
       "</style>\n",
       "<table border=\"1\" class=\"dataframe\">\n",
       "  <thead>\n",
       "    <tr style=\"text-align: right;\">\n",
       "      <th></th>\n",
       "      <th>town</th>\n",
       "      <th>flat_type</th>\n",
       "      <th>block</th>\n",
       "      <th>street_name</th>\n",
       "      <th>storey_range</th>\n",
       "      <th>floor_area_sqm</th>\n",
       "      <th>flat_model</th>\n",
       "      <th>lease_commence_date</th>\n",
       "      <th>resale_price</th>\n",
       "      <th>busstops</th>\n",
       "      <th>mrt</th>\n",
       "      <th>lrt</th>\n",
       "      <th>shopping_malls</th>\n",
       "    </tr>\n",
       "    <tr>\n",
       "      <th>month</th>\n",
       "      <th></th>\n",
       "      <th></th>\n",
       "      <th></th>\n",
       "      <th></th>\n",
       "      <th></th>\n",
       "      <th></th>\n",
       "      <th></th>\n",
       "      <th></th>\n",
       "      <th></th>\n",
       "      <th></th>\n",
       "      <th></th>\n",
       "      <th></th>\n",
       "      <th></th>\n",
       "    </tr>\n",
       "  </thead>\n",
       "  <tbody>\n",
       "    <tr>\n",
       "      <th>1990-01</th>\n",
       "      <td>ANG MO KIO</td>\n",
       "      <td>1 ROOM</td>\n",
       "      <td>309</td>\n",
       "      <td>ANG MO KIO AVE 1</td>\n",
       "      <td>10 TO 12</td>\n",
       "      <td>31.0</td>\n",
       "      <td>IMPROVED</td>\n",
       "      <td>1977</td>\n",
       "      <td>9000.0</td>\n",
       "      <td>0.0</td>\n",
       "      <td>0</td>\n",
       "      <td>0</td>\n",
       "      <td>0</td>\n",
       "    </tr>\n",
       "    <tr>\n",
       "      <th>1990-01</th>\n",
       "      <td>ANG MO KIO</td>\n",
       "      <td>1 ROOM</td>\n",
       "      <td>309</td>\n",
       "      <td>ANG MO KIO AVE 1</td>\n",
       "      <td>04 TO 06</td>\n",
       "      <td>31.0</td>\n",
       "      <td>IMPROVED</td>\n",
       "      <td>1977</td>\n",
       "      <td>6000.0</td>\n",
       "      <td>0.0</td>\n",
       "      <td>0</td>\n",
       "      <td>0</td>\n",
       "      <td>0</td>\n",
       "    </tr>\n",
       "    <tr>\n",
       "      <th>1990-01</th>\n",
       "      <td>ANG MO KIO</td>\n",
       "      <td>1 ROOM</td>\n",
       "      <td>309</td>\n",
       "      <td>ANG MO KIO AVE 1</td>\n",
       "      <td>10 TO 12</td>\n",
       "      <td>31.0</td>\n",
       "      <td>IMPROVED</td>\n",
       "      <td>1977</td>\n",
       "      <td>8000.0</td>\n",
       "      <td>0.0</td>\n",
       "      <td>0</td>\n",
       "      <td>0</td>\n",
       "      <td>0</td>\n",
       "    </tr>\n",
       "    <tr>\n",
       "      <th>1990-01</th>\n",
       "      <td>ANG MO KIO</td>\n",
       "      <td>1 ROOM</td>\n",
       "      <td>309</td>\n",
       "      <td>ANG MO KIO AVE 1</td>\n",
       "      <td>07 TO 09</td>\n",
       "      <td>31.0</td>\n",
       "      <td>IMPROVED</td>\n",
       "      <td>1977</td>\n",
       "      <td>6000.0</td>\n",
       "      <td>0.0</td>\n",
       "      <td>0</td>\n",
       "      <td>0</td>\n",
       "      <td>0</td>\n",
       "    </tr>\n",
       "    <tr>\n",
       "      <th>1990-01</th>\n",
       "      <td>ANG MO KIO</td>\n",
       "      <td>3 ROOM</td>\n",
       "      <td>216</td>\n",
       "      <td>ANG MO KIO AVE 1</td>\n",
       "      <td>04 TO 06</td>\n",
       "      <td>73.0</td>\n",
       "      <td>NEW GENERATION</td>\n",
       "      <td>1976</td>\n",
       "      <td>47200.0</td>\n",
       "      <td>1.0</td>\n",
       "      <td>0</td>\n",
       "      <td>0</td>\n",
       "      <td>1</td>\n",
       "    </tr>\n",
       "  </tbody>\n",
       "</table>\n",
       "</div>"
      ],
      "text/plain": [
       "               town flat_type block       street_name storey_range  \\\n",
       "month                                                                \n",
       "1990-01  ANG MO KIO    1 ROOM   309  ANG MO KIO AVE 1     10 TO 12   \n",
       "1990-01  ANG MO KIO    1 ROOM   309  ANG MO KIO AVE 1     04 TO 06   \n",
       "1990-01  ANG MO KIO    1 ROOM   309  ANG MO KIO AVE 1     10 TO 12   \n",
       "1990-01  ANG MO KIO    1 ROOM   309  ANG MO KIO AVE 1     07 TO 09   \n",
       "1990-01  ANG MO KIO    3 ROOM   216  ANG MO KIO AVE 1     04 TO 06   \n",
       "\n",
       "         floor_area_sqm      flat_model  lease_commence_date  resale_price  \\\n",
       "month                                                                        \n",
       "1990-01            31.0        IMPROVED                 1977        9000.0   \n",
       "1990-01            31.0        IMPROVED                 1977        6000.0   \n",
       "1990-01            31.0        IMPROVED                 1977        8000.0   \n",
       "1990-01            31.0        IMPROVED                 1977        6000.0   \n",
       "1990-01            73.0  NEW GENERATION                 1976       47200.0   \n",
       "\n",
       "         busstops  mrt  lrt  shopping_malls  \n",
       "month                                        \n",
       "1990-01       0.0    0    0               0  \n",
       "1990-01       0.0    0    0               0  \n",
       "1990-01       0.0    0    0               0  \n",
       "1990-01       0.0    0    0               0  \n",
       "1990-01       1.0    0    0               1  "
      ]
     },
     "execution_count": 33,
     "metadata": {},
     "output_type": "execute_result"
    }
   ],
   "source": [
    "full_df_subset = lagged_data.copy(deep=True)\n",
    "\n",
    "final_lagged_data = pd.read_csv(\"data/resale_with_location_final.csv\", index_col=0)\n",
    "final_lagged_data.drop([\"lat\", \"long\"], axis=1, inplace=True)\n",
    "final_lagged_data.head()\n",
    "full_df_subset.merge(final_lagged_data, on=list(final_lagged_data.columns)[:-3])"
   ]
  },
  {
   "cell_type": "code",
   "execution_count": 9,
   "metadata": {},
   "outputs": [
    {
     "data": {
      "text/html": [
       "<div>\n",
       "<style scoped>\n",
       "    .dataframe tbody tr th:only-of-type {\n",
       "        vertical-align: middle;\n",
       "    }\n",
       "\n",
       "    .dataframe tbody tr th {\n",
       "        vertical-align: top;\n",
       "    }\n",
       "\n",
       "    .dataframe thead th {\n",
       "        text-align: right;\n",
       "    }\n",
       "</style>\n",
       "<table border=\"1\" class=\"dataframe\">\n",
       "  <thead>\n",
       "    <tr style=\"text-align: right;\">\n",
       "      <th></th>\n",
       "      <th>floor_area_sqm</th>\n",
       "      <th>resale_price</th>\n",
       "      <th>busstops</th>\n",
       "      <th>month_index_since_1990</th>\n",
       "      <th>lease_remaining</th>\n",
       "      <th>last_known_price</th>\n",
       "      <th>months_since_last</th>\n",
       "      <th>year</th>\n",
       "      <th>GDP_value</th>\n",
       "      <th>GDP_perc_change</th>\n",
       "    </tr>\n",
       "  </thead>\n",
       "  <tbody>\n",
       "    <tr>\n",
       "      <th>floor_area_sqm</th>\n",
       "      <td>1.000000</td>\n",
       "      <td>0.745815</td>\n",
       "      <td>0.101062</td>\n",
       "      <td>0.093425</td>\n",
       "      <td>0.551791</td>\n",
       "      <td>0.657572</td>\n",
       "      <td>0.143490</td>\n",
       "      <td>0.093285</td>\n",
       "      <td>0.080457</td>\n",
       "      <td>-0.047746</td>\n",
       "    </tr>\n",
       "    <tr>\n",
       "      <th>resale_price</th>\n",
       "      <td>0.745815</td>\n",
       "      <td>1.000000</td>\n",
       "      <td>0.054439</td>\n",
       "      <td>0.439077</td>\n",
       "      <td>0.478934</td>\n",
       "      <td>0.867022</td>\n",
       "      <td>0.192576</td>\n",
       "      <td>0.438026</td>\n",
       "      <td>0.473119</td>\n",
       "      <td>-0.056071</td>\n",
       "    </tr>\n",
       "    <tr>\n",
       "      <th>busstops</th>\n",
       "      <td>0.101062</td>\n",
       "      <td>0.054439</td>\n",
       "      <td>1.000000</td>\n",
       "      <td>0.067992</td>\n",
       "      <td>0.209832</td>\n",
       "      <td>0.058716</td>\n",
       "      <td>-0.008264</td>\n",
       "      <td>0.067823</td>\n",
       "      <td>0.056493</td>\n",
       "      <td>-0.017398</td>\n",
       "    </tr>\n",
       "    <tr>\n",
       "      <th>month_index_since_1990</th>\n",
       "      <td>0.093425</td>\n",
       "      <td>0.439077</td>\n",
       "      <td>0.067992</td>\n",
       "      <td>1.000000</td>\n",
       "      <td>0.311443</td>\n",
       "      <td>0.397299</td>\n",
       "      <td>0.224866</td>\n",
       "      <td>0.998638</td>\n",
       "      <td>0.956445</td>\n",
       "      <td>0.011383</td>\n",
       "    </tr>\n",
       "    <tr>\n",
       "      <th>lease_remaining</th>\n",
       "      <td>0.551791</td>\n",
       "      <td>0.478934</td>\n",
       "      <td>0.209832</td>\n",
       "      <td>0.311443</td>\n",
       "      <td>1.000000</td>\n",
       "      <td>0.484222</td>\n",
       "      <td>0.035050</td>\n",
       "      <td>0.310774</td>\n",
       "      <td>0.284459</td>\n",
       "      <td>-0.035339</td>\n",
       "    </tr>\n",
       "    <tr>\n",
       "      <th>last_known_price</th>\n",
       "      <td>0.657572</td>\n",
       "      <td>0.867022</td>\n",
       "      <td>0.058716</td>\n",
       "      <td>0.397299</td>\n",
       "      <td>0.484222</td>\n",
       "      <td>1.000000</td>\n",
       "      <td>0.085724</td>\n",
       "      <td>0.396745</td>\n",
       "      <td>0.399043</td>\n",
       "      <td>-0.127325</td>\n",
       "    </tr>\n",
       "    <tr>\n",
       "      <th>months_since_last</th>\n",
       "      <td>0.143490</td>\n",
       "      <td>0.192576</td>\n",
       "      <td>-0.008264</td>\n",
       "      <td>0.224866</td>\n",
       "      <td>0.035050</td>\n",
       "      <td>0.085724</td>\n",
       "      <td>1.000000</td>\n",
       "      <td>0.224665</td>\n",
       "      <td>0.235131</td>\n",
       "      <td>0.075509</td>\n",
       "    </tr>\n",
       "    <tr>\n",
       "      <th>year</th>\n",
       "      <td>0.093285</td>\n",
       "      <td>0.438026</td>\n",
       "      <td>0.067823</td>\n",
       "      <td>0.998638</td>\n",
       "      <td>0.310774</td>\n",
       "      <td>0.396745</td>\n",
       "      <td>0.224665</td>\n",
       "      <td>1.000000</td>\n",
       "      <td>0.957843</td>\n",
       "      <td>0.011541</td>\n",
       "    </tr>\n",
       "    <tr>\n",
       "      <th>GDP_value</th>\n",
       "      <td>0.080457</td>\n",
       "      <td>0.473119</td>\n",
       "      <td>0.056493</td>\n",
       "      <td>0.956445</td>\n",
       "      <td>0.284459</td>\n",
       "      <td>0.399043</td>\n",
       "      <td>0.235131</td>\n",
       "      <td>0.957843</td>\n",
       "      <td>1.000000</td>\n",
       "      <td>0.138826</td>\n",
       "    </tr>\n",
       "    <tr>\n",
       "      <th>GDP_perc_change</th>\n",
       "      <td>-0.047746</td>\n",
       "      <td>-0.056071</td>\n",
       "      <td>-0.017398</td>\n",
       "      <td>0.011383</td>\n",
       "      <td>-0.035339</td>\n",
       "      <td>-0.127325</td>\n",
       "      <td>0.075509</td>\n",
       "      <td>0.011541</td>\n",
       "      <td>0.138826</td>\n",
       "      <td>1.000000</td>\n",
       "    </tr>\n",
       "  </tbody>\n",
       "</table>\n",
       "</div>"
      ],
      "text/plain": [
       "                        floor_area_sqm  resale_price  busstops  \\\n",
       "floor_area_sqm                1.000000      0.745815  0.101062   \n",
       "resale_price                  0.745815      1.000000  0.054439   \n",
       "busstops                      0.101062      0.054439  1.000000   \n",
       "month_index_since_1990        0.093425      0.439077  0.067992   \n",
       "lease_remaining               0.551791      0.478934  0.209832   \n",
       "last_known_price              0.657572      0.867022  0.058716   \n",
       "months_since_last             0.143490      0.192576 -0.008264   \n",
       "year                          0.093285      0.438026  0.067823   \n",
       "GDP_value                     0.080457      0.473119  0.056493   \n",
       "GDP_perc_change              -0.047746     -0.056071 -0.017398   \n",
       "\n",
       "                        month_index_since_1990  lease_remaining  \\\n",
       "floor_area_sqm                        0.093425         0.551791   \n",
       "resale_price                          0.439077         0.478934   \n",
       "busstops                              0.067992         0.209832   \n",
       "month_index_since_1990                1.000000         0.311443   \n",
       "lease_remaining                       0.311443         1.000000   \n",
       "last_known_price                      0.397299         0.484222   \n",
       "months_since_last                     0.224866         0.035050   \n",
       "year                                  0.998638         0.310774   \n",
       "GDP_value                             0.956445         0.284459   \n",
       "GDP_perc_change                       0.011383        -0.035339   \n",
       "\n",
       "                        last_known_price  months_since_last      year  \\\n",
       "floor_area_sqm                  0.657572           0.143490  0.093285   \n",
       "resale_price                    0.867022           0.192576  0.438026   \n",
       "busstops                        0.058716          -0.008264  0.067823   \n",
       "month_index_since_1990          0.397299           0.224866  0.998638   \n",
       "lease_remaining                 0.484222           0.035050  0.310774   \n",
       "last_known_price                1.000000           0.085724  0.396745   \n",
       "months_since_last               0.085724           1.000000  0.224665   \n",
       "year                            0.396745           0.224665  1.000000   \n",
       "GDP_value                       0.399043           0.235131  0.957843   \n",
       "GDP_perc_change                -0.127325           0.075509  0.011541   \n",
       "\n",
       "                        GDP_value  GDP_perc_change  \n",
       "floor_area_sqm           0.080457        -0.047746  \n",
       "resale_price             0.473119        -0.056071  \n",
       "busstops                 0.056493        -0.017398  \n",
       "month_index_since_1990   0.956445         0.011383  \n",
       "lease_remaining          0.284459        -0.035339  \n",
       "last_known_price         0.399043        -0.127325  \n",
       "months_since_last        0.235131         0.075509  \n",
       "year                     0.957843         0.011541  \n",
       "GDP_value                1.000000         0.138826  \n",
       "GDP_perc_change          0.138826         1.000000  "
      ]
     },
     "execution_count": 9,
     "metadata": {},
     "output_type": "execute_result"
    }
   ],
   "source": [
    "full_df_corr = full_df_subset.corr()\n",
    "full_df_corr"
   ]
  },
  {
   "cell_type": "markdown",
   "metadata": {},
   "source": [
    "Inspecting for multicollinearity:\n",
    "\n",
    "Plot correlation matrix for predictors only to look for strong/perfect correlation\n",
    "between variables and delete if necessary"
   ]
  },
  {
   "cell_type": "code",
   "execution_count": 10,
   "metadata": {},
   "outputs": [
    {
     "data": {
      "text/plain": [
       "<matplotlib.axes._subplots.AxesSubplot at 0x232a696ef08>"
      ]
     },
     "execution_count": 10,
     "metadata": {},
     "output_type": "execute_result"
    },
    {
     "data": {
      "image/png": "[encoded data removed]",
      "text/plain": [
       "<Figure size 792x648 with 2 Axes>"
      ]
     },
     "metadata": {
      "needs_background": "light"
     },
     "output_type": "display_data"
    }
   ],
   "source": [
    "X_corr = full_df_subset.drop(\"resale_price\", axis=1).corr()\n",
    "import seaborn as sns\n",
    "f, ax = plt.subplots(figsize=(11, 9))\n",
    "mask = np.triu(np.ones_like(X_corr, dtype=np.bool))\n",
    "# Generate a custom diverging colormap\n",
    "cmap = sns.diverging_palette(220, 10, as_cmap=True)\n",
    "sns.heatmap(X_corr, mask=mask, cmap=cmap, vmax=1, center=0,\n",
    "            square=True, linewidths=.5, cbar_kws={\"shrink\": .5}, annot=True)"
   ]
  },
  {
   "cell_type": "code",
   "execution_count": 11,
   "metadata": {},
   "outputs": [
    {
     "data": {
      "text/plain": [
       "<matplotlib.axes._subplots.AxesSubplot at 0x232a6cf3fc8>"
      ]
     },
     "execution_count": 11,
     "metadata": {},
     "output_type": "execute_result"
    },
    {
     "data": {
      "image/png": "[encoded data removed]",
      "text/plain": [
       "<Figure size 792x648 with 2 Axes>"
      ]
     },
     "metadata": {
      "needs_background": "light"
     },
     "output_type": "display_data"
    }
   ],
   "source": [
    "f, ax = plt.subplots(figsize=(11, 9))\n",
    "mask = np.triu(np.ones_like(full_df_corr, dtype=np.bool))\n",
    "# Generate a custom diverging colormap\n",
    "cmap = sns.diverging_palette(220, 10, as_cmap=True)\n",
    "sns.heatmap(full_df_corr, mask=mask, cmap=cmap, vmax=1, center=0,\n",
    "            square=True, linewidths=.5, cbar_kws={\"shrink\": .5}, annot=True)"
   ]
  },
  {
   "cell_type": "markdown",
   "metadata": {},
   "source": [
    "While `busstops` are uncorrelated with `resale_price` , we can do it after looking at the significance of busstops in predicting `resale_price`"
   ]
  },
  {
   "cell_type": "code",
   "execution_count": 13,
   "metadata": {},
   "outputs": [],
   "source": [
    "'''\n",
    "Instead of putting the past price as a predictor, we let the predictor be a differential of the previous known price, similar to getting differentials in ARIMA models. \n",
    "\n",
    "We compare this method against the former method, to see which method is better in prediction with a possible explanation\n",
    "'''\n",
    "differential_df = full_df_subset.copy(deep=True)\n",
    "differential_df[\"price_difference\"] = differential_df[\"resale_price\"] - differential_df[\"last_known_price\"]\n",
    "differential_df.drop([\"resale_price\", \"last_known_price\"], axis=1, inplace=True)"
   ]
  },
  {
   "cell_type": "code",
   "execution_count": 14,
   "metadata": {},
   "outputs": [
    {
     "data": {
      "text/plain": [
       "<matplotlib.collections.PathCollection at 0x1fd5e253948>"
      ]
     },
     "execution_count": 14,
     "metadata": {},
     "output_type": "execute_result"
    },
    {
     "data": {
      "image/png": "[encoded data removed]",
      "text/plain": [
       "<Figure size 720x432 with 1 Axes>"
      ]
     },
     "metadata": {
      "needs_background": "light"
     },
     "output_type": "display_data"
    }
   ],
   "source": [
    "plt.figure(figsize=(10,6))\n",
    "plt.title(\"Distribution of price differences\")\n",
    "plt.scatter(differential_df.index, differential_df[\"price_difference\"])"
   ]
  },
  {
   "cell_type": "markdown",
   "metadata": {},
   "source": [
    "It seems to be stationary with mean at around 0. A linear model definitely wont fit this will not use price differences as the predicted variable."
   ]
  },
  {
   "cell_type": "code",
   "execution_count": 51,
   "metadata": {},
   "outputs": [
    {
     "data": {
      "text/plain": [
       "'diff_df_corr = differential_df.corr()\\nf, ax = plt.subplots(figsize=(11, 9))\\nmask = np.triu(np.ones_like(diff_df_corr, dtype=np.bool))\\n# Generate a custom diverging colormap\\ncmap = sns.diverging_palette(220, 10, as_cmap=True)\\nsns.heatmap(diff_df_corr, mask=mask, cmap=cmap, vmax=1, center=0,\\n            square=True, linewidths=.5, cbar_kws={\"shrink\": .5}, annot=True)'"
      ]
     },
     "execution_count": 51,
     "metadata": {},
     "output_type": "execute_result"
    }
   ],
   "source": [
    "'''diff_df_corr = differential_df.corr()\n",
    "f, ax = plt.subplots(figsize=(11, 9))\n",
    "mask = np.triu(np.ones_like(diff_df_corr, dtype=np.bool))\n",
    "# Generate a custom diverging colormap\n",
    "cmap = sns.diverging_palette(220, 10, as_cmap=True)\n",
    "sns.heatmap(diff_df_corr, mask=mask, cmap=cmap, vmax=1, center=0,\n",
    "            square=True, linewidths=.5, cbar_kws={\"shrink\": .5}, annot=True)'''"
   ]
  },
  {
   "cell_type": "markdown",
   "metadata": {},
   "source": [
    "### Model fitting - ML Techniques"
   ]
  },
  {
   "cell_type": "code",
   "execution_count": 9,
   "metadata": {},
   "outputs": [
    {
     "name": "stdout",
     "output_type": "stream",
     "text": [
      "(618273, 597)\n"
     ]
    }
   ],
   "source": [
    "'''\n",
    "process data to fit model fitting techniques\n",
    "'''\n",
    "full_df_subset.drop(\"year\", axis=1, inplace=True)\n",
    "\n",
    "# lb_cols = [\"flat_model\", \"flat\", \"town\"]\n",
    "lb_cols = [\"flat_model\", \"street_name\", \"town\"]\n",
    "le_cols = [\"flat_type\", \"storey_range\"]\n",
    "approval = process_data(full_df_subset, lb_cols= lb_cols, le_cols=le_cols)\n",
    "print(approval.shape)\n",
    "\n",
    "X_approval = approval.drop(\"resale_price\", axis=1)\n",
    "y_approval = approval[\"resale_price\"]"
   ]
  },
  {
   "cell_type": "code",
   "execution_count": 10,
   "metadata": {},
   "outputs": [],
   "source": [
    "## functions to fit ML_models\n",
    "from sklearn.ensemble import RandomForestRegressor, AdaBoostRegressor\n",
    "from sklearn.linear_model import Lasso, BayesianRidge\n",
    "from sklearn.model_selection import GridSearchCV\n",
    "from sklearn.model_selection import train_test_split\n",
    "\n",
    "## code is in housing/ML.py\n",
    "from housing.ML import ML_Model\n",
    "\n",
    "def split_df(X, y):\n",
    "    return train_test_split(X, y, test_size=0.25)"
   ]
  },
  {
   "cell_type": "code",
   "execution_count": 17,
   "metadata": {},
   "outputs": [
    {
     "name": "stderr",
     "output_type": "stream",
     "text": [
      "c:\\users\\ivanl\\appdata\\local\\programs\\python\\python37\\lib\\site-packages\\sklearn\\linear_model\\_coordinate_descent.py:476: ConvergenceWarning: Objective did not converge. You might want to increase the number of iterations. Duality gap: 345250706996446.8, tolerance: 680547867765.932\n",
      "  positive)\n"
     ]
    },
    {
     "name": "stdout",
     "output_type": "stream",
     "text": [
      "Adding fitted regression metrics ...\n"
     ]
    },
    {
     "data": {
      "text/plain": [
       "{'fitted_metrics': {'MSE': 1507095697.7915547,\n",
       "  'Explained Variance': 0.8973112198936318,\n",
       "  'R^2': 0.8973112198936317,\n",
       "  'MAE': 28850.783726545353,\n",
       "  'RMSE': array([38821.3304485]),\n",
       "  'MSPE': 2.3079693172649334}}"
      ]
     },
     "execution_count": 17,
     "metadata": {},
     "output_type": "execute_result"
    },
    {
     "data": {
      "text/plain": [
       "<Figure size 792x504 with 0 Axes>"
      ]
     },
     "metadata": {},
     "output_type": "display_data"
    }
   ],
   "source": [
    "## ML techniques - Lasso\n",
    "lasso = Lasso()\n",
    "lasso_model = ML_Model(lasso, X_approval, y_approval, split_df)\n",
    "lasso_model.fit()\n",
    "lasso_model.get_metrics()\n",
    "# lasso.fit(X_train,y_train)\n",
    "# print(lasso.score(X_train, y_train))"
   ]
  },
  {
   "cell_type": "code",
   "execution_count": 13,
   "metadata": {},
   "outputs": [
    {
     "name": "stdout",
     "output_type": "stream",
     "text": [
      "Adding fitted regression metrics ...\n"
     ]
    }
   ],
   "source": [
    "## ML techniques - Bayesian Ridge\n",
    "br = BayesianRidge()\n",
    "br_model = ML_Model(br, X_approval, y_approval, split_df)\n",
    "br_model.fit()"
   ]
  },
  {
   "cell_type": "code",
   "execution_count": 14,
   "metadata": {},
   "outputs": [
    {
     "data": {
      "text/plain": [
       "{'fitted_metrics': {'MSE': 1506398650.3559752,\n",
       "  'Explained Variance': 0.8974892110091428,\n",
       "  'R^2': 0.8974892110091428,\n",
       "  'MAE': 28852.46482546798,\n",
       "  'RMSE': array([38812.35177564]),\n",
       "  'MSPE': 2.307192208617685}}"
      ]
     },
     "execution_count": 14,
     "metadata": {},
     "output_type": "execute_result"
    }
   ],
   "source": [
    "br_model.get_metrics()"
   ]
  },
  {
   "cell_type": "code",
   "execution_count": 19,
   "metadata": {},
   "outputs": [
    {
     "name": "stdout",
     "output_type": "stream",
     "text": [
      "Adding fitted regression metrics ...\n"
     ]
    },
    {
     "data": {
      "text/plain": [
       "{'fitted_metrics': {'MSE': 3527180103.876171,\n",
       "  'Explained Variance': 0.8570612689214652,\n",
       "  'R^2': 0.7599958430177011,\n",
       "  'MAE': 49874.78425539706,\n",
       "  'RMSE': array([59390.067384]),\n",
       "  'MSPE': 5.394688130382159}}"
      ]
     },
     "execution_count": 19,
     "metadata": {},
     "output_type": "execute_result"
    },
    {
     "data": {
      "text/plain": [
       "<Figure size 792x504 with 0 Axes>"
      ]
     },
     "metadata": {},
     "output_type": "display_data"
    }
   ],
   "source": [
    "abr = AdaBoostRegressor()\n",
    "abr_model = ML_Model(abr, X_approval, y_approval, split_df)\n",
    "abr_model.fit()\n",
    "abr_model.get_metrics()"
   ]
  },
  {
   "cell_type": "markdown",
   "metadata": {},
   "source": [
    "Compare Against Differentials"
   ]
  },
  {
   "cell_type": "code",
   "execution_count": null,
   "metadata": {},
   "outputs": [],
   "source": [
    "# diff_approval = process_data(differential_df, lb_cols= lb_cols, le_cols=le_cols)\n",
    "# X_diff_approval = diff_approval.drop(\"price_difference\", axis=1)\n",
    "# y_diff_approval = diff_approval[\"price_difference\"]\n",
    "# print(differential_df.columns)\n",
    "\n",
    "## ML techniques - Bayesian Ridge\n",
    "br = BayesianRidge()\n",
    "br_model = ML_Model(br, X_diff_approval, y_diff_approval, split_df)\n",
    "br_model.fit()\n",
    "br_model.get_metrics()"
   ]
  },
  {
   "cell_type": "markdown",
   "metadata": {},
   "source": [
    "RFC - it takes really long to run this so I haven't"
   ]
  },
  {
   "cell_type": "code",
   "execution_count": null,
   "metadata": {},
   "outputs": [],
   "source": [
    "rfr = RandomForestRegressor(n_estimators=1000)\n",
    "rfr.fit(X_train,y_train)\n",
    "print(rfr.score(X_train, y_train))"
   ]
  },
  {
   "cell_type": "markdown",
   "metadata": {},
   "source": [
    "Rolling predictions\n",
    "\n",
    "build models with data on year $n$ to predict data on year $n+1$. We concat all predicted values."
   ]
  },
  {
   "cell_type": "code",
   "execution_count": null,
   "metadata": {
    "scrolled": true
   },
   "outputs": [],
   "source": [
    "lasso_model.rolling_predict(12)"
   ]
  },
  {
   "cell_type": "code",
   "execution_count": null,
   "metadata": {},
   "outputs": [],
   "source": [
    "lasso_model.get_metrics()"
   ]
  },
  {
   "cell_type": "code",
   "execution_count": null,
   "metadata": {
    "scrolled": true
   },
   "outputs": [],
   "source": [
    "lasso_model.rolling_predict(6)\n",
    "lasso_model.get_metrics()"
   ]
  },
  {
   "cell_type": "markdown",
   "metadata": {},
   "source": [
    "It seems that rolling predictions work better. This might likely be due to structural information that \n",
    "might be lost but persisted in the future due to models taking averages over the whole time period to\n",
    "minimise loss functions."
   ]
  },
  {
   "cell_type": "markdown",
   "metadata": {},
   "source": [
    "### Deep Learning Techniques\n",
    "\n",
    "#### ANN"
   ]
  },
  {
   "cell_type": "code",
   "execution_count": 11,
   "metadata": {
    "scrolled": true
   },
   "outputs": [
    {
     "name": "stdout",
     "output_type": "stream",
     "text": [
      "Model: \"sequential\"\n",
      "_________________________________________________________________\n",
      "Layer (type)                 Output Shape              Param #   \n",
      "=================================================================\n",
      "dense (Dense)                (None, 128)               76416     \n",
      "_________________________________________________________________\n",
      "dense_1 (Dense)              (None, 64)                8256      \n",
      "_________________________________________________________________\n",
      "dense_2 (Dense)              (None, 10)                650       \n",
      "_________________________________________________________________\n",
      "dense_3 (Dense)              (None, 1)                 11        \n",
      "=================================================================\n",
      "Total params: 85,333\n",
      "Trainable params: 85,333\n",
      "Non-trainable params: 0\n",
      "_________________________________________________________________\n"
     ]
    }
   ],
   "source": [
    "X_train, X_test, y_train, y_test = split_df(X_approval, y_approval)\n",
    "# df = tf.data.Dataset.from_tensor_slices((X_train.values, y_train.values)).batch(16)\n",
    "\n",
    "## model definition\n",
    "model = tf.keras.Sequential([\n",
    "    tf.keras.layers.Dense(128, activation='relu', input_shape=[X_train.shape[1]]),\n",
    "    tf.keras.layers.Dense(64, activation='relu'),\n",
    "    tf.keras.layers.Dense(10, activation='relu'),\n",
    "    tf.keras.layers.Dense(1),\n",
    "])\n",
    "model.compile(optimizer='adam',\n",
    "                loss=tf.keras.losses.MeanSquaredError(),\n",
    "                metrics=['mse'])\n",
    "model.summary()"
   ]
  },
  {
   "cell_type": "code",
   "execution_count": 33,
   "metadata": {
    "scrolled": true
   },
   "outputs": [
    {
     "name": "stdout",
     "output_type": "stream",
     "text": [
      "Train on 370963 samples, validate on 92741 samples\n",
      "Epoch 1/100\n",
      "370963/370963 - 32s - loss: 1071430276.1953 - mse: 1071429504.0000 - val_loss: 1380454220.3382 - val_mse: 1380454528.0000\n",
      "Epoch 2/100\n",
      "370963/370963 - 30s - loss: 1063984622.8829 - mse: 1063985216.0000 - val_loss: 897412548.5456 - val_mse: 897412480.0000\n",
      "Epoch 3/100\n",
      "370963/370963 - 27s - loss: 1068279660.7674 - mse: 1068279168.0000 - val_loss: 943999563.2934 - val_mse: 943998464.0000\n",
      "Epoch 4/100\n",
      "370963/370963 - 33s - loss: 1057600715.7718 - mse: 1057600896.0000 - val_loss: 944243319.5353 - val_mse: 944243584.0000\n",
      "Epoch 5/100\n",
      "370963/370963 - 32s - loss: 1056492809.8854 - mse: 1056488128.0000 - val_loss: 911890788.2541 - val_mse: 911890048.0000\n",
      "Epoch 6/100\n",
      "370963/370963 - 151s - loss: 1050821147.3023 - mse: 1050819264.0000 - val_loss: 911005751.5415 - val_mse: 911007552.0000\n",
      "Epoch 7/100\n",
      "370963/370963 - 29s - loss: 1058070923.8186 - mse: 1058072704.0000 - val_loss: 1000097101.5279 - val_mse: 1000097472.0000\n",
      "Epoch 8/100\n",
      "370963/370963 - 25s - loss: 1048276568.5362 - mse: 1048275968.0000 - val_loss: 914451950.5931 - val_mse: 914452608.0000\n",
      "Epoch 9/100\n",
      "370963/370963 - 25s - loss: 1039615273.6894 - mse: 1039616000.0000 - val_loss: 1021106381.3361 - val_mse: 1021107008.0000\n",
      "Epoch 10/100\n",
      "370963/370963 - 25s - loss: 1039495182.4879 - mse: 1039497216.0000 - val_loss: 961984356.7744 - val_mse: 961983936.0000\n",
      "Epoch 11/100\n",
      "370963/370963 - 26s - loss: 1043386666.5827 - mse: 1043384000.0000 - val_loss: 932008891.7870 - val_mse: 932008320.0000\n",
      "Epoch 12/100\n",
      "370963/370963 - 31s - loss: 1043494010.1487 - mse: 1043490880.0000 - val_loss: 951617535.1181 - val_mse: 951616704.0000\n",
      "Epoch 13/100\n",
      "370963/370963 - 25s - loss: 1033276801.8101 - mse: 1033277760.0000 - val_loss: 1042642592.0797 - val_mse: 1042642048.0000\n",
      "Epoch 14/100\n",
      "370963/370963 - 29s - loss: 1033967559.4335 - mse: 1033965184.0000 - val_loss: 912061815.6388 - val_mse: 912062144.0000\n",
      "Epoch 15/100\n",
      "370963/370963 - 30s - loss: 1033515828.5587 - mse: 1033517632.0000 - val_loss: 1103723778.5865 - val_mse: 1103724544.0000\n",
      "Epoch 16/100\n",
      "370963/370963 - 28s - loss: 1037864615.2861 - mse: 1037866560.0000 - val_loss: 1123336022.4053 - val_mse: 1123334528.0000\n",
      "Epoch 17/100\n",
      "370963/370963 - 30s - loss: 1026689853.1901 - mse: 1026688512.0000 - val_loss: 934725096.2456 - val_mse: 934725056.0000\n",
      "Epoch 18/100\n",
      "370963/370963 - 27s - loss: 1038133462.6645 - mse: 1038133312.0000 - val_loss: 1062489013.4174 - val_mse: 1062487616.0000\n",
      "Epoch 19/100\n",
      "370963/370963 - 26s - loss: 1019296909.3898 - mse: 1019295552.0000 - val_loss: 1088408920.9752 - val_mse: 1088408832.0000\n",
      "Epoch 20/100\n",
      "370963/370963 - 29s - loss: 1025658076.3331 - mse: 1025658304.0000 - val_loss: 1069335396.9690 - val_mse: 1069334464.0000\n",
      "Epoch 21/100\n",
      "370963/370963 - 25s - loss: 1025579141.3726 - mse: 1025580288.0000 - val_loss: 920116729.1391 - val_mse: 920118080.0000\n",
      "Epoch 22/100\n",
      "370963/370963 - 27s - loss: 1023296454.8901 - mse: 1023297152.0000 - val_loss: 940745032.7594 - val_mse: 940745984.0000\n",
      "Epoch 23/100\n",
      "370963/370963 - 26s - loss: 1015209350.1305 - mse: 1015205312.0000 - val_loss: 1408676750.4216 - val_mse: 1408676736.0000\n",
      "Epoch 24/100\n",
      "370963/370963 - 23s - loss: 1012276487.6575 - mse: 1012275008.0000 - val_loss: 883285153.6117 - val_mse: 883284864.0000\n",
      "Epoch 25/100\n",
      "370963/370963 - 20s - loss: 1012550184.6710 - mse: 1012553408.0000 - val_loss: 1001368528.5961 - val_mse: 1001368640.0000\n",
      "Epoch 26/100\n",
      "370963/370963 - 20s - loss: 1015003364.3499 - mse: 1015004160.0000 - val_loss: 989786091.8575 - val_mse: 989784448.0000\n",
      "Epoch 27/100\n",
      "370963/370963 - 20s - loss: 1008926876.2448 - mse: 1008927808.0000 - val_loss: 854303276.3551 - val_mse: 854304128.0000\n",
      "Epoch 28/100\n",
      "370963/370963 - 20s - loss: 1005072524.3425 - mse: 1005073216.0000 - val_loss: 860500321.0244 - val_mse: 860500160.0000\n",
      "Epoch 29/100\n",
      "370963/370963 - 20s - loss: 1004558121.3455 - mse: 1004558016.0000 - val_loss: 1027981011.7857 - val_mse: 1027981440.0000\n",
      "Epoch 30/100\n",
      "370963/370963 - 21s - loss: 1005691156.5617 - mse: 1005693056.0000 - val_loss: 873705410.7031 - val_mse: 873706048.0000\n",
      "Epoch 31/100\n",
      "370963/370963 - 20s - loss: 1004658304.0690 - mse: 1004659392.0000 - val_loss: 895040642.4747 - val_mse: 895041600.0000\n",
      "Epoch 32/100\n",
      "370963/370963 - 19s - loss: 996977981.6782 - mse: 996980416.0000 - val_loss: 904224687.4564 - val_mse: 904225728.0000\n",
      "Epoch 33/100\n",
      "370963/370963 - 19s - loss: 996419220.7112 - mse: 996419456.0000 - val_loss: 971999154.7757 - val_mse: 971997824.0000\n",
      "Epoch 34/100\n",
      "370963/370963 - 19s - loss: 1004578540.9393 - mse: 1004575872.0000 - val_loss: 992166893.7360 - val_mse: 992167680.0000\n",
      "Epoch 35/100\n",
      "370963/370963 - 19s - loss: 996459491.3417 - mse: 996459136.0000 - val_loss: 893215929.7553 - val_mse: 893216320.0000\n",
      "Epoch 36/100\n",
      "370963/370963 - 19s - loss: 989181633.2900 - mse: 989180032.0000 - val_loss: 851797426.9331 - val_mse: 851796608.0000\n",
      "Epoch 37/100\n",
      "370963/370963 - 21s - loss: 990992482.9887 - mse: 990991680.0000 - val_loss: 871028863.5956 - val_mse: 871028800.0000\n",
      "Epoch 38/100\n",
      "370963/370963 - 20s - loss: 992145675.4187 - mse: 992145920.0000 - val_loss: 925000217.6963 - val_mse: 924999296.0000\n",
      "Epoch 39/100\n",
      "370963/370963 - 24s - loss: 985097652.5049 - mse: 985097216.0000 - val_loss: 1126057236.2791 - val_mse: 1126056960.0000\n",
      "Epoch 40/100\n",
      "370963/370963 - 29s - loss: 984112777.8940 - mse: 984111424.0000 - val_loss: 844503930.5110 - val_mse: 844505024.0000\n",
      "Epoch 41/100\n",
      "370963/370963 - 27s - loss: 990208789.1432 - mse: 990209728.0000 - val_loss: 841561523.0048 - val_mse: 841561600.0000\n",
      "Epoch 42/100\n",
      "370963/370963 - 28s - loss: 984475438.1627 - mse: 984477504.0000 - val_loss: 928963799.0622 - val_mse: 928965440.0000\n",
      "Epoch 43/100\n",
      "370963/370963 - 28s - loss: 983102251.4410 - mse: 983102016.0000 - val_loss: 1098918917.0625 - val_mse: 1098917888.0000\n",
      "Epoch 44/100\n",
      "370963/370963 - 28s - loss: 980825035.2025 - mse: 980826496.0000 - val_loss: 888044081.6895 - val_mse: 888044864.0000\n",
      "Epoch 45/100\n",
      "370963/370963 - 29s - loss: 979376216.5065 - mse: 979376384.0000 - val_loss: 924991276.9424 - val_mse: 924991808.0000\n",
      "Epoch 46/100\n",
      "370963/370963 - 29s - loss: 979418785.7590 - mse: 979421248.0000 - val_loss: 1092919334.5266 - val_mse: 1092918144.0000\n",
      "Epoch 47/100\n",
      "370963/370963 - 30s - loss: 974815464.5516 - mse: 974819648.0000 - val_loss: 928328784.5961 - val_mse: 928328704.0000\n",
      "Epoch 48/100\n",
      "370963/370963 - 29s - loss: 975368969.8384 - mse: 975370432.0000 - val_loss: 950172806.5462 - val_mse: 950173184.0000\n",
      "Epoch 49/100\n",
      "370963/370963 - 28s - loss: 971981084.7107 - mse: 971979712.0000 - val_loss: 1062697904.1479 - val_mse: 1062696576.0000\n",
      "Epoch 50/100\n",
      "370963/370963 - 31s - loss: 972755404.8386 - mse: 972753600.0000 - val_loss: 892019389.2776 - val_mse: 892019136.0000\n",
      "Epoch 51/100\n",
      "370963/370963 - 30s - loss: 964405162.6761 - mse: 964404224.0000 - val_loss: 1377435965.0291 - val_mse: 1377435264.0000\n",
      "Epoch 52/100\n",
      "370963/370963 - 31s - loss: 964971803.0435 - mse: 964971904.0000 - val_loss: 1051566584.3096 - val_mse: 1051566912.0000\n",
      "Epoch 53/100\n",
      "370963/370963 - 31s - loss: 972239586.0271 - mse: 972236224.0000 - val_loss: 884760718.8122 - val_mse: 884759680.0000\n",
      "Epoch 54/100\n",
      "370963/370963 - 29s - loss: 966327913.1126 - mse: 966325888.0000 - val_loss: 904321402.2612 - val_mse: 904321344.0000\n",
      "Epoch 55/100\n",
      "370963/370963 - 28s - loss: 964560674.9851 - mse: 964560000.0000 - val_loss: 1200972287.5915 - val_mse: 1200972032.0000\n",
      "Epoch 56/100\n",
      "370963/370963 - 29s - loss: 961852854.8243 - mse: 961851328.0000 - val_loss: 857614033.9183 - val_mse: 857614208.0000\n",
      "Epoch 57/100\n",
      "370963/370963 - 29s - loss: 961092529.7745 - mse: 961089600.0000 - val_loss: 838497120.2998 - val_mse: 838498112.0000\n",
      "Epoch 58/100\n",
      "370963/370963 - 28s - loss: 954798445.2736 - mse: 954796416.0000 - val_loss: 908425708.9506 - val_mse: 908425600.0000\n",
      "Epoch 59/100\n",
      "370963/370963 - 31s - loss: 957924610.0097 - mse: 957922560.0000 - val_loss: 848491127.8072 - val_mse: 848491200.0000\n",
      "Epoch 60/100\n",
      "370963/370963 - 31s - loss: 953332347.0889 - mse: 953331904.0000 - val_loss: 1040044342.6209 - val_mse: 1040044736.0000\n",
      "Epoch 61/100\n",
      "370963/370963 - 29s - loss: 943765914.8499 - mse: 943766336.0000 - val_loss: 866403264.4396 - val_mse: 866401984.0000\n",
      "Epoch 62/100\n",
      "370963/370963 - 27s - loss: 946283348.3150 - mse: 946282432.0000 - val_loss: 876410681.8174 - val_mse: 876410432.0000\n"
     ]
    },
    {
     "name": "stdout",
     "output_type": "stream",
     "text": [
      "Epoch 63/100\n",
      "370963/370963 - 29s - loss: 951963740.4014 - mse: 951962752.0000 - val_loss: 942016366.5993 - val_mse: 942018112.0000\n",
      "Epoch 64/100\n",
      "370963/370963 - 29s - loss: 948791271.2774 - mse: 948792768.0000 - val_loss: 1088396230.7415 - val_mse: 1088396160.0000\n",
      "Epoch 65/100\n",
      "370963/370963 - 29s - loss: 943620700.5786 - mse: 943622016.0000 - val_loss: 852984441.2495 - val_mse: 852983872.0000\n",
      "Epoch 66/100\n",
      "370963/370963 - 29s - loss: 940098426.4161 - mse: 940097408.0000 - val_loss: 829850829.9433 - val_mse: 829851264.0000\n",
      "Epoch 67/100\n",
      "370963/370963 - 28s - loss: 940590390.5120 - mse: 940592704.0000 - val_loss: 804688023.1085 - val_mse: 804687744.0000\n",
      "Epoch 68/100\n",
      "370963/370963 - 28s - loss: 935655205.2131 - mse: 935655744.0000 - val_loss: 898643830.3414 - val_mse: 898643840.0000\n",
      "Epoch 69/100\n",
      "370963/370963 - 38s - loss: 943363060.4195 - mse: 943364416.0000 - val_loss: 791110673.3131 - val_mse: 791111488.0000\n",
      "Epoch 70/100\n",
      "370963/370963 - 29s - loss: 937256486.7567 - mse: 937252992.0000 - val_loss: 945914852.6750 - val_mse: 945913792.0000\n",
      "Epoch 71/100\n",
      "370963/370963 - 28s - loss: 940696110.3782 - mse: 940696384.0000 - val_loss: 855392124.3273 - val_mse: 855392320.0000\n",
      "Epoch 72/100\n",
      "370963/370963 - 39s - loss: 941768265.2002 - mse: 941769856.0000 - val_loss: 1007362033.5204 - val_mse: 1007363008.0000\n",
      "Epoch 73/100\n",
      "370963/370963 - 34s - loss: 937929203.5664 - mse: 937929088.0000 - val_loss: 833052201.3822 - val_mse: 833051712.0000\n",
      "Epoch 74/100\n",
      "370963/370963 - 30s - loss: 933835844.2960 - mse: 933833088.0000 - val_loss: 880938858.1861 - val_mse: 880938176.0000\n",
      "Epoch 75/100\n",
      "370963/370963 - 30s - loss: 934609440.2280 - mse: 934605504.0000 - val_loss: 793915314.7260 - val_mse: 793915328.0000\n",
      "Epoch 76/100\n",
      "370963/370963 - 27s - loss: 932465952.3246 - mse: 932466752.0000 - val_loss: 973766592.7639 - val_mse: 973766144.0000\n",
      "Epoch 77/100\n",
      "370963/370963 - 30s - loss: 934196378.6273 - mse: 934197824.0000 - val_loss: 1277373329.8265 - val_mse: 1277375104.0000\n",
      "Epoch 78/100\n",
      "370963/370963 - 31s - loss: 930691485.4681 - mse: 930693696.0000 - val_loss: 894881919.9338 - val_mse: 894882752.0000\n",
      "Epoch 79/100\n",
      "370963/370963 - 30s - loss: 929522809.4738 - mse: 929524032.0000 - val_loss: 931955362.7780 - val_mse: 931955264.0000\n",
      "Epoch 80/100\n",
      "370963/370963 - 27s - loss: 929089929.6427 - mse: 929089728.0000 - val_loss: 967001340.7731 - val_mse: 967000256.0000\n",
      "Epoch 81/100\n",
      "370963/370963 - 29s - loss: 924845441.8936 - mse: 924846976.0000 - val_loss: 846724655.3101 - val_mse: 846724864.0000\n",
      "Epoch 82/100\n",
      "370963/370963 - 30s - loss: 923228303.8939 - mse: 923226624.0000 - val_loss: 901155362.2756 - val_mse: 901155456.0000\n",
      "Epoch 83/100\n",
      "370963/370963 - 27s - loss: 921981684.9041 - mse: 921980608.0000 - val_loss: 902437427.3692 - val_mse: 902437120.0000\n",
      "Epoch 84/100\n",
      "370963/370963 - 26s - loss: 922896006.9058 - mse: 922897728.0000 - val_loss: 842842248.4550 - val_mse: 842841792.0000\n",
      "Epoch 85/100\n",
      "370963/370963 - 26s - loss: 916907857.8814 - mse: 916906944.0000 - val_loss: 1142410835.2888 - val_mse: 1142410112.0000\n",
      "Epoch 86/100\n",
      "370963/370963 - 26s - loss: 925107268.9654 - mse: 925107648.0000 - val_loss: 913495665.4487 - val_mse: 913495616.0000\n",
      "Epoch 87/100\n",
      "370963/370963 - 26s - loss: 922797464.0221 - mse: 922795840.0000 - val_loss: 823695660.4917 - val_mse: 823696256.0000\n",
      "Epoch 88/100\n",
      "370963/370963 - 27s - loss: 913627627.4966 - mse: 913628544.0000 - val_loss: 889354514.8258 - val_mse: 889355008.0000\n",
      "Epoch 89/100\n",
      "370963/370963 - 28s - loss: 923372326.4345 - mse: 923372224.0000 - val_loss: 1459454652.9367 - val_mse: 1459454464.0000\n",
      "Epoch 90/100\n",
      "370963/370963 - 26s - loss: 920117894.2102 - mse: 920119168.0000 - val_loss: 993330706.0501 - val_mse: 993329728.0000\n",
      "Epoch 91/100\n",
      "370963/370963 - 28s - loss: 922508383.1904 - mse: 922509696.0000 - val_loss: 835275368.4195 - val_mse: 835276352.0000\n",
      "Epoch 92/100\n",
      "370963/370963 - 27s - loss: 915173623.9738 - mse: 915174976.0000 - val_loss: 1071084478.2396 - val_mse: 1071084224.0000\n",
      "Epoch 93/100\n",
      "370963/370963 - 27s - loss: 903347073.9067 - mse: 903346304.0000 - val_loss: 798573628.1141 - val_mse: 798575040.0000\n",
      "Epoch 94/100\n",
      "370963/370963 - 27s - loss: 914417962.6198 - mse: 914419072.0000 - val_loss: 1095674801.0105 - val_mse: 1095675264.0000\n",
      "Epoch 95/100\n",
      "370963/370963 - 27s - loss: 913769625.1761 - mse: 913771904.0000 - val_loss: 846808307.9613 - val_mse: 846809920.0000\n",
      "Epoch 96/100\n",
      "370963/370963 - 28s - loss: 908424006.9491 - mse: 908420800.0000 - val_loss: 946162582.3439 - val_mse: 946163200.0000\n",
      "Epoch 97/100\n",
      "370963/370963 - 30s - loss: 908753979.5706 - mse: 908753344.0000 - val_loss: 935090306.6196 - val_mse: 935090304.0000\n",
      "Epoch 98/100\n",
      "370963/370963 - 28s - loss: 903093944.5747 - mse: 903091776.0000 - val_loss: 1372568215.1306 - val_mse: 1372567040.0000\n",
      "Epoch 99/100\n",
      "370963/370963 - 30s - loss: 908062972.4106 - mse: 908062720.0000 - val_loss: 782459556.4784 - val_mse: 782459840.0000\n",
      "Epoch 100/100\n",
      "370963/370963 - 28s - loss: 912151518.4253 - mse: 912150528.0000 - val_loss: 792635343.9253 - val_mse: 792635136.0000\n"
     ]
    }
   ],
   "source": [
    "EPOCHS = 100\n",
    "\n",
    "history = model.fit(\n",
    "  X_train, y_train,\n",
    "  epochs=EPOCHS, validation_split = 0.2, verbose=2)"
   ]
  },
  {
   "cell_type": "code",
   "execution_count": 34,
   "metadata": {},
   "outputs": [],
   "source": [
    "## save model\n",
    "model.save_weights(\"./checkpoints/ann-epoch-100\")"
   ]
  },
  {
   "cell_type": "markdown",
   "metadata": {},
   "source": [
    "### Checking Model Assumptions"
   ]
  },
  {
   "cell_type": "markdown",
   "metadata": {},
   "source": [
    "In this section, we look at whether the fitted model satifies assumptions in the underlying model. \n",
    "\n",
    "For example, regression requires data to be homoscedastic. We observe this in a residual plot or QQ-plot, where residuals should look like a random variable with mean 0 while QQ-plot should show a straight line."
   ]
  },
  {
   "cell_type": "markdown",
   "metadata": {},
   "source": [
    "**Residual Plot**"
   ]
  },
  {
   "cell_type": "code",
   "execution_count": 15,
   "metadata": {},
   "outputs": [],
   "source": [
    "from housing.ModelChecking import *"
   ]
  },
  {
   "cell_type": "code",
   "execution_count": 25,
   "metadata": {
    "scrolled": true
   },
   "outputs": [
    {
     "data": {
      "image/png": "[encoded data removed]",
      "text/plain": [
       "<Figure size 432x288 with 1 Axes>"
      ]
     },
     "metadata": {
      "needs_background": "light"
     },
     "output_type": "display_data"
    },
    {
     "data": {
      "image/png": "[encoded data removed]",
      "text/plain": [
       "<Figure size 432x288 with 1 Axes>"
      ]
     },
     "metadata": {
      "needs_background": "light"
     },
     "output_type": "display_data"
    },
    {
     "data": {
      "image/png": "[encoded data removed]",
      "text/plain": [
       "<Figure size 432x288 with 1 Axes>"
      ]
     },
     "metadata": {
      "needs_background": "light"
     },
     "output_type": "display_data"
    }
   ],
   "source": [
    "statistical_plots(br_model.preds, br_model.y_test)"
   ]
  },
  {
   "cell_type": "code",
   "execution_count": 24,
   "metadata": {
    "scrolled": true
   },
   "outputs": [
    {
     "data": {
      "text/plain": [
       "(1127.8298890627652, 3274205.5286683333)"
      ]
     },
     "execution_count": 24,
     "metadata": {},
     "output_type": "execute_result"
    }
   ],
   "source": [
    "AIC_BIC(br_model.preds, br_model.y_test, X_approval.shape[1]+1)"
   ]
  },
  {
   "cell_type": "markdown",
   "metadata": {},
   "source": [
    "### **Model Performance**\n",
    "- Looking at regression metrics on OOB data"
   ]
  },
  {
   "cell_type": "code",
   "execution_count": 20,
   "metadata": {},
   "outputs": [
    {
     "name": "stdout",
     "output_type": "stream",
     "text": [
      "Adding OOB regression metrics ...\n"
     ]
    }
   ],
   "source": [
    "## fitting test values and getting regression performance statistics\n",
    "lasso_preds = lasso_model.predict_test()\n",
    "br_preds = br_model.predict_test()\n",
    "abr_preds = abr_model.predict_test()"
   ]
  },
  {
   "cell_type": "code",
   "execution_count": 23,
   "metadata": {},
   "outputs": [
    {
     "name": "stdout",
     "output_type": "stream",
     "text": [
      "{'fitted_metrics': {'MSE': 1506398650.3559752, 'Explained Variance': 0.8974892110091428, 'R^2': 0.8974892110091428, 'MAE': 28852.46482546798, 'RMSE': array([38812.35177564]), 'MSPE': 2.307192208617685}, 'test_metrics': {'MSE': 1511940241.4206002, 'Explained Variance': 0.896877796852815, 'R^2': 0.8968758452808294, 'MAE': 28890.530019581114, 'RMSE': array([38883.67577044]), 'MSPE': 2.3156796801941013}}\n"
     ]
    },
    {
     "ename": "NameError",
     "evalue": "name 'abr_model' is not defined",
     "output_type": "error",
     "traceback": [
      "\u001b[1;31m---------------------------------------------------------------------------\u001b[0m",
      "\u001b[1;31mNameError\u001b[0m                                 Traceback (most recent call last)",
      "\u001b[1;32m<ipython-input-23-f1c1fcb17265>\u001b[0m in \u001b[0;36m<module>\u001b[1;34m\u001b[0m\n\u001b[0;32m      1\u001b[0m \u001b[1;31m# print(lasso_model.get_metrics(),'\\n')\u001b[0m\u001b[1;33m\u001b[0m\u001b[1;33m\u001b[0m\u001b[1;33m\u001b[0m\u001b[0m\n\u001b[0;32m      2\u001b[0m \u001b[0mprint\u001b[0m\u001b[1;33m(\u001b[0m\u001b[0mbr_model\u001b[0m\u001b[1;33m.\u001b[0m\u001b[0mget_metrics\u001b[0m\u001b[1;33m(\u001b[0m\u001b[1;33m)\u001b[0m\u001b[1;33m)\u001b[0m\u001b[1;33m\u001b[0m\u001b[1;33m\u001b[0m\u001b[0m\n\u001b[1;32m----> 3\u001b[1;33m \u001b[0mabr_model\u001b[0m\u001b[1;33m.\u001b[0m\u001b[0mget_metrics\u001b[0m\u001b[1;33m(\u001b[0m\u001b[1;33m)\u001b[0m\u001b[1;33m\u001b[0m\u001b[1;33m\u001b[0m\u001b[0m\n\u001b[0m",
      "\u001b[1;31mNameError\u001b[0m: name 'abr_model' is not defined"
     ]
    }
   ],
   "source": [
    "print(lasso_model.get_metrics(),'\\n')\n",
    "br_model.get_metrics()"
   ]
  },
  {
   "cell_type": "code",
   "execution_count": 12,
   "metadata": {
    "scrolled": true
   },
   "outputs": [
    {
     "name": "stdout",
     "output_type": "stream",
     "text": [
      "MSE:  779060696.761534\n",
      "RMSE:  [27911.65879631]\n",
      "MAE:  19665.286419181\n",
      "Explained Variance:  0.9432753874537867\n"
     ]
    }
   ],
   "source": [
    "## prediction\n",
    "model.load_weights(\"./checkpoints/ann-epoch-100\")\n",
    "y_pred = model.predict(X_test)\n",
    "\n",
    "from sklearn.metrics import mean_squared_error, mean_absolute_error, explained_variance_score\n",
    "print(\"MSE: \",mean_squared_error(y_pred, y_test))\n",
    "print(\"RMSE: \", np.sqrt([mean_squared_error(y_pred, y_test)]))\n",
    "print(\"MAE: \", mean_absolute_error(y_pred, y_test))\n",
    "print(\"Explained Variance: \", explained_variance_score(y_pred, y_test))"
   ]
  },
  {
   "cell_type": "code",
   "execution_count": null,
   "metadata": {},
   "outputs": [],
   "source": []
  }
 ],
 "metadata": {
  "kernelspec": {
   "display_name": "Python 3",
   "language": "python",
   "name": "python3"
  },
  "language_info": {
   "codemirror_mode": {
    "name": "ipython",
    "version": 3
   },
   "file_extension": ".py",
   "mimetype": "text/x-python",
   "name": "python",
   "nbconvert_exporter": "python",
   "pygments_lexer": "ipython3",
   "version": "3.7.6"
  }
 },
 "nbformat": 4,
 "nbformat_minor": 4
}
