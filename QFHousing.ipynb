{
 "cells": [
  {
   "cell_type": "code",
   "execution_count": 1,
   "metadata": {},
   "outputs": [],
   "source": [
    "from __future__ import absolute_import, division, print_function, unicode_literals\n",
    "\n",
    "import pathlib\n",
    "\n",
    "import matplotlib.pyplot as plt\n",
    "import numpy as np\n",
    "import pandas as pd\n",
    "import seaborn as sns"
   ]
  },
  {
   "cell_type": "code",
   "execution_count": 2,
   "metadata": {},
   "outputs": [
    {
     "name": "stdout",
     "output_type": "stream",
     "text": [
      "2.1.0\n"
     ]
    }
   ],
   "source": [
    "import tensorflow as tf\n",
    "\n",
    "from tensorflow import keras\n",
    "from tensorflow.keras import layers\n",
    "\n",
    "print(tf.__version__)"
   ]
  },
  {
   "cell_type": "markdown",
   "metadata": {},
   "source": [
    "Inspect Data"
   ]
  },
  {
   "cell_type": "code",
   "execution_count": 12,
   "metadata": {},
   "outputs": [],
   "source": [
    "landed = pd.read_csv(\"data\\LandedArea.csv\")\n",
    "apartments = pd.read_csv('data\\ApartmentsandCondos.csv')\n",
    "\n",
    "resale_registration_1 = pd.read_csv(\"data/resale-flat-prices_HDB/resale-flat-prices-based-on-registration-date-from-mar-2012-to-dec-2014.csv\")\n",
    "resale_registration_2 = pd.read_csv(\"data/resale-flat-prices_HDB/resale-flat-prices-based-on-registration-date-from-jan-2015-to-dec-2016.csv\")\n",
    "resale_registration_3 = pd.read_csv(\"data/resale-flat-prices_HDB/resale-flat-prices-based-on-registration-date-from-jan-2017-onwards.csv\")\n",
    "\n",
    "resale_approval_1 = pd.read_csv(\"data/resale-flat-prices_HDB/resale-flat-prices-based-on-approval-date-1990-1999.csv\")\n",
    "resale_approval_2 = pd.read_csv(\"data/resale-flat-prices_HDB/resale-flat-prices-based-on-approval-date-2000-feb-2012.csv\")"
   ]
  },
  {
   "cell_type": "markdown",
   "metadata": {},
   "source": [
    "A look of resale by registration"
   ]
  },
  {
   "cell_type": "code",
   "execution_count": 13,
   "metadata": {},
   "outputs": [
    {
     "data": {
      "text/html": [
       "<div>\n",
       "<style scoped>\n",
       "    .dataframe tbody tr th:only-of-type {\n",
       "        vertical-align: middle;\n",
       "    }\n",
       "\n",
       "    .dataframe tbody tr th {\n",
       "        vertical-align: top;\n",
       "    }\n",
       "\n",
       "    .dataframe thead th {\n",
       "        text-align: right;\n",
       "    }\n",
       "</style>\n",
       "<table border=\"1\" class=\"dataframe\">\n",
       "  <thead>\n",
       "    <tr style=\"text-align: right;\">\n",
       "      <th></th>\n",
       "      <th>floor_area_sqm</th>\n",
       "      <th>lease_commence_date</th>\n",
       "      <th>resale_price</th>\n",
       "    </tr>\n",
       "  </thead>\n",
       "  <tbody>\n",
       "    <tr>\n",
       "      <th>count</th>\n",
       "      <td>52203.000000</td>\n",
       "      <td>52203.000000</td>\n",
       "      <td>5.220300e+04</td>\n",
       "    </tr>\n",
       "    <tr>\n",
       "      <th>mean</th>\n",
       "      <td>96.203285</td>\n",
       "      <td>1989.512902</td>\n",
       "      <td>4.612147e+05</td>\n",
       "    </tr>\n",
       "    <tr>\n",
       "      <th>std</th>\n",
       "      <td>24.984010</td>\n",
       "      <td>10.139550</td>\n",
       "      <td>1.225534e+05</td>\n",
       "    </tr>\n",
       "    <tr>\n",
       "      <th>min</th>\n",
       "      <td>31.000000</td>\n",
       "      <td>1966.000000</td>\n",
       "      <td>1.950000e+05</td>\n",
       "    </tr>\n",
       "    <tr>\n",
       "      <th>25%</th>\n",
       "      <td>73.000000</td>\n",
       "      <td>1983.000000</td>\n",
       "      <td>3.700000e+05</td>\n",
       "    </tr>\n",
       "    <tr>\n",
       "      <th>50%</th>\n",
       "      <td>95.000000</td>\n",
       "      <td>1988.000000</td>\n",
       "      <td>4.400000e+05</td>\n",
       "    </tr>\n",
       "    <tr>\n",
       "      <th>75%</th>\n",
       "      <td>111.000000</td>\n",
       "      <td>1999.000000</td>\n",
       "      <td>5.250000e+05</td>\n",
       "    </tr>\n",
       "    <tr>\n",
       "      <th>max</th>\n",
       "      <td>266.000000</td>\n",
       "      <td>2012.000000</td>\n",
       "      <td>1.088888e+06</td>\n",
       "    </tr>\n",
       "  </tbody>\n",
       "</table>\n",
       "</div>"
      ],
      "text/plain": [
       "       floor_area_sqm  lease_commence_date  resale_price\n",
       "count    52203.000000         52203.000000  5.220300e+04\n",
       "mean        96.203285          1989.512902  4.612147e+05\n",
       "std         24.984010            10.139550  1.225534e+05\n",
       "min         31.000000          1966.000000  1.950000e+05\n",
       "25%         73.000000          1983.000000  3.700000e+05\n",
       "50%         95.000000          1988.000000  4.400000e+05\n",
       "75%        111.000000          1999.000000  5.250000e+05\n",
       "max        266.000000          2012.000000  1.088888e+06"
      ]
     },
     "execution_count": 13,
     "metadata": {},
     "output_type": "execute_result"
    }
   ],
   "source": [
    "resale_registration_1.describe()"
   ]
  },
  {
   "cell_type": "code",
   "execution_count": 17,
   "metadata": {},
   "outputs": [
    {
     "name": "stdout",
     "output_type": "stream",
     "text": [
      "Index(['month', 'town', 'flat_type', 'block', 'street_name', 'storey_range',\n",
      "       'floor_area_sqm', 'flat_model', 'lease_commence_date', 'resale_price'],\n",
      "      dtype='object')\n",
      "Index(['month', 'town', 'flat_type', 'block', 'street_name', 'storey_range',\n",
      "       'floor_area_sqm', 'flat_model', 'lease_commence_date',\n",
      "       'remaining_lease', 'resale_price'],\n",
      "      dtype='object')\n",
      "Index(['month', 'town', 'flat_type', 'block', 'street_name', 'storey_range',\n",
      "       'floor_area_sqm', 'flat_model', 'lease_commence_date',\n",
      "       'remaining_lease', 'resale_price'],\n",
      "      dtype='object')\n"
     ]
    }
   ],
   "source": [
    "print(resale_registration_1.columns)\n",
    "print(resale_registration_2.columns)\n",
    "print(resale_registration_3.columns)"
   ]
  },
  {
   "cell_type": "markdown",
   "metadata": {},
   "source": [
    "It seems like the 3 dataset have the same price so we append them and then write to a final csv, for a better representation of the data"
   ]
  },
  {
   "cell_type": "code",
   "execution_count": 19,
   "metadata": {},
   "outputs": [
    {
     "name": "stdout",
     "output_type": "stream",
     "text": [
      "(157517, 11)\n",
      "157517\n"
     ]
    }
   ],
   "source": [
    "resale_registration_full = resale_registration_1\n",
    "resale_registration_full = resale_registration_full.append(resale_registration_2)\n",
    "resale_registration_full = resale_registration_full.append(resale_registration_3)\n",
    "print(resale_registration_full.shape)\n",
    "print(resale_registration_1.shape[0]+ resale_registration_2.shape[0] + resale_registration_3.shape[0])"
   ]
  },
  {
   "cell_type": "code",
   "execution_count": 20,
   "metadata": {},
   "outputs": [],
   "source": [
    "## Append works. So we write to a csv\n",
    "resale_registration_full.to_csv(\"data/resale-flat-prices_HDB/resale-on-registration-full.csv\")"
   ]
  },
  {
   "cell_type": "code",
   "execution_count": 21,
   "metadata": {},
   "outputs": [
    {
     "name": "stdout",
     "output_type": "stream",
     "text": [
      "Index(['month', 'town', 'flat_type', 'block', 'street_name', 'storey_range',\n",
      "       'floor_area_sqm', 'flat_model', 'lease_commence_date', 'resale_price'],\n",
      "      dtype='object')\n",
      "Index(['month', 'town', 'flat_type', 'block', 'street_name', 'storey_range',\n",
      "       'floor_area_sqm', 'flat_model', 'lease_commence_date', 'resale_price'],\n",
      "      dtype='object')\n"
     ]
    }
   ],
   "source": [
    "print(resale_approval_1.columns)\n",
    "print(resale_approval_2.columns)"
   ]
  },
  {
   "cell_type": "code",
   "execution_count": 22,
   "metadata": {},
   "outputs": [
    {
     "name": "stdout",
     "output_type": "stream",
     "text": [
      "(656851, 10)\n",
      "656851\n"
     ]
    }
   ],
   "source": [
    "resale_approval_full = resale_approval_1\n",
    "resale_approval_full = resale_approval_full.append(resale_approval_2)\n",
    "print(resale_approval_full.shape)\n",
    "print(resale_approval_1.shape[0] + resale_approval_2.shape[0])\n",
    "resale_approval_full.to_csv(\"data/resale-flat-prices_HDB/resale-on-approval-full.csv\", index=False)"
   ]
  },
  {
   "cell_type": "code",
   "execution_count": 31,
   "metadata": {},
   "outputs": [
    {
     "name": "stderr",
     "output_type": "stream",
     "text": [
      "c:\\users\\ivanl\\appdata\\local\\programs\\python\\python37\\lib\\site-packages\\IPython\\core\\interactiveshell.py:3051: DtypeWarning: Columns (6) have mixed types. Specify dtype option on import or set low_memory=False.\n",
      "  interactivity=interactivity, compiler=compiler, result=result)\n"
     ]
    }
   ],
   "source": [
    "resale_approval_full = pd.read_csv(\"data/resale-flat-prices_HDB/resale-on-approval-full.csv\")"
   ]
  },
  {
   "cell_type": "code",
   "execution_count": 14,
   "metadata": {},
   "outputs": [
    {
     "data": {
      "text/html": [
       "<div>\n",
       "<style scoped>\n",
       "    .dataframe tbody tr th:only-of-type {\n",
       "        vertical-align: middle;\n",
       "    }\n",
       "\n",
       "    .dataframe tbody tr th {\n",
       "        vertical-align: top;\n",
       "    }\n",
       "\n",
       "    .dataframe thead th {\n",
       "        text-align: right;\n",
       "    }\n",
       "</style>\n",
       "<table border=\"1\" class=\"dataframe\">\n",
       "  <thead>\n",
       "    <tr style=\"text-align: right;\">\n",
       "      <th></th>\n",
       "      <th>month</th>\n",
       "      <th>town</th>\n",
       "      <th>flat_type</th>\n",
       "      <th>block</th>\n",
       "      <th>street_name</th>\n",
       "      <th>storey_range</th>\n",
       "      <th>floor_area_sqm</th>\n",
       "      <th>flat_model</th>\n",
       "      <th>lease_commence_date</th>\n",
       "      <th>resale_price</th>\n",
       "    </tr>\n",
       "  </thead>\n",
       "  <tbody>\n",
       "    <tr>\n",
       "      <th>656844</th>\n",
       "      <td>2012-02</td>\n",
       "      <td>YISHUN</td>\n",
       "      <td>5 ROOM</td>\n",
       "      <td>161</td>\n",
       "      <td>YISHUN ST 11</td>\n",
       "      <td>10 TO 12</td>\n",
       "      <td>121.0</td>\n",
       "      <td>Improved</td>\n",
       "      <td>1985</td>\n",
       "      <td>465000.0</td>\n",
       "    </tr>\n",
       "    <tr>\n",
       "      <th>656845</th>\n",
       "      <td>2012-02</td>\n",
       "      <td>YISHUN</td>\n",
       "      <td>5 ROOM</td>\n",
       "      <td>161</td>\n",
       "      <td>YISHUN ST 11</td>\n",
       "      <td>04 TO 06</td>\n",
       "      <td>121.0</td>\n",
       "      <td>Improved</td>\n",
       "      <td>1985</td>\n",
       "      <td>503000.0</td>\n",
       "    </tr>\n",
       "    <tr>\n",
       "      <th>656846</th>\n",
       "      <td>2012-02</td>\n",
       "      <td>YISHUN</td>\n",
       "      <td>5 ROOM</td>\n",
       "      <td>212</td>\n",
       "      <td>YISHUN ST 21</td>\n",
       "      <td>10 TO 12</td>\n",
       "      <td>121.0</td>\n",
       "      <td>Improved</td>\n",
       "      <td>1985</td>\n",
       "      <td>476888.0</td>\n",
       "    </tr>\n",
       "    <tr>\n",
       "      <th>656847</th>\n",
       "      <td>2012-02</td>\n",
       "      <td>YISHUN</td>\n",
       "      <td>5 ROOM</td>\n",
       "      <td>758</td>\n",
       "      <td>YISHUN ST 72</td>\n",
       "      <td>01 TO 03</td>\n",
       "      <td>122.0</td>\n",
       "      <td>Improved</td>\n",
       "      <td>1986</td>\n",
       "      <td>490000.0</td>\n",
       "    </tr>\n",
       "    <tr>\n",
       "      <th>656848</th>\n",
       "      <td>2012-02</td>\n",
       "      <td>YISHUN</td>\n",
       "      <td>5 ROOM</td>\n",
       "      <td>873</td>\n",
       "      <td>YISHUN ST 81</td>\n",
       "      <td>01 TO 03</td>\n",
       "      <td>122.0</td>\n",
       "      <td>Improved</td>\n",
       "      <td>1988</td>\n",
       "      <td>488000.0</td>\n",
       "    </tr>\n",
       "    <tr>\n",
       "      <th>656849</th>\n",
       "      <td>2012-02</td>\n",
       "      <td>YISHUN</td>\n",
       "      <td>EXECUTIVE</td>\n",
       "      <td>664</td>\n",
       "      <td>YISHUN AVE 4</td>\n",
       "      <td>07 TO 09</td>\n",
       "      <td>181.0</td>\n",
       "      <td>Apartment</td>\n",
       "      <td>1992</td>\n",
       "      <td>705000.0</td>\n",
       "    </tr>\n",
       "    <tr>\n",
       "      <th>656850</th>\n",
       "      <td>2012-02</td>\n",
       "      <td>YISHUN</td>\n",
       "      <td>EXECUTIVE</td>\n",
       "      <td>293</td>\n",
       "      <td>YISHUN ST 22</td>\n",
       "      <td>04 TO 06</td>\n",
       "      <td>163.0</td>\n",
       "      <td>Apartment</td>\n",
       "      <td>1992</td>\n",
       "      <td>630000.0</td>\n",
       "    </tr>\n",
       "  </tbody>\n",
       "</table>\n",
       "</div>"
      ],
      "text/plain": [
       "          month    town  flat_type block   street_name storey_range  \\\n",
       "656844  2012-02  YISHUN     5 ROOM   161  YISHUN ST 11     10 TO 12   \n",
       "656845  2012-02  YISHUN     5 ROOM   161  YISHUN ST 11     04 TO 06   \n",
       "656846  2012-02  YISHUN     5 ROOM   212  YISHUN ST 21     10 TO 12   \n",
       "656847  2012-02  YISHUN     5 ROOM   758  YISHUN ST 72     01 TO 03   \n",
       "656848  2012-02  YISHUN     5 ROOM   873  YISHUN ST 81     01 TO 03   \n",
       "656849  2012-02  YISHUN  EXECUTIVE   664  YISHUN AVE 4     07 TO 09   \n",
       "656850  2012-02  YISHUN  EXECUTIVE   293  YISHUN ST 22     04 TO 06   \n",
       "\n",
       "        floor_area_sqm flat_model  lease_commence_date  resale_price  \n",
       "656844           121.0   Improved                 1985      465000.0  \n",
       "656845           121.0   Improved                 1985      503000.0  \n",
       "656846           121.0   Improved                 1985      476888.0  \n",
       "656847           122.0   Improved                 1986      490000.0  \n",
       "656848           122.0   Improved                 1988      488000.0  \n",
       "656849           181.0  Apartment                 1992      705000.0  \n",
       "656850           163.0  Apartment                 1992      630000.0  "
      ]
     },
     "execution_count": 14,
     "metadata": {},
     "output_type": "execute_result"
    }
   ],
   "source": [
    "resale_approval_full.tail(7)"
   ]
  },
  {
   "cell_type": "code",
   "execution_count": 15,
   "metadata": {
    "scrolled": true
   },
   "outputs": [
    {
     "data": {
      "text/html": [
       "<div>\n",
       "<style scoped>\n",
       "    .dataframe tbody tr th:only-of-type {\n",
       "        vertical-align: middle;\n",
       "    }\n",
       "\n",
       "    .dataframe tbody tr th {\n",
       "        vertical-align: top;\n",
       "    }\n",
       "\n",
       "    .dataframe thead th {\n",
       "        text-align: right;\n",
       "    }\n",
       "</style>\n",
       "<table border=\"1\" class=\"dataframe\">\n",
       "  <thead>\n",
       "    <tr style=\"text-align: right;\">\n",
       "      <th></th>\n",
       "      <th>block</th>\n",
       "      <th>flat_model</th>\n",
       "      <th>flat_type</th>\n",
       "      <th>floor_area_sqm</th>\n",
       "      <th>lease_commence_date</th>\n",
       "      <th>month</th>\n",
       "      <th>remaining_lease</th>\n",
       "      <th>resale_price</th>\n",
       "      <th>storey_range</th>\n",
       "      <th>street_name</th>\n",
       "      <th>town</th>\n",
       "    </tr>\n",
       "  </thead>\n",
       "  <tbody>\n",
       "    <tr>\n",
       "      <th>0</th>\n",
       "      <td>172</td>\n",
       "      <td>Improved</td>\n",
       "      <td>2 ROOM</td>\n",
       "      <td>45.0</td>\n",
       "      <td>1986</td>\n",
       "      <td>2012-03</td>\n",
       "      <td>NaN</td>\n",
       "      <td>250000.0</td>\n",
       "      <td>06 TO 10</td>\n",
       "      <td>ANG MO KIO AVE 4</td>\n",
       "      <td>ANG MO KIO</td>\n",
       "    </tr>\n",
       "    <tr>\n",
       "      <th>1</th>\n",
       "      <td>510</td>\n",
       "      <td>Improved</td>\n",
       "      <td>2 ROOM</td>\n",
       "      <td>44.0</td>\n",
       "      <td>1980</td>\n",
       "      <td>2012-03</td>\n",
       "      <td>NaN</td>\n",
       "      <td>265000.0</td>\n",
       "      <td>01 TO 05</td>\n",
       "      <td>ANG MO KIO AVE 8</td>\n",
       "      <td>ANG MO KIO</td>\n",
       "    </tr>\n",
       "    <tr>\n",
       "      <th>2</th>\n",
       "      <td>610</td>\n",
       "      <td>New Generation</td>\n",
       "      <td>3 ROOM</td>\n",
       "      <td>68.0</td>\n",
       "      <td>1980</td>\n",
       "      <td>2012-03</td>\n",
       "      <td>NaN</td>\n",
       "      <td>315000.0</td>\n",
       "      <td>06 TO 10</td>\n",
       "      <td>ANG MO KIO AVE 4</td>\n",
       "      <td>ANG MO KIO</td>\n",
       "    </tr>\n",
       "    <tr>\n",
       "      <th>3</th>\n",
       "      <td>474</td>\n",
       "      <td>New Generation</td>\n",
       "      <td>3 ROOM</td>\n",
       "      <td>67.0</td>\n",
       "      <td>1984</td>\n",
       "      <td>2012-03</td>\n",
       "      <td>NaN</td>\n",
       "      <td>320000.0</td>\n",
       "      <td>01 TO 05</td>\n",
       "      <td>ANG MO KIO AVE 10</td>\n",
       "      <td>ANG MO KIO</td>\n",
       "    </tr>\n",
       "    <tr>\n",
       "      <th>4</th>\n",
       "      <td>604</td>\n",
       "      <td>New Generation</td>\n",
       "      <td>3 ROOM</td>\n",
       "      <td>67.0</td>\n",
       "      <td>1980</td>\n",
       "      <td>2012-03</td>\n",
       "      <td>NaN</td>\n",
       "      <td>321000.0</td>\n",
       "      <td>06 TO 10</td>\n",
       "      <td>ANG MO KIO AVE 5</td>\n",
       "      <td>ANG MO KIO</td>\n",
       "    </tr>\n",
       "    <tr>\n",
       "      <th>5</th>\n",
       "      <td>154</td>\n",
       "      <td>New Generation</td>\n",
       "      <td>3 ROOM</td>\n",
       "      <td>68.0</td>\n",
       "      <td>1981</td>\n",
       "      <td>2012-03</td>\n",
       "      <td>NaN</td>\n",
       "      <td>321000.0</td>\n",
       "      <td>01 TO 05</td>\n",
       "      <td>ANG MO KIO AVE 5</td>\n",
       "      <td>ANG MO KIO</td>\n",
       "    </tr>\n",
       "    <tr>\n",
       "      <th>6</th>\n",
       "      <td>110</td>\n",
       "      <td>New Generation</td>\n",
       "      <td>3 ROOM</td>\n",
       "      <td>67.0</td>\n",
       "      <td>1978</td>\n",
       "      <td>2012-03</td>\n",
       "      <td>NaN</td>\n",
       "      <td>323000.0</td>\n",
       "      <td>01 TO 05</td>\n",
       "      <td>ANG MO KIO AVE 4</td>\n",
       "      <td>ANG MO KIO</td>\n",
       "    </tr>\n",
       "  </tbody>\n",
       "</table>\n",
       "</div>"
      ],
      "text/plain": [
       "  block      flat_model flat_type  floor_area_sqm  lease_commence_date  \\\n",
       "0   172        Improved    2 ROOM            45.0                 1986   \n",
       "1   510        Improved    2 ROOM            44.0                 1980   \n",
       "2   610  New Generation    3 ROOM            68.0                 1980   \n",
       "3   474  New Generation    3 ROOM            67.0                 1984   \n",
       "4   604  New Generation    3 ROOM            67.0                 1980   \n",
       "5   154  New Generation    3 ROOM            68.0                 1981   \n",
       "6   110  New Generation    3 ROOM            67.0                 1978   \n",
       "\n",
       "     month remaining_lease  resale_price storey_range        street_name  \\\n",
       "0  2012-03             NaN      250000.0     06 TO 10   ANG MO KIO AVE 4   \n",
       "1  2012-03             NaN      265000.0     01 TO 05   ANG MO KIO AVE 8   \n",
       "2  2012-03             NaN      315000.0     06 TO 10   ANG MO KIO AVE 4   \n",
       "3  2012-03             NaN      320000.0     01 TO 05  ANG MO KIO AVE 10   \n",
       "4  2012-03             NaN      321000.0     06 TO 10   ANG MO KIO AVE 5   \n",
       "5  2012-03             NaN      321000.0     01 TO 05   ANG MO KIO AVE 5   \n",
       "6  2012-03             NaN      323000.0     01 TO 05   ANG MO KIO AVE 4   \n",
       "\n",
       "         town  \n",
       "0  ANG MO KIO  \n",
       "1  ANG MO KIO  \n",
       "2  ANG MO KIO  \n",
       "3  ANG MO KIO  \n",
       "4  ANG MO KIO  \n",
       "5  ANG MO KIO  \n",
       "6  ANG MO KIO  "
      ]
     },
     "execution_count": 15,
     "metadata": {},
     "output_type": "execute_result"
    }
   ],
   "source": [
    "resale_registration_full.head(7)"
   ]
  },
  {
   "cell_type": "code",
   "execution_count": 4,
   "metadata": {},
   "outputs": [],
   "source": [
    "## Import necessary ML functions/modules\n",
    "from sklearn.preprocessing import MultiLabelBinarizer, LabelEncoder, LabelBinarizer"
   ]
  },
  {
   "cell_type": "code",
   "execution_count": 5,
   "metadata": {
    "scrolled": true
   },
   "outputs": [
    {
     "name": "stderr",
     "output_type": "stream",
     "text": [
      "c:\\users\\ivanl\\appdata\\local\\programs\\python\\python37\\lib\\site-packages\\IPython\\core\\interactiveshell.py:3051: DtypeWarning: Columns (6) have mixed types. Specify dtype option on import or set low_memory=False.\n",
      "  interactivity=interactivity, compiler=compiler, result=result)\n"
     ]
    },
    {
     "name": "stdout",
     "output_type": "stream",
     "text": [
      "(157517, 606)\n"
     ]
    }
   ],
   "source": [
    "## Analysis using resale_registration_full\n",
    "## 1. Process data\n",
    "resale_registration_full = pd.read_csv(\"data/resale-flat-prices_HDB/resale-on-registration-full.csv\")\n",
    "resale_registration_full = resale_registration_full.fillna(0)\n",
    "\n",
    "def convert_remaining_lease(s):\n",
    "    if s == 0:\n",
    "        return 0\n",
    "    elif type(s) == float:\n",
    "        return s\n",
    "    elif type(s) == str:\n",
    "        list_s = s.split(' ')\n",
    "        if len(list_s) == 2:  ## X years\n",
    "            return int(list_s[0])\n",
    "        elif len(list_s) == 4:  ## X years Y months\n",
    "            return(int(list_s[0]) + float(list_s[2]))\n",
    "        elif len(list_s) == 1:  ## 78\n",
    "            return(float(s))\n",
    "    elif type(s == int):\n",
    "        return float(s)\n",
    "    raise Exception(f\"Weird remaining_lease format: {s}, type: {type(s)}\")\n",
    "            \n",
    "def to_lower_alpha(s:str):\n",
    "    return(s.lower())\n",
    "\n",
    "def months_since2012(s:str):\n",
    "    ## months are in this format: YYYY-MM\n",
    "    YYMM =s.split('-')\n",
    "    return (12 * (int(YYMM[0]) - 2012) + (int(YYMM[1]))) \n",
    "        \n",
    "resale_registration_full['flat_model'] = resale_registration_full['flat_model'].apply(to_lower_alpha)\n",
    "resale_registration_full['remaining_lease'] = resale_registration_full['remaining_lease'].apply(convert_remaining_lease)\n",
    "resale_registration_full['month'] = resale_registration_full['month'].apply(months_since2012)\n",
    "\n",
    "le = LabelEncoder()\n",
    "resale_registration_full['storey_range'] = le.fit_transform(resale_registration_full['storey_range'])\n",
    "lb = LabelBinarizer()\n",
    "lb.fit(resale_registration_full['flat_model'])\n",
    "full_flat_model = pd.DataFrame(lb.transform(resale_registration_full['flat_model']), columns=lb.classes_)\n",
    "lb.fit(resale_registration_full['flat_type'])\n",
    "full_flat_type = pd.DataFrame(lb.transform(resale_registration_full['flat_type']), columns=lb.classes_)\n",
    "lb.fit(resale_registration_full['town'])\n",
    "full_town = pd.DataFrame(lb.transform(resale_registration_full['town']), columns=lb.classes_)\n",
    "lb.fit(resale_registration_full['street_name'])\n",
    "full_street_name = pd.DataFrame(lb.transform(resale_registration_full['street_name']), columns=lb.classes_)\n",
    "\n",
    "resale_registration_full = resale_registration_full.drop([\"flat_model\", \"flat_type\", \"town\", \"street_name\"], axis=1)\n",
    "resale_registration_full = pd.merge(resale_registration_full, full_flat_model, left_index=True, right_index=True)\n",
    "resale_registration_full = pd.merge(resale_registration_full, full_flat_type, left_index=True, right_index=True)\n",
    "resale_registration_full = pd.merge(resale_registration_full, full_town, left_index=True, right_index=True)\n",
    "resale_registration_full = pd.merge(resale_registration_full, full_street_name, left_index=True, right_index=True)\n",
    "print(resale_registration_full.shape)\n",
    "\n",
    "\n",
    "X = resale_registration_full.drop(['resale_price','block'], axis=1)\n",
    "X = X.reset_index(drop=True)\n",
    "y = resale_registration_full['resale_price']"
   ]
  },
  {
   "cell_type": "code",
   "execution_count": 6,
   "metadata": {},
   "outputs": [
    {
     "data": {
      "text/html": [
       "<div>\n",
       "<style scoped>\n",
       "    .dataframe tbody tr th:only-of-type {\n",
       "        vertical-align: middle;\n",
       "    }\n",
       "\n",
       "    .dataframe tbody tr th {\n",
       "        vertical-align: top;\n",
       "    }\n",
       "\n",
       "    .dataframe thead th {\n",
       "        text-align: right;\n",
       "    }\n",
       "</style>\n",
       "<table border=\"1\" class=\"dataframe\">\n",
       "  <thead>\n",
       "    <tr style=\"text-align: right;\">\n",
       "      <th></th>\n",
       "      <th>floor_area_sqm</th>\n",
       "      <th>lease_commence_date</th>\n",
       "      <th>month</th>\n",
       "      <th>remaining_lease</th>\n",
       "      <th>storey_range</th>\n",
       "      <th>2-room</th>\n",
       "      <th>adjoined flat</th>\n",
       "      <th>apartment</th>\n",
       "      <th>dbss</th>\n",
       "      <th>improved</th>\n",
       "      <th>...</th>\n",
       "      <th>YISHUN ST 72</th>\n",
       "      <th>YISHUN ST 81</th>\n",
       "      <th>YUAN CHING RD</th>\n",
       "      <th>YUNG AN RD</th>\n",
       "      <th>YUNG HO RD</th>\n",
       "      <th>YUNG KUANG RD</th>\n",
       "      <th>YUNG LOH RD</th>\n",
       "      <th>YUNG PING RD</th>\n",
       "      <th>YUNG SHENG RD</th>\n",
       "      <th>ZION RD</th>\n",
       "    </tr>\n",
       "  </thead>\n",
       "  <tbody>\n",
       "    <tr>\n",
       "      <th>157512</th>\n",
       "      <td>146.0</td>\n",
       "      <td>1988</td>\n",
       "      <td>98</td>\n",
       "      <td>76.0</td>\n",
       "      <td>0</td>\n",
       "      <td>0</td>\n",
       "      <td>0</td>\n",
       "      <td>0</td>\n",
       "      <td>0</td>\n",
       "      <td>0</td>\n",
       "      <td>...</td>\n",
       "      <td>0</td>\n",
       "      <td>0</td>\n",
       "      <td>0</td>\n",
       "      <td>0</td>\n",
       "      <td>0</td>\n",
       "      <td>0</td>\n",
       "      <td>0</td>\n",
       "      <td>0</td>\n",
       "      <td>0</td>\n",
       "      <td>0</td>\n",
       "    </tr>\n",
       "    <tr>\n",
       "      <th>157513</th>\n",
       "      <td>147.0</td>\n",
       "      <td>1987</td>\n",
       "      <td>98</td>\n",
       "      <td>72.0</td>\n",
       "      <td>5</td>\n",
       "      <td>0</td>\n",
       "      <td>0</td>\n",
       "      <td>1</td>\n",
       "      <td>0</td>\n",
       "      <td>0</td>\n",
       "      <td>...</td>\n",
       "      <td>0</td>\n",
       "      <td>0</td>\n",
       "      <td>0</td>\n",
       "      <td>0</td>\n",
       "      <td>0</td>\n",
       "      <td>0</td>\n",
       "      <td>0</td>\n",
       "      <td>0</td>\n",
       "      <td>0</td>\n",
       "      <td>0</td>\n",
       "    </tr>\n",
       "    <tr>\n",
       "      <th>157514</th>\n",
       "      <td>164.0</td>\n",
       "      <td>1992</td>\n",
       "      <td>98</td>\n",
       "      <td>75.0</td>\n",
       "      <td>0</td>\n",
       "      <td>0</td>\n",
       "      <td>0</td>\n",
       "      <td>1</td>\n",
       "      <td>0</td>\n",
       "      <td>0</td>\n",
       "      <td>...</td>\n",
       "      <td>0</td>\n",
       "      <td>0</td>\n",
       "      <td>0</td>\n",
       "      <td>0</td>\n",
       "      <td>0</td>\n",
       "      <td>0</td>\n",
       "      <td>0</td>\n",
       "      <td>0</td>\n",
       "      <td>0</td>\n",
       "      <td>0</td>\n",
       "    </tr>\n",
       "    <tr>\n",
       "      <th>157515</th>\n",
       "      <td>142.0</td>\n",
       "      <td>1987</td>\n",
       "      <td>98</td>\n",
       "      <td>75.0</td>\n",
       "      <td>0</td>\n",
       "      <td>0</td>\n",
       "      <td>0</td>\n",
       "      <td>1</td>\n",
       "      <td>0</td>\n",
       "      <td>0</td>\n",
       "      <td>...</td>\n",
       "      <td>0</td>\n",
       "      <td>0</td>\n",
       "      <td>0</td>\n",
       "      <td>0</td>\n",
       "      <td>0</td>\n",
       "      <td>0</td>\n",
       "      <td>0</td>\n",
       "      <td>0</td>\n",
       "      <td>0</td>\n",
       "      <td>0</td>\n",
       "    </tr>\n",
       "    <tr>\n",
       "      <th>157516</th>\n",
       "      <td>145.0</td>\n",
       "      <td>1987</td>\n",
       "      <td>98</td>\n",
       "      <td>74.0</td>\n",
       "      <td>0</td>\n",
       "      <td>0</td>\n",
       "      <td>0</td>\n",
       "      <td>0</td>\n",
       "      <td>0</td>\n",
       "      <td>0</td>\n",
       "      <td>...</td>\n",
       "      <td>0</td>\n",
       "      <td>1</td>\n",
       "      <td>0</td>\n",
       "      <td>0</td>\n",
       "      <td>0</td>\n",
       "      <td>0</td>\n",
       "      <td>0</td>\n",
       "      <td>0</td>\n",
       "      <td>0</td>\n",
       "      <td>0</td>\n",
       "    </tr>\n",
       "  </tbody>\n",
       "</table>\n",
       "<p>5 rows × 604 columns</p>\n",
       "</div>"
      ],
      "text/plain": [
       "        floor_area_sqm  lease_commence_date  month  remaining_lease  \\\n",
       "157512           146.0                 1988     98             76.0   \n",
       "157513           147.0                 1987     98             72.0   \n",
       "157514           164.0                 1992     98             75.0   \n",
       "157515           142.0                 1987     98             75.0   \n",
       "157516           145.0                 1987     98             74.0   \n",
       "\n",
       "        storey_range  2-room  adjoined flat  apartment  dbss  improved  ...  \\\n",
       "157512             0       0              0          0     0         0  ...   \n",
       "157513             5       0              0          1     0         0  ...   \n",
       "157514             0       0              0          1     0         0  ...   \n",
       "157515             0       0              0          1     0         0  ...   \n",
       "157516             0       0              0          0     0         0  ...   \n",
       "\n",
       "        YISHUN ST 72  YISHUN ST 81  YUAN CHING RD  YUNG AN RD  YUNG HO RD  \\\n",
       "157512             0             0              0           0           0   \n",
       "157513             0             0              0           0           0   \n",
       "157514             0             0              0           0           0   \n",
       "157515             0             0              0           0           0   \n",
       "157516             0             1              0           0           0   \n",
       "\n",
       "        YUNG KUANG RD  YUNG LOH RD  YUNG PING RD  YUNG SHENG RD  ZION RD  \n",
       "157512              0            0             0              0        0  \n",
       "157513              0            0             0              0        0  \n",
       "157514              0            0             0              0        0  \n",
       "157515              0            0             0              0        0  \n",
       "157516              0            0             0              0        0  \n",
       "\n",
       "[5 rows x 604 columns]"
      ]
     },
     "execution_count": 6,
     "metadata": {},
     "output_type": "execute_result"
    }
   ],
   "source": [
    "X.tail()"
   ]
  },
  {
   "cell_type": "code",
   "execution_count": 7,
   "metadata": {},
   "outputs": [
    {
     "name": "stdout",
     "output_type": "stream",
     "text": [
      "(157517, 604)\n",
      "(157517,)\n"
     ]
    }
   ],
   "source": [
    "print(X.shape)\n",
    "print(y.shape)"
   ]
  },
  {
   "cell_type": "code",
   "execution_count": 10,
   "metadata": {},
   "outputs": [
    {
     "name": "stdout",
     "output_type": "stream",
     "text": [
      "(124160, 604)\n",
      "(33357, 604)\n",
      "(124160,)\n",
      "(33357,)\n"
     ]
    }
   ],
   "source": [
    "## Split into train and test\n",
    "X_train = X[X['month'] <= 80]\n",
    "X_test = X[X['month'] > 80]\n",
    "y_train = y.iloc[:X_train.shape[0]]\n",
    "y_test = y.iloc[X_train.shape[0]:]\n",
    "\n",
    "print(X_train.shape)\n",
    "print(y_train.shape)\n",
    "print(X_test.shape)\n",
    "print(y_test.shape)"
   ]
  },
  {
   "cell_type": "markdown",
   "metadata": {},
   "source": [
    "### ML Techniques"
   ]
  },
  {
   "cell_type": "code",
   "execution_count": 11,
   "metadata": {},
   "outputs": [
    {
     "name": "stderr",
     "output_type": "stream",
     "text": [
      "c:\\users\\ivanl\\appdata\\local\\programs\\python\\python37\\lib\\site-packages\\sklearn\\linear_model\\_coordinate_descent.py:476: ConvergenceWarning: Objective did not converge. You might want to increase the number of iterations. Duality gap: 41294074394644.74, tolerance: 230410721338.46286\n",
      "  positive)\n"
     ]
    },
    {
     "name": "stdout",
     "output_type": "stream",
     "text": [
      "0.9214351442936981\n",
      "0.9214857293439868\n"
     ]
    }
   ],
   "source": [
    "## ML techniques\n",
    "from sklearn.ensemble import RandomForestRegressor\n",
    "from sklearn.linear_model import Lasso, BayesianRidge\n",
    "from sklearn.model_selection import GridSearchCV\n",
    "\n",
    "lasso = Lasso()\n",
    "lasso.fit(X_train,y_train)\n",
    "print(lasso.score(X_train, y_train))\n",
    "\n",
    "br = BayesianRidge()\n",
    "br.fit(X_train, y_train)\n",
    "print(br.score(X_train, y_train))"
   ]
  },
  {
   "cell_type": "markdown",
   "metadata": {},
   "source": [
    "RFC - it takes really long to run this so I haven't"
   ]
  },
  {
   "cell_type": "code",
   "execution_count": null,
   "metadata": {},
   "outputs": [],
   "source": [
    "rfr = RandomForestRegressor(n_estimators=1000)\n",
    "rfr.fit(X_train,y_train)\n",
    "print(rfr.score(X_train, y_train))"
   ]
  },
  {
   "cell_type": "markdown",
   "metadata": {},
   "source": [
    "Evaluation on ML techniques"
   ]
  },
  {
   "cell_type": "code",
   "execution_count": 18,
   "metadata": {},
   "outputs": [],
   "source": [
    "from sklearn.metrics import mean_squared_error, explained_variance_score, r2_score\n",
    "\n",
    "## remember to define y_test proper outside of this function.\n",
    "def predict_skmodel(model, X_test, reg_metrics=True):\n",
    "    model_pred = model.predict(X_test)\n",
    "    \n",
    "    if reg_metrics==True:\n",
    "        print(\"MSE: \", mean_squared_error(y_test, model_pred))\n",
    "        print(\"Explained Variance: \", explained_variance_score(y_test, model_pred))\n",
    "        print(\"R^2: \", r2_score(y_test, model_pred))\n",
    "    return model_pred"
   ]
  },
  {
   "cell_type": "code",
   "execution_count": 19,
   "metadata": {},
   "outputs": [
    {
     "name": "stdout",
     "output_type": "stream",
     "text": [
      "MSE:  10534264748.76083\n",
      "Explained Variance:  0.5506637872424395\n",
      "R^2:  0.5503634359507997\n",
      "MSE:  10507497461.074848\n",
      "Explained Variance:  0.5517463080373274\n",
      "R^2:  0.5515059505496906\n"
     ]
    }
   ],
   "source": [
    "lasso_pred = predict_skmodel(lasso, X_test)\n",
    "br_pred = predict_skmodel(br, X_test)"
   ]
  },
  {
   "cell_type": "code",
   "execution_count": 52,
   "metadata": {},
   "outputs": [
    {
     "name": "stdout",
     "output_type": "stream",
     "text": [
      "(20010, 604)\n",
      "(20010,)\n",
      "(16097, 604)\n",
      "(16097,)\n"
     ]
    },
    {
     "name": "stderr",
     "output_type": "stream",
     "text": [
      "c:\\users\\ivanl\\appdata\\local\\programs\\python\\python37\\lib\\site-packages\\sklearn\\linear_model\\_coordinate_descent.py:476: ConvergenceWarning: Objective did not converge. You might want to increase the number of iterations. Duality gap: 2877960770083.365, tolerance: 27287742860.431416\n",
      "  positive)\n"
     ]
    },
    {
     "name": "stdout",
     "output_type": "stream",
     "text": [
      "Fitted Months MSE (0 - 12):  0.9410733217483918\n",
      "Fitted Months MSE (0 - 12):  0.9410643134999226\n",
      "LASSO EVAL\n",
      "MSE:  1733970293.6365995\n",
      "Explained Variance:  0.9205413632764987\n",
      "R^2:  0.8920958998226598\n",
      "BAYESIAN RIDGE EVAL\n",
      "MSE:  1732160829.0426838\n",
      "Explained Variance:  0.9206520310623119\n",
      "R^2:  0.8922085018952131\n",
      "\n",
      "\n",
      "(16097, 604)\n",
      "(16097,)\n",
      "(16096, 604)\n",
      "(16096,)\n"
     ]
    },
    {
     "name": "stderr",
     "output_type": "stream",
     "text": [
      "c:\\users\\ivanl\\appdata\\local\\programs\\python\\python37\\lib\\site-packages\\sklearn\\linear_model\\_coordinate_descent.py:476: ConvergenceWarning: Objective did not converge. You might want to increase the number of iterations. Duality gap: 1778761354724.2354, tolerance: 25867154047.710392\n",
      "  positive)\n"
     ]
    },
    {
     "name": "stdout",
     "output_type": "stream",
     "text": [
      "Fitted Months MSE (12 - 24):  0.9437414581108698\n",
      "Fitted Months MSE (12 - 24):  0.9436819052823179\n",
      "LASSO EVAL\n",
      "MSE:  1351932907.6181686\n",
      "Explained Variance:  0.920355792930838\n",
      "R^2:  0.9104909580340015\n",
      "BAYESIAN RIDGE EVAL\n",
      "MSE:  1343974175.7938077\n",
      "Explained Variance:  0.9211422796469688\n",
      "R^2:  0.9110178913284339\n",
      "\n",
      "\n",
      "(16096, 604)\n",
      "(16096,)\n",
      "(17780, 604)\n",
      "(17780,)\n"
     ]
    },
    {
     "name": "stderr",
     "output_type": "stream",
     "text": [
      "c:\\users\\ivanl\\appdata\\local\\programs\\python\\python37\\lib\\site-packages\\sklearn\\linear_model\\_coordinate_descent.py:476: ConvergenceWarning: Objective did not converge. You might want to increase the number of iterations. Duality gap: 2785527995103.212, tolerance: 24311188683.36028\n",
      "  positive)\n"
     ]
    },
    {
     "name": "stdout",
     "output_type": "stream",
     "text": [
      "Fitted Months MSE (24 - 36):  0.9354054114328033\n",
      "Fitted Months MSE (24 - 36):  0.9353413233991351\n",
      "LASSO EVAL\n",
      "MSE:  1617284873.4610925\n",
      "Explained Variance:  0.916209256051058\n",
      "R^2:  0.9077969852626792\n",
      "BAYESIAN RIDGE EVAL\n",
      "MSE:  1561436175.4074688\n",
      "Explained Variance:  0.9191509447461648\n",
      "R^2:  0.9109809749321542\n",
      "\n",
      "\n",
      "(17780, 604)\n",
      "(17780,)\n",
      "(19373, 604)\n",
      "(19373,)\n"
     ]
    },
    {
     "name": "stderr",
     "output_type": "stream",
     "text": [
      "c:\\users\\ivanl\\appdata\\local\\programs\\python\\python37\\lib\\site-packages\\sklearn\\linear_model\\_coordinate_descent.py:476: ConvergenceWarning: Objective did not converge. You might want to increase the number of iterations. Duality gap: 10179911803611.424, tolerance: 31186968378.485107\n",
      "  positive)\n"
     ]
    },
    {
     "name": "stdout",
     "output_type": "stream",
     "text": [
      "Fitted Months MSE (36 - 48):  0.9357891075411521\n",
      "Fitted Months MSE (36 - 48):  0.9357325010606902\n",
      "LASSO EVAL\n",
      "MSE:  1374887853.5500004\n",
      "Explained Variance:  0.9287602985183755\n",
      "R^2:  0.9286227677589972\n",
      "BAYESIAN RIDGE EVAL\n",
      "MSE:  1376318485.8313594\n",
      "Explained Variance:  0.9286972561463636\n",
      "R^2:  0.928548496557652\n",
      "\n",
      "\n",
      "(19373, 604)\n",
      "(19373,)\n",
      "(20509, 604)\n",
      "(20509,)\n"
     ]
    },
    {
     "name": "stderr",
     "output_type": "stream",
     "text": [
      "c:\\users\\ivanl\\appdata\\local\\programs\\python\\python37\\lib\\site-packages\\sklearn\\linear_model\\_coordinate_descent.py:476: ConvergenceWarning: Objective did not converge. You might want to increase the number of iterations. Duality gap: 11937964949514.176, tolerance: 37316804743.688576\n",
      "  positive)\n"
     ]
    },
    {
     "name": "stdout",
     "output_type": "stream",
     "text": [
      "Fitted Months MSE (48 - 60):  0.9373478992066453\n",
      "Fitted Months MSE (48 - 60):  0.9373189078476121\n",
      "LASSO EVAL\n",
      "MSE:  1865604131.389595\n",
      "Explained Variance:  0.925677439115153\n",
      "R^2:  0.9161305222924156\n",
      "BAYESIAN RIDGE EVAL\n",
      "MSE:  2083326849.5047\n",
      "Explained Variance:  0.9234634368630544\n",
      "R^2:  0.9063426523224942\n",
      "\n",
      "\n",
      "(20509, 604)\n",
      "(20509,)\n",
      "(21875, 604)\n",
      "(21875,)\n"
     ]
    },
    {
     "name": "stderr",
     "output_type": "stream",
     "text": [
      "c:\\users\\ivanl\\appdata\\local\\programs\\python\\python37\\lib\\site-packages\\sklearn\\linear_model\\_coordinate_descent.py:476: ConvergenceWarning: Objective did not converge. You might want to increase the number of iterations. Duality gap: 6109624874799.014, tolerance: 45620500063.289604\n",
      "  positive)\n"
     ]
    },
    {
     "name": "stdout",
     "output_type": "stream",
     "text": [
      "Fitted Months MSE (60 - 72):  0.9375180912796819\n",
      "Fitted Months MSE (60 - 72):  0.9374658622732422\n",
      "LASSO EVAL\n",
      "MSE:  1824378142.2562718\n",
      "Explained Variance:  0.926112121388409\n",
      "R^2:  0.9260708094717482\n",
      "BAYESIAN RIDGE EVAL\n",
      "MSE:  1819384594.4116797\n",
      "Explained Variance:  0.926317868227063\n",
      "R^2:  0.9262731627785897\n",
      "\n",
      "\n",
      "(21875, 604)\n",
      "(21875,)\n",
      "(22194, 604)\n",
      "(22194,)\n"
     ]
    },
    {
     "name": "stderr",
     "output_type": "stream",
     "text": [
      "c:\\users\\ivanl\\appdata\\local\\programs\\python\\python37\\lib\\site-packages\\sklearn\\linear_model\\_coordinate_descent.py:476: ConvergenceWarning: Objective did not converge. You might want to increase the number of iterations. Duality gap: 7763358439058.207, tolerance: 53981751425.51462\n",
      "  positive)\n"
     ]
    },
    {
     "name": "stdout",
     "output_type": "stream",
     "text": [
      "Fitted Months MSE (72 - 84):  0.9358185693920468\n",
      "Fitted Months MSE (72 - 84):  0.9357817563082795\n",
      "LASSO EVAL\n",
      "MSE:  1862761560.1237767\n",
      "Explained Variance:  0.9214614446103765\n",
      "R^2:  0.9214292379727158\n",
      "BAYESIAN RIDGE EVAL\n",
      "MSE:  1822852945.5129902\n",
      "Explained Variance:  0.9231720840290905\n",
      "R^2:  0.9231125721838933\n",
      "\n",
      "\n",
      "(22194, 604)\n",
      "(22194,)\n",
      "(3583, 604)\n",
      "(3583,)\n"
     ]
    },
    {
     "name": "stderr",
     "output_type": "stream",
     "text": [
      "c:\\users\\ivanl\\appdata\\local\\programs\\python\\python37\\lib\\site-packages\\sklearn\\linear_model\\_coordinate_descent.py:476: ConvergenceWarning: Objective did not converge. You might want to increase the number of iterations. Duality gap: 7043746206317.061, tolerance: 52617702818.041664\n",
      "  positive)\n"
     ]
    },
    {
     "name": "stdout",
     "output_type": "stream",
     "text": [
      "Fitted Months MSE (84 - 96):  0.9378410993170592\n",
      "Fitted Months MSE (84 - 96):  0.9378090061653396\n",
      "LASSO EVAL\n",
      "MSE:  1566483601.343356\n",
      "Explained Variance:  0.930531830193098\n",
      "R^2:  0.9304955132844933\n",
      "BAYESIAN RIDGE EVAL\n",
      "MSE:  1569004679.2853384\n",
      "Explained Variance:  0.9304174891449198\n",
      "R^2:  0.9303836536849566\n",
      "\n",
      "\n"
     ]
    }
   ],
   "source": [
    "## Rolling predictions\n",
    "roll_df = pd.concat([X,y], axis=1)\n",
    "max_month = np.amax(roll_df['month'])\n",
    "temp_mth = 0\n",
    "\n",
    "while temp_mth < (max_month-12):\n",
    "    X_train = roll_df[(roll_df['month'] > temp_mth) & (roll_df['month'] <= temp_mth+12)].drop('resale_price',axis=1)\n",
    "    X_test = roll_df[(roll_df['month'] > temp_mth+12) & (roll_df['month'] <= temp_mth+24)].drop('resale_price', axis=1)\n",
    "    y_train = roll_df[(roll_df['month'] > temp_mth) & (roll_df['month'] <= temp_mth+12)]['resale_price']\n",
    "    y_test = roll_df[(roll_df['month'] > temp_mth+12) & (roll_df['month'] <= temp_mth+24)]['resale_price']\n",
    "\n",
    "    print(X_train.shape)\n",
    "    print(y_train.shape)\n",
    "    print(X_test.shape)\n",
    "    print(y_test.shape)\n",
    "    \n",
    "    ## fitting\n",
    "    lasso = Lasso()\n",
    "    lasso.fit(X_train,y_train)\n",
    "    print(f\"Fitted Months MSE ({temp_mth} - {temp_mth+12}): \", lasso.score(X_train, y_train))\n",
    "\n",
    "    br = BayesianRidge()\n",
    "    br.fit(X_train, y_train)\n",
    "    print(f\"Fitted Months MSE ({temp_mth} - {temp_mth+12}): \", br.score(X_train, y_train))\n",
    "    \n",
    "    ## pred results\n",
    "    print(\"LASSO EVAL\")\n",
    "    lasso_pred = predict_skmodel(lasso, X_test)\n",
    "    print(\"BAYESIAN RIDGE EVAL\")\n",
    "    br_pred = predict_skmodel(br, X_test)\n",
    "    print(\"\\n\")\n",
    "    \n",
    "    temp_mth += 12"
   ]
  },
  {
   "cell_type": "code",
   "execution_count": 46,
   "metadata": {},
   "outputs": [
    {
     "name": "stderr",
     "output_type": "stream",
     "text": [
      "c:\\users\\ivanl\\appdata\\local\\programs\\python\\python37\\lib\\site-packages\\sklearn\\linear_model\\_coordinate_descent.py:476: ConvergenceWarning: Objective did not converge. You might want to increase the number of iterations. Duality gap: 1778761354724.2354, tolerance: 25867154047.710392\n",
      "  positive)\n"
     ]
    },
    {
     "name": "stdout",
     "output_type": "stream",
     "text": [
      "0.9437414581108698\n",
      "0.9436819052823179\n"
     ]
    }
   ],
   "source": [
    "lasso = Lasso()\n",
    "lasso.fit(X_train,y_train)\n",
    "print(lasso.score(X_train, y_train))\n",
    "\n",
    "br = BayesianRidge()\n",
    "br.fit(X_train, y_train)\n",
    "print(br.score(X_train, y_train))"
   ]
  },
  {
   "cell_type": "code",
   "execution_count": 47,
   "metadata": {},
   "outputs": [
    {
     "name": "stdout",
     "output_type": "stream",
     "text": [
      "MSE:  1351932907.6181686\n",
      "Explained Variance:  0.920355792930838\n",
      "R^2:  0.9104909580340015\n",
      "MSE:  1343974175.7938077\n",
      "Explained Variance:  0.9211422796469688\n",
      "R^2:  0.9110178913284339\n"
     ]
    }
   ],
   "source": [
    "## predictions\n",
    "lasso_rollingpred = predict_skmodel(lasso,X_test)\n",
    "br_rolling_pred = predict_skmodel(br,X_test)"
   ]
  },
  {
   "cell_type": "markdown",
   "metadata": {},
   "source": [
    "It seems that rolling predictions work better. This might likely be due to structural information that \n",
    "might be lost but persisted in the future due to models taking averages over the whole time period to\n",
    "minimise loss functions."
   ]
  },
  {
   "cell_type": "code",
   "execution_count": 44,
   "metadata": {},
   "outputs": [
    {
     "data": {
      "text/plain": [
       "109706    250000.0\n",
       "109707    300000.0\n",
       "109708    328000.0\n",
       "109709    300000.0\n",
       "109710    273000.0\n",
       "Name: resale_price, dtype: float64"
      ]
     },
     "execution_count": 44,
     "metadata": {},
     "output_type": "execute_result"
    }
   ],
   "source": [
    "y_train.head()"
   ]
  },
  {
   "cell_type": "code",
   "execution_count": null,
   "metadata": {},
   "outputs": [],
   "source": [
    "## Analysis using resale_approval_full\n",
    "## 1. Process data\n",
    "resale_approval_full = resale_approval_full.fillna(0)\n"
   ]
  },
  {
   "cell_type": "code",
   "execution_count": null,
   "metadata": {},
   "outputs": [],
   "source": [
    "## ML techniques\n"
   ]
  },
  {
   "cell_type": "markdown",
   "metadata": {},
   "source": [
    "### Using URA's data\n",
    "LandedArea.csv<br></br>ApartmentsandCondos.csv"
   ]
  },
  {
   "cell_type": "code",
   "execution_count": 5,
   "metadata": {
    "scrolled": true
   },
   "outputs": [
    {
     "data": {
      "text/html": [
       "<div>\n",
       "<style scoped>\n",
       "    .dataframe tbody tr th:only-of-type {\n",
       "        vertical-align: middle;\n",
       "    }\n",
       "\n",
       "    .dataframe tbody tr th {\n",
       "        vertical-align: top;\n",
       "    }\n",
       "\n",
       "    .dataframe thead th {\n",
       "        text-align: right;\n",
       "    }\n",
       "</style>\n",
       "<table border=\"1\" class=\"dataframe\">\n",
       "  <thead>\n",
       "    <tr style=\"text-align: right;\">\n",
       "      <th></th>\n",
       "      <th>S/N</th>\n",
       "      <th>Project Name</th>\n",
       "      <th>Street Name</th>\n",
       "      <th>Type</th>\n",
       "      <th>Postal District</th>\n",
       "      <th>Market Segment</th>\n",
       "      <th>Tenure</th>\n",
       "      <th>Type of Sale</th>\n",
       "      <th>No. of Units</th>\n",
       "      <th>Price ($)</th>\n",
       "      <th>Nett Price ($)</th>\n",
       "      <th>Area (Sqft)</th>\n",
       "      <th>Type of Area</th>\n",
       "      <th>Floor Level</th>\n",
       "      <th>Unit Price ($psf)</th>\n",
       "      <th>Date of Sale</th>\n",
       "    </tr>\n",
       "  </thead>\n",
       "  <tbody>\n",
       "    <tr>\n",
       "      <th>0</th>\n",
       "      <td>1</td>\n",
       "      <td>ONE TREE HILL COLLECTION</td>\n",
       "      <td>JALAN KELAWAR</td>\n",
       "      <td>Detached</td>\n",
       "      <td>10</td>\n",
       "      <td>CCR</td>\n",
       "      <td>Freehold</td>\n",
       "      <td>New Sale</td>\n",
       "      <td>1.0</td>\n",
       "      <td>15500000.0</td>\n",
       "      <td>-</td>\n",
       "      <td>5145.0</td>\n",
       "      <td>Land</td>\n",
       "      <td>-</td>\n",
       "      <td>3013.0</td>\n",
       "      <td>Feb-20</td>\n",
       "    </tr>\n",
       "    <tr>\n",
       "      <th>1</th>\n",
       "      <td>2</td>\n",
       "      <td>BAN GUAN PARK</td>\n",
       "      <td>HOLLAND ROAD</td>\n",
       "      <td>Detached</td>\n",
       "      <td>10</td>\n",
       "      <td>CCR</td>\n",
       "      <td>Freehold</td>\n",
       "      <td>Resale</td>\n",
       "      <td>1.0</td>\n",
       "      <td>15500000.0</td>\n",
       "      <td>-</td>\n",
       "      <td>9050.0</td>\n",
       "      <td>Land</td>\n",
       "      <td>-</td>\n",
       "      <td>1713.0</td>\n",
       "      <td>Feb-20</td>\n",
       "    </tr>\n",
       "    <tr>\n",
       "      <th>2</th>\n",
       "      <td>3</td>\n",
       "      <td>LANDED HOUSING DEVELOPMENT</td>\n",
       "      <td>CORONATION ROAD WEST</td>\n",
       "      <td>Detached</td>\n",
       "      <td>10</td>\n",
       "      <td>CCR</td>\n",
       "      <td>Freehold</td>\n",
       "      <td>Resale</td>\n",
       "      <td>1.0</td>\n",
       "      <td>9380000.0</td>\n",
       "      <td>-</td>\n",
       "      <td>6242.0</td>\n",
       "      <td>Land</td>\n",
       "      <td>-</td>\n",
       "      <td>1503.0</td>\n",
       "      <td>Feb-20</td>\n",
       "    </tr>\n",
       "    <tr>\n",
       "      <th>3</th>\n",
       "      <td>4</td>\n",
       "      <td>LANDED HOUSING DEVELOPMENT</td>\n",
       "      <td>JALAN AMPANG</td>\n",
       "      <td>Semi-detached</td>\n",
       "      <td>10</td>\n",
       "      <td>CCR</td>\n",
       "      <td>Freehold</td>\n",
       "      <td>Resale</td>\n",
       "      <td>1.0</td>\n",
       "      <td>6600000.0</td>\n",
       "      <td>-</td>\n",
       "      <td>4529.0</td>\n",
       "      <td>Land</td>\n",
       "      <td>-</td>\n",
       "      <td>1457.0</td>\n",
       "      <td>Feb-20</td>\n",
       "    </tr>\n",
       "    <tr>\n",
       "      <th>4</th>\n",
       "      <td>5</td>\n",
       "      <td>LANDED HOUSING DEVELOPMENT</td>\n",
       "      <td>JALAN JAMBU AYER</td>\n",
       "      <td>Detached</td>\n",
       "      <td>21</td>\n",
       "      <td>RCR</td>\n",
       "      <td>Freehold</td>\n",
       "      <td>Resale</td>\n",
       "      <td>1.0</td>\n",
       "      <td>8600000.0</td>\n",
       "      <td>-</td>\n",
       "      <td>6218.0</td>\n",
       "      <td>Land</td>\n",
       "      <td>-</td>\n",
       "      <td>1383.0</td>\n",
       "      <td>Feb-20</td>\n",
       "    </tr>\n",
       "  </tbody>\n",
       "</table>\n",
       "</div>"
      ],
      "text/plain": [
       "  S/N                Project Name           Street Name           Type  \\\n",
       "0   1    ONE TREE HILL COLLECTION         JALAN KELAWAR       Detached   \n",
       "1   2               BAN GUAN PARK          HOLLAND ROAD       Detached   \n",
       "2   3  LANDED HOUSING DEVELOPMENT  CORONATION ROAD WEST       Detached   \n",
       "3   4  LANDED HOUSING DEVELOPMENT          JALAN AMPANG  Semi-detached   \n",
       "4   5  LANDED HOUSING DEVELOPMENT      JALAN JAMBU AYER       Detached   \n",
       "\n",
       "  Postal District Market Segment    Tenure Type of Sale  No. of Units  \\\n",
       "0              10            CCR  Freehold     New Sale           1.0   \n",
       "1              10            CCR  Freehold       Resale           1.0   \n",
       "2              10            CCR  Freehold       Resale           1.0   \n",
       "3              10            CCR  Freehold       Resale           1.0   \n",
       "4              21            RCR  Freehold       Resale           1.0   \n",
       "\n",
       "    Price ($) Nett Price ($)  Area (Sqft) Type of Area Floor Level  \\\n",
       "0  15500000.0              -       5145.0         Land           -   \n",
       "1  15500000.0              -       9050.0         Land           -   \n",
       "2   9380000.0              -       6242.0         Land           -   \n",
       "3   6600000.0              -       4529.0         Land           -   \n",
       "4   8600000.0              -       6218.0         Land           -   \n",
       "\n",
       "   Unit Price ($psf) Date of Sale  \n",
       "0             3013.0       Feb-20  \n",
       "1             1713.0       Feb-20  \n",
       "2             1503.0       Feb-20  \n",
       "3             1457.0       Feb-20  \n",
       "4             1383.0       Feb-20  "
      ]
     },
     "execution_count": 5,
     "metadata": {},
     "output_type": "execute_result"
    }
   ],
   "source": [
    "landed.head()"
   ]
  },
  {
   "cell_type": "code",
   "execution_count": 9,
   "metadata": {
    "scrolled": true
   },
   "outputs": [
    {
     "name": "stdout",
     "output_type": "stream",
     "text": [
      "<class 'pandas.core.frame.DataFrame'>\n",
      "RangeIndex: 853 entries, 0 to 852\n",
      "Data columns (total 16 columns):\n",
      "S/N                  843 non-null object\n",
      "Project Name         848 non-null object\n",
      "Street Name          837 non-null object\n",
      "Type                 837 non-null object\n",
      "Postal District      837 non-null object\n",
      "Market Segment       837 non-null object\n",
      "Tenure               837 non-null object\n",
      "Type of Sale         836 non-null object\n",
      "No. of Units         836 non-null float64\n",
      "Price ($)            836 non-null float64\n",
      "Nett Price ($)       836 non-null object\n",
      "Area (Sqft)          836 non-null float64\n",
      "Type of Area         836 non-null object\n",
      "Floor Level          836 non-null object\n",
      "Unit Price ($psf)    836 non-null float64\n",
      "Date of Sale         836 non-null object\n",
      "dtypes: float64(4), object(12)\n",
      "memory usage: 106.8+ KB\n"
     ]
    }
   ],
   "source": [
    "landed.info()"
   ]
  },
  {
   "cell_type": "code",
   "execution_count": null,
   "metadata": {},
   "outputs": [],
   "source": []
  },
  {
   "cell_type": "code",
   "execution_count": 6,
   "metadata": {},
   "outputs": [
    {
     "data": {
      "text/html": [
       "<div>\n",
       "<style scoped>\n",
       "    .dataframe tbody tr th:only-of-type {\n",
       "        vertical-align: middle;\n",
       "    }\n",
       "\n",
       "    .dataframe tbody tr th {\n",
       "        vertical-align: top;\n",
       "    }\n",
       "\n",
       "    .dataframe thead th {\n",
       "        text-align: right;\n",
       "    }\n",
       "</style>\n",
       "<table border=\"1\" class=\"dataframe\">\n",
       "  <thead>\n",
       "    <tr style=\"text-align: right;\">\n",
       "      <th>Area (Sqft)</th>\n",
       "      <th>1489.0</th>\n",
       "      <th>1491.0</th>\n",
       "      <th>1496.0</th>\n",
       "      <th>1530.0</th>\n",
       "      <th>1532.0</th>\n",
       "      <th>1579.0</th>\n",
       "      <th>1615.0</th>\n",
       "      <th>1628.0</th>\n",
       "      <th>1640.0</th>\n",
       "      <th>1643.0</th>\n",
       "      <th>...</th>\n",
       "      <th>27829.0</th>\n",
       "      <th>29710.0</th>\n",
       "      <th>29955.0</th>\n",
       "      <th>30420.0</th>\n",
       "      <th>31211.0</th>\n",
       "      <th>36883.0</th>\n",
       "      <th>39228.0</th>\n",
       "      <th>43927.0</th>\n",
       "      <th>52059.0</th>\n",
       "      <th>66453.0</th>\n",
       "    </tr>\n",
       "    <tr>\n",
       "      <th>Type</th>\n",
       "      <th></th>\n",
       "      <th></th>\n",
       "      <th></th>\n",
       "      <th></th>\n",
       "      <th></th>\n",
       "      <th></th>\n",
       "      <th></th>\n",
       "      <th></th>\n",
       "      <th></th>\n",
       "      <th></th>\n",
       "      <th></th>\n",
       "      <th></th>\n",
       "      <th></th>\n",
       "      <th></th>\n",
       "      <th></th>\n",
       "      <th></th>\n",
       "      <th></th>\n",
       "      <th></th>\n",
       "      <th></th>\n",
       "      <th></th>\n",
       "      <th></th>\n",
       "    </tr>\n",
       "  </thead>\n",
       "  <tbody>\n",
       "    <tr>\n",
       "      <th>Detached</th>\n",
       "      <td>0.0</td>\n",
       "      <td>0.0</td>\n",
       "      <td>0.0</td>\n",
       "      <td>0.0</td>\n",
       "      <td>0.0</td>\n",
       "      <td>0.0</td>\n",
       "      <td>0.000000</td>\n",
       "      <td>0.0</td>\n",
       "      <td>0.000000</td>\n",
       "      <td>0.0</td>\n",
       "      <td>...</td>\n",
       "      <td>858.0</td>\n",
       "      <td>1548.0</td>\n",
       "      <td>1335.0</td>\n",
       "      <td>1430.0</td>\n",
       "      <td>1310.0</td>\n",
       "      <td>1000.0</td>\n",
       "      <td>1117.0</td>\n",
       "      <td>1309.0</td>\n",
       "      <td>1804.0</td>\n",
       "      <td>3281.0</td>\n",
       "    </tr>\n",
       "    <tr>\n",
       "      <th>Semi-detached</th>\n",
       "      <td>0.0</td>\n",
       "      <td>0.0</td>\n",
       "      <td>0.0</td>\n",
       "      <td>0.0</td>\n",
       "      <td>0.0</td>\n",
       "      <td>0.0</td>\n",
       "      <td>0.000000</td>\n",
       "      <td>0.0</td>\n",
       "      <td>0.000000</td>\n",
       "      <td>0.0</td>\n",
       "      <td>...</td>\n",
       "      <td>0.0</td>\n",
       "      <td>0.0</td>\n",
       "      <td>0.0</td>\n",
       "      <td>0.0</td>\n",
       "      <td>0.0</td>\n",
       "      <td>0.0</td>\n",
       "      <td>0.0</td>\n",
       "      <td>0.0</td>\n",
       "      <td>0.0</td>\n",
       "      <td>0.0</td>\n",
       "    </tr>\n",
       "    <tr>\n",
       "      <th>Terrace</th>\n",
       "      <td>1511.0</td>\n",
       "      <td>1509.0</td>\n",
       "      <td>1521.0</td>\n",
       "      <td>1242.0</td>\n",
       "      <td>1815.0</td>\n",
       "      <td>1932.0</td>\n",
       "      <td>2294.583333</td>\n",
       "      <td>1628.0</td>\n",
       "      <td>1560.666667</td>\n",
       "      <td>1711.0</td>\n",
       "      <td>...</td>\n",
       "      <td>0.0</td>\n",
       "      <td>0.0</td>\n",
       "      <td>0.0</td>\n",
       "      <td>0.0</td>\n",
       "      <td>0.0</td>\n",
       "      <td>0.0</td>\n",
       "      <td>0.0</td>\n",
       "      <td>0.0</td>\n",
       "      <td>0.0</td>\n",
       "      <td>0.0</td>\n",
       "    </tr>\n",
       "  </tbody>\n",
       "</table>\n",
       "<p>3 rows × 686 columns</p>\n",
       "</div>"
      ],
      "text/plain": [
       "Area (Sqft)    1489.0   1491.0   1496.0   1530.0   1532.0   1579.0   \\\n",
       "Type                                                                  \n",
       "Detached           0.0      0.0      0.0      0.0      0.0      0.0   \n",
       "Semi-detached      0.0      0.0      0.0      0.0      0.0      0.0   \n",
       "Terrace         1511.0   1509.0   1521.0   1242.0   1815.0   1932.0   \n",
       "\n",
       "Area (Sqft)        1615.0   1628.0       1640.0   1643.0   ...  27829.0  \\\n",
       "Type                                                       ...            \n",
       "Detached          0.000000      0.0     0.000000      0.0  ...    858.0   \n",
       "Semi-detached     0.000000      0.0     0.000000      0.0  ...      0.0   \n",
       "Terrace        2294.583333   1628.0  1560.666667   1711.0  ...      0.0   \n",
       "\n",
       "Area (Sqft)    29710.0  29955.0  30420.0  31211.0  36883.0  39228.0  43927.0  \\\n",
       "Type                                                                           \n",
       "Detached        1548.0   1335.0   1430.0   1310.0   1000.0   1117.0   1309.0   \n",
       "Semi-detached      0.0      0.0      0.0      0.0      0.0      0.0      0.0   \n",
       "Terrace            0.0      0.0      0.0      0.0      0.0      0.0      0.0   \n",
       "\n",
       "Area (Sqft)    52059.0  66453.0  \n",
       "Type                             \n",
       "Detached        1804.0   3281.0  \n",
       "Semi-detached      0.0      0.0  \n",
       "Terrace            0.0      0.0  \n",
       "\n",
       "[3 rows x 686 columns]"
      ]
     },
     "execution_count": 6,
     "metadata": {},
     "output_type": "execute_result"
    }
   ],
   "source": [
    "# Running testing for landed since its sample size is smaller\n",
    "landed_sfp = landed[['Type', 'Area (Sqft)', 'Unit Price ($psf)']]\n",
    "landed_sfp = landed_sfp.dropna()\n",
    "landed_sfp = pd.pivot_table(landed_sfp, values='Unit Price ($psf)', \n",
    "                     index=['Type'], \n",
    "                     columns='Area (Sqft)')\n",
    "landed_sfp = landed_sfp.fillna(0)\n",
    "landed_sfp.tail()"
   ]
  },
  {
   "cell_type": "code",
   "execution_count": 35,
   "metadata": {},
   "outputs": [
    {
     "data": {
      "text/plain": [
       "<matplotlib.axes._subplots.AxesSubplot at 0x2d4fd599c8>"
      ]
     },
     "execution_count": 35,
     "metadata": {},
     "output_type": "execute_result"
    },
    {
     "data": {
      "image/png": "[encoded data removed]",
      "text/plain": [
       "<Figure size 432x288 with 2 Axes>"
      ]
     },
     "metadata": {
      "needs_background": "light"
     },
     "output_type": "display_data"
    }
   ],
   "source": [
    "sns.heatmap(landed_sfp)"
   ]
  },
  {
   "cell_type": "code",
   "execution_count": null,
   "metadata": {},
   "outputs": [],
   "source": []
  },
  {
   "cell_type": "markdown",
   "metadata": {},
   "source": [
    "### Predictions\n",
    "Using Machine Learning techniques to try to obtain metries such as:\n",
    "- Accuracy\n",
    "- MSE\n",
    "\n",
    "Depending on method used"
   ]
  },
  {
   "cell_type": "code",
   "execution_count": null,
   "metadata": {},
   "outputs": [],
   "source": [
    "%%bash\n",
    "## installs necessary libraries for work below\n",
    "!pip install sklearn"
   ]
  },
  {
   "cell_type": "code",
   "execution_count": 107,
   "metadata": {},
   "outputs": [],
   "source": [
    "from sklearn.model_selection import train_test_split\n",
    "from sklearn.preprocessing import OneHotEncoder\n",
    "\n",
    "# preprocessing\n",
    "def split_X_and_y(df):\n",
    "    '''\n",
    "        - preprocessing is done here\n",
    "        - returns processed X and y values\n",
    "    '''\n",
    "    df = df.dropna()  # there should b a better way of handling NA valus but I LAZY\n",
    "    \n",
    "    # 1. seperate labels from predictors\n",
    "    y = df[df.columns[14]]  #Unit price per sq foot\n",
    "    cols_to_remove = df.columns[[0,9,10,13,14]]\n",
    "    X = df.drop(cols_to_remove, axis=1)\n",
    "    \n",
    "    # 2. encode data fit for prediction\n",
    "    X_num = X.iloc[:,[7,8]]\n",
    "    categorical_var = X.drop([\"No. of Units\", \"Area (Sqft)\"], axis=1)\n",
    "\n",
    "    X_cat = pd.get_dummies(categorical_var)\n",
    "    X = pd.concat([X_cat, X_num], axis=1)\n",
    "    \n",
    "    X_train, X_test, y_train, y_test = train_test_split(X, y, test_size=0.25, random_state=42)\n",
    "    \n",
    "    return X_train, X_test, y_train, y_test\n",
    "\n",
    "from sklearn.model_selection import GridSearchCV\n",
    "def train_data(estimator, params, X_train, y_train):\n",
    "    ## import the sklearn libraries first\n",
    "    reg_grid = GridSearchCV(estimator, params)\n",
    "    reg_grid.fit(X_train, y_train)\n",
    "    \n",
    "    return reg_grid.best_estimator_\n",
    "    "
   ]
  },
  {
   "cell_type": "code",
   "execution_count": 108,
   "metadata": {},
   "outputs": [],
   "source": [
    "X_train, X_test, y_train, y_test = split_X_and_y(landed)"
   ]
  },
  {
   "cell_type": "code",
   "execution_count": 109,
   "metadata": {},
   "outputs": [
    {
     "data": {
      "text/plain": [
       "0"
      ]
     },
     "execution_count": 109,
     "metadata": {},
     "output_type": "execute_result"
    }
   ],
   "source": [
    "sum(X_train.isna().iloc[:,6])"
   ]
  },
  {
   "cell_type": "code",
   "execution_count": 110,
   "metadata": {
    "scrolled": true
   },
   "outputs": [
    {
     "name": "stderr",
     "output_type": "stream",
     "text": [
      "c:\\users\\ivanl\\appdata\\local\\programs\\python\\python37\\lib\\site-packages\\sklearn\\linear_model\\_coordinate_descent.py:476: ConvergenceWarning: Objective did not converge. You might want to increase the number of iterations. Duality gap: 2164681.303028632, tolerance: 9552.54064231537\n",
      "  positive)\n",
      "c:\\users\\ivanl\\appdata\\local\\programs\\python\\python37\\lib\\site-packages\\sklearn\\linear_model\\_coordinate_descent.py:476: ConvergenceWarning: Objective did not converge. You might want to increase the number of iterations. Duality gap: 2016181.1567478143, tolerance: 10139.614333333333\n",
      "  positive)\n",
      "c:\\users\\ivanl\\appdata\\local\\programs\\python\\python37\\lib\\site-packages\\sklearn\\linear_model\\_coordinate_descent.py:476: ConvergenceWarning: Objective did not converge. You might want to increase the number of iterations. Duality gap: 2330274.8713892847, tolerance: 10497.877685258964\n",
      "  positive)\n",
      "c:\\users\\ivanl\\appdata\\local\\programs\\python\\python37\\lib\\site-packages\\sklearn\\linear_model\\_coordinate_descent.py:476: ConvergenceWarning: Objective did not converge. You might want to increase the number of iterations. Duality gap: 55368.88726917654, tolerance: 10324.65714501992\n",
      "  positive)\n",
      "c:\\users\\ivanl\\appdata\\local\\programs\\python\\python37\\lib\\site-packages\\sklearn\\linear_model\\_coordinate_descent.py:476: ConvergenceWarning: Objective did not converge. You might want to increase the number of iterations. Duality gap: 2267557.2729953714, tolerance: 10477.63292749004\n",
      "  positive)\n",
      "c:\\users\\ivanl\\appdata\\local\\programs\\python\\python37\\lib\\site-packages\\sklearn\\linear_model\\_coordinate_descent.py:476: ConvergenceWarning: Objective did not converge. You might want to increase the number of iterations. Duality gap: 2164681.303028632, tolerance: 9552.54064231537\n",
      "  positive)\n",
      "c:\\users\\ivanl\\appdata\\local\\programs\\python\\python37\\lib\\site-packages\\sklearn\\linear_model\\_coordinate_descent.py:476: ConvergenceWarning: Objective did not converge. You might want to increase the number of iterations. Duality gap: 2016181.1567478143, tolerance: 10139.614333333333\n",
      "  positive)\n",
      "c:\\users\\ivanl\\appdata\\local\\programs\\python\\python37\\lib\\site-packages\\sklearn\\linear_model\\_coordinate_descent.py:476: ConvergenceWarning: Objective did not converge. You might want to increase the number of iterations. Duality gap: 2330274.8713892847, tolerance: 10497.877685258964\n",
      "  positive)\n",
      "c:\\users\\ivanl\\appdata\\local\\programs\\python\\python37\\lib\\site-packages\\sklearn\\linear_model\\_coordinate_descent.py:476: ConvergenceWarning: Objective did not converge. You might want to increase the number of iterations. Duality gap: 55368.88726917654, tolerance: 10324.65714501992\n",
      "  positive)\n",
      "c:\\users\\ivanl\\appdata\\local\\programs\\python\\python37\\lib\\site-packages\\sklearn\\linear_model\\_coordinate_descent.py:476: ConvergenceWarning: Objective did not converge. You might want to increase the number of iterations. Duality gap: 2267557.2729953714, tolerance: 10477.63292749004\n",
      "  positive)\n",
      "c:\\users\\ivanl\\appdata\\local\\programs\\python\\python37\\lib\\site-packages\\sklearn\\linear_model\\_coordinate_descent.py:476: ConvergenceWarning: Objective did not converge. You might want to increase the number of iterations. Duality gap: 395590.2074580621, tolerance: 9552.54064231537\n",
      "  positive)\n",
      "c:\\users\\ivanl\\appdata\\local\\programs\\python\\python37\\lib\\site-packages\\sklearn\\linear_model\\_coordinate_descent.py:476: ConvergenceWarning: Objective did not converge. You might want to increase the number of iterations. Duality gap: 296500.37911394984, tolerance: 10139.614333333333\n",
      "  positive)\n",
      "c:\\users\\ivanl\\appdata\\local\\programs\\python\\python37\\lib\\site-packages\\sklearn\\linear_model\\_coordinate_descent.py:476: ConvergenceWarning: Objective did not converge. You might want to increase the number of iterations. Duality gap: 377579.3186472617, tolerance: 10497.877685258964\n",
      "  positive)\n",
      "c:\\users\\ivanl\\appdata\\local\\programs\\python\\python37\\lib\\site-packages\\sklearn\\linear_model\\_coordinate_descent.py:476: ConvergenceWarning: Objective did not converge. You might want to increase the number of iterations. Duality gap: 479326.3981806971, tolerance: 10477.63292749004\n",
      "  positive)\n",
      "c:\\users\\ivanl\\appdata\\local\\programs\\python\\python37\\lib\\site-packages\\sklearn\\linear_model\\_coordinate_descent.py:476: ConvergenceWarning: Objective did not converge. You might want to increase the number of iterations. Duality gap: 395590.2074580621, tolerance: 9552.54064231537\n",
      "  positive)\n",
      "c:\\users\\ivanl\\appdata\\local\\programs\\python\\python37\\lib\\site-packages\\sklearn\\linear_model\\_coordinate_descent.py:476: ConvergenceWarning: Objective did not converge. You might want to increase the number of iterations. Duality gap: 296500.37911394984, tolerance: 10139.614333333333\n",
      "  positive)\n",
      "c:\\users\\ivanl\\appdata\\local\\programs\\python\\python37\\lib\\site-packages\\sklearn\\linear_model\\_coordinate_descent.py:476: ConvergenceWarning: Objective did not converge. You might want to increase the number of iterations. Duality gap: 377579.3186472617, tolerance: 10497.877685258964\n",
      "  positive)\n",
      "c:\\users\\ivanl\\appdata\\local\\programs\\python\\python37\\lib\\site-packages\\sklearn\\linear_model\\_coordinate_descent.py:476: ConvergenceWarning: Objective did not converge. You might want to increase the number of iterations. Duality gap: 479326.3981806971, tolerance: 10477.63292749004\n",
      "  positive)\n",
      "c:\\users\\ivanl\\appdata\\local\\programs\\python\\python37\\lib\\site-packages\\sklearn\\linear_model\\_coordinate_descent.py:476: ConvergenceWarning: Objective did not converge. You might want to increase the number of iterations. Duality gap: 25257.76667529531, tolerance: 9552.54064231537\n",
      "  positive)\n",
      "c:\\users\\ivanl\\appdata\\local\\programs\\python\\python37\\lib\\site-packages\\sklearn\\linear_model\\_coordinate_descent.py:476: ConvergenceWarning: Objective did not converge. You might want to increase the number of iterations. Duality gap: 12454.918105591089, tolerance: 10139.614333333333\n",
      "  positive)\n",
      "c:\\users\\ivanl\\appdata\\local\\programs\\python\\python37\\lib\\site-packages\\sklearn\\linear_model\\_coordinate_descent.py:476: ConvergenceWarning: Objective did not converge. You might want to increase the number of iterations. Duality gap: 21440.611679926515, tolerance: 10497.877685258964\n",
      "  positive)\n",
      "c:\\users\\ivanl\\appdata\\local\\programs\\python\\python37\\lib\\site-packages\\sklearn\\linear_model\\_coordinate_descent.py:476: ConvergenceWarning: Objective did not converge. You might want to increase the number of iterations. Duality gap: 33719.42928762175, tolerance: 10477.63292749004\n",
      "  positive)\n",
      "c:\\users\\ivanl\\appdata\\local\\programs\\python\\python37\\lib\\site-packages\\sklearn\\linear_model\\_coordinate_descent.py:476: ConvergenceWarning: Objective did not converge. You might want to increase the number of iterations. Duality gap: 25257.76667529531, tolerance: 9552.54064231537\n",
      "  positive)\n",
      "c:\\users\\ivanl\\appdata\\local\\programs\\python\\python37\\lib\\site-packages\\sklearn\\linear_model\\_coordinate_descent.py:476: ConvergenceWarning: Objective did not converge. You might want to increase the number of iterations. Duality gap: 12454.918105591089, tolerance: 10139.614333333333\n",
      "  positive)\n",
      "c:\\users\\ivanl\\appdata\\local\\programs\\python\\python37\\lib\\site-packages\\sklearn\\linear_model\\_coordinate_descent.py:476: ConvergenceWarning: Objective did not converge. You might want to increase the number of iterations. Duality gap: 21440.611679926515, tolerance: 10497.877685258964\n",
      "  positive)\n",
      "c:\\users\\ivanl\\appdata\\local\\programs\\python\\python37\\lib\\site-packages\\sklearn\\linear_model\\_coordinate_descent.py:476: ConvergenceWarning: Objective did not converge. You might want to increase the number of iterations. Duality gap: 33719.42928762175, tolerance: 10477.63292749004\n",
      "  positive)\n",
      "c:\\users\\ivanl\\appdata\\local\\programs\\python\\python37\\lib\\site-packages\\sklearn\\linear_model\\_coordinate_descent.py:476: ConvergenceWarning: Objective did not converge. You might want to increase the number of iterations. Duality gap: 741850.2936997339, tolerance: 9552.54064231537\n",
      "  positive)\n",
      "c:\\users\\ivanl\\appdata\\local\\programs\\python\\python37\\lib\\site-packages\\sklearn\\linear_model\\_coordinate_descent.py:476: ConvergenceWarning: Objective did not converge. You might want to increase the number of iterations. Duality gap: 663934.2700739726, tolerance: 10139.614333333333\n",
      "  positive)\n",
      "c:\\users\\ivanl\\appdata\\local\\programs\\python\\python37\\lib\\site-packages\\sklearn\\linear_model\\_coordinate_descent.py:476: ConvergenceWarning: Objective did not converge. You might want to increase the number of iterations. Duality gap: 728539.6216763444, tolerance: 10497.877685258964\n",
      "  positive)\n"
     ]
    },
    {
     "name": "stderr",
     "output_type": "stream",
     "text": [
      "c:\\users\\ivanl\\appdata\\local\\programs\\python\\python37\\lib\\site-packages\\sklearn\\linear_model\\_coordinate_descent.py:476: ConvergenceWarning: Objective did not converge. You might want to increase the number of iterations. Duality gap: 222237.40231450275, tolerance: 10477.63292749004\n",
      "  positive)\n",
      "c:\\users\\ivanl\\appdata\\local\\programs\\python\\python37\\lib\\site-packages\\sklearn\\linear_model\\_coordinate_descent.py:476: ConvergenceWarning: Objective did not converge. You might want to increase the number of iterations. Duality gap: 741850.2936997339, tolerance: 9552.54064231537\n",
      "  positive)\n",
      "c:\\users\\ivanl\\appdata\\local\\programs\\python\\python37\\lib\\site-packages\\sklearn\\linear_model\\_coordinate_descent.py:476: ConvergenceWarning: Objective did not converge. You might want to increase the number of iterations. Duality gap: 663934.2700739726, tolerance: 10139.614333333333\n",
      "  positive)\n",
      "c:\\users\\ivanl\\appdata\\local\\programs\\python\\python37\\lib\\site-packages\\sklearn\\linear_model\\_coordinate_descent.py:476: ConvergenceWarning: Objective did not converge. You might want to increase the number of iterations. Duality gap: 728539.6216763444, tolerance: 10497.877685258964\n",
      "  positive)\n",
      "c:\\users\\ivanl\\appdata\\local\\programs\\python\\python37\\lib\\site-packages\\sklearn\\linear_model\\_coordinate_descent.py:476: ConvergenceWarning: Objective did not converge. You might want to increase the number of iterations. Duality gap: 222237.40231450275, tolerance: 10477.63292749004\n",
      "  positive)\n",
      "c:\\users\\ivanl\\appdata\\local\\programs\\python\\python37\\lib\\site-packages\\sklearn\\linear_model\\_coordinate_descent.py:476: ConvergenceWarning: Objective did not converge. You might want to increase the number of iterations. Duality gap: 109913.77602441981, tolerance: 9552.54064231537\n",
      "  positive)\n",
      "c:\\users\\ivanl\\appdata\\local\\programs\\python\\python37\\lib\\site-packages\\sklearn\\linear_model\\_coordinate_descent.py:476: ConvergenceWarning: Objective did not converge. You might want to increase the number of iterations. Duality gap: 70666.52008958906, tolerance: 10139.614333333333\n",
      "  positive)\n",
      "c:\\users\\ivanl\\appdata\\local\\programs\\python\\python37\\lib\\site-packages\\sklearn\\linear_model\\_coordinate_descent.py:476: ConvergenceWarning: Objective did not converge. You might want to increase the number of iterations. Duality gap: 88190.65271211788, tolerance: 10497.877685258964\n",
      "  positive)\n",
      "c:\\users\\ivanl\\appdata\\local\\programs\\python\\python37\\lib\\site-packages\\sklearn\\linear_model\\_coordinate_descent.py:476: ConvergenceWarning: Objective did not converge. You might want to increase the number of iterations. Duality gap: 32860.16538936272, tolerance: 10477.63292749004\n",
      "  positive)\n",
      "c:\\users\\ivanl\\appdata\\local\\programs\\python\\python37\\lib\\site-packages\\sklearn\\linear_model\\_coordinate_descent.py:476: ConvergenceWarning: Objective did not converge. You might want to increase the number of iterations. Duality gap: 109913.77602441981, tolerance: 9552.54064231537\n",
      "  positive)\n",
      "c:\\users\\ivanl\\appdata\\local\\programs\\python\\python37\\lib\\site-packages\\sklearn\\linear_model\\_coordinate_descent.py:476: ConvergenceWarning: Objective did not converge. You might want to increase the number of iterations. Duality gap: 70666.52008958906, tolerance: 10139.614333333333\n",
      "  positive)\n",
      "c:\\users\\ivanl\\appdata\\local\\programs\\python\\python37\\lib\\site-packages\\sklearn\\linear_model\\_coordinate_descent.py:476: ConvergenceWarning: Objective did not converge. You might want to increase the number of iterations. Duality gap: 88190.65271211788, tolerance: 10497.877685258964\n",
      "  positive)\n",
      "c:\\users\\ivanl\\appdata\\local\\programs\\python\\python37\\lib\\site-packages\\sklearn\\linear_model\\_coordinate_descent.py:476: ConvergenceWarning: Objective did not converge. You might want to increase the number of iterations. Duality gap: 32860.16538936272, tolerance: 10477.63292749004\n",
      "  positive)\n"
     ]
    }
   ],
   "source": [
    "from sklearn.linear_model import Lasso\n",
    "best_reg = train_data(estimator=Lasso(),\n",
    "                     params={\n",
    "                         'alpha': [0.5,1],\n",
    "                         'normalize' : [True, False],\n",
    "                         'max_iter': [200, 500, 1000, 10000],\n",
    "                         'warm_start' : [True, False]\n",
    "                     },\n",
    "                     X_train=X_train,\n",
    "                     y_train=y_train)"
   ]
  },
  {
   "cell_type": "code",
   "execution_count": 113,
   "metadata": {},
   "outputs": [
    {
     "data": {
      "text/plain": [
       "{'mse': 102733.52728266607, 'rSquared': -0.25659047002398094}"
      ]
     },
     "execution_count": 113,
     "metadata": {},
     "output_type": "execute_result"
    }
   ],
   "source": [
    "from sklearn.metrics import mean_squared_error, r2_score\n",
    "preds = best_reg.predict(X_test)\n",
    "metrics = {\n",
    "    'mse': mean_squared_error(preds , y_test),\n",
    "    'rSquared' : r2_score(preds, y_test)\n",
    "}\n",
    "\n",
    "metrics"
   ]
  },
  {
   "cell_type": "markdown",
   "metadata": {},
   "source": [
    "Well it's obvious that it would fit bad LOL"
   ]
  },
  {
   "cell_type": "code",
   "execution_count": null,
   "metadata": {},
   "outputs": [],
   "source": []
  }
 ],
 "metadata": {
  "kernelspec": {
   "display_name": "Python 3",
   "language": "python",
   "name": "python3"
  },
  "language_info": {
   "codemirror_mode": {
    "name": "ipython",
    "version": 3
   },
   "file_extension": ".py",
   "mimetype": "text/x-python",
   "name": "python",
   "nbconvert_exporter": "python",
   "pygments_lexer": "ipython3",
   "version": "3.7.6"
  }
 },
 "nbformat": 4,
 "nbformat_minor": 4
}
