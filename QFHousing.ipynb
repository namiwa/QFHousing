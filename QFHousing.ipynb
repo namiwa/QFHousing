{
 "cells": [
  {
   "cell_type": "code",
   "execution_count": 1,
   "metadata": {},
   "outputs": [],
   "source": [
    "from __future__ import absolute_import, division, print_function, unicode_literals\n",
    "\n",
    "import pathlib\n",
    "\n",
    "import matplotlib.pyplot as plt\n",
    "import numpy as np\n",
    "import pandas as pd\n",
    "import seaborn as sns"
   ]
  },
  {
   "cell_type": "code",
   "execution_count": 2,
   "metadata": {},
   "outputs": [
    {
     "name": "stdout",
     "output_type": "stream",
     "text": [
      "2.1.0\n"
     ]
    }
   ],
   "source": [
    "import tensorflow as tf\n",
    "\n",
    "from tensorflow import keras\n",
    "from tensorflow.keras import layers\n",
    "\n",
    "print(tf.__version__)"
   ]
  },
  {
   "cell_type": "markdown",
   "metadata": {},
   "source": [
    "Inspect Data"
   ]
  },
  {
   "cell_type": "code",
   "execution_count": 7,
   "metadata": {},
   "outputs": [],
   "source": [
    "landed = pd.read_csv(\"data\\LandedArea.csv\")\n",
    "apartments = pd.read_csv('data\\ApartmentsandCondos.csv')\n",
    "\n",
    "resale_registration_1 = pd.read_csv(\"data/resale-flat-prices_HDB/resale-flat-prices-based-on-registration-date-from-mar-2012-to-dec-2014.csv\")\n",
    "resale_registration_2 = pd.read_csv(\"data/resale-flat-prices_HDB/resale-flat-prices-based-on-registration-date-from-jan-2015-to-dec-2016.csv\")\n",
    "resale_registration_3 = pd.read_csv(\"data/resale-flat-prices_HDB/resale-flat-prices-based-on-registration-date-from-jan-2017-onwards.csv\")\n",
    "\n",
    "resale_approval_1 = pd.read_csv(\"data/resale-flat-prices_HDB/resale-flat-prices-based-on-approval-date-1990-1999.csv\")\n",
    "resale_approval_2 = pd.read_csv(\"data/resale-flat-prices_HDB/resale-flat-prices-based-on-approval-date-2000-feb-2012.csv\")"
   ]
  },
  {
   "cell_type": "markdown",
   "metadata": {},
   "source": [
    "A look of resale by registration"
   ]
  },
  {
   "cell_type": "code",
   "execution_count": 8,
   "metadata": {},
   "outputs": [
    {
     "data": {
      "text/html": [
       "<div>\n",
       "<style scoped>\n",
       "    .dataframe tbody tr th:only-of-type {\n",
       "        vertical-align: middle;\n",
       "    }\n",
       "\n",
       "    .dataframe tbody tr th {\n",
       "        vertical-align: top;\n",
       "    }\n",
       "\n",
       "    .dataframe thead th {\n",
       "        text-align: right;\n",
       "    }\n",
       "</style>\n",
       "<table border=\"1\" class=\"dataframe\">\n",
       "  <thead>\n",
       "    <tr style=\"text-align: right;\">\n",
       "      <th></th>\n",
       "      <th>floor_area_sqm</th>\n",
       "      <th>lease_commence_date</th>\n",
       "      <th>resale_price</th>\n",
       "    </tr>\n",
       "  </thead>\n",
       "  <tbody>\n",
       "    <tr>\n",
       "      <th>count</th>\n",
       "      <td>52203.000000</td>\n",
       "      <td>52203.000000</td>\n",
       "      <td>5.220300e+04</td>\n",
       "    </tr>\n",
       "    <tr>\n",
       "      <th>mean</th>\n",
       "      <td>96.203285</td>\n",
       "      <td>1989.512902</td>\n",
       "      <td>4.612147e+05</td>\n",
       "    </tr>\n",
       "    <tr>\n",
       "      <th>std</th>\n",
       "      <td>24.984010</td>\n",
       "      <td>10.139550</td>\n",
       "      <td>1.225534e+05</td>\n",
       "    </tr>\n",
       "    <tr>\n",
       "      <th>min</th>\n",
       "      <td>31.000000</td>\n",
       "      <td>1966.000000</td>\n",
       "      <td>1.950000e+05</td>\n",
       "    </tr>\n",
       "    <tr>\n",
       "      <th>25%</th>\n",
       "      <td>73.000000</td>\n",
       "      <td>1983.000000</td>\n",
       "      <td>3.700000e+05</td>\n",
       "    </tr>\n",
       "    <tr>\n",
       "      <th>50%</th>\n",
       "      <td>95.000000</td>\n",
       "      <td>1988.000000</td>\n",
       "      <td>4.400000e+05</td>\n",
       "    </tr>\n",
       "    <tr>\n",
       "      <th>75%</th>\n",
       "      <td>111.000000</td>\n",
       "      <td>1999.000000</td>\n",
       "      <td>5.250000e+05</td>\n",
       "    </tr>\n",
       "    <tr>\n",
       "      <th>max</th>\n",
       "      <td>266.000000</td>\n",
       "      <td>2012.000000</td>\n",
       "      <td>1.088888e+06</td>\n",
       "    </tr>\n",
       "  </tbody>\n",
       "</table>\n",
       "</div>"
      ],
      "text/plain": [
       "       floor_area_sqm  lease_commence_date  resale_price\n",
       "count    52203.000000         52203.000000  5.220300e+04\n",
       "mean        96.203285          1989.512902  4.612147e+05\n",
       "std         24.984010            10.139550  1.225534e+05\n",
       "min         31.000000          1966.000000  1.950000e+05\n",
       "25%         73.000000          1983.000000  3.700000e+05\n",
       "50%         95.000000          1988.000000  4.400000e+05\n",
       "75%        111.000000          1999.000000  5.250000e+05\n",
       "max        266.000000          2012.000000  1.088888e+06"
      ]
     },
     "execution_count": 8,
     "metadata": {},
     "output_type": "execute_result"
    }
   ],
   "source": [
    "resale_registration_1.describe()"
   ]
  },
  {
   "cell_type": "markdown",
   "metadata": {},
   "source": [
    "It seems like the 3 dataset have the same price so we append them and then write to a final csv, for a better representation of the data"
   ]
  },
  {
   "cell_type": "code",
   "execution_count": 11,
   "metadata": {},
   "outputs": [],
   "source": [
    "## Append works. So we write to a csv\n",
    "resale_registration_full.to_csv(\"data/resale-flat-prices_HDB/resale-on-registration-full.csv\")"
   ]
  },
  {
   "cell_type": "code",
   "execution_count": 13,
   "metadata": {},
   "outputs": [
    {
     "name": "stdout",
     "output_type": "stream",
     "text": [
      "(656851, 10)\n",
      "656851\n"
     ]
    }
   ],
   "source": [
    "resale_approval_full = resale_approval_1\n",
    "resale_approval_full = resale_approval_full.append(resale_approval_2)\n",
    "print(resale_approval_full.shape)\n",
    "print(resale_approval_1.shape[0] + resale_approval_2.shape[0])\n",
    "resale_approval_full.to_csv(\"data/resale-flat-prices_HDB/resale-on-approval-full.csv\", index=False)"
   ]
  },
  {
   "cell_type": "code",
   "execution_count": 3,
   "metadata": {},
   "outputs": [],
   "source": [
    "resale_approval_full = pd.read_csv(\"data/resale-flat-prices_HDB/resale-on-approval-full.csv\")"
   ]
  },
  {
   "cell_type": "code",
   "execution_count": 4,
   "metadata": {},
   "outputs": [
    {
     "data": {
      "text/html": [
       "<div>\n",
       "<style scoped>\n",
       "    .dataframe tbody tr th:only-of-type {\n",
       "        vertical-align: middle;\n",
       "    }\n",
       "\n",
       "    .dataframe tbody tr th {\n",
       "        vertical-align: top;\n",
       "    }\n",
       "\n",
       "    .dataframe thead th {\n",
       "        text-align: right;\n",
       "    }\n",
       "</style>\n",
       "<table border=\"1\" class=\"dataframe\">\n",
       "  <thead>\n",
       "    <tr style=\"text-align: right;\">\n",
       "      <th></th>\n",
       "      <th>month</th>\n",
       "      <th>town</th>\n",
       "      <th>flat_type</th>\n",
       "      <th>block</th>\n",
       "      <th>street_name</th>\n",
       "      <th>storey_range</th>\n",
       "      <th>floor_area_sqm</th>\n",
       "      <th>flat_model</th>\n",
       "      <th>lease_commence_date</th>\n",
       "      <th>resale_price</th>\n",
       "    </tr>\n",
       "  </thead>\n",
       "  <tbody>\n",
       "    <tr>\n",
       "      <th>656844</th>\n",
       "      <td>2012-02</td>\n",
       "      <td>YISHUN</td>\n",
       "      <td>5 ROOM</td>\n",
       "      <td>161</td>\n",
       "      <td>YISHUN ST 11</td>\n",
       "      <td>10 TO 12</td>\n",
       "      <td>121.0</td>\n",
       "      <td>Improved</td>\n",
       "      <td>1985</td>\n",
       "      <td>465000.0</td>\n",
       "    </tr>\n",
       "    <tr>\n",
       "      <th>656845</th>\n",
       "      <td>2012-02</td>\n",
       "      <td>YISHUN</td>\n",
       "      <td>5 ROOM</td>\n",
       "      <td>161</td>\n",
       "      <td>YISHUN ST 11</td>\n",
       "      <td>04 TO 06</td>\n",
       "      <td>121.0</td>\n",
       "      <td>Improved</td>\n",
       "      <td>1985</td>\n",
       "      <td>503000.0</td>\n",
       "    </tr>\n",
       "    <tr>\n",
       "      <th>656846</th>\n",
       "      <td>2012-02</td>\n",
       "      <td>YISHUN</td>\n",
       "      <td>5 ROOM</td>\n",
       "      <td>212</td>\n",
       "      <td>YISHUN ST 21</td>\n",
       "      <td>10 TO 12</td>\n",
       "      <td>121.0</td>\n",
       "      <td>Improved</td>\n",
       "      <td>1985</td>\n",
       "      <td>476888.0</td>\n",
       "    </tr>\n",
       "    <tr>\n",
       "      <th>656847</th>\n",
       "      <td>2012-02</td>\n",
       "      <td>YISHUN</td>\n",
       "      <td>5 ROOM</td>\n",
       "      <td>758</td>\n",
       "      <td>YISHUN ST 72</td>\n",
       "      <td>01 TO 03</td>\n",
       "      <td>122.0</td>\n",
       "      <td>Improved</td>\n",
       "      <td>1986</td>\n",
       "      <td>490000.0</td>\n",
       "    </tr>\n",
       "    <tr>\n",
       "      <th>656848</th>\n",
       "      <td>2012-02</td>\n",
       "      <td>YISHUN</td>\n",
       "      <td>5 ROOM</td>\n",
       "      <td>873</td>\n",
       "      <td>YISHUN ST 81</td>\n",
       "      <td>01 TO 03</td>\n",
       "      <td>122.0</td>\n",
       "      <td>Improved</td>\n",
       "      <td>1988</td>\n",
       "      <td>488000.0</td>\n",
       "    </tr>\n",
       "    <tr>\n",
       "      <th>656849</th>\n",
       "      <td>2012-02</td>\n",
       "      <td>YISHUN</td>\n",
       "      <td>EXECUTIVE</td>\n",
       "      <td>664</td>\n",
       "      <td>YISHUN AVE 4</td>\n",
       "      <td>07 TO 09</td>\n",
       "      <td>181.0</td>\n",
       "      <td>Apartment</td>\n",
       "      <td>1992</td>\n",
       "      <td>705000.0</td>\n",
       "    </tr>\n",
       "    <tr>\n",
       "      <th>656850</th>\n",
       "      <td>2012-02</td>\n",
       "      <td>YISHUN</td>\n",
       "      <td>EXECUTIVE</td>\n",
       "      <td>293</td>\n",
       "      <td>YISHUN ST 22</td>\n",
       "      <td>04 TO 06</td>\n",
       "      <td>163.0</td>\n",
       "      <td>Apartment</td>\n",
       "      <td>1992</td>\n",
       "      <td>630000.0</td>\n",
       "    </tr>\n",
       "  </tbody>\n",
       "</table>\n",
       "</div>"
      ],
      "text/plain": [
       "          month    town  flat_type block   street_name storey_range  \\\n",
       "656844  2012-02  YISHUN     5 ROOM   161  YISHUN ST 11     10 TO 12   \n",
       "656845  2012-02  YISHUN     5 ROOM   161  YISHUN ST 11     04 TO 06   \n",
       "656846  2012-02  YISHUN     5 ROOM   212  YISHUN ST 21     10 TO 12   \n",
       "656847  2012-02  YISHUN     5 ROOM   758  YISHUN ST 72     01 TO 03   \n",
       "656848  2012-02  YISHUN     5 ROOM   873  YISHUN ST 81     01 TO 03   \n",
       "656849  2012-02  YISHUN  EXECUTIVE   664  YISHUN AVE 4     07 TO 09   \n",
       "656850  2012-02  YISHUN  EXECUTIVE   293  YISHUN ST 22     04 TO 06   \n",
       "\n",
       "        floor_area_sqm flat_model  lease_commence_date  resale_price  \n",
       "656844           121.0   Improved                 1985      465000.0  \n",
       "656845           121.0   Improved                 1985      503000.0  \n",
       "656846           121.0   Improved                 1985      476888.0  \n",
       "656847           122.0   Improved                 1986      490000.0  \n",
       "656848           122.0   Improved                 1988      488000.0  \n",
       "656849           181.0  Apartment                 1992      705000.0  \n",
       "656850           163.0  Apartment                 1992      630000.0  "
      ]
     },
     "execution_count": 4,
     "metadata": {},
     "output_type": "execute_result"
    }
   ],
   "source": [
    "resale_approval_full.tail(7)"
   ]
  },
  {
   "cell_type": "code",
   "execution_count": 6,
   "metadata": {
    "scrolled": true
   },
   "outputs": [
    {
     "data": {
      "text/html": [
       "<div>\n",
       "<style scoped>\n",
       "    .dataframe tbody tr th:only-of-type {\n",
       "        vertical-align: middle;\n",
       "    }\n",
       "\n",
       "    .dataframe tbody tr th {\n",
       "        vertical-align: top;\n",
       "    }\n",
       "\n",
       "    .dataframe thead th {\n",
       "        text-align: right;\n",
       "    }\n",
       "</style>\n",
       "<table border=\"1\" class=\"dataframe\">\n",
       "  <thead>\n",
       "    <tr style=\"text-align: right;\">\n",
       "      <th></th>\n",
       "      <th>block</th>\n",
       "      <th>flat_model</th>\n",
       "      <th>flat_type</th>\n",
       "      <th>floor_area_sqm</th>\n",
       "      <th>lease_commence_date</th>\n",
       "      <th>month</th>\n",
       "      <th>remaining_lease</th>\n",
       "      <th>resale_price</th>\n",
       "      <th>storey_range</th>\n",
       "      <th>street_name</th>\n",
       "      <th>town</th>\n",
       "    </tr>\n",
       "  </thead>\n",
       "  <tbody>\n",
       "    <tr>\n",
       "      <th>68154</th>\n",
       "      <td>866</td>\n",
       "      <td>Improved</td>\n",
       "      <td>5 ROOM</td>\n",
       "      <td>122.0</td>\n",
       "      <td>1988</td>\n",
       "      <td>2020-02</td>\n",
       "      <td>67 years</td>\n",
       "      <td>490000.0</td>\n",
       "      <td>10 TO 12</td>\n",
       "      <td>YISHUN ST 81</td>\n",
       "      <td>YISHUN</td>\n",
       "    </tr>\n",
       "    <tr>\n",
       "      <th>68155</th>\n",
       "      <td>356</td>\n",
       "      <td>Apartment</td>\n",
       "      <td>EXECUTIVE</td>\n",
       "      <td>145.0</td>\n",
       "      <td>1988</td>\n",
       "      <td>2020-02</td>\n",
       "      <td>67 years 06 months</td>\n",
       "      <td>584000.0</td>\n",
       "      <td>07 TO 09</td>\n",
       "      <td>YISHUN RING RD</td>\n",
       "      <td>YISHUN</td>\n",
       "    </tr>\n",
       "    <tr>\n",
       "      <th>68156</th>\n",
       "      <td>355</td>\n",
       "      <td>Maisonette</td>\n",
       "      <td>EXECUTIVE</td>\n",
       "      <td>146.0</td>\n",
       "      <td>1988</td>\n",
       "      <td>2020-02</td>\n",
       "      <td>67 years 09 months</td>\n",
       "      <td>620000.0</td>\n",
       "      <td>01 TO 03</td>\n",
       "      <td>YISHUN RING RD</td>\n",
       "      <td>YISHUN</td>\n",
       "    </tr>\n",
       "    <tr>\n",
       "      <th>68157</th>\n",
       "      <td>792</td>\n",
       "      <td>Apartment</td>\n",
       "      <td>EXECUTIVE</td>\n",
       "      <td>147.0</td>\n",
       "      <td>1987</td>\n",
       "      <td>2020-02</td>\n",
       "      <td>66 years 06 months</td>\n",
       "      <td>570000.0</td>\n",
       "      <td>10 TO 12</td>\n",
       "      <td>YISHUN RING RD</td>\n",
       "      <td>YISHUN</td>\n",
       "    </tr>\n",
       "    <tr>\n",
       "      <th>68158</th>\n",
       "      <td>618</td>\n",
       "      <td>Apartment</td>\n",
       "      <td>EXECUTIVE</td>\n",
       "      <td>164.0</td>\n",
       "      <td>1992</td>\n",
       "      <td>2020-02</td>\n",
       "      <td>71 years 04 months</td>\n",
       "      <td>690000.0</td>\n",
       "      <td>01 TO 03</td>\n",
       "      <td>YISHUN RING RD</td>\n",
       "      <td>YISHUN</td>\n",
       "    </tr>\n",
       "    <tr>\n",
       "      <th>68159</th>\n",
       "      <td>611</td>\n",
       "      <td>Apartment</td>\n",
       "      <td>EXECUTIVE</td>\n",
       "      <td>142.0</td>\n",
       "      <td>1987</td>\n",
       "      <td>2020-02</td>\n",
       "      <td>66 years 09 months</td>\n",
       "      <td>505000.0</td>\n",
       "      <td>01 TO 03</td>\n",
       "      <td>YISHUN ST 61</td>\n",
       "      <td>YISHUN</td>\n",
       "    </tr>\n",
       "    <tr>\n",
       "      <th>68160</th>\n",
       "      <td>827</td>\n",
       "      <td>Maisonette</td>\n",
       "      <td>EXECUTIVE</td>\n",
       "      <td>145.0</td>\n",
       "      <td>1987</td>\n",
       "      <td>2020-02</td>\n",
       "      <td>66 years 08 months</td>\n",
       "      <td>630000.0</td>\n",
       "      <td>01 TO 03</td>\n",
       "      <td>YISHUN ST 81</td>\n",
       "      <td>YISHUN</td>\n",
       "    </tr>\n",
       "  </tbody>\n",
       "</table>\n",
       "</div>"
      ],
      "text/plain": [
       "      block  flat_model  flat_type  floor_area_sqm  lease_commence_date  \\\n",
       "68154   866    Improved     5 ROOM           122.0                 1988   \n",
       "68155   356   Apartment  EXECUTIVE           145.0                 1988   \n",
       "68156   355  Maisonette  EXECUTIVE           146.0                 1988   \n",
       "68157   792   Apartment  EXECUTIVE           147.0                 1987   \n",
       "68158   618   Apartment  EXECUTIVE           164.0                 1992   \n",
       "68159   611   Apartment  EXECUTIVE           142.0                 1987   \n",
       "68160   827  Maisonette  EXECUTIVE           145.0                 1987   \n",
       "\n",
       "         month     remaining_lease  resale_price storey_range     street_name  \\\n",
       "68154  2020-02            67 years      490000.0     10 TO 12    YISHUN ST 81   \n",
       "68155  2020-02  67 years 06 months      584000.0     07 TO 09  YISHUN RING RD   \n",
       "68156  2020-02  67 years 09 months      620000.0     01 TO 03  YISHUN RING RD   \n",
       "68157  2020-02  66 years 06 months      570000.0     10 TO 12  YISHUN RING RD   \n",
       "68158  2020-02  71 years 04 months      690000.0     01 TO 03  YISHUN RING RD   \n",
       "68159  2020-02  66 years 09 months      505000.0     01 TO 03    YISHUN ST 61   \n",
       "68160  2020-02  66 years 08 months      630000.0     01 TO 03    YISHUN ST 81   \n",
       "\n",
       "         town  \n",
       "68154  YISHUN  \n",
       "68155  YISHUN  \n",
       "68156  YISHUN  \n",
       "68157  YISHUN  \n",
       "68158  YISHUN  \n",
       "68159  YISHUN  \n",
       "68160  YISHUN  "
      ]
     },
     "execution_count": 6,
     "metadata": {},
     "output_type": "execute_result"
    }
   ],
   "source": [
    "resale_registration_full = pd.read_csv(\"data/resale-flat-prices_HDB/resale-on-registration-full.csv\", index_col=0)\n",
    "resale_registration_full.tail(7)"
   ]
  },
  {
   "cell_type": "markdown",
   "metadata": {},
   "source": [
    "### Data Processing"
   ]
  },
  {
   "cell_type": "code",
   "execution_count": 3,
   "metadata": {},
   "outputs": [],
   "source": [
    "## Import necessary ML functions/modules\n",
    "from sklearn.preprocessing import MultiLabelBinarizer, LabelEncoder, LabelBinarizer"
   ]
  },
  {
   "cell_type": "code",
   "execution_count": 4,
   "metadata": {},
   "outputs": [],
   "source": [
    "## A function that would be flexible enough to transform categorical datasets.\n",
    "## Note: Some preprocessing probably needs to be done, to convert some string variables to float\n",
    "\n",
    "def process_data(df: pd.DataFrame, lb_cols: list=[], le_cols:list =[]) -> pd.DataFrame:\n",
    "    ''' Args\n",
    "    df - the data frame to process. Should be a pd.DataFrame\n",
    "    lb_cols - columns to apply label binarizing to. Uses sklearn's LabelBinarizer. \n",
    "    le_cols - columns to apply label encoding to. Uses sklearn's LabelEncoder. \n",
    "    \n",
    "    Note: le_cols is good for ordinal data while lb_cols is used similar to one-hot\n",
    "    '''\n",
    "    final_df = df.copy()\n",
    "    lb = LabelBinarizer()\n",
    "    for lb_col in lb_cols:\n",
    "        lb.fit(df[lb_col])\n",
    "        to_merge_df = pd.DataFrame(lb.transform(df[lb_col]), columns=lb.classes_)\n",
    "        final_df = pd.merge(final_df, to_merge_df, left_index=True, right_index=True)\n",
    "    \n",
    "    final_df= final_df.drop(lb_cols, axis=1)\n",
    "    \n",
    "    le = LabelEncoder()\n",
    "    for le_col in le_cols:\n",
    "        le.fit(df[lb_col])\n",
    "        final_df[le_col] = le.fit_transform(final_df[le_col])\n",
    "        \n",
    "    return final_df\n"
   ]
  },
  {
   "cell_type": "markdown",
   "metadata": {},
   "source": [
    "Preprocessing resale_registration_full"
   ]
  },
  {
   "cell_type": "code",
   "execution_count": 5,
   "metadata": {
    "scrolled": true
   },
   "outputs": [
    {
     "name": "stderr",
     "output_type": "stream",
     "text": [
      "c:\\users\\ivanl\\appdata\\local\\programs\\python\\python37\\lib\\site-packages\\IPython\\core\\interactiveshell.py:3051: DtypeWarning: Columns (7) have mixed types. Specify dtype option on import or set low_memory=False.\n",
      "  interactivity=interactivity, compiler=compiler, result=result)\n"
     ]
    }
   ],
   "source": [
    "## Analysis using resale_registration_full\n",
    "## 1. Process data\n",
    "resale_registration_full = pd.read_csv(\"data/resale-flat-prices_HDB/resale-on-registration-full.csv\", index_col=0)\n",
    "resale_registration_full = resale_registration_full.fillna(0)\n",
    "\n",
    "def convert_remaining_lease(s):\n",
    "    if s == 0:\n",
    "        return 0\n",
    "    elif type(s) == float:\n",
    "        return s\n",
    "    elif type(s) == str:\n",
    "        list_s = s.split(' ')\n",
    "        if len(list_s) == 2:  ## X years\n",
    "            return int(list_s[0])\n",
    "        elif len(list_s) == 4:  ## X years Y months\n",
    "            return(int(list_s[0]) + float(list_s[2]))\n",
    "        elif len(list_s) == 1:  ## 78\n",
    "            return(float(s))\n",
    "    elif type(s == int):\n",
    "        return float(s)\n",
    "    raise Exception(f\"Weird remaining_lease format: {s}, type: {type(s)}\")\n",
    "            \n",
    "def to_lower_alpha(s:str):\n",
    "    return(s.lower())\n",
    "\n",
    "def months_since2012(s:str):\n",
    "    ## months are in this format: YYYY-MM\n",
    "    YYMM =s.split('-')\n",
    "    return (12 * (int(YYMM[0]) - 2012) + (int(YYMM[1]))) \n",
    "        \n",
    "resale_registration_full['flat_model'] = resale_registration_full['flat_model'].apply(to_lower_alpha)\n",
    "resale_registration_full['remaining_lease'] = resale_registration_full['remaining_lease'].apply(convert_remaining_lease)\n",
    "resale_registration_full['month'] = resale_registration_full['month'].apply(months_since2012)\n",
    "\n",
    "lb_cols = [\"flat_model\", \"flat_type\", \"town\", \"street_name\"]\n",
    "le_cols = [\"storey_range\"]\n",
    "resale_registration_full = process_data(resale_registration_full, lb_cols, le_cols)\n",
    "\n",
    "assert resale_registration_full.shape == (157517, 606)\n",
    "\n",
    "# resale_registration_fullX = resale_registration_full.reset_index(drop=True)\n",
    "X = resale_registration_full.drop(['resale_price','block'], axis=1)\n",
    "y = resale_registration_full['resale_price']"
   ]
  },
  {
   "cell_type": "code",
   "execution_count": 6,
   "metadata": {},
   "outputs": [],
   "source": [
    "## Split into train and test -- to used later during model fitting\n",
    "def split_df(X, y, month_threshold=80):\n",
    "    X_train = X[X['month'] <= month_threshold]\n",
    "    X_test = X[X['month'] > month_threshold]\n",
    "    y_train = y.iloc[:X_train.shape[0]]\n",
    "    y_test = y.iloc[X_train.shape[0]:]\n",
    "    X_train = X_train.reset_index(drop=True)\n",
    "    \n",
    "    return X_train, X_test, y_train, y_test\n",
    "\n",
    "# X_train, X_test, y_train, y_test = split_df(X, y)"
   ]
  },
  {
   "cell_type": "markdown",
   "metadata": {},
   "source": [
    "Preprocessing data on resale_approval_full"
   ]
  },
  {
   "cell_type": "code",
   "execution_count": 7,
   "metadata": {},
   "outputs": [
    {
     "data": {
      "text/plain": [
       "Index(['month', 'town', 'flat_type', 'street_name', 'storey_range',\n",
       "       'floor_area_sqm', 'flat_model', 'resale_price', 'lease_remaining'],\n",
       "      dtype='object')"
      ]
     },
     "execution_count": 7,
     "metadata": {},
     "output_type": "execute_result"
    }
   ],
   "source": [
    "def commence_date_to_remaining(year: int):\n",
    "    import datetime\n",
    "    return 99 - (datetime.datetime.now().year - year)\n",
    "\n",
    "## using process_data() on resale_approval_full\n",
    "resale_approval_full = pd.read_csv(\"data/resale-flat-prices_HDB/resale-on-approval-full.csv\")\n",
    "resale_approval_full['month'] = resale_approval_full['month'].apply(months_since2012)\n",
    "resale_approval_full['lease_remaining'] = resale_approval_full['lease_commence_date'].apply(commence_date_to_remaining)\n",
    "resale_approval_full = resale_approval_full.drop([\"block\", \"lease_commence_date\"], axis=1)\n",
    "\n",
    "lb_cols = [\"flat_model\", \"street_name\", \"town\"]\n",
    "le_cols = [\"flat_type\", \"storey_range\"]\n",
    "X_approval = process_data(resale_approval_full, lb_cols= lb_cols, le_cols=le_cols)\n",
    "resale_approval_full.columns"
   ]
  },
  {
   "cell_type": "markdown",
   "metadata": {},
   "source": [
    "### Model fitting - ML Techniques"
   ]
  },
  {
   "cell_type": "code",
   "execution_count": 8,
   "metadata": {},
   "outputs": [],
   "source": [
    "## functions to fit ML_models\n",
    "from sklearn.ensemble import RandomForestRegressor\n",
    "from sklearn.linear_model import Lasso, BayesianRidge\n",
    "from sklearn.model_selection import GridSearchCV\n",
    "\n",
    "## code is in housing/ML.py\n",
    "from housing.ML import ML_Model"
   ]
  },
  {
   "cell_type": "code",
   "execution_count": 9,
   "metadata": {},
   "outputs": [
    {
     "name": "stderr",
     "output_type": "stream",
     "text": [
      "c:\\users\\ivanl\\appdata\\local\\programs\\python\\python37\\lib\\site-packages\\sklearn\\linear_model\\_coordinate_descent.py:476: ConvergenceWarning: Objective did not converge. You might want to increase the number of iterations. Duality gap: 44690658377430.25, tolerance: 237513141318.42807\n",
      "  positive)\n"
     ]
    },
    {
     "name": "stdout",
     "output_type": "stream",
     "text": [
      "Adding some metrics: mse, R_squared, Explained variance\n",
      "{'MSE': 20094647916.15412, 'Explained Variance': 0.05792120689732261, 'R^2': 0.05705361836435108, 'MAE': 104636.60118171675}\n"
     ]
    }
   ],
   "source": [
    "## ML techniques - Lasso\n",
    "lasso = Lasso()\n",
    "lasso_model = ML_Model(lasso, X, y, split_df)\n",
    "lasso_model.fit()\n",
    "lasso_model.predict()\n",
    "lasso_model.get_metrics()\n",
    "# lasso.fit(X_train,y_train)\n",
    "# print(lasso.score(X_train, y_train))"
   ]
  },
  {
   "cell_type": "code",
   "execution_count": 10,
   "metadata": {},
   "outputs": [
    {
     "name": "stdout",
     "output_type": "stream",
     "text": [
      "Adding some metrics: mse, R_squared, Explained variance\n",
      "{'MSE': 19813117567.9257, 'Explained Variance': 0.07078195564484402, 'R^2': 0.07026450040071675, 'MAE': 103872.2911893091}\n"
     ]
    }
   ],
   "source": [
    "## ML techniques - Bayesian Ridge\n",
    "br = BayesianRidge()\n",
    "br_model = ML_Model(br, X, y, split_df)\n",
    "br_model.fit()\n",
    "br_model.predict()\n",
    "br_model.get_metrics()"
   ]
  },
  {
   "cell_type": "markdown",
   "metadata": {},
   "source": [
    "RFC - it takes really long to run this so I haven't"
   ]
  },
  {
   "cell_type": "code",
   "execution_count": null,
   "metadata": {},
   "outputs": [],
   "source": [
    "rfr = RandomForestRegressor(n_estimators=1000)\n",
    "rfr.fit(X_train,y_train)\n",
    "print(rfr.score(X_train, y_train))"
   ]
  },
  {
   "cell_type": "markdown",
   "metadata": {},
   "source": [
    "Rolling predictions\n",
    "\n",
    "build models with data on year $n$ to predict data on year $n+1$. We concat all predicted values."
   ]
  },
  {
   "cell_type": "code",
   "execution_count": 11,
   "metadata": {
    "scrolled": true
   },
   "outputs": [
    {
     "name": "stdout",
     "output_type": "stream",
     "text": [
      "(21475, 604) (21475,)\n"
     ]
    },
    {
     "name": "stderr",
     "output_type": "stream",
     "text": [
      "c:\\users\\ivanl\\appdata\\local\\programs\\python\\python37\\lib\\site-packages\\sklearn\\linear_model\\_coordinate_descent.py:476: ConvergenceWarning: Objective did not converge. You might want to increase the number of iterations. Duality gap: 3199739449023.881, tolerance: 30122662276.7243\n",
      "  positive)\n"
     ]
    },
    {
     "name": "stdout",
     "output_type": "stream",
     "text": [
      "(15773, 604) (15773,)\n"
     ]
    },
    {
     "name": "stderr",
     "output_type": "stream",
     "text": [
      "c:\\users\\ivanl\\appdata\\local\\programs\\python\\python37\\lib\\site-packages\\sklearn\\linear_model\\_coordinate_descent.py:476: ConvergenceWarning: Objective did not converge. You might want to increase the number of iterations. Duality gap: 2488692220015.5215, tolerance: 25270152746.68449\n",
      "  positive)\n"
     ]
    },
    {
     "name": "stdout",
     "output_type": "stream",
     "text": [
      "(16344, 604) (16344,)\n"
     ]
    },
    {
     "name": "stderr",
     "output_type": "stream",
     "text": [
      "c:\\users\\ivanl\\appdata\\local\\programs\\python\\python37\\lib\\site-packages\\sklearn\\linear_model\\_coordinate_descent.py:476: ConvergenceWarning: Objective did not converge. You might want to increase the number of iterations. Duality gap: 9377698652294.684, tolerance: 25790785426.024006\n",
      "  positive)\n"
     ]
    },
    {
     "name": "stdout",
     "output_type": "stream",
     "text": [
      "(18166, 604) (18166,)\n"
     ]
    },
    {
     "name": "stderr",
     "output_type": "stream",
     "text": [
      "c:\\users\\ivanl\\appdata\\local\\programs\\python\\python37\\lib\\site-packages\\sklearn\\linear_model\\_coordinate_descent.py:476: ConvergenceWarning: Objective did not converge. You might want to increase the number of iterations. Duality gap: 67533020485503.06, tolerance: 32108991163.677063\n",
      "  positive)\n"
     ]
    },
    {
     "name": "stdout",
     "output_type": "stream",
     "text": [
      "(19411, 604) (19411,)\n"
     ]
    },
    {
     "name": "stderr",
     "output_type": "stream",
     "text": [
      "c:\\users\\ivanl\\appdata\\local\\programs\\python\\python37\\lib\\site-packages\\sklearn\\linear_model\\_coordinate_descent.py:476: ConvergenceWarning: Objective did not converge. You might want to increase the number of iterations. Duality gap: 81578532404.84375, tolerance: 38393537275.35498\n",
      "  positive)\n"
     ]
    },
    {
     "name": "stdout",
     "output_type": "stream",
     "text": [
      "(20472, 604) (20472,)\n"
     ]
    },
    {
     "name": "stderr",
     "output_type": "stream",
     "text": [
      "c:\\users\\ivanl\\appdata\\local\\programs\\python\\python37\\lib\\site-packages\\sklearn\\linear_model\\_coordinate_descent.py:476: ConvergenceWarning: Objective did not converge. You might want to increase the number of iterations. Duality gap: 7089870792559.469, tolerance: 47660145858.05213\n",
      "  positive)\n"
     ]
    },
    {
     "name": "stdout",
     "output_type": "stream",
     "text": [
      "(22246, 604) (22246,)\n"
     ]
    },
    {
     "name": "stderr",
     "output_type": "stream",
     "text": [
      "c:\\users\\ivanl\\appdata\\local\\programs\\python\\python37\\lib\\site-packages\\sklearn\\linear_model\\_coordinate_descent.py:476: ConvergenceWarning: Objective did not converge. You might want to increase the number of iterations. Duality gap: 584145554923.3125, tolerance: 54322059957.31073\n",
      "  positive)\n"
     ]
    },
    {
     "name": "stdout",
     "output_type": "stream",
     "text": [
      "Adding some metrics: mse, R_squared, Explained variance\n"
     ]
    }
   ],
   "source": [
    "lasso_model.rolling_predict(12)"
   ]
  },
  {
   "cell_type": "code",
   "execution_count": 12,
   "metadata": {},
   "outputs": [
    {
     "name": "stdout",
     "output_type": "stream",
     "text": [
      "{'MSE': 20094647916.15412, 'Explained Variance': 0.05792120689732261, 'R^2': 0.05705361836435108, 'MAE': 104636.60118171675, '(Rolling mean) MAE': 67371.65460751504, '(Rolling mean) MSE': 8973238101.097103, '(Rolling mean) R^2': 0.2781672652508492, '(Rolling mean) Explained Variance': 0.26178754793839254}\n"
     ]
    }
   ],
   "source": [
    "lasso_model.get_metrics()"
   ]
  },
  {
   "cell_type": "code",
   "execution_count": 13,
   "metadata": {
    "scrolled": true
   },
   "outputs": [
    {
     "name": "stdout",
     "output_type": "stream",
     "text": [
      "(12485, 604) (12485,)\n"
     ]
    },
    {
     "name": "stderr",
     "output_type": "stream",
     "text": [
      "c:\\users\\ivanl\\appdata\\local\\programs\\python\\python37\\lib\\site-packages\\sklearn\\linear_model\\_coordinate_descent.py:476: ConvergenceWarning: Objective did not converge. You might want to increase the number of iterations. Duality gap: 1681488515980.4697, tolerance: 16608702627.554735\n",
      "  positive)\n"
     ]
    },
    {
     "name": "stdout",
     "output_type": "stream",
     "text": [
      "(8990, 604) (8990,)\n"
     ]
    },
    {
     "name": "stderr",
     "output_type": "stream",
     "text": [
      "c:\\users\\ivanl\\appdata\\local\\programs\\python\\python37\\lib\\site-packages\\sklearn\\linear_model\\_coordinate_descent.py:476: ConvergenceWarning: Objective did not converge. You might want to increase the number of iterations. Duality gap: 1394499420665.751, tolerance: 13407152839.874437\n",
      "  positive)\n"
     ]
    },
    {
     "name": "stdout",
     "output_type": "stream",
     "text": [
      "(8664, 604) (8664,)\n"
     ]
    },
    {
     "name": "stderr",
     "output_type": "stream",
     "text": [
      "c:\\users\\ivanl\\appdata\\local\\programs\\python\\python37\\lib\\site-packages\\sklearn\\linear_model\\_coordinate_descent.py:476: ConvergenceWarning: Objective did not converge. You might want to increase the number of iterations. Duality gap: 903635996216.0918, tolerance: 13938844209.473019\n",
      "  positive)\n"
     ]
    },
    {
     "name": "stdout",
     "output_type": "stream",
     "text": [
      "(7109, 604) (7109,)\n"
     ]
    },
    {
     "name": "stderr",
     "output_type": "stream",
     "text": [
      "c:\\users\\ivanl\\appdata\\local\\programs\\python\\python37\\lib\\site-packages\\sklearn\\linear_model\\_coordinate_descent.py:476: ConvergenceWarning: Objective did not converge. You might want to increase the number of iterations. Duality gap: 741946167034.56, tolerance: 11145195032.706993\n",
      "  positive)\n"
     ]
    },
    {
     "name": "stdout",
     "output_type": "stream",
     "text": [
      "(8380, 604) (8380,)\n"
     ]
    },
    {
     "name": "stderr",
     "output_type": "stream",
     "text": [
      "c:\\users\\ivanl\\appdata\\local\\programs\\python\\python37\\lib\\site-packages\\sklearn\\linear_model\\_coordinate_descent.py:476: ConvergenceWarning: Objective did not converge. You might want to increase the number of iterations. Duality gap: 1765486292658.1147, tolerance: 12798881549.45043\n",
      "  positive)\n"
     ]
    },
    {
     "name": "stdout",
     "output_type": "stream",
     "text": [
      "(7964, 604) (7964,)\n"
     ]
    },
    {
     "name": "stderr",
     "output_type": "stream",
     "text": [
      "c:\\users\\ivanl\\appdata\\local\\programs\\python\\python37\\lib\\site-packages\\sklearn\\linear_model\\_coordinate_descent.py:476: ConvergenceWarning: Objective did not converge. You might want to increase the number of iterations. Duality gap: 936104068123.6875, tolerance: 12962152064.47683\n",
      "  positive)\n"
     ]
    },
    {
     "name": "stdout",
     "output_type": "stream",
     "text": [
      "(9401, 604) (9401,)\n"
     ]
    },
    {
     "name": "stderr",
     "output_type": "stream",
     "text": [
      "c:\\users\\ivanl\\appdata\\local\\programs\\python\\python37\\lib\\site-packages\\sklearn\\linear_model\\_coordinate_descent.py:476: ConvergenceWarning: Objective did not converge. You might want to increase the number of iterations. Duality gap: 32396631594136.26, tolerance: 16311947981.599129\n",
      "  positive)\n"
     ]
    },
    {
     "name": "stdout",
     "output_type": "stream",
     "text": [
      "(8765, 604) (8765,)\n"
     ]
    },
    {
     "name": "stderr",
     "output_type": "stream",
     "text": [
      "c:\\users\\ivanl\\appdata\\local\\programs\\python\\python37\\lib\\site-packages\\sklearn\\linear_model\\_coordinate_descent.py:476: ConvergenceWarning: Objective did not converge. You might want to increase the number of iterations. Duality gap: 31098225085549.01, tolerance: 15795494627.90496\n",
      "  positive)\n"
     ]
    },
    {
     "name": "stdout",
     "output_type": "stream",
     "text": [
      "(10602, 604) (10602,)\n"
     ]
    },
    {
     "name": "stderr",
     "output_type": "stream",
     "text": [
      "c:\\users\\ivanl\\appdata\\local\\programs\\python\\python37\\lib\\site-packages\\sklearn\\linear_model\\_coordinate_descent.py:476: ConvergenceWarning: Objective did not converge. You might want to increase the number of iterations. Duality gap: 42365433111318.12, tolerance: 20630544876.908737\n",
      "  positive)\n"
     ]
    },
    {
     "name": "stdout",
     "output_type": "stream",
     "text": [
      "(8809, 604) (8809,)\n"
     ]
    },
    {
     "name": "stderr",
     "output_type": "stream",
     "text": [
      "c:\\users\\ivanl\\appdata\\local\\programs\\python\\python37\\lib\\site-packages\\sklearn\\linear_model\\_coordinate_descent.py:476: ConvergenceWarning: Objective did not converge. You might want to increase the number of iterations. Duality gap: 1657483970634.7656, tolerance: 17762922046.672375\n",
      "  positive)\n"
     ]
    },
    {
     "name": "stdout",
     "output_type": "stream",
     "text": [
      "(10986, 604) (10986,)\n"
     ]
    },
    {
     "name": "stderr",
     "output_type": "stream",
     "text": [
      "c:\\users\\ivanl\\appdata\\local\\programs\\python\\python37\\lib\\site-packages\\sklearn\\linear_model\\_coordinate_descent.py:476: ConvergenceWarning: Objective did not converge. You might want to increase the number of iterations. Duality gap: 13763857184231.688, tolerance: 24681564339.995434\n",
      "  positive)\n"
     ]
    },
    {
     "name": "stdout",
     "output_type": "stream",
     "text": [
      "(9486, 604) (9486,)\n"
     ]
    },
    {
     "name": "stderr",
     "output_type": "stream",
     "text": [
      "c:\\users\\ivanl\\appdata\\local\\programs\\python\\python37\\lib\\site-packages\\sklearn\\linear_model\\_coordinate_descent.py:476: ConvergenceWarning: Objective did not converge. You might want to increase the number of iterations. Duality gap: 3090521251412.1875, tolerance: 22973991694.040928\n",
      "  positive)\n"
     ]
    },
    {
     "name": "stdout",
     "output_type": "stream",
     "text": [
      "(12144, 604) (12144,)\n",
      "(10102, 604) (10102,)\n"
     ]
    },
    {
     "name": "stderr",
     "output_type": "stream",
     "text": [
      "c:\\users\\ivanl\\appdata\\local\\programs\\python\\python37\\lib\\site-packages\\sklearn\\linear_model\\_coordinate_descent.py:476: ConvergenceWarning: Objective did not converge. You might want to increase the number of iterations. Duality gap: 660899468805.0625, tolerance: 24034015073.95807\n",
      "  positive)\n"
     ]
    },
    {
     "name": "stdout",
     "output_type": "stream",
     "text": [
      "(11717, 604) (11717,)\n",
      "Adding some metrics: mse, R_squared, Explained variance\n",
      "{'MSE': 20094647916.15412, 'Explained Variance': 0.05792120689732261, 'R^2': 0.05705361836435108, 'MAE': 104636.60118171675, '(Rolling mean) MAE': 62715.11415974779, '(Rolling mean) MSE': 8246972046.424003, '(Rolling mean) R^2': 0.3635206861364498, '(Rolling mean) Explained Variance': 0.36048740456647604}\n"
     ]
    },
    {
     "name": "stderr",
     "output_type": "stream",
     "text": [
      "c:\\users\\ivanl\\appdata\\local\\programs\\python\\python37\\lib\\site-packages\\sklearn\\linear_model\\_coordinate_descent.py:476: ConvergenceWarning: Objective did not converge. You might want to increase the number of iterations. Duality gap: 3806732153948.297, tolerance: 28043823145.61684\n",
      "  positive)\n"
     ]
    }
   ],
   "source": [
    "lasso_model.rolling_predict(6)\n",
    "lasso_model.get_metrics()"
   ]
  },
  {
   "cell_type": "markdown",
   "metadata": {},
   "source": [
    "It seems that rolling predictions work better. This might likely be due to structural information that \n",
    "might be lost but persisted in the future due to models taking averages over the whole time period to\n",
    "minimise loss functions."
   ]
  },
  {
   "cell_type": "markdown",
   "metadata": {},
   "source": [
    "### Explained Variance\n",
    "Lasso on processed resale_registration_full : 0.05792120689732261\n",
    "\n",
    "Bayesian Ridge on processed resale_registration_full : 0.07078195564484402\n",
    "\n",
    "Rolling predictions, Lasso on processed resale_registration_full : 0.2625062541461246\n",
    "\n",
    "Rolling predictions,Bayesian Ridge on processed resale_registration_full : \n",
    "\n"
   ]
  },
  {
   "cell_type": "markdown",
   "metadata": {},
   "source": [
    "### Deep Learning Techniques\n",
    "\n",
    "#### ANN"
   ]
  },
  {
   "cell_type": "code",
   "execution_count": 15,
   "metadata": {},
   "outputs": [],
   "source": [
    "X_train, X_test, y_train, y_test = split_df(X, y)\n",
    "df = tf.data.Dataset.from_tensor_slices((X_train.values, y_train.values)).batch(16)\n",
    "# for feat, targ in df.take(5):\n",
    "#   print ('Features: {}, Target: {}'.format(feat, targ))\n",
    "\n",
    "model = tf.keras.Sequential([\n",
    "    tf.keras.layers.Dense(128, activation='relu', input_shape=[X_train.shape[1]]),\n",
    "    tf.keras.layers.Dense(64, activation='relu'),\n",
    "    tf.keras.layers.Dense(10, activation='relu'),\n",
    "    tf.keras.layers.Dense(1),\n",
    "])\n",
    "model.compile(optimizer='adam',\n",
    "                loss=tf.keras.losses.MeanSquaredError(),\n",
    "                metrics=['mae', 'mse'])"
   ]
  },
  {
   "cell_type": "code",
   "execution_count": 16,
   "metadata": {},
   "outputs": [
    {
     "name": "stdout",
     "output_type": "stream",
     "text": [
      "Model: \"sequential\"\n",
      "_________________________________________________________________\n",
      "Layer (type)                 Output Shape              Param #   \n",
      "=================================================================\n",
      "dense (Dense)                (None, 128)               77440     \n",
      "_________________________________________________________________\n",
      "dense_1 (Dense)              (None, 64)                8256      \n",
      "_________________________________________________________________\n",
      "dense_2 (Dense)              (None, 10)                650       \n",
      "_________________________________________________________________\n",
      "dense_3 (Dense)              (None, 1)                 11        \n",
      "=================================================================\n",
      "Total params: 86,357\n",
      "Trainable params: 86,357\n",
      "Non-trainable params: 0\n",
      "_________________________________________________________________\n"
     ]
    }
   ],
   "source": [
    "model.summary()"
   ]
  },
  {
   "cell_type": "code",
   "execution_count": 17,
   "metadata": {
    "scrolled": true
   },
   "outputs": [
    {
     "name": "stdout",
     "output_type": "stream",
     "text": [
      "Train on 99328 samples, validate on 24832 samples\n",
      "Epoch 1/100\n",
      "99328/99328 - 11s - loss: 26822138366.6804 - mae: 117333.6562 - mse: 26822150144.0000 - val_loss: 19306000658.6392 - val_mae: 108330.2031 - val_mse: 19305998336.0000\n",
      "Epoch 2/100\n",
      "99328/99328 - 10s - loss: 10210779513.6907 - mae: 72519.3359 - mse: 10210778112.0000 - val_loss: 25677464936.4948 - val_mae: 122406.4141 - val_mse: 25677461504.0000\n",
      "Epoch 3/100\n",
      "99328/99328 - 10s - loss: 8722616750.1856 - mae: 66338.1641 - mse: 8722622464.0000 - val_loss: 25838952521.2371 - val_mae: 121450.2969 - val_mse: 25838956544.0000\n",
      "Epoch 4/100\n",
      "99328/99328 - 10s - loss: 8370510096.7423 - mae: 65280.2266 - mse: 8370511872.0000 - val_loss: 25809805947.5464 - val_mae: 121576.8750 - val_mse: 25809799168.0000\n",
      "Epoch 5/100\n",
      "99328/99328 - 10s - loss: 8151257794.7217 - mae: 64471.9336 - mse: 8151251456.0000 - val_loss: 25628049442.6392 - val_mae: 121626.7656 - val_mse: 25628061696.0000\n",
      "Epoch 6/100\n",
      "99328/99328 - 10s - loss: 8016004370.9691 - mae: 63951.5352 - mse: 8016004096.0000 - val_loss: 25916682925.8557 - val_mae: 122800.1406 - val_mse: 25916698624.0000\n",
      "Epoch 7/100\n",
      "99328/99328 - 10s - loss: 7935975907.2990 - mae: 63469.3047 - mse: 7935980544.0000 - val_loss: 25817877284.6186 - val_mae: 121905.2969 - val_mse: 25817876480.0000\n",
      "Epoch 8/100\n",
      "99328/99328 - 10s - loss: 7868580276.5361 - mae: 63098.6250 - mse: 7868577280.0000 - val_loss: 25611004407.4227 - val_mae: 120447.2578 - val_mse: 25611010048.0000\n",
      "Epoch 9/100\n",
      "99328/99328 - 10s - loss: 7804378799.4227 - mae: 62744.7930 - mse: 7804380672.0000 - val_loss: 25284420199.0928 - val_mae: 120195.9297 - val_mse: 25284405248.0000\n",
      "Epoch 10/100\n",
      "99328/99328 - 10s - loss: 7749159886.8041 - mae: 62441.9375 - mse: 7749159936.0000 - val_loss: 26576548926.6804 - val_mae: 124920.9375 - val_mse: 26576553984.0000\n",
      "Epoch 11/100\n",
      "99328/99328 - 10s - loss: 7694350704.2887 - mae: 62112.3672 - mse: 7694346752.0000 - val_loss: 26029120190.6804 - val_mae: 121612.8438 - val_mse: 26029117440.0000\n",
      "Epoch 12/100\n",
      "99328/99328 - 10s - loss: 7632677350.6804 - mae: 61775.0820 - mse: 7632679936.0000 - val_loss: 25781917105.1546 - val_mae: 121278.7109 - val_mse: 25781907456.0000\n",
      "Epoch 13/100\n",
      "99328/99328 - 10s - loss: 7563530212.4124 - mae: 61410.7109 - mse: 7563528192.0000 - val_loss: 25609807013.9381 - val_mae: 120471.9297 - val_mse: 25609811968.0000\n",
      "Epoch 14/100\n",
      "99328/99328 - 10s - loss: 7506542632.4948 - mae: 61087.9688 - mse: 7506535936.0000 - val_loss: 26646447939.6289 - val_mae: 123475.6094 - val_mse: 26646446080.0000\n",
      "Epoch 15/100\n",
      "99328/99328 - 10s - loss: 7432426584.3299 - mae: 60673.1250 - mse: 7432427008.0000 - val_loss: 26067736343.3402 - val_mae: 121616.7188 - val_mse: 26067732480.0000\n",
      "Epoch 16/100\n",
      "99328/99328 - 10s - loss: 7376579001.2783 - mae: 60365.3125 - mse: 7376576000.0000 - val_loss: 26277250026.2268 - val_mae: 122778.6094 - val_mse: 26277246976.0000\n",
      "Epoch 17/100\n",
      "99328/99328 - 10s - loss: 7321988881.9381 - mae: 60071.4336 - mse: 7321986048.0000 - val_loss: 26185302250.1443 - val_mae: 122473.2344 - val_mse: 26185302016.0000\n",
      "Epoch 18/100\n",
      "99328/99328 - 10s - loss: 7258425811.5052 - mae: 59749.3594 - mse: 7258420736.0000 - val_loss: 25756081737.2371 - val_mae: 121207.4453 - val_mse: 25756080128.0000\n",
      "Epoch 19/100\n",
      "99328/99328 - 10s - loss: 7216095366.0206 - mae: 59500.4883 - mse: 7216099840.0000 - val_loss: 26667843929.6495 - val_mae: 123306.9453 - val_mse: 26667851776.0000\n",
      "Epoch 20/100\n",
      "99328/99328 - 10s - loss: 7162530917.6082 - mae: 59249.6133 - mse: 7162539008.0000 - val_loss: 26260614195.6289 - val_mae: 122763.3438 - val_mse: 26260627456.0000\n",
      "Epoch 21/100\n",
      "99328/99328 - 10s - loss: 7112333400.0000 - mae: 59019.1797 - mse: 7112335360.0000 - val_loss: 27505913984.4124 - val_mae: 126081.7188 - val_mse: 27505901568.0000\n",
      "Epoch 22/100\n",
      "99328/99328 - 10s - loss: 7071879528.6598 - mae: 58788.8984 - mse: 7071890432.0000 - val_loss: 28145408622.1856 - val_mae: 129161.5234 - val_mse: 28145412096.0000\n",
      "Epoch 23/100\n",
      "99328/99328 - 10s - loss: 7024766662.4330 - mae: 58544.4336 - mse: 7024763904.0000 - val_loss: 26429056613.9381 - val_mae: 123075.4297 - val_mse: 26429065216.0000\n",
      "Epoch 24/100\n",
      "99328/99328 - 11s - loss: 6979362386.3505 - mae: 58334.7539 - mse: 6979353088.0000 - val_loss: 26164221858.3918 - val_mae: 121617.7031 - val_mse: 26164201472.0000\n",
      "Epoch 25/100\n",
      "99328/99328 - 10s - loss: 6947779718.0206 - mae: 58093.5000 - mse: 6947776512.0000 - val_loss: 27808641870.6804 - val_mae: 127555.9297 - val_mse: 27808630784.0000\n",
      "Epoch 26/100\n",
      "99328/99328 - 10s - loss: 6895787614.3093 - mae: 57889.9375 - mse: 6895778304.0000 - val_loss: 26480118983.0928 - val_mae: 122861.3594 - val_mse: 26480121856.0000\n",
      "Epoch 27/100\n",
      "99328/99328 - 10s - loss: 6871222129.5670 - mae: 57706.6094 - mse: 6871219200.0000 - val_loss: 27790395900.7010 - val_mae: 127472.1406 - val_mse: 27790411776.0000\n",
      "Epoch 28/100\n",
      "99328/99328 - 10s - loss: 6818175394.0206 - mae: 57451.6914 - mse: 6818178048.0000 - val_loss: 28497791144.5773 - val_mae: 128927.0391 - val_mse: 28497786880.0000\n",
      "Epoch 29/100\n",
      "99328/99328 - 10s - loss: 6775902973.6495 - mae: 57193.5820 - mse: 6775903744.0000 - val_loss: 28382533725.0309 - val_mae: 128518.5859 - val_mse: 28382543872.0000\n",
      "Epoch 30/100\n",
      "99328/99328 - 12s - loss: 6737529108.4948 - mae: 56982.0586 - mse: 6737537024.0000 - val_loss: 28847832602.8866 - val_mae: 129627.4141 - val_mse: 28847849472.0000\n",
      "Epoch 31/100\n",
      "99328/99328 - 11s - loss: 6683665438.1443 - mae: 56658.0156 - mse: 6683656704.0000 - val_loss: 28885070081.2371 - val_mae: 129336.8984 - val_mse: 28885073920.0000\n",
      "Epoch 32/100\n",
      "99328/99328 - 10s - loss: 6637002371.0515 - mae: 56379.4375 - mse: 6637001728.0000 - val_loss: 28303734950.0206 - val_mae: 128190.1250 - val_mse: 28303761408.0000\n",
      "Epoch 33/100\n",
      "99328/99328 - 11s - loss: 6582723972.3299 - mae: 56052.6133 - mse: 6582731776.0000 - val_loss: 30061245583.6701 - val_mae: 132704.2812 - val_mse: 30061264896.0000\n",
      "Epoch 34/100\n",
      "99328/99328 - 11s - loss: 6543665708.7010 - mae: 55770.1719 - mse: 6543668736.0000 - val_loss: 30108106479.2577 - val_mae: 132209.1562 - val_mse: 30108116992.0000\n",
      "Epoch 35/100\n",
      "99328/99328 - 11s - loss: 6499146160.9485 - mae: 55511.5352 - mse: 6499150336.0000 - val_loss: 30312005727.8351 - val_mae: 132803.8281 - val_mse: 30312007680.0000\n",
      "Epoch 36/100\n",
      "99328/99328 - 11s - loss: 6455203994.3918 - mae: 55230.3711 - mse: 6455202304.0000 - val_loss: 31054635799.2577 - val_mae: 134483.0000 - val_mse: 31054632960.0000\n",
      "Epoch 37/100\n",
      "99328/99328 - 11s - loss: 6410794909.4433 - mae: 54960.1289 - mse: 6410803200.0000 - val_loss: 29274348007.9175 - val_mae: 129877.8594 - val_mse: 29274339328.0000\n",
      "Epoch 38/100\n",
      "99328/99328 - 11s - loss: 6378520303.1753 - mae: 54760.1289 - mse: 6378520064.0000 - val_loss: 31973913892.2887 - val_mae: 137117.8594 - val_mse: 31973920768.0000\n",
      "Epoch 39/100\n",
      "99328/99328 - 11s - loss: 6343535824.0000 - mae: 54490.6875 - mse: 6343538688.0000 - val_loss: 29393554485.1134 - val_mae: 129628.9297 - val_mse: 29393553408.0000\n",
      "Epoch 40/100\n",
      "99328/99328 - 11s - loss: 6314417648.9072 - mae: 54295.3047 - mse: 6314416128.0000 - val_loss: 30252381100.9485 - val_mae: 132148.9844 - val_mse: 30252371968.0000\n",
      "Epoch 41/100\n",
      "99328/99328 - 11s - loss: 6291772357.6907 - mae: 54119.1953 - mse: 6291774976.0000 - val_loss: 29732216816.0000 - val_mae: 130013.6875 - val_mse: 29732229120.0000\n",
      "Epoch 42/100\n",
      "99328/99328 - 12s - loss: 6251781257.5258 - mae: 53919.5156 - mse: 6251779072.0000 - val_loss: 31535621428.6186 - val_mae: 135171.6406 - val_mse: 31535618048.0000\n",
      "Epoch 43/100\n",
      "99328/99328 - 12s - loss: 6217545351.1340 - mae: 53594.9414 - mse: 6217548288.0000 - val_loss: 32377572441.5670 - val_mae: 137120.5312 - val_mse: 32377573376.0000\n",
      "Epoch 44/100\n",
      "99328/99328 - 12s - loss: 6187580601.7732 - mae: 53436.8672 - mse: 6187579392.0000 - val_loss: 29849157888.9897 - val_mae: 130244.5078 - val_mse: 29849135104.0000\n",
      "Epoch 45/100\n",
      "99328/99328 - 12s - loss: 6182194515.8763 - mae: 53407.6562 - mse: 6182190592.0000 - val_loss: 30128169127.2577 - val_mae: 130199.3516 - val_mse: 30128177152.0000\n",
      "Epoch 46/100\n",
      "99328/99328 - 11s - loss: 6162624910.1649 - mae: 53247.7852 - mse: 6162627584.0000 - val_loss: 29428544193.5670 - val_mae: 128665.9766 - val_mse: 29428541440.0000\n",
      "Epoch 47/100\n",
      "99328/99328 - 11s - loss: 6133932130.7217 - mae: 53042.1875 - mse: 6133926912.0000 - val_loss: 30939454401.6495 - val_mae: 131895.1094 - val_mse: 30939445248.0000\n"
     ]
    },
    {
     "name": "stdout",
     "output_type": "stream",
     "text": [
      "Epoch 48/100\n",
      "99328/99328 - 11s - loss: 6110940308.6186 - mae: 52900.7773 - mse: 6110944256.0000 - val_loss: 30736287227.7113 - val_mae: 131979.7500 - val_mse: 30736300032.0000\n",
      "Epoch 49/100\n",
      "99328/99328 - 11s - loss: 6092094646.7835 - mae: 52763.0352 - mse: 6092100096.0000 - val_loss: 31804368640.3299 - val_mae: 134609.9219 - val_mse: 31804401664.0000\n",
      "Epoch 50/100\n",
      "99328/99328 - 11s - loss: 6080424666.4330 - mae: 52710.5430 - mse: 6080423424.0000 - val_loss: 31502715848.1649 - val_mae: 133844.7656 - val_mse: 31502729216.0000\n",
      "Epoch 51/100\n",
      "99328/99328 - 10s - loss: 6063836526.4742 - mae: 52614.6875 - mse: 6063840768.0000 - val_loss: 31606513698.0619 - val_mae: 133345.9531 - val_mse: 31606530048.0000\n",
      "Epoch 52/100\n",
      "99328/99328 - 10s - loss: 6046874725.3608 - mae: 52468.2070 - mse: 6046878208.0000 - val_loss: 30774963328.4948 - val_mae: 131702.2031 - val_mse: 30774972416.0000\n",
      "Epoch 53/100\n",
      "99328/99328 - 10s - loss: 6029732275.1134 - mae: 52356.1758 - mse: 6029735424.0000 - val_loss: 30128614815.8351 - val_mae: 129581.9688 - val_mse: 30128617472.0000\n",
      "Epoch 54/100\n",
      "99328/99328 - 11s - loss: 6009415678.3918 - mae: 52218.5273 - mse: 6009410048.0000 - val_loss: 31835067474.8041 - val_mae: 134379.9531 - val_mse: 31835062272.0000\n",
      "Epoch 55/100\n",
      "99328/99328 - 10s - loss: 6004263049.2783 - mae: 52181.7109 - mse: 6004260864.0000 - val_loss: 31902978462.5979 - val_mae: 133993.2969 - val_mse: 31902986240.0000\n",
      "Epoch 56/100\n",
      "99328/99328 - 11s - loss: 5980665066.1856 - mae: 52056.9180 - mse: 5980661760.0000 - val_loss: 31174719467.9588 - val_mae: 131988.3594 - val_mse: 31174737920.0000\n",
      "Epoch 57/100\n",
      "99328/99328 - 11s - loss: 5962285998.0619 - mae: 51940.8555 - mse: 5962283520.0000 - val_loss: 31923656286.8454 - val_mae: 134241.9219 - val_mse: 31923679232.0000\n",
      "Epoch 58/100\n",
      "99328/99328 - 10s - loss: 5940120167.8351 - mae: 51810.9531 - mse: 5940128256.0000 - val_loss: 33455880055.5876 - val_mae: 138094.9688 - val_mse: 33455890432.0000\n",
      "Epoch 59/100\n",
      "99328/99328 - 11s - loss: 5922012944.5979 - mae: 51672.6406 - mse: 5922010624.0000 - val_loss: 32457682216.7423 - val_mae: 135157.7188 - val_mse: 32457695232.0000\n",
      "Epoch 60/100\n",
      "99328/99328 - 10s - loss: 5914296996.1649 - mae: 51713.4219 - mse: 5914295808.0000 - val_loss: 31020355015.6701 - val_mae: 131766.0938 - val_mse: 31020359680.0000\n",
      "Epoch 61/100\n",
      "99328/99328 - 10s - loss: 5891262635.2577 - mae: 51519.6875 - mse: 5891261440.0000 - val_loss: 30945157192.9897 - val_mae: 131352.5938 - val_mse: 30945163264.0000\n",
      "Epoch 62/100\n",
      "99328/99328 - 11s - loss: 5877226625.6082 - mae: 51415.9375 - mse: 5877215232.0000 - val_loss: 33089333140.4536 - val_mae: 137239.2188 - val_mse: 33089327104.0000\n",
      "Epoch 63/100\n",
      "99328/99328 - 11s - loss: 5872357722.5155 - mae: 51430.8555 - mse: 5872353280.0000 - val_loss: 30470166116.1237 - val_mae: 130230.4844 - val_mse: 30470187008.0000\n",
      "Epoch 64/100\n",
      "99328/99328 - 11s - loss: 5844164281.2577 - mae: 51223.2227 - mse: 5844156416.0000 - val_loss: 31124327032.5773 - val_mae: 132711.0156 - val_mse: 31124314112.0000\n",
      "Epoch 65/100\n",
      "99328/99328 - 11s - loss: 5824057390.6804 - mae: 51138.7148 - mse: 5824059904.0000 - val_loss: 30766715857.0722 - val_mae: 131354.0312 - val_mse: 30766706688.0000\n",
      "Epoch 66/100\n",
      "99328/99328 - 11s - loss: 5809098557.6907 - mae: 51031.7070 - mse: 5809096192.0000 - val_loss: 30956918412.1237 - val_mae: 131821.7500 - val_mse: 30956924928.0000\n",
      "Epoch 67/100\n",
      "99328/99328 - 11s - loss: 5793483674.4742 - mae: 50937.0820 - mse: 5793482240.0000 - val_loss: 31709470429.5258 - val_mae: 134716.4531 - val_mse: 31709468672.0000\n",
      "Epoch 68/100\n",
      "99328/99328 - 11s - loss: 5773891409.4227 - mae: 50798.8867 - mse: 5773891072.0000 - val_loss: 34725142760.9897 - val_mae: 141208.3594 - val_mse: 34725150720.0000\n",
      "Epoch 69/100\n",
      "99328/99328 - 10s - loss: 5760429427.0928 - mae: 50706.8398 - mse: 5760430592.0000 - val_loss: 29869541726.6804 - val_mae: 129476.1172 - val_mse: 29869543424.0000\n",
      "Epoch 70/100\n",
      "99328/99328 - 10s - loss: 5742128653.6289 - mae: 50658.7891 - mse: 5742133248.0000 - val_loss: 30515091684.2887 - val_mae: 130954.7734 - val_mse: 30515109888.0000\n",
      "Epoch 71/100\n",
      "99328/99328 - 11s - loss: 5716443429.1753 - mae: 50528.8750 - mse: 5716436992.0000 - val_loss: 30132650930.6392 - val_mae: 129676.6719 - val_mse: 30132649984.0000\n",
      "Epoch 72/100\n",
      "99328/99328 - 12s - loss: 5692517621.7938 - mae: 50319.6328 - mse: 5692515840.0000 - val_loss: 31955809270.7629 - val_mae: 134387.9531 - val_mse: 31955795968.0000\n",
      "Epoch 73/100\n",
      "99328/99328 - 10s - loss: 5674115879.1959 - mae: 50191.0703 - mse: 5674107392.0000 - val_loss: 30863632878.8454 - val_mae: 132100.7188 - val_mse: 30863636480.0000\n",
      "Epoch 74/100\n",
      "99328/99328 - 11s - loss: 5670534288.9485 - mae: 50217.7852 - mse: 5670540288.0000 - val_loss: 33006168911.6701 - val_mae: 136342.5312 - val_mse: 33006153728.0000\n",
      "Epoch 75/100\n",
      "99328/99328 - 8s - loss: 5642083194.6598 - mae: 49980.3086 - mse: 5642078720.0000 - val_loss: 32358167892.7835 - val_mae: 135123.7031 - val_mse: 32358144000.0000\n",
      "Epoch 76/100\n",
      "99328/99328 - 8s - loss: 5631691234.8041 - mae: 49871.9219 - mse: 5631689728.0000 - val_loss: 34726050226.9691 - val_mae: 140871.8281 - val_mse: 34726039552.0000\n",
      "Epoch 77/100\n",
      "99328/99328 - 7s - loss: 5610498324.7216 - mae: 49800.2305 - mse: 5610491392.0000 - val_loss: 32820060944.9072 - val_mae: 136170.2969 - val_mse: 32820062208.0000\n",
      "Epoch 78/100\n",
      "99328/99328 - 7s - loss: 5605435116.4948 - mae: 49745.2109 - mse: 5605435392.0000 - val_loss: 30951302950.7629 - val_mae: 132619.4375 - val_mse: 30951331840.0000\n",
      "Epoch 79/100\n",
      "99328/99328 - 7s - loss: 5590605997.6082 - mae: 49671.4375 - mse: 5590604288.0000 - val_loss: 32544032468.7010 - val_mae: 135446.5000 - val_mse: 32544026624.0000\n",
      "Epoch 80/100\n",
      "99328/99328 - 7s - loss: 5577001659.5876 - mae: 49539.2734 - mse: 5577003008.0000 - val_loss: 27774705741.5258 - val_mae: 123943.8672 - val_mse: 27774717952.0000\n",
      "Epoch 81/100\n",
      "99328/99328 - 6s - loss: 5571802402.7835 - mae: 49529.1094 - mse: 5571798528.0000 - val_loss: 31711724802.6392 - val_mae: 133999.4688 - val_mse: 31711713280.0000\n",
      "Epoch 82/100\n",
      "99328/99328 - 6s - loss: 5567330211.6495 - mae: 49503.8828 - mse: 5567332352.0000 - val_loss: 27253382300.2062 - val_mae: 122397.2031 - val_mse: 27253385216.0000\n",
      "Epoch 83/100\n",
      "99328/99328 - 7s - loss: 5565404778.2680 - mae: 49570.2539 - mse: 5565398016.0000 - val_loss: 30086729817.8144 - val_mae: 129352.4141 - val_mse: 30086723584.0000\n",
      "Epoch 84/100\n",
      "99328/99328 - 7s - loss: 5545388326.1649 - mae: 49369.3008 - mse: 5545395712.0000 - val_loss: 29788699916.5361 - val_mae: 127800.3750 - val_mse: 29788698624.0000\n",
      "Epoch 85/100\n",
      "99328/99328 - 7s - loss: 5540256619.2371 - mae: 49325.3984 - mse: 5540260864.0000 - val_loss: 30920666352.0000 - val_mae: 132166.4531 - val_mse: 30920663040.0000\n",
      "Epoch 86/100\n",
      "99328/99328 - 8s - loss: 5523154551.4845 - mae: 49208.6094 - mse: 5523152384.0000 - val_loss: 29798350357.4433 - val_mae: 129200.3594 - val_mse: 29798338560.0000\n",
      "Epoch 87/100\n",
      "99328/99328 - 8s - loss: 5526114846.8866 - mae: 49218.1406 - mse: 5526114304.0000 - val_loss: 32067586030.5979 - val_mae: 135077.8906 - val_mse: 32067596288.0000\n",
      "Epoch 88/100\n",
      "99328/99328 - 7s - loss: 5519380533.8969 - mae: 49147.5000 - mse: 5519387648.0000 - val_loss: 30355666285.0309 - val_mae: 130045.8047 - val_mse: 30355689472.0000\n",
      "Epoch 89/100\n",
      "99328/99328 - 8s - loss: 5511373969.3608 - mae: 49149.7930 - mse: 5511371776.0000 - val_loss: 32678551481.7320 - val_mae: 136515.8750 - val_mse: 32678543360.0000\n",
      "Epoch 90/100\n",
      "99328/99328 - 7s - loss: 5511164856.3505 - mae: 49160.0117 - mse: 5511160832.0000 - val_loss: 30240443809.9794 - val_mae: 130269.7734 - val_mse: 30240450560.0000\n",
      "Epoch 91/100\n",
      "99328/99328 - 8s - loss: 5498847468.0206 - mae: 49036.5430 - mse: 5498846720.0000 - val_loss: 32768950091.0515 - val_mae: 136244.5156 - val_mse: 32768956416.0000\n",
      "Epoch 92/100\n",
      "99328/99328 - 8s - loss: 5509230927.7732 - mae: 49082.4062 - mse: 5509230592.0000 - val_loss: 31094055889.3196 - val_mae: 131797.9062 - val_mse: 31094052864.0000\n",
      "Epoch 93/100\n",
      "99328/99328 - 7s - loss: 5492681303.4845 - mae: 48946.7383 - mse: 5492674560.0000 - val_loss: 31457019160.3299 - val_mae: 132603.0938 - val_mse: 31457017856.0000\n",
      "Epoch 94/100\n",
      "99328/99328 - 7s - loss: 5488972370.8454 - mae: 48990.1250 - mse: 5488971776.0000 - val_loss: 32475382686.6804 - val_mae: 136042.6562 - val_mse: 32475406336.0000\n"
     ]
    },
    {
     "name": "stdout",
     "output_type": "stream",
     "text": [
      "Epoch 95/100\n",
      "99328/99328 - 7s - loss: 5487305980.4948 - mae: 48984.6289 - mse: 5487310848.0000 - val_loss: 29869519359.1753 - val_mae: 128774.6719 - val_mse: 29869518848.0000\n",
      "Epoch 96/100\n",
      "99328/99328 - 7s - loss: 5470660550.8247 - mae: 48812.4062 - mse: 5470660608.0000 - val_loss: 31220181426.3093 - val_mae: 132404.0469 - val_mse: 31220183040.0000\n",
      "Epoch 97/100\n",
      "99328/99328 - 7s - loss: 5474408253.8969 - mae: 48880.7266 - mse: 5474402816.0000 - val_loss: 30146758356.9485 - val_mae: 129335.6250 - val_mse: 30146768896.0000\n",
      "Epoch 98/100\n",
      "99328/99328 - 8s - loss: 5464859912.9897 - mae: 48836.5586 - mse: 5464859648.0000 - val_loss: 30931341974.1031 - val_mae: 131213.7031 - val_mse: 30931333120.0000\n",
      "Epoch 99/100\n",
      "99328/99328 - 10s - loss: 5454236464.0619 - mae: 48678.8750 - mse: 5454239232.0000 - val_loss: 32282619020.7835 - val_mae: 133965.0781 - val_mse: 32282617856.0000\n",
      "Epoch 100/100\n",
      "99328/99328 - 7s - loss: 5452008378.4124 - mae: 48684.2422 - mse: 5452008960.0000 - val_loss: 32122065539.2165 - val_mae: 133759.7188 - val_mse: 32122050560.0000\n"
     ]
    }
   ],
   "source": [
    "EPOCHS = 100\n",
    "\n",
    "history = model.fit(\n",
    "  X_train, y_train,\n",
    "  epochs=EPOCHS, validation_split = 0.2, verbose=2)"
   ]
  },
  {
   "cell_type": "code",
   "execution_count": 18,
   "metadata": {},
   "outputs": [],
   "source": [
    "## save model\n",
    "model.save_weights(\"./checkpoints/ann-epoch-100\")"
   ]
  },
  {
   "cell_type": "code",
   "execution_count": 20,
   "metadata": {
    "scrolled": true
   },
   "outputs": [
    {
     "name": "stdout",
     "output_type": "stream",
     "text": [
      "22509405236.107265\n",
      "107906.52360259842\n",
      "-0.5796333655503159\n"
     ]
    }
   ],
   "source": [
    "## prediction\n",
    "y_pred = model.predict(X_test)\n",
    "\n",
    "from sklearn.metrics import mean_squared_error, mean_absolute_error, explained_variance_score\n",
    "print(mean_squared_error(y_pred, y_test))\n",
    "print(mean_absolute_error(y_pred, y_test))\n",
    "print(explained_variance_score(y_pred, y_test))"
   ]
  },
  {
   "cell_type": "markdown",
   "metadata": {},
   "source": [
    "### Time-series\n",
    "\n",
    "Using a subset of data (certain street), we try to model data as a time-series, \n",
    "hopefully it'll improve eval metrics  \n",
    "\n",
    "**Exogeneous Variables**\n",
    "\n",
    "These are variables that would be similar throughout the time series and values dont change with time\n",
    "\n",
    "- storey_range\n",
    "- floor_area_sqm\n",
    "- flat_model\n",
    "- flat_type\n",
    "- lease_commence_date -> remaining_lease\n",
    "\n",
    "**Problems:**\n",
    "\n",
    "We need one model per flat, which takes up alot of storage space and \n",
    "having so many models might be inefficient"
   ]
  },
  {
   "cell_type": "code",
   "execution_count": 26,
   "metadata": {},
   "outputs": [
    {
     "name": "stdout",
     "output_type": "stream",
     "text": [
      "Index(['month', 'town', 'flat_type', 'block', 'street_name', 'storey_range',\n",
      "       'floor_area_sqm', 'flat_model', 'resale_price', 'lease_remaining'],\n",
      "      dtype='object')\n"
     ]
    },
    {
     "data": {
      "text/plain": [
       "(655512, 10)"
      ]
     },
     "execution_count": 26,
     "metadata": {},
     "output_type": "execute_result"
    }
   ],
   "source": [
    "time_series_registration = pd.read_csv(\"data/resale-flat-prices_HDB/resale-on-approval-full.csv\")\n",
    "time_series_registration.drop_duplicates(inplace=True)\n",
    "time_series_registration[\"lease_remaining\"] = time_series_registration[\"lease_commence_date\"].apply(commence_date_to_remaining)\n",
    "time_series_registration[\"flat_model\"] = time_series_registration[\"flat_model\"].apply(lambda x: x.lower())\n",
    "time_series_registration.drop(\"lease_commence_date\", axis=1, inplace=True)\n",
    "print(time_series_registration.columns)\n",
    "time_series_registration.shape"
   ]
  },
  {
   "cell_type": "markdown",
   "metadata": {},
   "source": [
    "1. Lag the values"
   ]
  },
  {
   "cell_type": "code",
   "execution_count": 27,
   "metadata": {},
   "outputs": [
    {
     "data": {
      "text/html": [
       "<div>\n",
       "<style scoped>\n",
       "    .dataframe tbody tr th:only-of-type {\n",
       "        vertical-align: middle;\n",
       "    }\n",
       "\n",
       "    .dataframe tbody tr th {\n",
       "        vertical-align: top;\n",
       "    }\n",
       "\n",
       "    .dataframe thead th {\n",
       "        text-align: right;\n",
       "    }\n",
       "</style>\n",
       "<table border=\"1\" class=\"dataframe\">\n",
       "  <thead>\n",
       "    <tr style=\"text-align: right;\">\n",
       "      <th></th>\n",
       "      <th>month</th>\n",
       "      <th>town</th>\n",
       "      <th>flat_type</th>\n",
       "      <th>block</th>\n",
       "      <th>street_name</th>\n",
       "      <th>storey_range</th>\n",
       "      <th>floor_area_sqm</th>\n",
       "      <th>flat_model</th>\n",
       "      <th>resale_price</th>\n",
       "      <th>lease_remaining</th>\n",
       "      <th>last_resale_price</th>\n",
       "    </tr>\n",
       "  </thead>\n",
       "  <tbody>\n",
       "    <tr>\n",
       "      <th>1</th>\n",
       "      <td>2004-07</td>\n",
       "      <td>SEMBAWANG</td>\n",
       "      <td>5 ROOM</td>\n",
       "      <td>353A</td>\n",
       "      <td>ADMIRALTY DR</td>\n",
       "      <td>07 TO 09</td>\n",
       "      <td>110.0</td>\n",
       "      <td>improved</td>\n",
       "      <td>294000.0</td>\n",
       "      <td>81</td>\n",
       "      <td>325000.0</td>\n",
       "    </tr>\n",
       "    <tr>\n",
       "      <th>2</th>\n",
       "      <td>2005-01</td>\n",
       "      <td>SEMBAWANG</td>\n",
       "      <td>4 ROOM</td>\n",
       "      <td>353A</td>\n",
       "      <td>ADMIRALTY DR</td>\n",
       "      <td>13 TO 15</td>\n",
       "      <td>93.0</td>\n",
       "      <td>model a</td>\n",
       "      <td>255000.0</td>\n",
       "      <td>81</td>\n",
       "      <td>294000.0</td>\n",
       "    </tr>\n",
       "    <tr>\n",
       "      <th>3</th>\n",
       "      <td>2005-09</td>\n",
       "      <td>SEMBAWANG</td>\n",
       "      <td>4 ROOM</td>\n",
       "      <td>353A</td>\n",
       "      <td>ADMIRALTY DR</td>\n",
       "      <td>07 TO 09</td>\n",
       "      <td>93.0</td>\n",
       "      <td>model a</td>\n",
       "      <td>253000.0</td>\n",
       "      <td>81</td>\n",
       "      <td>255000.0</td>\n",
       "    </tr>\n",
       "    <tr>\n",
       "      <th>4</th>\n",
       "      <td>2005-09</td>\n",
       "      <td>SEMBAWANG</td>\n",
       "      <td>4 ROOM</td>\n",
       "      <td>353A</td>\n",
       "      <td>ADMIRALTY DR</td>\n",
       "      <td>13 TO 15</td>\n",
       "      <td>93.0</td>\n",
       "      <td>model a</td>\n",
       "      <td>244000.0</td>\n",
       "      <td>81</td>\n",
       "      <td>253000.0</td>\n",
       "    </tr>\n",
       "    <tr>\n",
       "      <th>5</th>\n",
       "      <td>2005-09</td>\n",
       "      <td>SEMBAWANG</td>\n",
       "      <td>4 ROOM</td>\n",
       "      <td>353A</td>\n",
       "      <td>ADMIRALTY DR</td>\n",
       "      <td>13 TO 15</td>\n",
       "      <td>93.0</td>\n",
       "      <td>model a</td>\n",
       "      <td>250000.0</td>\n",
       "      <td>81</td>\n",
       "      <td>244000.0</td>\n",
       "    </tr>\n",
       "    <tr>\n",
       "      <th>...</th>\n",
       "      <td>...</td>\n",
       "      <td>...</td>\n",
       "      <td>...</td>\n",
       "      <td>...</td>\n",
       "      <td>...</td>\n",
       "      <td>...</td>\n",
       "      <td>...</td>\n",
       "      <td>...</td>\n",
       "      <td>...</td>\n",
       "      <td>...</td>\n",
       "      <td>...</td>\n",
       "    </tr>\n",
       "    <tr>\n",
       "      <th>655507</th>\n",
       "      <td>2004-08</td>\n",
       "      <td>BUKIT MERAH</td>\n",
       "      <td>3 ROOM</td>\n",
       "      <td>91</td>\n",
       "      <td>ZION RD</td>\n",
       "      <td>10 TO 12</td>\n",
       "      <td>59.0</td>\n",
       "      <td>improved</td>\n",
       "      <td>170000.0</td>\n",
       "      <td>61</td>\n",
       "      <td>187000.0</td>\n",
       "    </tr>\n",
       "    <tr>\n",
       "      <th>655508</th>\n",
       "      <td>2004-09</td>\n",
       "      <td>BUKIT MERAH</td>\n",
       "      <td>3 ROOM</td>\n",
       "      <td>91</td>\n",
       "      <td>ZION RD</td>\n",
       "      <td>13 TO 15</td>\n",
       "      <td>59.0</td>\n",
       "      <td>improved</td>\n",
       "      <td>176000.0</td>\n",
       "      <td>61</td>\n",
       "      <td>170000.0</td>\n",
       "    </tr>\n",
       "    <tr>\n",
       "      <th>655509</th>\n",
       "      <td>2005-08</td>\n",
       "      <td>BUKIT MERAH</td>\n",
       "      <td>3 ROOM</td>\n",
       "      <td>91</td>\n",
       "      <td>ZION RD</td>\n",
       "      <td>04 TO 06</td>\n",
       "      <td>67.0</td>\n",
       "      <td>improved</td>\n",
       "      <td>202000.0</td>\n",
       "      <td>61</td>\n",
       "      <td>176000.0</td>\n",
       "    </tr>\n",
       "    <tr>\n",
       "      <th>655510</th>\n",
       "      <td>2005-09</td>\n",
       "      <td>BUKIT MERAH</td>\n",
       "      <td>3 ROOM</td>\n",
       "      <td>91</td>\n",
       "      <td>ZION RD</td>\n",
       "      <td>13 TO 15</td>\n",
       "      <td>59.0</td>\n",
       "      <td>improved</td>\n",
       "      <td>180000.0</td>\n",
       "      <td>61</td>\n",
       "      <td>202000.0</td>\n",
       "    </tr>\n",
       "    <tr>\n",
       "      <th>655511</th>\n",
       "      <td>2006-06</td>\n",
       "      <td>BUKIT MERAH</td>\n",
       "      <td>3 ROOM</td>\n",
       "      <td>91</td>\n",
       "      <td>ZION RD</td>\n",
       "      <td>07 TO 09</td>\n",
       "      <td>59.0</td>\n",
       "      <td>improved</td>\n",
       "      <td>197500.0</td>\n",
       "      <td>61</td>\n",
       "      <td>180000.0</td>\n",
       "    </tr>\n",
       "  </tbody>\n",
       "</table>\n",
       "<p>655511 rows × 11 columns</p>\n",
       "</div>"
      ],
      "text/plain": [
       "          month         town flat_type block   street_name storey_range  \\\n",
       "1       2004-07    SEMBAWANG    5 ROOM  353A  ADMIRALTY DR     07 TO 09   \n",
       "2       2005-01    SEMBAWANG    4 ROOM  353A  ADMIRALTY DR     13 TO 15   \n",
       "3       2005-09    SEMBAWANG    4 ROOM  353A  ADMIRALTY DR     07 TO 09   \n",
       "4       2005-09    SEMBAWANG    4 ROOM  353A  ADMIRALTY DR     13 TO 15   \n",
       "5       2005-09    SEMBAWANG    4 ROOM  353A  ADMIRALTY DR     13 TO 15   \n",
       "...         ...          ...       ...   ...           ...          ...   \n",
       "655507  2004-08  BUKIT MERAH    3 ROOM    91       ZION RD     10 TO 12   \n",
       "655508  2004-09  BUKIT MERAH    3 ROOM    91       ZION RD     13 TO 15   \n",
       "655509  2005-08  BUKIT MERAH    3 ROOM    91       ZION RD     04 TO 06   \n",
       "655510  2005-09  BUKIT MERAH    3 ROOM    91       ZION RD     13 TO 15   \n",
       "655511  2006-06  BUKIT MERAH    3 ROOM    91       ZION RD     07 TO 09   \n",
       "\n",
       "        floor_area_sqm flat_model  resale_price  lease_remaining  \\\n",
       "1                110.0   improved      294000.0               81   \n",
       "2                 93.0    model a      255000.0               81   \n",
       "3                 93.0    model a      253000.0               81   \n",
       "4                 93.0    model a      244000.0               81   \n",
       "5                 93.0    model a      250000.0               81   \n",
       "...                ...        ...           ...              ...   \n",
       "655507            59.0   improved      170000.0               61   \n",
       "655508            59.0   improved      176000.0               61   \n",
       "655509            67.0   improved      202000.0               61   \n",
       "655510            59.0   improved      180000.0               61   \n",
       "655511            59.0   improved      197500.0               61   \n",
       "\n",
       "        last_resale_price  \n",
       "1                325000.0  \n",
       "2                294000.0  \n",
       "3                255000.0  \n",
       "4                253000.0  \n",
       "5                244000.0  \n",
       "...                   ...  \n",
       "655507           187000.0  \n",
       "655508           170000.0  \n",
       "655509           176000.0  \n",
       "655510           202000.0  \n",
       "655511           180000.0  \n",
       "\n",
       "[655511 rows x 11 columns]"
      ]
     },
     "execution_count": 27,
     "metadata": {},
     "output_type": "execute_result"
    }
   ],
   "source": [
    "time_series_registration.sort_values(by=[\"street_name\", \"block\", \"month\", \"storey_range\"], inplace=True)\n",
    "sorted_time_series = time_series_registration.reset_index(drop=True)\n",
    "sorted_time_series[\"last_resale_price\"] = sorted_time_series[\"resale_price\"].shift(1)\n",
    "sorted_time_series.dropna(inplace=True)\n",
    "sorted_time_series"
   ]
  },
  {
   "cell_type": "code",
   "execution_count": 28,
   "metadata": {},
   "outputs": [
    {
     "data": {
      "text/html": [
       "<div>\n",
       "<style scoped>\n",
       "    .dataframe tbody tr th:only-of-type {\n",
       "        vertical-align: middle;\n",
       "    }\n",
       "\n",
       "    .dataframe tbody tr th {\n",
       "        vertical-align: top;\n",
       "    }\n",
       "\n",
       "    .dataframe thead th {\n",
       "        text-align: right;\n",
       "    }\n",
       "</style>\n",
       "<table border=\"1\" class=\"dataframe\">\n",
       "  <thead>\n",
       "    <tr style=\"text-align: right;\">\n",
       "      <th></th>\n",
       "      <th>month</th>\n",
       "      <th>storey_range</th>\n",
       "      <th>floor_area_sqm</th>\n",
       "      <th>resale_price</th>\n",
       "      <th>lease_remaining</th>\n",
       "      <th>last_resale_price</th>\n",
       "      <th>ADMIRALTY DR</th>\n",
       "      <th>ADMIRALTY LINK</th>\n",
       "      <th>AH HOOD RD</th>\n",
       "      <th>ALEXANDRA RD</th>\n",
       "      <th>...</th>\n",
       "      <th>model a</th>\n",
       "      <th>model a-maisonette</th>\n",
       "      <th>model a2</th>\n",
       "      <th>multi generation</th>\n",
       "      <th>new generation</th>\n",
       "      <th>premium apartment</th>\n",
       "      <th>premium maisonette</th>\n",
       "      <th>simplified</th>\n",
       "      <th>standard</th>\n",
       "      <th>terrace</th>\n",
       "    </tr>\n",
       "  </thead>\n",
       "  <tbody>\n",
       "    <tr>\n",
       "      <th>1</th>\n",
       "      <td>24054</td>\n",
       "      <td>2</td>\n",
       "      <td>110.0</td>\n",
       "      <td>294000.0</td>\n",
       "      <td>81</td>\n",
       "      <td>325000.0</td>\n",
       "      <td>1</td>\n",
       "      <td>0</td>\n",
       "      <td>0</td>\n",
       "      <td>0</td>\n",
       "      <td>...</td>\n",
       "      <td>1</td>\n",
       "      <td>0</td>\n",
       "      <td>0</td>\n",
       "      <td>0</td>\n",
       "      <td>0</td>\n",
       "      <td>0</td>\n",
       "      <td>0</td>\n",
       "      <td>0</td>\n",
       "      <td>0</td>\n",
       "      <td>0</td>\n",
       "    </tr>\n",
       "    <tr>\n",
       "      <th>2</th>\n",
       "      <td>24060</td>\n",
       "      <td>4</td>\n",
       "      <td>93.0</td>\n",
       "      <td>255000.0</td>\n",
       "      <td>81</td>\n",
       "      <td>294000.0</td>\n",
       "      <td>1</td>\n",
       "      <td>0</td>\n",
       "      <td>0</td>\n",
       "      <td>0</td>\n",
       "      <td>...</td>\n",
       "      <td>1</td>\n",
       "      <td>0</td>\n",
       "      <td>0</td>\n",
       "      <td>0</td>\n",
       "      <td>0</td>\n",
       "      <td>0</td>\n",
       "      <td>0</td>\n",
       "      <td>0</td>\n",
       "      <td>0</td>\n",
       "      <td>0</td>\n",
       "    </tr>\n",
       "    <tr>\n",
       "      <th>3</th>\n",
       "      <td>24068</td>\n",
       "      <td>2</td>\n",
       "      <td>93.0</td>\n",
       "      <td>253000.0</td>\n",
       "      <td>81</td>\n",
       "      <td>255000.0</td>\n",
       "      <td>1</td>\n",
       "      <td>0</td>\n",
       "      <td>0</td>\n",
       "      <td>0</td>\n",
       "      <td>...</td>\n",
       "      <td>1</td>\n",
       "      <td>0</td>\n",
       "      <td>0</td>\n",
       "      <td>0</td>\n",
       "      <td>0</td>\n",
       "      <td>0</td>\n",
       "      <td>0</td>\n",
       "      <td>0</td>\n",
       "      <td>0</td>\n",
       "      <td>0</td>\n",
       "    </tr>\n",
       "    <tr>\n",
       "      <th>4</th>\n",
       "      <td>24068</td>\n",
       "      <td>4</td>\n",
       "      <td>93.0</td>\n",
       "      <td>244000.0</td>\n",
       "      <td>81</td>\n",
       "      <td>253000.0</td>\n",
       "      <td>1</td>\n",
       "      <td>0</td>\n",
       "      <td>0</td>\n",
       "      <td>0</td>\n",
       "      <td>...</td>\n",
       "      <td>1</td>\n",
       "      <td>0</td>\n",
       "      <td>0</td>\n",
       "      <td>0</td>\n",
       "      <td>0</td>\n",
       "      <td>0</td>\n",
       "      <td>0</td>\n",
       "      <td>0</td>\n",
       "      <td>0</td>\n",
       "      <td>0</td>\n",
       "    </tr>\n",
       "    <tr>\n",
       "      <th>5</th>\n",
       "      <td>24068</td>\n",
       "      <td>4</td>\n",
       "      <td>93.0</td>\n",
       "      <td>250000.0</td>\n",
       "      <td>81</td>\n",
       "      <td>244000.0</td>\n",
       "      <td>1</td>\n",
       "      <td>0</td>\n",
       "      <td>0</td>\n",
       "      <td>0</td>\n",
       "      <td>...</td>\n",
       "      <td>0</td>\n",
       "      <td>0</td>\n",
       "      <td>0</td>\n",
       "      <td>0</td>\n",
       "      <td>0</td>\n",
       "      <td>0</td>\n",
       "      <td>0</td>\n",
       "      <td>0</td>\n",
       "      <td>0</td>\n",
       "      <td>0</td>\n",
       "    </tr>\n",
       "    <tr>\n",
       "      <th>6</th>\n",
       "      <td>24069</td>\n",
       "      <td>2</td>\n",
       "      <td>110.0</td>\n",
       "      <td>310000.0</td>\n",
       "      <td>81</td>\n",
       "      <td>250000.0</td>\n",
       "      <td>1</td>\n",
       "      <td>0</td>\n",
       "      <td>0</td>\n",
       "      <td>0</td>\n",
       "      <td>...</td>\n",
       "      <td>1</td>\n",
       "      <td>0</td>\n",
       "      <td>0</td>\n",
       "      <td>0</td>\n",
       "      <td>0</td>\n",
       "      <td>0</td>\n",
       "      <td>0</td>\n",
       "      <td>0</td>\n",
       "      <td>0</td>\n",
       "      <td>0</td>\n",
       "    </tr>\n",
       "    <tr>\n",
       "      <th>7</th>\n",
       "      <td>24069</td>\n",
       "      <td>3</td>\n",
       "      <td>93.0</td>\n",
       "      <td>244000.0</td>\n",
       "      <td>81</td>\n",
       "      <td>310000.0</td>\n",
       "      <td>1</td>\n",
       "      <td>0</td>\n",
       "      <td>0</td>\n",
       "      <td>0</td>\n",
       "      <td>...</td>\n",
       "      <td>1</td>\n",
       "      <td>0</td>\n",
       "      <td>0</td>\n",
       "      <td>0</td>\n",
       "      <td>0</td>\n",
       "      <td>0</td>\n",
       "      <td>0</td>\n",
       "      <td>0</td>\n",
       "      <td>0</td>\n",
       "      <td>0</td>\n",
       "    </tr>\n",
       "    <tr>\n",
       "      <th>8</th>\n",
       "      <td>24071</td>\n",
       "      <td>4</td>\n",
       "      <td>93.0</td>\n",
       "      <td>245000.0</td>\n",
       "      <td>81</td>\n",
       "      <td>244000.0</td>\n",
       "      <td>1</td>\n",
       "      <td>0</td>\n",
       "      <td>0</td>\n",
       "      <td>0</td>\n",
       "      <td>...</td>\n",
       "      <td>1</td>\n",
       "      <td>0</td>\n",
       "      <td>0</td>\n",
       "      <td>0</td>\n",
       "      <td>0</td>\n",
       "      <td>0</td>\n",
       "      <td>0</td>\n",
       "      <td>0</td>\n",
       "      <td>0</td>\n",
       "      <td>0</td>\n",
       "    </tr>\n",
       "    <tr>\n",
       "      <th>9</th>\n",
       "      <td>24073</td>\n",
       "      <td>1</td>\n",
       "      <td>93.0</td>\n",
       "      <td>250000.0</td>\n",
       "      <td>81</td>\n",
       "      <td>245000.0</td>\n",
       "      <td>1</td>\n",
       "      <td>0</td>\n",
       "      <td>0</td>\n",
       "      <td>0</td>\n",
       "      <td>...</td>\n",
       "      <td>0</td>\n",
       "      <td>0</td>\n",
       "      <td>0</td>\n",
       "      <td>0</td>\n",
       "      <td>0</td>\n",
       "      <td>0</td>\n",
       "      <td>0</td>\n",
       "      <td>0</td>\n",
       "      <td>0</td>\n",
       "      <td>0</td>\n",
       "    </tr>\n",
       "    <tr>\n",
       "      <th>10</th>\n",
       "      <td>24073</td>\n",
       "      <td>2</td>\n",
       "      <td>110.0</td>\n",
       "      <td>311000.0</td>\n",
       "      <td>81</td>\n",
       "      <td>250000.0</td>\n",
       "      <td>1</td>\n",
       "      <td>0</td>\n",
       "      <td>0</td>\n",
       "      <td>0</td>\n",
       "      <td>...</td>\n",
       "      <td>0</td>\n",
       "      <td>0</td>\n",
       "      <td>0</td>\n",
       "      <td>0</td>\n",
       "      <td>0</td>\n",
       "      <td>0</td>\n",
       "      <td>0</td>\n",
       "      <td>0</td>\n",
       "      <td>0</td>\n",
       "      <td>0</td>\n",
       "    </tr>\n",
       "  </tbody>\n",
       "</table>\n",
       "<p>10 rows × 564 columns</p>\n",
       "</div>"
      ],
      "text/plain": [
       "    month  storey_range  floor_area_sqm  resale_price  lease_remaining  \\\n",
       "1   24054             2           110.0      294000.0               81   \n",
       "2   24060             4            93.0      255000.0               81   \n",
       "3   24068             2            93.0      253000.0               81   \n",
       "4   24068             4            93.0      244000.0               81   \n",
       "5   24068             4            93.0      250000.0               81   \n",
       "6   24069             2           110.0      310000.0               81   \n",
       "7   24069             3            93.0      244000.0               81   \n",
       "8   24071             4            93.0      245000.0               81   \n",
       "9   24073             1            93.0      250000.0               81   \n",
       "10  24073             2           110.0      311000.0               81   \n",
       "\n",
       "    last_resale_price  ADMIRALTY DR  ADMIRALTY LINK  AH HOOD RD  ALEXANDRA RD  \\\n",
       "1            325000.0             1               0           0             0   \n",
       "2            294000.0             1               0           0             0   \n",
       "3            255000.0             1               0           0             0   \n",
       "4            253000.0             1               0           0             0   \n",
       "5            244000.0             1               0           0             0   \n",
       "6            250000.0             1               0           0             0   \n",
       "7            310000.0             1               0           0             0   \n",
       "8            244000.0             1               0           0             0   \n",
       "9            245000.0             1               0           0             0   \n",
       "10           250000.0             1               0           0             0   \n",
       "\n",
       "    ...  model a  model a-maisonette  model a2  multi generation  \\\n",
       "1   ...        1                   0         0                 0   \n",
       "2   ...        1                   0         0                 0   \n",
       "3   ...        1                   0         0                 0   \n",
       "4   ...        1                   0         0                 0   \n",
       "5   ...        0                   0         0                 0   \n",
       "6   ...        1                   0         0                 0   \n",
       "7   ...        1                   0         0                 0   \n",
       "8   ...        1                   0         0                 0   \n",
       "9   ...        0                   0         0                 0   \n",
       "10  ...        0                   0         0                 0   \n",
       "\n",
       "    new generation  premium apartment  premium maisonette  simplified  \\\n",
       "1                0                  0                   0           0   \n",
       "2                0                  0                   0           0   \n",
       "3                0                  0                   0           0   \n",
       "4                0                  0                   0           0   \n",
       "5                0                  0                   0           0   \n",
       "6                0                  0                   0           0   \n",
       "7                0                  0                   0           0   \n",
       "8                0                  0                   0           0   \n",
       "9                0                  0                   0           0   \n",
       "10               0                  0                   0           0   \n",
       "\n",
       "    standard  terrace  \n",
       "1          0        0  \n",
       "2          0        0  \n",
       "3          0        0  \n",
       "4          0        0  \n",
       "5          0        0  \n",
       "6          0        0  \n",
       "7          0        0  \n",
       "8          0        0  \n",
       "9          0        0  \n",
       "10         0        0  \n",
       "\n",
       "[10 rows x 564 columns]"
      ]
     },
     "execution_count": 28,
     "metadata": {},
     "output_type": "execute_result"
    }
   ],
   "source": [
    "sorted_time_series[\"month\"] = sorted_time_series[\"month\"].apply(lambda x: int(x[:4])*12 + int(x[-2:])-1)\n",
    "sorted_time_series.drop([\"block\", \"town\"],axis=1, inplace=True)\n",
    "lb_cols = [\"street_name\", \"flat_type\", \"flat_model\"]\n",
    "le_cols=[\"storey_range\"]\n",
    "ts_df = process_data(sorted_time_series,lb_cols=lb_cols, le_cols=le_cols)\n",
    "ts_df.head(10)"
   ]
  },
  {
   "cell_type": "code",
   "execution_count": 29,
   "metadata": {},
   "outputs": [],
   "source": [
    "# np.amax(ts_df.month) ##24145\n",
    "# np.amin(ts_df.month)  ## 23880\n",
    "X = ts_df.drop(\"resale_price\", axis=1)\n",
    "y = ts_df[\"resale_price\"]\n",
    "# X_train, X_test, y_train, y_test = split_df(X, y, month_threshold=24110)\n",
    "# print(X_train.shape, y_train.shape)\n",
    "# print(X_test.shape, y_test.shape)"
   ]
  },
  {
   "cell_type": "code",
   "execution_count": 30,
   "metadata": {},
   "outputs": [
    {
     "name": "stdout",
     "output_type": "stream",
     "text": [
      "Adding some metrics: mse, R_squared, Explained variance\n",
      "{'MSE': 15768776911.158035, 'Explained Variance': -0.5954210504417528, 'R^2': -0.6056233903565931, 'MAE': 100481.18267924953}\n"
     ]
    }
   ],
   "source": [
    "def tf_split(X, y):\n",
    "    return split_df(X,y, month_threshold=24110)\n",
    "\n",
    "br = BayesianRidge()\n",
    "br_model = ML_Model(br, X, y, tf_split)\n",
    "br_model.fit()\n",
    "br_model.predict()\n",
    "br_model.get_metrics()"
   ]
  },
  {
   "cell_type": "code",
   "execution_count": 31,
   "metadata": {},
   "outputs": [
    {
     "name": "stdout",
     "output_type": "stream",
     "text": [
      "(12175, 563) (12175,)\n",
      "(12736, 563) (12736,)\n",
      "(14389, 563) (14389,)\n",
      "(19602, 563) (19602,)\n",
      "(25735, 563) (25735,)\n",
      "(28443, 563) (28443,)\n",
      "(34086, 563) (34086,)\n",
      "(32066, 563) (32066,)\n",
      "(52830, 563) (52830,)\n",
      "(55198, 563) (55198,)\n",
      "(35192, 563) (35192,)\n",
      "(38551, 563) (38551,)\n",
      "(35359, 563) (35359,)\n",
      "(28924, 563) (28924,)\n",
      "(29179, 563) (29179,)\n",
      "(29298, 563) (29298,)\n",
      "(27639, 563) (27639,)\n",
      "(26955, 563) (26955,)\n",
      "(26952, 563) (26952,)\n",
      "(31263, 563) (31263,)\n",
      "(34123, 563) (34123,)\n",
      "(21692, 563) (21692,)\n",
      "Adding some metrics: mse, R_squared, Explained variance\n"
     ]
    }
   ],
   "source": [
    "br_model.rolling_predict(12)"
   ]
  },
  {
   "cell_type": "code",
   "execution_count": 32,
   "metadata": {},
   "outputs": [
    {
     "name": "stdout",
     "output_type": "stream",
     "text": [
      "{'MSE': 15768776911.158035, 'Explained Variance': -0.5954210504417528, 'R^2': -0.6056233903565931, 'MAE': 100481.18267924953, '(Rolling mean) MAE': 25000.00606635096, '(Rolling mean) MSE': 1226947852.25971, '(Rolling mean) R^2': 0.8809032025415567, '(Rolling mean) Explained Variance': 0.8329001530126152}\n"
     ]
    }
   ],
   "source": [
    "br_model.get_metrics()"
   ]
  },
  {
   "cell_type": "markdown",
   "metadata": {},
   "source": [
    "### Using URA's data\n",
    "LandedArea.csv<br></br>ApartmentsandCondos.csv"
   ]
  },
  {
   "cell_type": "code",
   "execution_count": 5,
   "metadata": {
    "scrolled": true
   },
   "outputs": [
    {
     "data": {
      "text/html": [
       "<div>\n",
       "<style scoped>\n",
       "    .dataframe tbody tr th:only-of-type {\n",
       "        vertical-align: middle;\n",
       "    }\n",
       "\n",
       "    .dataframe tbody tr th {\n",
       "        vertical-align: top;\n",
       "    }\n",
       "\n",
       "    .dataframe thead th {\n",
       "        text-align: right;\n",
       "    }\n",
       "</style>\n",
       "<table border=\"1\" class=\"dataframe\">\n",
       "  <thead>\n",
       "    <tr style=\"text-align: right;\">\n",
       "      <th></th>\n",
       "      <th>S/N</th>\n",
       "      <th>Project Name</th>\n",
       "      <th>Street Name</th>\n",
       "      <th>Type</th>\n",
       "      <th>Postal District</th>\n",
       "      <th>Market Segment</th>\n",
       "      <th>Tenure</th>\n",
       "      <th>Type of Sale</th>\n",
       "      <th>No. of Units</th>\n",
       "      <th>Price ($)</th>\n",
       "      <th>Nett Price ($)</th>\n",
       "      <th>Area (Sqft)</th>\n",
       "      <th>Type of Area</th>\n",
       "      <th>Floor Level</th>\n",
       "      <th>Unit Price ($psf)</th>\n",
       "      <th>Date of Sale</th>\n",
       "    </tr>\n",
       "  </thead>\n",
       "  <tbody>\n",
       "    <tr>\n",
       "      <th>0</th>\n",
       "      <td>1</td>\n",
       "      <td>ONE TREE HILL COLLECTION</td>\n",
       "      <td>JALAN KELAWAR</td>\n",
       "      <td>Detached</td>\n",
       "      <td>10</td>\n",
       "      <td>CCR</td>\n",
       "      <td>Freehold</td>\n",
       "      <td>New Sale</td>\n",
       "      <td>1.0</td>\n",
       "      <td>15500000.0</td>\n",
       "      <td>-</td>\n",
       "      <td>5145.0</td>\n",
       "      <td>Land</td>\n",
       "      <td>-</td>\n",
       "      <td>3013.0</td>\n",
       "      <td>Feb-20</td>\n",
       "    </tr>\n",
       "    <tr>\n",
       "      <th>1</th>\n",
       "      <td>2</td>\n",
       "      <td>BAN GUAN PARK</td>\n",
       "      <td>HOLLAND ROAD</td>\n",
       "      <td>Detached</td>\n",
       "      <td>10</td>\n",
       "      <td>CCR</td>\n",
       "      <td>Freehold</td>\n",
       "      <td>Resale</td>\n",
       "      <td>1.0</td>\n",
       "      <td>15500000.0</td>\n",
       "      <td>-</td>\n",
       "      <td>9050.0</td>\n",
       "      <td>Land</td>\n",
       "      <td>-</td>\n",
       "      <td>1713.0</td>\n",
       "      <td>Feb-20</td>\n",
       "    </tr>\n",
       "    <tr>\n",
       "      <th>2</th>\n",
       "      <td>3</td>\n",
       "      <td>LANDED HOUSING DEVELOPMENT</td>\n",
       "      <td>CORONATION ROAD WEST</td>\n",
       "      <td>Detached</td>\n",
       "      <td>10</td>\n",
       "      <td>CCR</td>\n",
       "      <td>Freehold</td>\n",
       "      <td>Resale</td>\n",
       "      <td>1.0</td>\n",
       "      <td>9380000.0</td>\n",
       "      <td>-</td>\n",
       "      <td>6242.0</td>\n",
       "      <td>Land</td>\n",
       "      <td>-</td>\n",
       "      <td>1503.0</td>\n",
       "      <td>Feb-20</td>\n",
       "    </tr>\n",
       "    <tr>\n",
       "      <th>3</th>\n",
       "      <td>4</td>\n",
       "      <td>LANDED HOUSING DEVELOPMENT</td>\n",
       "      <td>JALAN AMPANG</td>\n",
       "      <td>Semi-detached</td>\n",
       "      <td>10</td>\n",
       "      <td>CCR</td>\n",
       "      <td>Freehold</td>\n",
       "      <td>Resale</td>\n",
       "      <td>1.0</td>\n",
       "      <td>6600000.0</td>\n",
       "      <td>-</td>\n",
       "      <td>4529.0</td>\n",
       "      <td>Land</td>\n",
       "      <td>-</td>\n",
       "      <td>1457.0</td>\n",
       "      <td>Feb-20</td>\n",
       "    </tr>\n",
       "    <tr>\n",
       "      <th>4</th>\n",
       "      <td>5</td>\n",
       "      <td>LANDED HOUSING DEVELOPMENT</td>\n",
       "      <td>JALAN JAMBU AYER</td>\n",
       "      <td>Detached</td>\n",
       "      <td>21</td>\n",
       "      <td>RCR</td>\n",
       "      <td>Freehold</td>\n",
       "      <td>Resale</td>\n",
       "      <td>1.0</td>\n",
       "      <td>8600000.0</td>\n",
       "      <td>-</td>\n",
       "      <td>6218.0</td>\n",
       "      <td>Land</td>\n",
       "      <td>-</td>\n",
       "      <td>1383.0</td>\n",
       "      <td>Feb-20</td>\n",
       "    </tr>\n",
       "  </tbody>\n",
       "</table>\n",
       "</div>"
      ],
      "text/plain": [
       "  S/N                Project Name           Street Name           Type  \\\n",
       "0   1    ONE TREE HILL COLLECTION         JALAN KELAWAR       Detached   \n",
       "1   2               BAN GUAN PARK          HOLLAND ROAD       Detached   \n",
       "2   3  LANDED HOUSING DEVELOPMENT  CORONATION ROAD WEST       Detached   \n",
       "3   4  LANDED HOUSING DEVELOPMENT          JALAN AMPANG  Semi-detached   \n",
       "4   5  LANDED HOUSING DEVELOPMENT      JALAN JAMBU AYER       Detached   \n",
       "\n",
       "  Postal District Market Segment    Tenure Type of Sale  No. of Units  \\\n",
       "0              10            CCR  Freehold     New Sale           1.0   \n",
       "1              10            CCR  Freehold       Resale           1.0   \n",
       "2              10            CCR  Freehold       Resale           1.0   \n",
       "3              10            CCR  Freehold       Resale           1.0   \n",
       "4              21            RCR  Freehold       Resale           1.0   \n",
       "\n",
       "    Price ($) Nett Price ($)  Area (Sqft) Type of Area Floor Level  \\\n",
       "0  15500000.0              -       5145.0         Land           -   \n",
       "1  15500000.0              -       9050.0         Land           -   \n",
       "2   9380000.0              -       6242.0         Land           -   \n",
       "3   6600000.0              -       4529.0         Land           -   \n",
       "4   8600000.0              -       6218.0         Land           -   \n",
       "\n",
       "   Unit Price ($psf) Date of Sale  \n",
       "0             3013.0       Feb-20  \n",
       "1             1713.0       Feb-20  \n",
       "2             1503.0       Feb-20  \n",
       "3             1457.0       Feb-20  \n",
       "4             1383.0       Feb-20  "
      ]
     },
     "execution_count": 5,
     "metadata": {},
     "output_type": "execute_result"
    }
   ],
   "source": [
    "landed.head()"
   ]
  },
  {
   "cell_type": "code",
   "execution_count": 9,
   "metadata": {
    "scrolled": true
   },
   "outputs": [
    {
     "name": "stdout",
     "output_type": "stream",
     "text": [
      "<class 'pandas.core.frame.DataFrame'>\n",
      "RangeIndex: 853 entries, 0 to 852\n",
      "Data columns (total 16 columns):\n",
      "S/N                  843 non-null object\n",
      "Project Name         848 non-null object\n",
      "Street Name          837 non-null object\n",
      "Type                 837 non-null object\n",
      "Postal District      837 non-null object\n",
      "Market Segment       837 non-null object\n",
      "Tenure               837 non-null object\n",
      "Type of Sale         836 non-null object\n",
      "No. of Units         836 non-null float64\n",
      "Price ($)            836 non-null float64\n",
      "Nett Price ($)       836 non-null object\n",
      "Area (Sqft)          836 non-null float64\n",
      "Type of Area         836 non-null object\n",
      "Floor Level          836 non-null object\n",
      "Unit Price ($psf)    836 non-null float64\n",
      "Date of Sale         836 non-null object\n",
      "dtypes: float64(4), object(12)\n",
      "memory usage: 106.8+ KB\n"
     ]
    }
   ],
   "source": [
    "landed.info()"
   ]
  },
  {
   "cell_type": "code",
   "execution_count": null,
   "metadata": {},
   "outputs": [],
   "source": []
  },
  {
   "cell_type": "code",
   "execution_count": 6,
   "metadata": {},
   "outputs": [
    {
     "data": {
      "text/html": [
       "<div>\n",
       "<style scoped>\n",
       "    .dataframe tbody tr th:only-of-type {\n",
       "        vertical-align: middle;\n",
       "    }\n",
       "\n",
       "    .dataframe tbody tr th {\n",
       "        vertical-align: top;\n",
       "    }\n",
       "\n",
       "    .dataframe thead th {\n",
       "        text-align: right;\n",
       "    }\n",
       "</style>\n",
       "<table border=\"1\" class=\"dataframe\">\n",
       "  <thead>\n",
       "    <tr style=\"text-align: right;\">\n",
       "      <th>Area (Sqft)</th>\n",
       "      <th>1489.0</th>\n",
       "      <th>1491.0</th>\n",
       "      <th>1496.0</th>\n",
       "      <th>1530.0</th>\n",
       "      <th>1532.0</th>\n",
       "      <th>1579.0</th>\n",
       "      <th>1615.0</th>\n",
       "      <th>1628.0</th>\n",
       "      <th>1640.0</th>\n",
       "      <th>1643.0</th>\n",
       "      <th>...</th>\n",
       "      <th>27829.0</th>\n",
       "      <th>29710.0</th>\n",
       "      <th>29955.0</th>\n",
       "      <th>30420.0</th>\n",
       "      <th>31211.0</th>\n",
       "      <th>36883.0</th>\n",
       "      <th>39228.0</th>\n",
       "      <th>43927.0</th>\n",
       "      <th>52059.0</th>\n",
       "      <th>66453.0</th>\n",
       "    </tr>\n",
       "    <tr>\n",
       "      <th>Type</th>\n",
       "      <th></th>\n",
       "      <th></th>\n",
       "      <th></th>\n",
       "      <th></th>\n",
       "      <th></th>\n",
       "      <th></th>\n",
       "      <th></th>\n",
       "      <th></th>\n",
       "      <th></th>\n",
       "      <th></th>\n",
       "      <th></th>\n",
       "      <th></th>\n",
       "      <th></th>\n",
       "      <th></th>\n",
       "      <th></th>\n",
       "      <th></th>\n",
       "      <th></th>\n",
       "      <th></th>\n",
       "      <th></th>\n",
       "      <th></th>\n",
       "      <th></th>\n",
       "    </tr>\n",
       "  </thead>\n",
       "  <tbody>\n",
       "    <tr>\n",
       "      <th>Detached</th>\n",
       "      <td>0.0</td>\n",
       "      <td>0.0</td>\n",
       "      <td>0.0</td>\n",
       "      <td>0.0</td>\n",
       "      <td>0.0</td>\n",
       "      <td>0.0</td>\n",
       "      <td>0.000000</td>\n",
       "      <td>0.0</td>\n",
       "      <td>0.000000</td>\n",
       "      <td>0.0</td>\n",
       "      <td>...</td>\n",
       "      <td>858.0</td>\n",
       "      <td>1548.0</td>\n",
       "      <td>1335.0</td>\n",
       "      <td>1430.0</td>\n",
       "      <td>1310.0</td>\n",
       "      <td>1000.0</td>\n",
       "      <td>1117.0</td>\n",
       "      <td>1309.0</td>\n",
       "      <td>1804.0</td>\n",
       "      <td>3281.0</td>\n",
       "    </tr>\n",
       "    <tr>\n",
       "      <th>Semi-detached</th>\n",
       "      <td>0.0</td>\n",
       "      <td>0.0</td>\n",
       "      <td>0.0</td>\n",
       "      <td>0.0</td>\n",
       "      <td>0.0</td>\n",
       "      <td>0.0</td>\n",
       "      <td>0.000000</td>\n",
       "      <td>0.0</td>\n",
       "      <td>0.000000</td>\n",
       "      <td>0.0</td>\n",
       "      <td>...</td>\n",
       "      <td>0.0</td>\n",
       "      <td>0.0</td>\n",
       "      <td>0.0</td>\n",
       "      <td>0.0</td>\n",
       "      <td>0.0</td>\n",
       "      <td>0.0</td>\n",
       "      <td>0.0</td>\n",
       "      <td>0.0</td>\n",
       "      <td>0.0</td>\n",
       "      <td>0.0</td>\n",
       "    </tr>\n",
       "    <tr>\n",
       "      <th>Terrace</th>\n",
       "      <td>1511.0</td>\n",
       "      <td>1509.0</td>\n",
       "      <td>1521.0</td>\n",
       "      <td>1242.0</td>\n",
       "      <td>1815.0</td>\n",
       "      <td>1932.0</td>\n",
       "      <td>2294.583333</td>\n",
       "      <td>1628.0</td>\n",
       "      <td>1560.666667</td>\n",
       "      <td>1711.0</td>\n",
       "      <td>...</td>\n",
       "      <td>0.0</td>\n",
       "      <td>0.0</td>\n",
       "      <td>0.0</td>\n",
       "      <td>0.0</td>\n",
       "      <td>0.0</td>\n",
       "      <td>0.0</td>\n",
       "      <td>0.0</td>\n",
       "      <td>0.0</td>\n",
       "      <td>0.0</td>\n",
       "      <td>0.0</td>\n",
       "    </tr>\n",
       "  </tbody>\n",
       "</table>\n",
       "<p>3 rows × 686 columns</p>\n",
       "</div>"
      ],
      "text/plain": [
       "Area (Sqft)    1489.0   1491.0   1496.0   1530.0   1532.0   1579.0   \\\n",
       "Type                                                                  \n",
       "Detached           0.0      0.0      0.0      0.0      0.0      0.0   \n",
       "Semi-detached      0.0      0.0      0.0      0.0      0.0      0.0   \n",
       "Terrace         1511.0   1509.0   1521.0   1242.0   1815.0   1932.0   \n",
       "\n",
       "Area (Sqft)        1615.0   1628.0       1640.0   1643.0   ...  27829.0  \\\n",
       "Type                                                       ...            \n",
       "Detached          0.000000      0.0     0.000000      0.0  ...    858.0   \n",
       "Semi-detached     0.000000      0.0     0.000000      0.0  ...      0.0   \n",
       "Terrace        2294.583333   1628.0  1560.666667   1711.0  ...      0.0   \n",
       "\n",
       "Area (Sqft)    29710.0  29955.0  30420.0  31211.0  36883.0  39228.0  43927.0  \\\n",
       "Type                                                                           \n",
       "Detached        1548.0   1335.0   1430.0   1310.0   1000.0   1117.0   1309.0   \n",
       "Semi-detached      0.0      0.0      0.0      0.0      0.0      0.0      0.0   \n",
       "Terrace            0.0      0.0      0.0      0.0      0.0      0.0      0.0   \n",
       "\n",
       "Area (Sqft)    52059.0  66453.0  \n",
       "Type                             \n",
       "Detached        1804.0   3281.0  \n",
       "Semi-detached      0.0      0.0  \n",
       "Terrace            0.0      0.0  \n",
       "\n",
       "[3 rows x 686 columns]"
      ]
     },
     "execution_count": 6,
     "metadata": {},
     "output_type": "execute_result"
    }
   ],
   "source": [
    "# Running testing for landed since its sample size is smaller\n",
    "landed_sfp = landed[['Type', 'Area (Sqft)', 'Unit Price ($psf)']]\n",
    "landed_sfp = landed_sfp.dropna()\n",
    "landed_sfp = pd.pivot_table(landed_sfp, values='Unit Price ($psf)', \n",
    "                     index=['Type'], \n",
    "                     columns='Area (Sqft)')\n",
    "landed_sfp = landed_sfp.fillna(0)\n",
    "landed_sfp.tail()"
   ]
  },
  {
   "cell_type": "code",
   "execution_count": 35,
   "metadata": {},
   "outputs": [
    {
     "data": {
      "text/plain": [
       "<matplotlib.axes._subplots.AxesSubplot at 0x2d4fd599c8>"
      ]
     },
     "execution_count": 35,
     "metadata": {},
     "output_type": "execute_result"
    },
    {
     "data": {
      "image/png": "[encoded data removed]",
      "text/plain": [
       "<Figure size 432x288 with 2 Axes>"
      ]
     },
     "metadata": {
      "needs_background": "light"
     },
     "output_type": "display_data"
    }
   ],
   "source": [
    "sns.heatmap(landed_sfp)"
   ]
  },
  {
   "cell_type": "code",
   "execution_count": null,
   "metadata": {},
   "outputs": [],
   "source": []
  },
  {
   "cell_type": "markdown",
   "metadata": {},
   "source": [
    "### Predictions\n",
    "Using Machine Learning techniques to try to obtain metries such as:\n",
    "- Accuracy\n",
    "- MSE\n",
    "\n",
    "Depending on method used"
   ]
  },
  {
   "cell_type": "code",
   "execution_count": null,
   "metadata": {},
   "outputs": [],
   "source": [
    "%%bash\n",
    "## installs necessary libraries for work below\n",
    "!pip install sklearn"
   ]
  },
  {
   "cell_type": "code",
   "execution_count": 107,
   "metadata": {},
   "outputs": [],
   "source": [
    "from sklearn.model_selection import train_test_split\n",
    "from sklearn.preprocessing import OneHotEncoder\n",
    "\n",
    "# preprocessing\n",
    "def split_X_and_y(df):\n",
    "    '''\n",
    "        - preprocessing is done here\n",
    "        - returns processed X and y values\n",
    "    '''\n",
    "    df = df.dropna()  # there should b a better way of handling NA valus but I LAZY\n",
    "    \n",
    "    # 1. seperate labels from predictors\n",
    "    y = df[df.columns[14]]  #Unit price per sq foot\n",
    "    cols_to_remove = df.columns[[0,9,10,13,14]]\n",
    "    X = df.drop(cols_to_remove, axis=1)\n",
    "    \n",
    "    # 2. encode data fit for prediction\n",
    "    X_num = X.iloc[:,[7,8]]\n",
    "    categorical_var = X.drop([\"No. of Units\", \"Area (Sqft)\"], axis=1)\n",
    "\n",
    "    X_cat = pd.get_dummies(categorical_var)\n",
    "    X = pd.concat([X_cat, X_num], axis=1)\n",
    "    \n",
    "    X_train, X_test, y_train, y_test = train_test_split(X, y, test_size=0.25, random_state=42)\n",
    "    \n",
    "    return X_train, X_test, y_train, y_test\n",
    "\n",
    "from sklearn.model_selection import GridSearchCV\n",
    "def train_data(estimator, params, X_train, y_train):\n",
    "    ## import the sklearn libraries first\n",
    "    reg_grid = GridSearchCV(estimator, params)\n",
    "    reg_grid.fit(X_train, y_train)\n",
    "    \n",
    "    return reg_grid.best_estimator_\n",
    "    "
   ]
  },
  {
   "cell_type": "code",
   "execution_count": 108,
   "metadata": {},
   "outputs": [],
   "source": [
    "X_train, X_test, y_train, y_test = split_X_and_y(landed)"
   ]
  },
  {
   "cell_type": "code",
   "execution_count": 109,
   "metadata": {},
   "outputs": [
    {
     "data": {
      "text/plain": [
       "0"
      ]
     },
     "execution_count": 109,
     "metadata": {},
     "output_type": "execute_result"
    }
   ],
   "source": [
    "sum(X_train.isna().iloc[:,6])"
   ]
  },
  {
   "cell_type": "code",
   "execution_count": 110,
   "metadata": {
    "scrolled": true
   },
   "outputs": [
    {
     "name": "stderr",
     "output_type": "stream",
     "text": [
      "c:\\users\\ivanl\\appdata\\local\\programs\\python\\python37\\lib\\site-packages\\sklearn\\linear_model\\_coordinate_descent.py:476: ConvergenceWarning: Objective did not converge. You might want to increase the number of iterations. Duality gap: 2164681.303028632, tolerance: 9552.54064231537\n",
      "  positive)\n",
      "c:\\users\\ivanl\\appdata\\local\\programs\\python\\python37\\lib\\site-packages\\sklearn\\linear_model\\_coordinate_descent.py:476: ConvergenceWarning: Objective did not converge. You might want to increase the number of iterations. Duality gap: 2016181.1567478143, tolerance: 10139.614333333333\n",
      "  positive)\n",
      "c:\\users\\ivanl\\appdata\\local\\programs\\python\\python37\\lib\\site-packages\\sklearn\\linear_model\\_coordinate_descent.py:476: ConvergenceWarning: Objective did not converge. You might want to increase the number of iterations. Duality gap: 2330274.8713892847, tolerance: 10497.877685258964\n",
      "  positive)\n",
      "c:\\users\\ivanl\\appdata\\local\\programs\\python\\python37\\lib\\site-packages\\sklearn\\linear_model\\_coordinate_descent.py:476: ConvergenceWarning: Objective did not converge. You might want to increase the number of iterations. Duality gap: 55368.88726917654, tolerance: 10324.65714501992\n",
      "  positive)\n",
      "c:\\users\\ivanl\\appdata\\local\\programs\\python\\python37\\lib\\site-packages\\sklearn\\linear_model\\_coordinate_descent.py:476: ConvergenceWarning: Objective did not converge. You might want to increase the number of iterations. Duality gap: 2267557.2729953714, tolerance: 10477.63292749004\n",
      "  positive)\n",
      "c:\\users\\ivanl\\appdata\\local\\programs\\python\\python37\\lib\\site-packages\\sklearn\\linear_model\\_coordinate_descent.py:476: ConvergenceWarning: Objective did not converge. You might want to increase the number of iterations. Duality gap: 2164681.303028632, tolerance: 9552.54064231537\n",
      "  positive)\n",
      "c:\\users\\ivanl\\appdata\\local\\programs\\python\\python37\\lib\\site-packages\\sklearn\\linear_model\\_coordinate_descent.py:476: ConvergenceWarning: Objective did not converge. You might want to increase the number of iterations. Duality gap: 2016181.1567478143, tolerance: 10139.614333333333\n",
      "  positive)\n",
      "c:\\users\\ivanl\\appdata\\local\\programs\\python\\python37\\lib\\site-packages\\sklearn\\linear_model\\_coordinate_descent.py:476: ConvergenceWarning: Objective did not converge. You might want to increase the number of iterations. Duality gap: 2330274.8713892847, tolerance: 10497.877685258964\n",
      "  positive)\n",
      "c:\\users\\ivanl\\appdata\\local\\programs\\python\\python37\\lib\\site-packages\\sklearn\\linear_model\\_coordinate_descent.py:476: ConvergenceWarning: Objective did not converge. You might want to increase the number of iterations. Duality gap: 55368.88726917654, tolerance: 10324.65714501992\n",
      "  positive)\n",
      "c:\\users\\ivanl\\appdata\\local\\programs\\python\\python37\\lib\\site-packages\\sklearn\\linear_model\\_coordinate_descent.py:476: ConvergenceWarning: Objective did not converge. You might want to increase the number of iterations. Duality gap: 2267557.2729953714, tolerance: 10477.63292749004\n",
      "  positive)\n",
      "c:\\users\\ivanl\\appdata\\local\\programs\\python\\python37\\lib\\site-packages\\sklearn\\linear_model\\_coordinate_descent.py:476: ConvergenceWarning: Objective did not converge. You might want to increase the number of iterations. Duality gap: 395590.2074580621, tolerance: 9552.54064231537\n",
      "  positive)\n",
      "c:\\users\\ivanl\\appdata\\local\\programs\\python\\python37\\lib\\site-packages\\sklearn\\linear_model\\_coordinate_descent.py:476: ConvergenceWarning: Objective did not converge. You might want to increase the number of iterations. Duality gap: 296500.37911394984, tolerance: 10139.614333333333\n",
      "  positive)\n",
      "c:\\users\\ivanl\\appdata\\local\\programs\\python\\python37\\lib\\site-packages\\sklearn\\linear_model\\_coordinate_descent.py:476: ConvergenceWarning: Objective did not converge. You might want to increase the number of iterations. Duality gap: 377579.3186472617, tolerance: 10497.877685258964\n",
      "  positive)\n",
      "c:\\users\\ivanl\\appdata\\local\\programs\\python\\python37\\lib\\site-packages\\sklearn\\linear_model\\_coordinate_descent.py:476: ConvergenceWarning: Objective did not converge. You might want to increase the number of iterations. Duality gap: 479326.3981806971, tolerance: 10477.63292749004\n",
      "  positive)\n",
      "c:\\users\\ivanl\\appdata\\local\\programs\\python\\python37\\lib\\site-packages\\sklearn\\linear_model\\_coordinate_descent.py:476: ConvergenceWarning: Objective did not converge. You might want to increase the number of iterations. Duality gap: 395590.2074580621, tolerance: 9552.54064231537\n",
      "  positive)\n",
      "c:\\users\\ivanl\\appdata\\local\\programs\\python\\python37\\lib\\site-packages\\sklearn\\linear_model\\_coordinate_descent.py:476: ConvergenceWarning: Objective did not converge. You might want to increase the number of iterations. Duality gap: 296500.37911394984, tolerance: 10139.614333333333\n",
      "  positive)\n",
      "c:\\users\\ivanl\\appdata\\local\\programs\\python\\python37\\lib\\site-packages\\sklearn\\linear_model\\_coordinate_descent.py:476: ConvergenceWarning: Objective did not converge. You might want to increase the number of iterations. Duality gap: 377579.3186472617, tolerance: 10497.877685258964\n",
      "  positive)\n",
      "c:\\users\\ivanl\\appdata\\local\\programs\\python\\python37\\lib\\site-packages\\sklearn\\linear_model\\_coordinate_descent.py:476: ConvergenceWarning: Objective did not converge. You might want to increase the number of iterations. Duality gap: 479326.3981806971, tolerance: 10477.63292749004\n",
      "  positive)\n",
      "c:\\users\\ivanl\\appdata\\local\\programs\\python\\python37\\lib\\site-packages\\sklearn\\linear_model\\_coordinate_descent.py:476: ConvergenceWarning: Objective did not converge. You might want to increase the number of iterations. Duality gap: 25257.76667529531, tolerance: 9552.54064231537\n",
      "  positive)\n",
      "c:\\users\\ivanl\\appdata\\local\\programs\\python\\python37\\lib\\site-packages\\sklearn\\linear_model\\_coordinate_descent.py:476: ConvergenceWarning: Objective did not converge. You might want to increase the number of iterations. Duality gap: 12454.918105591089, tolerance: 10139.614333333333\n",
      "  positive)\n",
      "c:\\users\\ivanl\\appdata\\local\\programs\\python\\python37\\lib\\site-packages\\sklearn\\linear_model\\_coordinate_descent.py:476: ConvergenceWarning: Objective did not converge. You might want to increase the number of iterations. Duality gap: 21440.611679926515, tolerance: 10497.877685258964\n",
      "  positive)\n",
      "c:\\users\\ivanl\\appdata\\local\\programs\\python\\python37\\lib\\site-packages\\sklearn\\linear_model\\_coordinate_descent.py:476: ConvergenceWarning: Objective did not converge. You might want to increase the number of iterations. Duality gap: 33719.42928762175, tolerance: 10477.63292749004\n",
      "  positive)\n",
      "c:\\users\\ivanl\\appdata\\local\\programs\\python\\python37\\lib\\site-packages\\sklearn\\linear_model\\_coordinate_descent.py:476: ConvergenceWarning: Objective did not converge. You might want to increase the number of iterations. Duality gap: 25257.76667529531, tolerance: 9552.54064231537\n",
      "  positive)\n",
      "c:\\users\\ivanl\\appdata\\local\\programs\\python\\python37\\lib\\site-packages\\sklearn\\linear_model\\_coordinate_descent.py:476: ConvergenceWarning: Objective did not converge. You might want to increase the number of iterations. Duality gap: 12454.918105591089, tolerance: 10139.614333333333\n",
      "  positive)\n",
      "c:\\users\\ivanl\\appdata\\local\\programs\\python\\python37\\lib\\site-packages\\sklearn\\linear_model\\_coordinate_descent.py:476: ConvergenceWarning: Objective did not converge. You might want to increase the number of iterations. Duality gap: 21440.611679926515, tolerance: 10497.877685258964\n",
      "  positive)\n",
      "c:\\users\\ivanl\\appdata\\local\\programs\\python\\python37\\lib\\site-packages\\sklearn\\linear_model\\_coordinate_descent.py:476: ConvergenceWarning: Objective did not converge. You might want to increase the number of iterations. Duality gap: 33719.42928762175, tolerance: 10477.63292749004\n",
      "  positive)\n",
      "c:\\users\\ivanl\\appdata\\local\\programs\\python\\python37\\lib\\site-packages\\sklearn\\linear_model\\_coordinate_descent.py:476: ConvergenceWarning: Objective did not converge. You might want to increase the number of iterations. Duality gap: 741850.2936997339, tolerance: 9552.54064231537\n",
      "  positive)\n",
      "c:\\users\\ivanl\\appdata\\local\\programs\\python\\python37\\lib\\site-packages\\sklearn\\linear_model\\_coordinate_descent.py:476: ConvergenceWarning: Objective did not converge. You might want to increase the number of iterations. Duality gap: 663934.2700739726, tolerance: 10139.614333333333\n",
      "  positive)\n",
      "c:\\users\\ivanl\\appdata\\local\\programs\\python\\python37\\lib\\site-packages\\sklearn\\linear_model\\_coordinate_descent.py:476: ConvergenceWarning: Objective did not converge. You might want to increase the number of iterations. Duality gap: 728539.6216763444, tolerance: 10497.877685258964\n",
      "  positive)\n"
     ]
    },
    {
     "name": "stderr",
     "output_type": "stream",
     "text": [
      "c:\\users\\ivanl\\appdata\\local\\programs\\python\\python37\\lib\\site-packages\\sklearn\\linear_model\\_coordinate_descent.py:476: ConvergenceWarning: Objective did not converge. You might want to increase the number of iterations. Duality gap: 222237.40231450275, tolerance: 10477.63292749004\n",
      "  positive)\n",
      "c:\\users\\ivanl\\appdata\\local\\programs\\python\\python37\\lib\\site-packages\\sklearn\\linear_model\\_coordinate_descent.py:476: ConvergenceWarning: Objective did not converge. You might want to increase the number of iterations. Duality gap: 741850.2936997339, tolerance: 9552.54064231537\n",
      "  positive)\n",
      "c:\\users\\ivanl\\appdata\\local\\programs\\python\\python37\\lib\\site-packages\\sklearn\\linear_model\\_coordinate_descent.py:476: ConvergenceWarning: Objective did not converge. You might want to increase the number of iterations. Duality gap: 663934.2700739726, tolerance: 10139.614333333333\n",
      "  positive)\n",
      "c:\\users\\ivanl\\appdata\\local\\programs\\python\\python37\\lib\\site-packages\\sklearn\\linear_model\\_coordinate_descent.py:476: ConvergenceWarning: Objective did not converge. You might want to increase the number of iterations. Duality gap: 728539.6216763444, tolerance: 10497.877685258964\n",
      "  positive)\n",
      "c:\\users\\ivanl\\appdata\\local\\programs\\python\\python37\\lib\\site-packages\\sklearn\\linear_model\\_coordinate_descent.py:476: ConvergenceWarning: Objective did not converge. You might want to increase the number of iterations. Duality gap: 222237.40231450275, tolerance: 10477.63292749004\n",
      "  positive)\n",
      "c:\\users\\ivanl\\appdata\\local\\programs\\python\\python37\\lib\\site-packages\\sklearn\\linear_model\\_coordinate_descent.py:476: ConvergenceWarning: Objective did not converge. You might want to increase the number of iterations. Duality gap: 109913.77602441981, tolerance: 9552.54064231537\n",
      "  positive)\n",
      "c:\\users\\ivanl\\appdata\\local\\programs\\python\\python37\\lib\\site-packages\\sklearn\\linear_model\\_coordinate_descent.py:476: ConvergenceWarning: Objective did not converge. You might want to increase the number of iterations. Duality gap: 70666.52008958906, tolerance: 10139.614333333333\n",
      "  positive)\n",
      "c:\\users\\ivanl\\appdata\\local\\programs\\python\\python37\\lib\\site-packages\\sklearn\\linear_model\\_coordinate_descent.py:476: ConvergenceWarning: Objective did not converge. You might want to increase the number of iterations. Duality gap: 88190.65271211788, tolerance: 10497.877685258964\n",
      "  positive)\n",
      "c:\\users\\ivanl\\appdata\\local\\programs\\python\\python37\\lib\\site-packages\\sklearn\\linear_model\\_coordinate_descent.py:476: ConvergenceWarning: Objective did not converge. You might want to increase the number of iterations. Duality gap: 32860.16538936272, tolerance: 10477.63292749004\n",
      "  positive)\n",
      "c:\\users\\ivanl\\appdata\\local\\programs\\python\\python37\\lib\\site-packages\\sklearn\\linear_model\\_coordinate_descent.py:476: ConvergenceWarning: Objective did not converge. You might want to increase the number of iterations. Duality gap: 109913.77602441981, tolerance: 9552.54064231537\n",
      "  positive)\n",
      "c:\\users\\ivanl\\appdata\\local\\programs\\python\\python37\\lib\\site-packages\\sklearn\\linear_model\\_coordinate_descent.py:476: ConvergenceWarning: Objective did not converge. You might want to increase the number of iterations. Duality gap: 70666.52008958906, tolerance: 10139.614333333333\n",
      "  positive)\n",
      "c:\\users\\ivanl\\appdata\\local\\programs\\python\\python37\\lib\\site-packages\\sklearn\\linear_model\\_coordinate_descent.py:476: ConvergenceWarning: Objective did not converge. You might want to increase the number of iterations. Duality gap: 88190.65271211788, tolerance: 10497.877685258964\n",
      "  positive)\n",
      "c:\\users\\ivanl\\appdata\\local\\programs\\python\\python37\\lib\\site-packages\\sklearn\\linear_model\\_coordinate_descent.py:476: ConvergenceWarning: Objective did not converge. You might want to increase the number of iterations. Duality gap: 32860.16538936272, tolerance: 10477.63292749004\n",
      "  positive)\n"
     ]
    }
   ],
   "source": [
    "from sklearn.linear_model import Lasso\n",
    "best_reg = train_data(estimator=Lasso(),\n",
    "                     params={\n",
    "                         'alpha': [0.5,1],\n",
    "                         'normalize' : [True, False],\n",
    "                         'max_iter': [200, 500, 1000, 10000],\n",
    "                         'warm_start' : [True, False]\n",
    "                     },\n",
    "                     X_train=X_train,\n",
    "                     y_train=y_train)"
   ]
  },
  {
   "cell_type": "code",
   "execution_count": 113,
   "metadata": {},
   "outputs": [
    {
     "data": {
      "text/plain": [
       "{'mse': 102733.52728266607, 'rSquared': -0.25659047002398094}"
      ]
     },
     "execution_count": 113,
     "metadata": {},
     "output_type": "execute_result"
    }
   ],
   "source": [
    "from sklearn.metrics import mean_squared_error, r2_score\n",
    "preds = best_reg.predict(X_test)\n",
    "metrics = {\n",
    "    'mse': mean_squared_error(preds , y_test),\n",
    "    'rSquared' : r2_score(preds, y_test)\n",
    "}\n",
    "\n",
    "metrics"
   ]
  },
  {
   "cell_type": "markdown",
   "metadata": {},
   "source": [
    "Well it's obvious that it would fit bad LOL"
   ]
  },
  {
   "cell_type": "code",
   "execution_count": null,
   "metadata": {},
   "outputs": [],
   "source": []
  }
 ],
 "metadata": {
  "kernelspec": {
   "display_name": "Python 3",
   "language": "python",
   "name": "python3"
  },
  "language_info": {
   "codemirror_mode": {
    "name": "ipython",
    "version": 3
   },
   "file_extension": ".py",
   "mimetype": "text/x-python",
   "name": "python",
   "nbconvert_exporter": "python",
   "pygments_lexer": "ipython3",
   "version": "3.7.6"
  }
 },
 "nbformat": 4,
 "nbformat_minor": 4
}
